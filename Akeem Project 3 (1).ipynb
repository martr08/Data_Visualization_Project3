{
 "cells": [
  {
   "cell_type": "code",
   "execution_count": 1,
   "metadata": {},
   "outputs": [
    {
     "data": {
      "text/html": [
       "<div>\n",
       "<style scoped>\n",
       "    .dataframe tbody tr th:only-of-type {\n",
       "        vertical-align: middle;\n",
       "    }\n",
       "\n",
       "    .dataframe tbody tr th {\n",
       "        vertical-align: top;\n",
       "    }\n",
       "\n",
       "    .dataframe thead th {\n",
       "        text-align: right;\n",
       "    }\n",
       "</style>\n",
       "<table border=\"1\" class=\"dataframe\">\n",
       "  <thead>\n",
       "    <tr style=\"text-align: right;\">\n",
       "      <th></th>\n",
       "      <th>Unnamed: 0.1</th>\n",
       "      <th>Unnamed: 0</th>\n",
       "      <th>Text</th>\n",
       "      <th>Sentiment</th>\n",
       "      <th>Timestamp</th>\n",
       "      <th>User</th>\n",
       "      <th>Platform</th>\n",
       "      <th>Hashtags</th>\n",
       "      <th>Retweets</th>\n",
       "      <th>Likes</th>\n",
       "      <th>Country</th>\n",
       "      <th>Year</th>\n",
       "      <th>Month</th>\n",
       "      <th>Day</th>\n",
       "      <th>Hour</th>\n",
       "    </tr>\n",
       "  </thead>\n",
       "  <tbody>\n",
       "    <tr>\n",
       "      <th>0</th>\n",
       "      <td>0</td>\n",
       "      <td>0</td>\n",
       "      <td>Enjoying a beautiful day at the park!        ...</td>\n",
       "      <td>Positive</td>\n",
       "      <td>2023-01-15 12:30:00</td>\n",
       "      <td>User123</td>\n",
       "      <td>Twitter</td>\n",
       "      <td>#Nature #Park</td>\n",
       "      <td>15.0</td>\n",
       "      <td>30.0</td>\n",
       "      <td>USA</td>\n",
       "      <td>2023</td>\n",
       "      <td>1</td>\n",
       "      <td>15</td>\n",
       "      <td>12</td>\n",
       "    </tr>\n",
       "    <tr>\n",
       "      <th>1</th>\n",
       "      <td>1</td>\n",
       "      <td>1</td>\n",
       "      <td>Traffic was terrible this morning.           ...</td>\n",
       "      <td>Negative</td>\n",
       "      <td>2023-01-15 08:45:00</td>\n",
       "      <td>CommuterX</td>\n",
       "      <td>Twitter</td>\n",
       "      <td>#Traffic #Morning</td>\n",
       "      <td>5.0</td>\n",
       "      <td>10.0</td>\n",
       "      <td>Canada</td>\n",
       "      <td>2023</td>\n",
       "      <td>1</td>\n",
       "      <td>15</td>\n",
       "      <td>8</td>\n",
       "    </tr>\n",
       "    <tr>\n",
       "      <th>2</th>\n",
       "      <td>2</td>\n",
       "      <td>2</td>\n",
       "      <td>Just finished an amazing workout! 💪          ...</td>\n",
       "      <td>Positive</td>\n",
       "      <td>2023-01-15 15:45:00</td>\n",
       "      <td>FitnessFan</td>\n",
       "      <td>Instagram</td>\n",
       "      <td>#Fitness #Workout</td>\n",
       "      <td>20.0</td>\n",
       "      <td>40.0</td>\n",
       "      <td>USA</td>\n",
       "      <td>2023</td>\n",
       "      <td>1</td>\n",
       "      <td>15</td>\n",
       "      <td>15</td>\n",
       "    </tr>\n",
       "    <tr>\n",
       "      <th>3</th>\n",
       "      <td>3</td>\n",
       "      <td>3</td>\n",
       "      <td>Excited about the upcoming weekend getaway!  ...</td>\n",
       "      <td>Positive</td>\n",
       "      <td>2023-01-15 18:20:00</td>\n",
       "      <td>AdventureX</td>\n",
       "      <td>Facebook</td>\n",
       "      <td>#Travel #Adventure</td>\n",
       "      <td>8.0</td>\n",
       "      <td>15.0</td>\n",
       "      <td>UK</td>\n",
       "      <td>2023</td>\n",
       "      <td>1</td>\n",
       "      <td>15</td>\n",
       "      <td>18</td>\n",
       "    </tr>\n",
       "    <tr>\n",
       "      <th>4</th>\n",
       "      <td>4</td>\n",
       "      <td>4</td>\n",
       "      <td>Trying out a new recipe for dinner tonight.  ...</td>\n",
       "      <td>Neutral</td>\n",
       "      <td>2023-01-15 19:55:00</td>\n",
       "      <td>ChefCook</td>\n",
       "      <td>Instagram</td>\n",
       "      <td>#Cooking #Food</td>\n",
       "      <td>12.0</td>\n",
       "      <td>25.0</td>\n",
       "      <td>Australia</td>\n",
       "      <td>2023</td>\n",
       "      <td>1</td>\n",
       "      <td>15</td>\n",
       "      <td>19</td>\n",
       "    </tr>\n",
       "  </tbody>\n",
       "</table>\n",
       "</div>"
      ],
      "text/plain": [
       "   Unnamed: 0.1  Unnamed: 0  \\\n",
       "0             0           0   \n",
       "1             1           1   \n",
       "2             2           2   \n",
       "3             3           3   \n",
       "4             4           4   \n",
       "\n",
       "                                                Text    Sentiment  \\\n",
       "0   Enjoying a beautiful day at the park!        ...   Positive     \n",
       "1   Traffic was terrible this morning.           ...   Negative     \n",
       "2   Just finished an amazing workout! 💪          ...   Positive     \n",
       "3   Excited about the upcoming weekend getaway!  ...   Positive     \n",
       "4   Trying out a new recipe for dinner tonight.  ...   Neutral      \n",
       "\n",
       "             Timestamp            User     Platform  \\\n",
       "0  2023-01-15 12:30:00   User123          Twitter     \n",
       "1  2023-01-15 08:45:00   CommuterX        Twitter     \n",
       "2  2023-01-15 15:45:00   FitnessFan      Instagram    \n",
       "3  2023-01-15 18:20:00   AdventureX       Facebook    \n",
       "4  2023-01-15 19:55:00   ChefCook        Instagram    \n",
       "\n",
       "                                     Hashtags  Retweets  Likes       Country  \\\n",
       "0   #Nature #Park                                  15.0   30.0     USA         \n",
       "1   #Traffic #Morning                               5.0   10.0     Canada      \n",
       "2   #Fitness #Workout                              20.0   40.0   USA           \n",
       "3   #Travel #Adventure                              8.0   15.0     UK          \n",
       "4   #Cooking #Food                                 12.0   25.0    Australia    \n",
       "\n",
       "   Year  Month  Day  Hour  \n",
       "0  2023      1   15    12  \n",
       "1  2023      1   15     8  \n",
       "2  2023      1   15    15  \n",
       "3  2023      1   15    18  \n",
       "4  2023      1   15    19  "
      ]
     },
     "execution_count": 1,
     "metadata": {},
     "output_type": "execute_result"
    }
   ],
   "source": [
    "#Import the necessary libraries:\n",
    "\n",
    "import pandas as pd\n",
    "#Read the dataset into a DataFrame:\n",
    "\n",
    "df = pd.read_csv(r'C:\\Users\\avaan\\Downloads\\archive (1)\\sentimentdataset.csv')\n",
    "#Display the DataFrame to verify the data has been loaded correctly:\n",
    "\n",
    "df.head()"
   ]
  },
  {
   "cell_type": "code",
   "execution_count": 2,
   "metadata": {},
   "outputs": [
    {
     "data": {
      "text/html": [
       "<div>\n",
       "<style scoped>\n",
       "    .dataframe tbody tr th:only-of-type {\n",
       "        vertical-align: middle;\n",
       "    }\n",
       "\n",
       "    .dataframe tbody tr th {\n",
       "        vertical-align: top;\n",
       "    }\n",
       "\n",
       "    .dataframe thead th {\n",
       "        text-align: right;\n",
       "    }\n",
       "</style>\n",
       "<table border=\"1\" class=\"dataframe\">\n",
       "  <thead>\n",
       "    <tr style=\"text-align: right;\">\n",
       "      <th></th>\n",
       "      <th>Text</th>\n",
       "      <th>Sentiment</th>\n",
       "      <th>Timestamp</th>\n",
       "      <th>User</th>\n",
       "      <th>Platform</th>\n",
       "      <th>Hashtags</th>\n",
       "      <th>Retweets</th>\n",
       "      <th>Likes</th>\n",
       "      <th>Country</th>\n",
       "      <th>Year</th>\n",
       "    </tr>\n",
       "  </thead>\n",
       "  <tbody>\n",
       "    <tr>\n",
       "      <th>0</th>\n",
       "      <td>Enjoying a beautiful day at the park!        ...</td>\n",
       "      <td>Positive</td>\n",
       "      <td>2023-01-15 12:30:00</td>\n",
       "      <td>User123</td>\n",
       "      <td>Twitter</td>\n",
       "      <td>#Nature #Park</td>\n",
       "      <td>15.0</td>\n",
       "      <td>30.0</td>\n",
       "      <td>USA</td>\n",
       "      <td>2023</td>\n",
       "    </tr>\n",
       "    <tr>\n",
       "      <th>1</th>\n",
       "      <td>Traffic was terrible this morning.           ...</td>\n",
       "      <td>Negative</td>\n",
       "      <td>2023-01-15 08:45:00</td>\n",
       "      <td>CommuterX</td>\n",
       "      <td>Twitter</td>\n",
       "      <td>#Traffic #Morning</td>\n",
       "      <td>5.0</td>\n",
       "      <td>10.0</td>\n",
       "      <td>Canada</td>\n",
       "      <td>2023</td>\n",
       "    </tr>\n",
       "    <tr>\n",
       "      <th>2</th>\n",
       "      <td>Just finished an amazing workout! 💪          ...</td>\n",
       "      <td>Positive</td>\n",
       "      <td>2023-01-15 15:45:00</td>\n",
       "      <td>FitnessFan</td>\n",
       "      <td>Instagram</td>\n",
       "      <td>#Fitness #Workout</td>\n",
       "      <td>20.0</td>\n",
       "      <td>40.0</td>\n",
       "      <td>USA</td>\n",
       "      <td>2023</td>\n",
       "    </tr>\n",
       "    <tr>\n",
       "      <th>3</th>\n",
       "      <td>Excited about the upcoming weekend getaway!  ...</td>\n",
       "      <td>Positive</td>\n",
       "      <td>2023-01-15 18:20:00</td>\n",
       "      <td>AdventureX</td>\n",
       "      <td>Facebook</td>\n",
       "      <td>#Travel #Adventure</td>\n",
       "      <td>8.0</td>\n",
       "      <td>15.0</td>\n",
       "      <td>UK</td>\n",
       "      <td>2023</td>\n",
       "    </tr>\n",
       "    <tr>\n",
       "      <th>4</th>\n",
       "      <td>Trying out a new recipe for dinner tonight.  ...</td>\n",
       "      <td>Neutral</td>\n",
       "      <td>2023-01-15 19:55:00</td>\n",
       "      <td>ChefCook</td>\n",
       "      <td>Instagram</td>\n",
       "      <td>#Cooking #Food</td>\n",
       "      <td>12.0</td>\n",
       "      <td>25.0</td>\n",
       "      <td>Australia</td>\n",
       "      <td>2023</td>\n",
       "    </tr>\n",
       "    <tr>\n",
       "      <th>...</th>\n",
       "      <td>...</td>\n",
       "      <td>...</td>\n",
       "      <td>...</td>\n",
       "      <td>...</td>\n",
       "      <td>...</td>\n",
       "      <td>...</td>\n",
       "      <td>...</td>\n",
       "      <td>...</td>\n",
       "      <td>...</td>\n",
       "      <td>...</td>\n",
       "    </tr>\n",
       "    <tr>\n",
       "      <th>720</th>\n",
       "      <td>Attending a school talent show to support clas...</td>\n",
       "      <td>Happy</td>\n",
       "      <td>2023-10-18 16:45:00</td>\n",
       "      <td>TalentShowSupportHighSchool</td>\n",
       "      <td>Facebook</td>\n",
       "      <td>#TalentShow #HighSchoolEntertainment</td>\n",
       "      <td>19.0</td>\n",
       "      <td>38.0</td>\n",
       "      <td>Canada</td>\n",
       "      <td>2023</td>\n",
       "    </tr>\n",
       "    <tr>\n",
       "      <th>721</th>\n",
       "      <td>Exploring a new hiking trail with friends over...</td>\n",
       "      <td>Happy</td>\n",
       "      <td>2023-10-19 18:20:00</td>\n",
       "      <td>WeekendHikeHighSchool</td>\n",
       "      <td>Instagram</td>\n",
       "      <td>#NatureAdventures #HighSchoolFriends</td>\n",
       "      <td>21.0</td>\n",
       "      <td>42.0</td>\n",
       "      <td>UK</td>\n",
       "      <td>2023</td>\n",
       "    </tr>\n",
       "    <tr>\n",
       "      <th>722</th>\n",
       "      <td>Winning a friendly sports competition against ...</td>\n",
       "      <td>Happy</td>\n",
       "      <td>2023-10-20 14:15:00</td>\n",
       "      <td>SportsVictoryHighSchool</td>\n",
       "      <td>Twitter</td>\n",
       "      <td>#SportsTriumph #HighSchoolAthletics</td>\n",
       "      <td>26.0</td>\n",
       "      <td>50.0</td>\n",
       "      <td>USA</td>\n",
       "      <td>2023</td>\n",
       "    </tr>\n",
       "    <tr>\n",
       "      <th>723</th>\n",
       "      <td>Receiving a heartfelt letter from a pen pal in...</td>\n",
       "      <td>Happy</td>\n",
       "      <td>2023-10-21 17:30:00</td>\n",
       "      <td>PenPalConnectionHighSchool</td>\n",
       "      <td>Facebook</td>\n",
       "      <td>#GlobalFriendship #HighSchoolCorrespondence</td>\n",
       "      <td>23.0</td>\n",
       "      <td>45.0</td>\n",
       "      <td>Canada</td>\n",
       "      <td>2023</td>\n",
       "    </tr>\n",
       "    <tr>\n",
       "      <th>724</th>\n",
       "      <td>Creating a beautiful mural with fellow art ent...</td>\n",
       "      <td>Happy</td>\n",
       "      <td>2023-10-22 20:45:00</td>\n",
       "      <td>MuralCreationHighSchool</td>\n",
       "      <td>Instagram</td>\n",
       "      <td>#ArtCollaboration #HighSchoolCreativity</td>\n",
       "      <td>22.0</td>\n",
       "      <td>43.0</td>\n",
       "      <td>UK</td>\n",
       "      <td>2023</td>\n",
       "    </tr>\n",
       "  </tbody>\n",
       "</table>\n",
       "<p>289 rows × 10 columns</p>\n",
       "</div>"
      ],
      "text/plain": [
       "                                                  Text    Sentiment  \\\n",
       "0     Enjoying a beautiful day at the park!        ...   Positive     \n",
       "1     Traffic was terrible this morning.           ...   Negative     \n",
       "2     Just finished an amazing workout! 💪          ...   Positive     \n",
       "3     Excited about the upcoming weekend getaway!  ...   Positive     \n",
       "4     Trying out a new recipe for dinner tonight.  ...   Neutral      \n",
       "..                                                 ...          ...   \n",
       "720  Attending a school talent show to support clas...       Happy    \n",
       "721  Exploring a new hiking trail with friends over...       Happy    \n",
       "722  Winning a friendly sports competition against ...       Happy    \n",
       "723  Receiving a heartfelt letter from a pen pal in...       Happy    \n",
       "724  Creating a beautiful mural with fellow art ent...       Happy    \n",
       "\n",
       "               Timestamp                           User     Platform  \\\n",
       "0    2023-01-15 12:30:00                  User123          Twitter     \n",
       "1    2023-01-15 08:45:00                  CommuterX        Twitter     \n",
       "2    2023-01-15 15:45:00                  FitnessFan      Instagram    \n",
       "3    2023-01-15 18:20:00                  AdventureX       Facebook    \n",
       "4    2023-01-15 19:55:00                  ChefCook        Instagram    \n",
       "..                   ...                            ...          ...   \n",
       "720  2023-10-18 16:45:00   TalentShowSupportHighSchool     Facebook    \n",
       "721  2023-10-19 18:20:00         WeekendHikeHighSchool    Instagram    \n",
       "722  2023-10-20 14:15:00       SportsVictoryHighSchool      Twitter    \n",
       "723  2023-10-21 17:30:00    PenPalConnectionHighSchool     Facebook    \n",
       "724  2023-10-22 20:45:00       MuralCreationHighSchool    Instagram    \n",
       "\n",
       "                                          Hashtags  Retweets  Likes  \\\n",
       "0        #Nature #Park                                  15.0   30.0   \n",
       "1        #Traffic #Morning                               5.0   10.0   \n",
       "2        #Fitness #Workout                              20.0   40.0   \n",
       "3        #Travel #Adventure                              8.0   15.0   \n",
       "4        #Cooking #Food                                 12.0   25.0   \n",
       "..                                             ...       ...    ...   \n",
       "720          #TalentShow #HighSchoolEntertainment       19.0   38.0   \n",
       "721          #NatureAdventures #HighSchoolFriends       21.0   42.0   \n",
       "722           #SportsTriumph #HighSchoolAthletics       26.0   50.0   \n",
       "723   #GlobalFriendship #HighSchoolCorrespondence       23.0   45.0   \n",
       "724       #ArtCollaboration #HighSchoolCreativity       22.0   43.0   \n",
       "\n",
       "          Country  Year  \n",
       "0       USA        2023  \n",
       "1       Canada     2023  \n",
       "2     USA          2023  \n",
       "3       UK         2023  \n",
       "4      Australia   2023  \n",
       "..            ...   ...  \n",
       "720        Canada  2023  \n",
       "721            UK  2023  \n",
       "722           USA  2023  \n",
       "723        Canada  2023  \n",
       "724            UK  2023  \n",
       "\n",
       "[289 rows x 10 columns]"
      ]
     },
     "execution_count": 2,
     "metadata": {},
     "output_type": "execute_result"
    }
   ],
   "source": [
    "import pandas as pd\n",
    "import matplotlib.pyplot as plt\n",
    "import plotly.graph_objects as go\n",
    "df=pd.read_csv('C:\\\\Users\\\\avaan\\\\Downloads\\\\archive (1)\\\\sentimentdataset.csv')\n",
    "df.head()\n",
    "# %%\n",
    "df_cleaned = df.drop([\"Unnamed: 0.1\",\"Unnamed: 0\",\"Month\", \"Day\", \"Hour\"], axis=1)\n",
    "df_cleaned\n",
    "# %%\n",
    "df_2023 = df_cleaned[df[\"Year\"]==2023]\n",
    "df_2023\n",
    "# %%\n",
    "#combined_countries = df_2023.groupby(\"Country\").sum()\n",
    "#combined_countries\n",
    "# %%\n",
    "#data = {\n",
    "#    'Country': ['USA', 'UK', 'Jordon', 'Japan', 'India', 'France', 'Greece', 'Canada', 'Australia']}\n",
    "#df = pd.DataFrame(data)\n",
    "# Count occurrences of a specific word in the column\n",
    "#country_counts = df['Country'].value_counts(normalize=False)\n",
    "#print(country_counts)"
   ]
  },
  {
   "cell_type": "code",
   "execution_count": 3,
   "metadata": {},
   "outputs": [],
   "source": [
    "# 2023 Country Count\n",
    "usa_count = 'USA'\n",
    "count1 = df_2023['Country'].str.count(usa_count).sum()\n",
    "uk_count = 'UK'\n",
    "count2 = df_2023['Country'].str.count(uk_count).sum()\n",
    "jordan_count = 'Jordan'\n",
    "count3 = df_2023['Country'].str.count(jordan_count).sum()\n",
    "japan_count = 'Japan'\n",
    "count4 = df_2023['Country'].str.count(japan_count).sum()\n",
    "india_count = 'India'\n",
    "count5 = df_2023['Country'].str.count(india_count).sum()\n",
    "france_count = 'France'\n",
    "count6 = df_2023['Country'].str.count(france_count).sum()\n",
    "greece_count = 'Greece'\n",
    "count7 = df_2023['Country'].str.count(greece_count).sum()\n",
    "canada_count = 'Canada'\n",
    "count8 = df_2023['Country'].str.count(canada_count).sum()\n",
    "australia_count = 'Australia'\n",
    "count9= df_2023['Country'].str.count(australia_count).sum()"
   ]
  },
  {
   "cell_type": "code",
   "execution_count": 4,
   "metadata": {},
   "outputs": [
    {
     "name": "stdout",
     "output_type": "stream",
     "text": [
      "The word \"USA\" appears 101 times in the column.\n",
      "The word \"UK\" appears 73 times in the column.\n",
      "The word \"Jordan\" appears 1 times in the column.\n",
      "The word \"Japan\" appears 3 times in the column.\n",
      "The word \"India\" appears 25 times in the column.\n",
      "The word \"France\" appears 3 times in the column.\n",
      "The word \"Greece\" appears 2 times in the column.\n",
      "The word \"Canada\" appears 67 times in the column.\n",
      "The word \"Australia\" appears 14 times in the column.\n"
     ]
    }
   ],
   "source": [
    "print(f'The word \"{usa_count}\" appears {count1} times in the column.')\n",
    "print(f'The word \"{uk_count}\" appears {count2} times in the column.')\n",
    "print(f'The word \"{jordan_count}\" appears {count3} times in the column.')\n",
    "print(f'The word \"{japan_count}\" appears {count4} times in the column.')\n",
    "print(f'The word \"{india_count}\" appears {count5} times in the column.')\n",
    "print(f'The word \"{france_count}\" appears {count6} times in the column.')\n",
    "print(f'The word \"{greece_count}\" appears {count7} times in the column.')\n",
    "print(f'The word \"{canada_count}\" appears {count8} times in the column.')\n",
    "print(f'The word \"{australia_count}\" appears {count9} times in the column.')"
   ]
  },
  {
   "cell_type": "code",
   "execution_count": 5,
   "metadata": {},
   "outputs": [
    {
     "data": {
      "image/png": "[encoded data removed]",
      "text/plain": [
       "<Figure size 1000x600 with 1 Axes>"
      ]
     },
     "metadata": {},
     "output_type": "display_data"
    }
   ],
   "source": [
    "# Define the data\n",
    "countries = ['USA', 'UK','Canada']\n",
    "counts = [count1, count2, count8]\n",
    "# Create the bar graph\n",
    "plt.figure(figsize=(10, 6))\n",
    "plt.bar(countries, counts, color='Orange')\n",
    "# Add title and labels\n",
    "plt.title('Number of Posts in 2023')\n",
    "plt.xlabel('Country')\n",
    "plt.ylabel('Number of Posts')\n",
    "# Rotate x-axis labels for better readability\n",
    "plt.xticks(rotation=45)\n",
    "# Show the plot\n",
    "plt.tight_layout()\n",
    "plt.show()"
   ]
  },
  {
   "cell_type": "code",
   "execution_count": 6,
   "metadata": {},
   "outputs": [],
   "source": [
    "# %%\n",
    "df_2022 = df_cleaned[df[\"Year\"]==2022]\n",
    "df_2022\n",
    "# %%\n",
    "#combined_countries = df_2022.groupby(\"Country\").sum()\n",
    "#combined_countries\n",
    "# %%\n",
    "# 2022 Country Count\n",
    "usa_count = 'USA'\n",
    "count_1 = df_2022['Country'].str.count(usa_count).sum()\n",
    "uk_count = 'UK'\n",
    "count_2 = df_2022['Country'].str.count(uk_count).sum()\n",
    "brazil_count = 'Brazil'\n",
    "count_3 = df_2022['Country'].str.count(brazil_count).sum()\n",
    "japan_count = 'Japan'\n",
    "count_4 = df_2022['Country'].str.count(japan_count).sum()\n",
    "india_count = 'India'\n",
    "count_5 = df_2022['Country'].str.count(india_count).sum()\n",
    "france_count = 'France'\n",
    "count_6 = df_2022['Country'].str.count(france_count).sum()\n",
    "germany_count = 'Germany'\n",
    "count_7 = df_2022['Country'].str.count(germany_count).sum()\n",
    "canada_count = 'Canada'\n",
    "count_8 = df_2022['Country'].str.count(canada_count).sum()\n",
    "australia_count = 'Australia'\n",
    "count_9= df_2022['Country'].str.count(australia_count).sum()\n",
    "colombia_count = 'Colombia'\n",
    "count_10 = df_2022['Country'].str.count(colombia_count).sum()\n",
    "denmark_count = 'Denmark'\n",
    "count_11 = df_2022['Country'].str.count(denmark_count).sum()\n",
    "netherlands_count = 'Netherlands'\n",
    "count_12 = df_2022['Country'].str.count(netherlands_count).sum()\n",
    "southafrica_count = 'South Africa'\n",
    "count_13 = df_2022['Country'].str.count(southafrica_count).sum()"
   ]
  },
  {
   "cell_type": "code",
   "execution_count": 7,
   "metadata": {},
   "outputs": [
    {
     "name": "stdout",
     "output_type": "stream",
     "text": [
      "The word \"USA\" appears 9 times in the column.\n",
      "The word \"UK\" appears 7 times in the column.\n",
      "The word \"Brazil\" appears 5 times in the column.\n",
      "The word \"Japan\" appears 1 times in the column.\n",
      "The word \"India\" appears 7 times in the column.\n",
      "The word \"France\" appears 2 times in the column.\n",
      "The word \"Germany\" appears 1 times in the column.\n",
      "The word \"Canada\" appears 11 times in the column.\n",
      "The word \"Australia\" appears 13 times in the column.\n",
      "The word \"Colombia\" appears 1 times in the column.\n",
      "The word \"Denmark\" appears 2 times in the column.\n",
      "The word \"Netherlands\" appears 2 times in the column.\n",
      "The word \"South Africa\" appears 2 times in the column.\n"
     ]
    }
   ],
   "source": [
    "print(f'The word \"{usa_count}\" appears {count_1} times in the column.')\n",
    "print(f'The word \"{uk_count}\" appears {count_2} times in the column.')\n",
    "print(f'The word \"{brazil_count}\" appears {count_3} times in the column.')\n",
    "print(f'The word \"{japan_count}\" appears {count_4} times in the column.')\n",
    "print(f'The word \"{india_count}\" appears {count_5} times in the column.')\n",
    "print(f'The word \"{france_count}\" appears {count_6} times in the column.')\n",
    "print(f'The word \"{germany_count}\" appears {count_7} times in the column.')\n",
    "print(f'The word \"{canada_count}\" appears {count_8} times in the column.')\n",
    "print(f'The word \"{australia_count}\" appears {count_9} times in the column.')\n",
    "print(f'The word \"{colombia_count}\" appears {count_10} times in the column.')\n",
    "print(f'The word \"{denmark_count}\" appears {count_11} times in the column.')\n",
    "print(f'The word \"{netherlands_count}\" appears {count_12} times in the column.')\n",
    "print(f'The word \"{southafrica_count}\" appears {count_13} times in the column.')\n"
   ]
  },
  {
   "cell_type": "code",
   "execution_count": 8,
   "metadata": {},
   "outputs": [
    {
     "data": {
      "image/png": "[encoded data removed]",
      "text/plain": [
       "<Figure size 1000x600 with 1 Axes>"
      ]
     },
     "metadata": {},
     "output_type": "display_data"
    }
   ],
   "source": [
    "# %%\n",
    "# Define the data 2022\n",
    "countries = ['Australia', 'Canada', 'USA']\n",
    "counts = [count_9, count_8, count_1,]\n",
    "# Create the bar graph\n",
    "plt.figure(figsize=(10, 6))\n",
    "plt.bar(countries, counts, color='Green')\n",
    "# Add title and labels\n",
    "plt.title('Number of Posts in 2022')\n",
    "plt.xlabel('Country')\n",
    "plt.ylabel('Number of Posts')\n",
    "# Rotate x-axis labels for better readability\n",
    "plt.xticks(rotation=45)\n",
    "# Show the plot\n",
    "plt.tight_layout()\n",
    "plt.show()"
   ]
  },
  {
   "cell_type": "code",
   "execution_count": 9,
   "metadata": {},
   "outputs": [],
   "source": [
    "# %%\n",
    "df_2021 = df_cleaned[df[\"Year\"]==2021]\n",
    "df_2021\n",
    "# %%\n",
    "combined_countries = df_2021.groupby(\"Country\").sum()\n",
    "combined_countries\n",
    "# %%\n",
    "# 2021 Country Count\n",
    "usa_count = 'USA'\n",
    "count_01 = df_2021['Country'].str.count(usa_count).sum()\n",
    "uk_count = 'UK'\n",
    "count_02 = df_2021['Country'].str.count(uk_count).sum()\n",
    "brazil_count = 'Brazil'\n",
    "count_03 = df_2021['Country'].str.count(brazil_count).sum()\n",
    "japan_count = 'Japan'\n",
    "count_04 = df_2021['Country'].str.count(japan_count).sum()\n",
    "india_count = 'India'\n",
    "count_05 = df_2021['Country'].str.count(india_count).sum()\n",
    "spain_count = 'Spain'\n",
    "count_06 = df_2021['Country'].str.count(spain_count).sum()\n",
    "germany_count = 'Germany'\n",
    "count_07 = df_2021['Country'].str.count(germany_count).sum()\n",
    "canada_count = 'Canada'\n",
    "count_08 = df_2021['Country'].str.count(canada_count).sum()\n",
    "australia_count = 'Australia'\n",
    "count_09= df_2021['Country'].str.count(australia_count).sum()\n",
    "kenya_count = 'Kenya'\n",
    "count_010 = df_2021['Country'].str.count(kenya_count).sum()\n",
    "netherlands_count = 'Netherlands'\n",
    "count_011 = df_2021['Country'].str.count(netherlands_count).sum()"
   ]
  },
  {
   "cell_type": "code",
   "execution_count": 10,
   "metadata": {},
   "outputs": [
    {
     "name": "stdout",
     "output_type": "stream",
     "text": [
      "The word \"USA\" appears 14 times in the column.\n",
      "The word \"UK\" appears 5 times in the column.\n",
      "The word \"Brazil\" appears 4 times in the column.\n",
      "The word \"Japan\" appears 2 times in the column.\n",
      "The word \"India\" appears 7 times in the column.\n",
      "The word \"Spain\" appears 2 times in the column.\n",
      "The word \"Germany\" appears 1 times in the column.\n",
      "The word \"Canada\" appears 20 times in the column.\n",
      "The word \"Australia\" appears 6 times in the column.\n",
      "The word \"Kenya\" appears 1 times in the column.\n",
      "The word \"Netherlands\" appears 1 times in the column.\n"
     ]
    }
   ],
   "source": [
    "print(f'The word \"{usa_count}\" appears {count_01} times in the column.')\n",
    "print(f'The word \"{uk_count}\" appears {count_02} times in the column.')\n",
    "print(f'The word \"{brazil_count}\" appears {count_03} times in the column.')\n",
    "print(f'The word \"{japan_count}\" appears {count_04} times in the column.')\n",
    "print(f'The word \"{india_count}\" appears {count_05} times in the column.')\n",
    "print(f'The word \"{spain_count}\" appears {count_06} times in the column.')\n",
    "print(f'The word \"{germany_count}\" appears {count_07} times in the column.')\n",
    "print(f'The word \"{canada_count}\" appears {count_08} times in the column.')\n",
    "print(f'The word \"{australia_count}\" appears {count_09} times in the column.')\n",
    "print(f'The word \"{kenya_count}\" appears {count_010} times in the column.')\n",
    "print(f'The word \"{netherlands_count}\" appears {count_011} times in the column.')"
   ]
  },
  {
   "cell_type": "code",
   "execution_count": 11,
   "metadata": {},
   "outputs": [
    {
     "data": {
      "image/png": "[encoded data removed]",
      "text/plain": [
       "<Figure size 1000x600 with 1 Axes>"
      ]
     },
     "metadata": {},
     "output_type": "display_data"
    }
   ],
   "source": [
    "# %%\n",
    "# Define the data 2021\n",
    "countries = ['Canada','USA','India']\n",
    "counts = [count_08, count_01,count_05]\n",
    "# Create the bar graph\n",
    "plt.figure(figsize=(10, 6))\n",
    "plt.bar(countries, counts, color='skyblue')\n",
    "# Add title and labels\n",
    "plt.title('Number of Posts in 2021')\n",
    "plt.xlabel('Country')\n",
    "plt.ylabel('Number of Posts')\n",
    "# Rotate x-axis labels for better readability\n",
    "plt.xticks(rotation=45)\n",
    "# Show the plot\n",
    "plt.tight_layout()\n",
    "plt.show()"
   ]
  },
  {
   "cell_type": "code",
   "execution_count": 12,
   "metadata": {},
   "outputs": [],
   "source": [
    "# %%\n",
    "# List of countries\n",
    "countries_2021 = ['Canada','USA','India']\n",
    "counts_2021 = [count_08, count_01,count_05]\n",
    "countries_2022 = ['Australia', 'Canada', 'USA']\n",
    "counts_2022 = [count_9, count_8, count_1,]\n",
    "countries_2023 = ['USA', 'UK', 'Canada']\n",
    "counts_2023 = [count1, count2, count8]\n",
    "# Create a Plotly figure\n",
    "fig = go.Figure()"
   ]
  },
  {
   "cell_type": "code",
   "execution_count": 14,
   "metadata": {},
   "outputs": [
    {
     "data": {
      "application/vnd.plotly.v1+json": {
       "config": {
        "plotlyServerURL": "https://plot.ly"
       },
       "data": [
        {
         "name": "2023",
         "type": "bar",
         "visible": true,
         "x": [
          "USA",
          "UK",
          "Canada"
         ],
         "y": [
          101,
          73,
          67
         ]
        },
        {
         "name": "2022",
         "type": "bar",
         "visible": false,
         "x": [
          "Australia",
          "Canada",
          "USA"
         ],
         "y": [
          13,
          11,
          9
         ]
        },
        {
         "name": "2021",
         "type": "bar",
         "visible": false,
         "x": [
          "Canada",
          "USA",
          "India"
         ],
         "y": [
          20,
          14,
          7
         ]
        }
       ],
       "layout": {
        "template": {
         "data": {
          "bar": [
           {
            "error_x": {
             "color": "#2a3f5f"
            },
            "error_y": {
             "color": "#2a3f5f"
            },
            "marker": {
             "line": {
              "color": "#E5ECF6",
              "width": 0.5
             },
             "pattern": {
              "fillmode": "overlay",
              "size": 10,
              "solidity": 0.2
             }
            },
            "type": "bar"
           }
          ],
          "barpolar": [
           {
            "marker": {
             "line": {
              "color": "#E5ECF6",
              "width": 0.5
             },
             "pattern": {
              "fillmode": "overlay",
              "size": 10,
              "solidity": 0.2
             }
            },
            "type": "barpolar"
           }
          ],
          "carpet": [
           {
            "aaxis": {
             "endlinecolor": "#2a3f5f",
             "gridcolor": "white",
             "linecolor": "white",
             "minorgridcolor": "white",
             "startlinecolor": "#2a3f5f"
            },
            "baxis": {
             "endlinecolor": "#2a3f5f",
             "gridcolor": "white",
             "linecolor": "white",
             "minorgridcolor": "white",
             "startlinecolor": "#2a3f5f"
            },
            "type": "carpet"
           }
          ],
          "choropleth": [
           {
            "colorbar": {
             "outlinewidth": 0,
             "ticks": ""
            },
            "type": "choropleth"
           }
          ],
          "contour": [
           {
            "colorbar": {
             "outlinewidth": 0,
             "ticks": ""
            },
            "colorscale": [
             [
              0,
              "#0d0887"
             ],
             [
              0.1111111111111111,
              "#46039f"
             ],
             [
              0.2222222222222222,
              "#7201a8"
             ],
             [
              0.3333333333333333,
              "#9c179e"
             ],
             [
              0.4444444444444444,
              "#bd3786"
             ],
             [
              0.5555555555555556,
              "#d8576b"
             ],
             [
              0.6666666666666666,
              "#ed7953"
             ],
             [
              0.7777777777777778,
              "#fb9f3a"
             ],
             [
              0.8888888888888888,
              "#fdca26"
             ],
             [
              1,
              "#f0f921"
             ]
            ],
            "type": "contour"
           }
          ],
          "contourcarpet": [
           {
            "colorbar": {
             "outlinewidth": 0,
             "ticks": ""
            },
            "type": "contourcarpet"
           }
          ],
          "heatmap": [
           {
            "colorbar": {
             "outlinewidth": 0,
             "ticks": ""
            },
            "colorscale": [
             [
              0,
              "#0d0887"
             ],
             [
              0.1111111111111111,
              "#46039f"
             ],
             [
              0.2222222222222222,
              "#7201a8"
             ],
             [
              0.3333333333333333,
              "#9c179e"
             ],
             [
              0.4444444444444444,
              "#bd3786"
             ],
             [
              0.5555555555555556,
              "#d8576b"
             ],
             [
              0.6666666666666666,
              "#ed7953"
             ],
             [
              0.7777777777777778,
              "#fb9f3a"
             ],
             [
              0.8888888888888888,
              "#fdca26"
             ],
             [
              1,
              "#f0f921"
             ]
            ],
            "type": "heatmap"
           }
          ],
          "heatmapgl": [
           {
            "colorbar": {
             "outlinewidth": 0,
             "ticks": ""
            },
            "colorscale": [
             [
              0,
              "#0d0887"
             ],
             [
              0.1111111111111111,
              "#46039f"
             ],
             [
              0.2222222222222222,
              "#7201a8"
             ],
             [
              0.3333333333333333,
              "#9c179e"
             ],
             [
              0.4444444444444444,
              "#bd3786"
             ],
             [
              0.5555555555555556,
              "#d8576b"
             ],
             [
              0.6666666666666666,
              "#ed7953"
             ],
             [
              0.7777777777777778,
              "#fb9f3a"
             ],
             [
              0.8888888888888888,
              "#fdca26"
             ],
             [
              1,
              "#f0f921"
             ]
            ],
            "type": "heatmapgl"
           }
          ],
          "histogram": [
           {
            "marker": {
             "pattern": {
              "fillmode": "overlay",
              "size": 10,
              "solidity": 0.2
             }
            },
            "type": "histogram"
           }
          ],
          "histogram2d": [
           {
            "colorbar": {
             "outlinewidth": 0,
             "ticks": ""
            },
            "colorscale": [
             [
              0,
              "#0d0887"
             ],
             [
              0.1111111111111111,
              "#46039f"
             ],
             [
              0.2222222222222222,
              "#7201a8"
             ],
             [
              0.3333333333333333,
              "#9c179e"
             ],
             [
              0.4444444444444444,
              "#bd3786"
             ],
             [
              0.5555555555555556,
              "#d8576b"
             ],
             [
              0.6666666666666666,
              "#ed7953"
             ],
             [
              0.7777777777777778,
              "#fb9f3a"
             ],
             [
              0.8888888888888888,
              "#fdca26"
             ],
             [
              1,
              "#f0f921"
             ]
            ],
            "type": "histogram2d"
           }
          ],
          "histogram2dcontour": [
           {
            "colorbar": {
             "outlinewidth": 0,
             "ticks": ""
            },
            "colorscale": [
             [
              0,
              "#0d0887"
             ],
             [
              0.1111111111111111,
              "#46039f"
             ],
             [
              0.2222222222222222,
              "#7201a8"
             ],
             [
              0.3333333333333333,
              "#9c179e"
             ],
             [
              0.4444444444444444,
              "#bd3786"
             ],
             [
              0.5555555555555556,
              "#d8576b"
             ],
             [
              0.6666666666666666,
              "#ed7953"
             ],
             [
              0.7777777777777778,
              "#fb9f3a"
             ],
             [
              0.8888888888888888,
              "#fdca26"
             ],
             [
              1,
              "#f0f921"
             ]
            ],
            "type": "histogram2dcontour"
           }
          ],
          "mesh3d": [
           {
            "colorbar": {
             "outlinewidth": 0,
             "ticks": ""
            },
            "type": "mesh3d"
           }
          ],
          "parcoords": [
           {
            "line": {
             "colorbar": {
              "outlinewidth": 0,
              "ticks": ""
             }
            },
            "type": "parcoords"
           }
          ],
          "pie": [
           {
            "automargin": true,
            "type": "pie"
           }
          ],
          "scatter": [
           {
            "fillpattern": {
             "fillmode": "overlay",
             "size": 10,
             "solidity": 0.2
            },
            "type": "scatter"
           }
          ],
          "scatter3d": [
           {
            "line": {
             "colorbar": {
              "outlinewidth": 0,
              "ticks": ""
             }
            },
            "marker": {
             "colorbar": {
              "outlinewidth": 0,
              "ticks": ""
             }
            },
            "type": "scatter3d"
           }
          ],
          "scattercarpet": [
           {
            "marker": {
             "colorbar": {
              "outlinewidth": 0,
              "ticks": ""
             }
            },
            "type": "scattercarpet"
           }
          ],
          "scattergeo": [
           {
            "marker": {
             "colorbar": {
              "outlinewidth": 0,
              "ticks": ""
             }
            },
            "type": "scattergeo"
           }
          ],
          "scattergl": [
           {
            "marker": {
             "colorbar": {
              "outlinewidth": 0,
              "ticks": ""
             }
            },
            "type": "scattergl"
           }
          ],
          "scattermapbox": [
           {
            "marker": {
             "colorbar": {
              "outlinewidth": 0,
              "ticks": ""
             }
            },
            "type": "scattermapbox"
           }
          ],
          "scatterpolar": [
           {
            "marker": {
             "colorbar": {
              "outlinewidth": 0,
              "ticks": ""
             }
            },
            "type": "scatterpolar"
           }
          ],
          "scatterpolargl": [
           {
            "marker": {
             "colorbar": {
              "outlinewidth": 0,
              "ticks": ""
             }
            },
            "type": "scatterpolargl"
           }
          ],
          "scatterternary": [
           {
            "marker": {
             "colorbar": {
              "outlinewidth": 0,
              "ticks": ""
             }
            },
            "type": "scatterternary"
           }
          ],
          "surface": [
           {
            "colorbar": {
             "outlinewidth": 0,
             "ticks": ""
            },
            "colorscale": [
             [
              0,
              "#0d0887"
             ],
             [
              0.1111111111111111,
              "#46039f"
             ],
             [
              0.2222222222222222,
              "#7201a8"
             ],
             [
              0.3333333333333333,
              "#9c179e"
             ],
             [
              0.4444444444444444,
              "#bd3786"
             ],
             [
              0.5555555555555556,
              "#d8576b"
             ],
             [
              0.6666666666666666,
              "#ed7953"
             ],
             [
              0.7777777777777778,
              "#fb9f3a"
             ],
             [
              0.8888888888888888,
              "#fdca26"
             ],
             [
              1,
              "#f0f921"
             ]
            ],
            "type": "surface"
           }
          ],
          "table": [
           {
            "cells": {
             "fill": {
              "color": "#EBF0F8"
             },
             "line": {
              "color": "white"
             }
            },
            "header": {
             "fill": {
              "color": "#C8D4E3"
             },
             "line": {
              "color": "white"
             }
            },
            "type": "table"
           }
          ]
         },
         "layout": {
          "annotationdefaults": {
           "arrowcolor": "#2a3f5f",
           "arrowhead": 0,
           "arrowwidth": 1
          },
          "autotypenumbers": "strict",
          "coloraxis": {
           "colorbar": {
            "outlinewidth": 0,
            "ticks": ""
           }
          },
          "colorscale": {
           "diverging": [
            [
             0,
             "#8e0152"
            ],
            [
             0.1,
             "#c51b7d"
            ],
            [
             0.2,
             "#de77ae"
            ],
            [
             0.3,
             "#f1b6da"
            ],
            [
             0.4,
             "#fde0ef"
            ],
            [
             0.5,
             "#f7f7f7"
            ],
            [
             0.6,
             "#e6f5d0"
            ],
            [
             0.7,
             "#b8e186"
            ],
            [
             0.8,
             "#7fbc41"
            ],
            [
             0.9,
             "#4d9221"
            ],
            [
             1,
             "#276419"
            ]
           ],
           "sequential": [
            [
             0,
             "#0d0887"
            ],
            [
             0.1111111111111111,
             "#46039f"
            ],
            [
             0.2222222222222222,
             "#7201a8"
            ],
            [
             0.3333333333333333,
             "#9c179e"
            ],
            [
             0.4444444444444444,
             "#bd3786"
            ],
            [
             0.5555555555555556,
             "#d8576b"
            ],
            [
             0.6666666666666666,
             "#ed7953"
            ],
            [
             0.7777777777777778,
             "#fb9f3a"
            ],
            [
             0.8888888888888888,
             "#fdca26"
            ],
            [
             1,
             "#f0f921"
            ]
           ],
           "sequentialminus": [
            [
             0,
             "#0d0887"
            ],
            [
             0.1111111111111111,
             "#46039f"
            ],
            [
             0.2222222222222222,
             "#7201a8"
            ],
            [
             0.3333333333333333,
             "#9c179e"
            ],
            [
             0.4444444444444444,
             "#bd3786"
            ],
            [
             0.5555555555555556,
             "#d8576b"
            ],
            [
             0.6666666666666666,
             "#ed7953"
            ],
            [
             0.7777777777777778,
             "#fb9f3a"
            ],
            [
             0.8888888888888888,
             "#fdca26"
            ],
            [
             1,
             "#f0f921"
            ]
           ]
          },
          "colorway": [
           "#636efa",
           "#EF553B",
           "#00cc96",
           "#ab63fa",
           "#FFA15A",
           "#19d3f3",
           "#FF6692",
           "#B6E880",
           "#FF97FF",
           "#FECB52"
          ],
          "font": {
           "color": "#2a3f5f"
          },
          "geo": {
           "bgcolor": "white",
           "lakecolor": "white",
           "landcolor": "#E5ECF6",
           "showlakes": true,
           "showland": true,
           "subunitcolor": "white"
          },
          "hoverlabel": {
           "align": "left"
          },
          "hovermode": "closest",
          "mapbox": {
           "style": "light"
          },
          "paper_bgcolor": "white",
          "plot_bgcolor": "#E5ECF6",
          "polar": {
           "angularaxis": {
            "gridcolor": "white",
            "linecolor": "white",
            "ticks": ""
           },
           "bgcolor": "#E5ECF6",
           "radialaxis": {
            "gridcolor": "white",
            "linecolor": "white",
            "ticks": ""
           }
          },
          "scene": {
           "xaxis": {
            "backgroundcolor": "#E5ECF6",
            "gridcolor": "white",
            "gridwidth": 2,
            "linecolor": "white",
            "showbackground": true,
            "ticks": "",
            "zerolinecolor": "white"
           },
           "yaxis": {
            "backgroundcolor": "#E5ECF6",
            "gridcolor": "white",
            "gridwidth": 2,
            "linecolor": "white",
            "showbackground": true,
            "ticks": "",
            "zerolinecolor": "white"
           },
           "zaxis": {
            "backgroundcolor": "#E5ECF6",
            "gridcolor": "white",
            "gridwidth": 2,
            "linecolor": "white",
            "showbackground": true,
            "ticks": "",
            "zerolinecolor": "white"
           }
          },
          "shapedefaults": {
           "line": {
            "color": "#2a3f5f"
           }
          },
          "ternary": {
           "aaxis": {
            "gridcolor": "white",
            "linecolor": "white",
            "ticks": ""
           },
           "baxis": {
            "gridcolor": "white",
            "linecolor": "white",
            "ticks": ""
           },
           "bgcolor": "#E5ECF6",
           "caxis": {
            "gridcolor": "white",
            "linecolor": "white",
            "ticks": ""
           }
          },
          "title": {
           "x": 0.05
          },
          "xaxis": {
           "automargin": true,
           "gridcolor": "white",
           "linecolor": "white",
           "ticks": "",
           "title": {
            "standoff": 15
           },
           "zerolinecolor": "white",
           "zerolinewidth": 2
          },
          "yaxis": {
           "automargin": true,
           "gridcolor": "white",
           "linecolor": "white",
           "ticks": "",
           "title": {
            "standoff": 15
           },
           "zerolinecolor": "white",
           "zerolinewidth": 2
          }
         }
        },
        "title": {
         "text": "Top 3 Country Usage by Year"
        },
        "updatemenus": [
         {
          "buttons": [
           {
            "args": [
             {
              "visible": [
               true,
               false,
               false
              ]
             }
            ],
            "label": "2023",
            "method": "update"
           },
           {
            "args": [
             {
              "visible": [
               false,
               true,
               false
              ]
             }
            ],
            "label": "2022",
            "method": "update"
           },
           {
            "args": [
             {
              "visible": [
               false,
               false,
               true
              ]
             }
            ],
            "label": "2021",
            "method": "update"
           }
          ],
          "direction": "down",
          "showactive": true
         }
        ],
        "xaxis": {
         "title": {
          "text": "Country"
         }
        },
        "yaxis": {
         "title": {
          "text": "Total Posts"
         }
        }
       }
      }
     },
     "metadata": {},
     "output_type": "display_data"
    }
   ],
   "source": [
    "# Add traces for each year\n",
    "fig.add_trace(go.Bar(\n",
    "        x=countries_2023,\n",
    "        y=counts_2023,\n",
    "        name='2023',\n",
    "        visible=True\n",
    "    ))\n",
    "fig.add_trace(go.Bar(\n",
    "        x=countries_2022,\n",
    "        y=counts_2022,\n",
    "        name='2022',\n",
    "        visible=False\n",
    "    ))\n",
    "fig.add_trace(go.Bar(\n",
    "        x=countries_2021,\n",
    "        y=counts_2021,\n",
    "        name='2021',\n",
    "        visible=False\n",
    "    ))\n",
    "# Update layout with dropdown menu\n",
    "fig.update_layout(\n",
    "    title='Top 3 Country Usage by Year',\n",
    "    xaxis_title='Country',\n",
    "    yaxis_title='Total Posts',\n",
    "    updatemenus=[\n",
    "        {\n",
    "            'buttons': [\n",
    "                {\n",
    "                    'label': '2023',\n",
    "                    'method': 'update',\n",
    "                    'args': [{'visible': [True, False, False]}]\n",
    "                },\n",
    "                {\n",
    "                    'label': '2022',\n",
    "                    'method': 'update',\n",
    "                    'args': [{'visible': [False, True, False]}]\n",
    "                },\n",
    "                {\n",
    "                    'label': '2021',\n",
    "                    'method': 'update',\n",
    "                    'args': [{'visible': [False, False, True]}]\n",
    "                }\n",
    "            ],\n",
    "            'direction': 'down',\n",
    "            'showactive': True\n",
    "        }\n",
    "    ]\n",
    ")\n",
    "fig.show()\n",
    "\n",
    "\n"
   ]
  },
  {
   "cell_type": "code",
   "execution_count": 27,
   "metadata": {},
   "outputs": [
    {
     "data": {
      "text/plain": [
       "Platform\n",
       " Instagram     258\n",
       " Facebook      231\n",
       " Twitter       128\n",
       " Twitter       115\n",
       "Name: count, dtype: int64"
      ]
     },
     "execution_count": 27,
     "metadata": {},
     "output_type": "execute_result"
    }
   ],
   "source": [
    "df = pd.read_csv('C:\\\\Users\\\\avaan\\\\Downloads\\\\archive (1)\\\\sentimentdataset.csv')\n",
    "df.Platform.value_counts()"
   ]
  },
  {
   "cell_type": "code",
   "execution_count": 29,
   "metadata": {},
   "outputs": [
    {
     "data": {
      "text/plain": [
       "Platform\n",
       "Instagram    258\n",
       "Twitter      243\n",
       "Facebook     231\n",
       "Name: count, dtype: int64"
      ]
     },
     "execution_count": 29,
     "metadata": {},
     "output_type": "execute_result"
    }
   ],
   "source": [
    "df.Platform = df.Platform.str.strip()\n",
    "df.Platform.value_counts()"
   ]
  },
  {
   "cell_type": "code",
   "execution_count": 22,
   "metadata": {},
   "outputs": [
    {
     "data": {
      "text/plain": [
       "Country\n",
       "USA               188\n",
       "UK                143\n",
       "Canada            135\n",
       "Australia          75\n",
       "India              70\n",
       "Brazil             17\n",
       "France             16\n",
       "Japan              15\n",
       "Germany            14\n",
       "Italy              11\n",
       "Spain               6\n",
       "South Africa        6\n",
       "Greece              5\n",
       "Netherlands         4\n",
       "Switzerland         3\n",
       "Portugal            2\n",
       "Austria             2\n",
       "Belgium             2\n",
       "Denmark             2\n",
       "Czech Republic      2\n",
       "Sweden              2\n",
       "Colombia            1\n",
       "Scotland            1\n",
       "Kenya               1\n",
       "Jamaica             1\n",
       "Ireland             1\n",
       "China               1\n",
       "Norway              1\n",
       "Cambodia            1\n",
       "Maldives            1\n",
       "Peru                1\n",
       "Jordan              1\n",
       "Thailand            1\n",
       "Name: count, dtype: int64"
      ]
     },
     "execution_count": 22,
     "metadata": {},
     "output_type": "execute_result"
    }
   ],
   "source": [
    "df.Country = df.Country.str.strip()"
   ]
  },
  {
   "cell_type": "code",
   "execution_count": 30,
   "metadata": {},
   "outputs": [
    {
     "data": {
      "application/vnd.plotly.v1+json": {
       "config": {
        "plotlyServerURL": "https://plot.ly"
       },
       "data": [
        {
         "alignmentgroup": "True",
         "hovertemplate": "Sentiment= Positive  <br>Platform=Twitter<br>Country=%{x}<br>Likes=%{y}<extra></extra>",
         "legendgroup": " Positive  ",
         "marker": {
          "color": "#636efa",
          "pattern": {
           "shape": ""
          }
         },
         "name": " Positive  ",
         "offsetgroup": " Positive  ",
         "orientation": "v",
         "showlegend": true,
         "textposition": "auto",
         "type": "bar",
         "x": [
          "USA",
          "India",
          "UK",
          "India",
          "UK",
          "USA",
          "India",
          "Canada",
          "India",
          "USA",
          "Canada",
          "India",
          "Canada"
         ],
         "xaxis": "x",
         "y": [
          30,
          50,
          35,
          45,
          40,
          45,
          30,
          30,
          30,
          50,
          35,
          55,
          30
         ],
         "yaxis": "y"
        },
        {
         "alignmentgroup": "True",
         "hovertemplate": "Sentiment= Positive  <br>Platform=Instagram<br>Country=%{x}<br>Likes=%{y}<extra></extra>",
         "legendgroup": " Positive  ",
         "marker": {
          "color": "#636efa",
          "pattern": {
           "shape": ""
          }
         },
         "name": " Positive  ",
         "offsetgroup": " Positive  ",
         "orientation": "v",
         "showlegend": false,
         "textposition": "auto",
         "type": "bar",
         "x": [
          "USA",
          "USA",
          "USA",
          "USA",
          "Canada",
          "USA",
          "UK",
          "Australia",
          "UK",
          "USA",
          "USA",
          "USA",
          "India",
          "UK",
          "USA",
          "USA"
         ],
         "xaxis": "x2",
         "y": [
          40,
          30,
          45,
          55,
          30,
          60,
          30,
          30,
          35,
          50,
          35,
          60,
          45,
          25,
          40,
          35
         ],
         "yaxis": "y2"
        },
        {
         "alignmentgroup": "True",
         "hovertemplate": "Sentiment= Positive  <br>Platform=Facebook<br>Country=%{x}<br>Likes=%{y}<extra></extra>",
         "legendgroup": " Positive  ",
         "marker": {
          "color": "#636efa",
          "pattern": {
           "shape": ""
          }
         },
         "name": " Positive  ",
         "offsetgroup": " Positive  ",
         "orientation": "v",
         "showlegend": false,
         "textposition": "auto",
         "type": "bar",
         "x": [
          "UK",
          "Canada",
          "UK",
          "USA",
          "USA",
          "Canada",
          "India",
          "Canada",
          "USA",
          "UK",
          "Canada",
          "UK",
          "USA",
          "Australia",
          "UK"
         ],
         "xaxis": "x3",
         "y": [
          15,
          20,
          25,
          40,
          30,
          25,
          50,
          25,
          60,
          45,
          25,
          30,
          30,
          30,
          45
         ],
         "yaxis": "y3"
        },
        {
         "alignmentgroup": "True",
         "hovertemplate": "Sentiment= Negative  <br>Platform=Twitter<br>Country=%{x}<br>Likes=%{y}<extra></extra>",
         "legendgroup": " Negative  ",
         "marker": {
          "color": "#EF553B",
          "pattern": {
           "shape": ""
          }
         },
         "name": " Negative  ",
         "offsetgroup": " Negative  ",
         "orientation": "v",
         "showlegend": true,
         "textposition": "auto",
         "type": "bar",
         "x": [
          "Canada",
          "USA",
          "Canada"
         ],
         "xaxis": "x",
         "y": [
          10,
          60,
          15
         ],
         "yaxis": "y"
        },
        {
         "alignmentgroup": "True",
         "hovertemplate": "Sentiment= Negative  <br>Platform=Instagram<br>Country=%{x}<br>Likes=%{y}<extra></extra>",
         "legendgroup": " Negative  ",
         "marker": {
          "color": "#EF553B",
          "pattern": {
           "shape": ""
          }
         },
         "name": " Negative  ",
         "offsetgroup": " Negative  ",
         "orientation": "v",
         "showlegend": false,
         "textposition": "auto",
         "type": "bar",
         "x": [
          "USA"
         ],
         "xaxis": "x2",
         "y": [
          15
         ],
         "yaxis": "y2"
        },
        {
         "alignmentgroup": "True",
         "hovertemplate": "Sentiment= Neutral   <br>Platform=Twitter<br>Country=%{x}<br>Likes=%{y}<extra></extra>",
         "legendgroup": " Neutral   ",
         "marker": {
          "color": "#00cc96",
          "pattern": {
           "shape": ""
          }
         },
         "name": " Neutral   ",
         "offsetgroup": " Neutral   ",
         "orientation": "v",
         "showlegend": true,
         "textposition": "auto",
         "type": "bar",
         "x": [
          "India"
         ],
         "xaxis": "x",
         "y": [
          30
         ],
         "yaxis": "y"
        },
        {
         "alignmentgroup": "True",
         "hovertemplate": "Sentiment= Neutral   <br>Platform=Instagram<br>Country=%{x}<br>Likes=%{y}<extra></extra>",
         "legendgroup": " Neutral   ",
         "marker": {
          "color": "#00cc96",
          "pattern": {
           "shape": ""
          }
         },
         "name": " Neutral   ",
         "offsetgroup": " Neutral   ",
         "orientation": "v",
         "showlegend": false,
         "textposition": "auto",
         "type": "bar",
         "x": [
          "Australia"
         ],
         "xaxis": "x2",
         "y": [
          25
         ],
         "yaxis": "y2"
        },
        {
         "alignmentgroup": "True",
         "hovertemplate": "Sentiment= Neutral   <br>Platform=Facebook<br>Country=%{x}<br>Likes=%{y}<extra></extra>",
         "legendgroup": " Neutral   ",
         "marker": {
          "color": "#00cc96",
          "pattern": {
           "shape": ""
          }
         },
         "name": " Neutral   ",
         "offsetgroup": " Neutral   ",
         "orientation": "v",
         "showlegend": false,
         "textposition": "auto",
         "type": "bar",
         "x": [
          "Australia",
          "USA"
         ],
         "xaxis": "x3",
         "y": [
          35,
          50
         ],
         "yaxis": "y3"
        },
        {
         "alignmentgroup": "True",
         "hovertemplate": "Sentiment= Anger        <br>Platform=Twitter<br>Country=%{x}<br>Likes=%{y}<extra></extra>",
         "legendgroup": " Anger        ",
         "marker": {
          "color": "#ab63fa",
          "pattern": {
           "shape": ""
          }
         },
         "name": " Anger        ",
         "offsetgroup": " Anger        ",
         "orientation": "v",
         "showlegend": true,
         "textposition": "auto",
         "type": "bar",
         "x": [
          "Canada",
          "Canada"
         ],
         "xaxis": "x",
         "y": [
          40,
          40
         ],
         "yaxis": "y"
        },
        {
         "alignmentgroup": "True",
         "hovertemplate": "Sentiment= Fear         <br>Platform=Instagram<br>Country=%{x}<br>Likes=%{y}<extra></extra>",
         "legendgroup": " Fear         ",
         "marker": {
          "color": "#FFA15A",
          "pattern": {
           "shape": ""
          }
         },
         "name": " Fear         ",
         "offsetgroup": " Fear         ",
         "orientation": "v",
         "showlegend": true,
         "textposition": "auto",
         "type": "bar",
         "x": [
          "USA",
          "USA"
         ],
         "xaxis": "x2",
         "y": [
          30,
          30
         ],
         "yaxis": "y2"
        },
        {
         "alignmentgroup": "True",
         "hovertemplate": "Sentiment= Sadness      <br>Platform=Facebook<br>Country=%{x}<br>Likes=%{y}<extra></extra>",
         "legendgroup": " Sadness      ",
         "marker": {
          "color": "#19d3f3",
          "pattern": {
           "shape": ""
          }
         },
         "name": " Sadness      ",
         "offsetgroup": " Sadness      ",
         "orientation": "v",
         "showlegend": true,
         "textposition": "auto",
         "type": "bar",
         "x": [
          "India",
          "India"
         ],
         "xaxis": "x3",
         "y": [
          50,
          50
         ],
         "yaxis": "y3"
        },
        {
         "alignmentgroup": "True",
         "hovertemplate": "Sentiment= Disgust      <br>Platform=Twitter<br>Country=%{x}<br>Likes=%{y}<extra></extra>",
         "legendgroup": " Disgust      ",
         "marker": {
          "color": "#FF6692",
          "pattern": {
           "shape": ""
          }
         },
         "name": " Disgust      ",
         "offsetgroup": " Disgust      ",
         "orientation": "v",
         "showlegend": true,
         "textposition": "auto",
         "type": "bar",
         "x": [
          "UK",
          "UK"
         ],
         "xaxis": "x",
         "y": [
          35,
          35
         ],
         "yaxis": "y"
        },
        {
         "alignmentgroup": "True",
         "hovertemplate": "Sentiment= Happiness    <br>Platform=Instagram<br>Country=%{x}<br>Likes=%{y}<extra></extra>",
         "legendgroup": " Happiness    ",
         "marker": {
          "color": "#B6E880",
          "pattern": {
           "shape": ""
          }
         },
         "name": " Happiness    ",
         "offsetgroup": " Happiness    ",
         "orientation": "v",
         "showlegend": true,
         "textposition": "auto",
         "type": "bar",
         "x": [
          "USA",
          "UK"
         ],
         "xaxis": "x2",
         "y": [
          60,
          60
         ],
         "yaxis": "y2"
        },
        {
         "alignmentgroup": "True",
         "hovertemplate": "Sentiment= Joy          <br>Platform=Facebook<br>Country=%{x}<br>Likes=%{y}<extra></extra>",
         "legendgroup": " Joy          ",
         "marker": {
          "color": "#FF97FF",
          "pattern": {
           "shape": ""
          }
         },
         "name": " Joy          ",
         "offsetgroup": " Joy          ",
         "orientation": "v",
         "showlegend": true,
         "textposition": "auto",
         "type": "bar",
         "x": [
          "Canada",
          "Canada"
         ],
         "xaxis": "x3",
         "y": [
          45,
          45
         ],
         "yaxis": "y3"
        },
        {
         "alignmentgroup": "True",
         "hovertemplate": "Sentiment= Love         <br>Platform=Twitter<br>Country=%{x}<br>Likes=%{y}<extra></extra>",
         "legendgroup": " Love         ",
         "marker": {
          "color": "#FECB52",
          "pattern": {
           "shape": ""
          }
         },
         "name": " Love         ",
         "offsetgroup": " Love         ",
         "orientation": "v",
         "showlegend": true,
         "textposition": "auto",
         "type": "bar",
         "x": [
          "Australia",
          "Australia"
         ],
         "xaxis": "x",
         "y": [
          30,
          30
         ],
         "yaxis": "y"
        },
        {
         "alignmentgroup": "True",
         "hovertemplate": "Sentiment= Amusement    <br>Platform=Instagram<br>Country=%{x}<br>Likes=%{y}<extra></extra>",
         "legendgroup": " Amusement    ",
         "marker": {
          "color": "#636efa",
          "pattern": {
           "shape": ""
          }
         },
         "name": " Amusement    ",
         "offsetgroup": " Amusement    ",
         "orientation": "v",
         "showlegend": true,
         "textposition": "auto",
         "type": "bar",
         "x": [
          "UK",
          "UK"
         ],
         "xaxis": "x2",
         "y": [
          35,
          35
         ],
         "yaxis": "y2"
        },
        {
         "alignmentgroup": "True",
         "hovertemplate": "Sentiment= Enjoyment    <br>Platform=Facebook<br>Country=%{x}<br>Likes=%{y}<extra></extra>",
         "legendgroup": " Enjoyment    ",
         "marker": {
          "color": "#EF553B",
          "pattern": {
           "shape": ""
          }
         },
         "name": " Enjoyment    ",
         "offsetgroup": " Enjoyment    ",
         "orientation": "v",
         "showlegend": true,
         "textposition": "auto",
         "type": "bar",
         "x": [
          "Canada",
          "USA"
         ],
         "xaxis": "x3",
         "y": [
          50,
          50
         ],
         "yaxis": "y3"
        },
        {
         "alignmentgroup": "True",
         "hovertemplate": "Sentiment= Admiration   <br>Platform=Twitter<br>Country=%{x}<br>Likes=%{y}<extra></extra>",
         "legendgroup": " Admiration   ",
         "marker": {
          "color": "#00cc96",
          "pattern": {
           "shape": ""
          }
         },
         "name": " Admiration   ",
         "offsetgroup": " Admiration   ",
         "orientation": "v",
         "showlegend": true,
         "textposition": "auto",
         "type": "bar",
         "x": [
          "USA",
          "USA"
         ],
         "xaxis": "x",
         "y": [
          40,
          40
         ],
         "yaxis": "y"
        },
        {
         "alignmentgroup": "True",
         "hovertemplate": "Sentiment= Affection    <br>Platform=Instagram<br>Country=%{x}<br>Likes=%{y}<extra></extra>",
         "legendgroup": " Affection    ",
         "marker": {
          "color": "#ab63fa",
          "pattern": {
           "shape": ""
          }
         },
         "name": " Affection    ",
         "offsetgroup": " Affection    ",
         "orientation": "v",
         "showlegend": true,
         "textposition": "auto",
         "type": "bar",
         "x": [
          "USA",
          "USA"
         ],
         "xaxis": "x2",
         "y": [
          30,
          30
         ],
         "yaxis": "y2"
        },
        {
         "alignmentgroup": "True",
         "hovertemplate": "Sentiment= Awe          <br>Platform=Facebook<br>Country=%{x}<br>Likes=%{y}<extra></extra>",
         "legendgroup": " Awe          ",
         "marker": {
          "color": "#FFA15A",
          "pattern": {
           "shape": ""
          }
         },
         "name": " Awe          ",
         "offsetgroup": " Awe          ",
         "orientation": "v",
         "showlegend": true,
         "textposition": "auto",
         "type": "bar",
         "x": [
          "Australia",
          "Australia"
         ],
         "xaxis": "x3",
         "y": [
          45,
          45
         ],
         "yaxis": "y3"
        },
        {
         "alignmentgroup": "True",
         "hovertemplate": "Sentiment= Disappointed <br>Platform=Twitter<br>Country=%{x}<br>Likes=%{y}<extra></extra>",
         "legendgroup": " Disappointed ",
         "marker": {
          "color": "#19d3f3",
          "pattern": {
           "shape": ""
          }
         },
         "name": " Disappointed ",
         "offsetgroup": " Disappointed ",
         "orientation": "v",
         "showlegend": true,
         "textposition": "auto",
         "type": "bar",
         "x": [
          "India",
          "India"
         ],
         "xaxis": "x",
         "y": [
          35,
          35
         ],
         "yaxis": "y"
        },
        {
         "alignmentgroup": "True",
         "hovertemplate": "Sentiment= Surprise     <br>Platform=Instagram<br>Country=%{x}<br>Likes=%{y}<extra></extra>",
         "legendgroup": " Surprise     ",
         "marker": {
          "color": "#FF6692",
          "pattern": {
           "shape": ""
          }
         },
         "name": " Surprise     ",
         "offsetgroup": " Surprise     ",
         "orientation": "v",
         "showlegend": true,
         "textposition": "auto",
         "type": "bar",
         "x": [
          "USA",
          "USA"
         ],
         "xaxis": "x2",
         "y": [
          50,
          50
         ],
         "yaxis": "y2"
        },
        {
         "alignmentgroup": "True",
         "hovertemplate": "Sentiment= Acceptance   <br>Platform=Twitter<br>Country=%{x}<br>Likes=%{y}<extra></extra>",
         "legendgroup": " Acceptance   ",
         "marker": {
          "color": "#B6E880",
          "pattern": {
           "shape": ""
          }
         },
         "name": " Acceptance   ",
         "offsetgroup": " Acceptance   ",
         "orientation": "v",
         "showlegend": true,
         "textposition": "auto",
         "type": "bar",
         "x": [
          "Australia"
         ],
         "xaxis": "x",
         "y": [
          45
         ],
         "yaxis": "y"
        },
        {
         "alignmentgroup": "True",
         "hovertemplate": "Sentiment= Acceptance   <br>Platform=Facebook<br>Country=%{x}<br>Likes=%{y}<extra></extra>",
         "legendgroup": " Acceptance   ",
         "marker": {
          "color": "#B6E880",
          "pattern": {
           "shape": ""
          }
         },
         "name": " Acceptance   ",
         "offsetgroup": " Acceptance   ",
         "orientation": "v",
         "showlegend": false,
         "textposition": "auto",
         "type": "bar",
         "x": [
          "Canada",
          "Canada"
         ],
         "xaxis": "x3",
         "y": [
          30,
          30
         ],
         "yaxis": "y3"
        },
        {
         "alignmentgroup": "True",
         "hovertemplate": "Sentiment= Adoration    <br>Platform=Twitter<br>Country=%{x}<br>Likes=%{y}<extra></extra>",
         "legendgroup": " Adoration    ",
         "marker": {
          "color": "#FF97FF",
          "pattern": {
           "shape": ""
          }
         },
         "name": " Adoration    ",
         "offsetgroup": " Adoration    ",
         "orientation": "v",
         "showlegend": true,
         "textposition": "auto",
         "type": "bar",
         "x": [
          "UK",
          "UK"
         ],
         "xaxis": "x",
         "y": [
          45,
          45
         ],
         "yaxis": "y"
        },
        {
         "alignmentgroup": "True",
         "hovertemplate": "Sentiment= Anticipation <br>Platform=Instagram<br>Country=%{x}<br>Likes=%{y}<extra></extra>",
         "legendgroup": " Anticipation ",
         "marker": {
          "color": "#FECB52",
          "pattern": {
           "shape": ""
          }
         },
         "name": " Anticipation ",
         "offsetgroup": " Anticipation ",
         "orientation": "v",
         "showlegend": true,
         "textposition": "auto",
         "type": "bar",
         "x": [
          "USA",
          "Australia"
         ],
         "xaxis": "x2",
         "y": [
          40,
          40
         ],
         "yaxis": "y2"
        },
        {
         "alignmentgroup": "True",
         "hovertemplate": "Sentiment= Bitter       <br>Platform=Twitter<br>Country=%{x}<br>Likes=%{y}<extra></extra>",
         "legendgroup": " Bitter       ",
         "marker": {
          "color": "#636efa",
          "pattern": {
           "shape": ""
          }
         },
         "name": " Bitter       ",
         "offsetgroup": " Bitter       ",
         "orientation": "v",
         "showlegend": true,
         "textposition": "auto",
         "type": "bar",
         "x": [
          "Canada"
         ],
         "xaxis": "x",
         "y": [
          30
         ],
         "yaxis": "y"
        },
        {
         "alignmentgroup": "True",
         "hovertemplate": "Sentiment= Bitter       <br>Platform=Facebook<br>Country=%{x}<br>Likes=%{y}<extra></extra>",
         "legendgroup": " Bitter       ",
         "marker": {
          "color": "#636efa",
          "pattern": {
           "shape": ""
          }
         },
         "name": " Bitter       ",
         "offsetgroup": " Bitter       ",
         "orientation": "v",
         "showlegend": false,
         "textposition": "auto",
         "type": "bar",
         "x": [
          "USA",
          "USA"
         ],
         "xaxis": "x3",
         "y": [
          35,
          35
         ],
         "yaxis": "y3"
        },
        {
         "alignmentgroup": "True",
         "hovertemplate": "Sentiment= Calmness     <br>Platform=Twitter<br>Country=%{x}<br>Likes=%{y}<extra></extra>",
         "legendgroup": " Calmness     ",
         "marker": {
          "color": "#EF553B",
          "pattern": {
           "shape": ""
          }
         },
         "name": " Calmness     ",
         "offsetgroup": " Calmness     ",
         "orientation": "v",
         "showlegend": true,
         "textposition": "auto",
         "type": "bar",
         "x": [
          "India",
          "India"
         ],
         "xaxis": "x",
         "y": [
          30,
          30
         ],
         "yaxis": "y"
        },
        {
         "alignmentgroup": "True",
         "hovertemplate": "Sentiment= Calmness     <br>Platform=Facebook<br>Country=%{x}<br>Likes=%{y}<extra></extra>",
         "legendgroup": " Calmness     ",
         "marker": {
          "color": "#EF553B",
          "pattern": {
           "shape": ""
          }
         },
         "name": " Calmness     ",
         "offsetgroup": " Calmness     ",
         "orientation": "v",
         "showlegend": false,
         "textposition": "auto",
         "type": "bar",
         "x": [
          "UK"
         ],
         "xaxis": "x3",
         "y": [
          30
         ],
         "yaxis": "y3"
        },
        {
         "alignmentgroup": "True",
         "hovertemplate": "Sentiment= Confusion    <br>Platform=Instagram<br>Country=%{x}<br>Likes=%{y}<extra></extra>",
         "legendgroup": " Confusion    ",
         "marker": {
          "color": "#00cc96",
          "pattern": {
           "shape": ""
          }
         },
         "name": " Confusion    ",
         "offsetgroup": " Confusion    ",
         "orientation": "v",
         "showlegend": true,
         "textposition": "auto",
         "type": "bar",
         "x": [
          "UK",
          "UK"
         ],
         "xaxis": "x2",
         "y": [
          50,
          50
         ],
         "yaxis": "y2"
        },
        {
         "alignmentgroup": "True",
         "hovertemplate": "Sentiment= Excitement   <br>Platform=Twitter<br>Country=%{x}<br>Likes=%{y}<extra></extra>",
         "legendgroup": " Excitement   ",
         "marker": {
          "color": "#ab63fa",
          "pattern": {
           "shape": ""
          }
         },
         "name": " Excitement   ",
         "offsetgroup": " Excitement   ",
         "orientation": "v",
         "showlegend": true,
         "textposition": "auto",
         "type": "bar",
         "x": [
          "Canada"
         ],
         "xaxis": "x",
         "y": [
          45
         ],
         "yaxis": "y"
        },
        {
         "alignmentgroup": "True",
         "hovertemplate": "Sentiment= Excitement   <br>Platform=Instagram<br>Country=%{x}<br>Likes=%{y}<extra></extra>",
         "legendgroup": " Excitement   ",
         "marker": {
          "color": "#ab63fa",
          "pattern": {
           "shape": ""
          }
         },
         "name": " Excitement   ",
         "offsetgroup": " Excitement   ",
         "orientation": "v",
         "showlegend": false,
         "textposition": "auto",
         "type": "bar",
         "x": [
          "USA"
         ],
         "xaxis": "x2",
         "y": [
          35
         ],
         "yaxis": "y2"
        },
        {
         "alignmentgroup": "True",
         "hovertemplate": "Sentiment= Excitement   <br>Platform=Facebook<br>Country=%{x}<br>Likes=%{y}<extra></extra>",
         "legendgroup": " Excitement   ",
         "marker": {
          "color": "#ab63fa",
          "pattern": {
           "shape": ""
          }
         },
         "name": " Excitement   ",
         "offsetgroup": " Excitement   ",
         "orientation": "v",
         "showlegend": false,
         "textposition": "auto",
         "type": "bar",
         "x": [
          "Canada",
          "Canada"
         ],
         "xaxis": "x3",
         "y": [
          45,
          45
         ],
         "yaxis": "y3"
        },
        {
         "alignmentgroup": "True",
         "hovertemplate": "Sentiment= Kind         <br>Platform=Twitter<br>Country=%{x}<br>Likes=%{y}<extra></extra>",
         "legendgroup": " Kind         ",
         "marker": {
          "color": "#FFA15A",
          "pattern": {
           "shape": ""
          }
         },
         "name": " Kind         ",
         "offsetgroup": " Kind         ",
         "orientation": "v",
         "showlegend": true,
         "textposition": "auto",
         "type": "bar",
         "x": [
          "USA",
          "USA"
         ],
         "xaxis": "x",
         "y": [
          40,
          40
         ],
         "yaxis": "y"
        },
        {
         "alignmentgroup": "True",
         "hovertemplate": "Sentiment= Kind         <br>Platform=Facebook<br>Country=%{x}<br>Likes=%{y}<extra></extra>",
         "legendgroup": " Kind         ",
         "marker": {
          "color": "#FFA15A",
          "pattern": {
           "shape": ""
          }
         },
         "name": " Kind         ",
         "offsetgroup": " Kind         ",
         "orientation": "v",
         "showlegend": false,
         "textposition": "auto",
         "type": "bar",
         "x": [
          "USA"
         ],
         "xaxis": "x3",
         "y": [
          45
         ],
         "yaxis": "y3"
        },
        {
         "alignmentgroup": "True",
         "hovertemplate": "Sentiment= Pride        <br>Platform=Instagram<br>Country=%{x}<br>Likes=%{y}<extra></extra>",
         "legendgroup": " Pride        ",
         "marker": {
          "color": "#19d3f3",
          "pattern": {
           "shape": ""
          }
         },
         "name": " Pride        ",
         "offsetgroup": " Pride        ",
         "orientation": "v",
         "showlegend": true,
         "textposition": "auto",
         "type": "bar",
         "x": [
          "Australia",
          "UK",
          "Canada"
         ],
         "xaxis": "x2",
         "y": [
          60,
          60,
          25
         ],
         "yaxis": "y2"
        },
        {
         "alignmentgroup": "True",
         "hovertemplate": "Sentiment= Shame        <br>Platform=Facebook<br>Country=%{x}<br>Likes=%{y}<extra></extra>",
         "legendgroup": " Shame        ",
         "marker": {
          "color": "#FF6692",
          "pattern": {
           "shape": ""
          }
         },
         "name": " Shame        ",
         "offsetgroup": " Shame        ",
         "orientation": "v",
         "showlegend": true,
         "textposition": "auto",
         "type": "bar",
         "x": [
          "India",
          "India"
         ],
         "xaxis": "x3",
         "y": [
          30,
          30
         ],
         "yaxis": "y3"
        },
        {
         "alignmentgroup": "True",
         "hovertemplate": "Sentiment= Confusion <br>Platform=Instagram<br>Country=%{x}<br>Likes=%{y}<extra></extra>",
         "legendgroup": " Confusion ",
         "marker": {
          "color": "#B6E880",
          "pattern": {
           "shape": ""
          }
         },
         "name": " Confusion ",
         "offsetgroup": " Confusion ",
         "orientation": "v",
         "showlegend": true,
         "textposition": "auto",
         "type": "bar",
         "x": [
          "USA"
         ],
         "xaxis": "x2",
         "y": [
          60
         ],
         "yaxis": "y2"
        },
        {
         "alignmentgroup": "True",
         "hovertemplate": "Sentiment= Excitement <br>Platform=Twitter<br>Country=%{x}<br>Likes=%{y}<extra></extra>",
         "legendgroup": " Excitement ",
         "marker": {
          "color": "#FF97FF",
          "pattern": {
           "shape": ""
          }
         },
         "name": " Excitement ",
         "offsetgroup": " Excitement ",
         "orientation": "v",
         "showlegend": true,
         "textposition": "auto",
         "type": "bar",
         "x": [
          "India",
          "USA",
          "USA",
          "USA",
          "Canada",
          "UK",
          "Canada",
          "Canada",
          "UK",
          "UK",
          "UK",
          "Canada"
         ],
         "xaxis": "x",
         "y": [
          50,
          80,
          30,
          40,
          60,
          50,
          60,
          60,
          35,
          42,
          44,
          52
         ],
         "yaxis": "y"
        },
        {
         "alignmentgroup": "True",
         "hovertemplate": "Sentiment= Excitement <br>Platform=Instagram<br>Country=%{x}<br>Likes=%{y}<extra></extra>",
         "legendgroup": " Excitement ",
         "marker": {
          "color": "#FF97FF",
          "pattern": {
           "shape": ""
          }
         },
         "name": " Excitement ",
         "offsetgroup": " Excitement ",
         "orientation": "v",
         "showlegend": false,
         "textposition": "auto",
         "type": "bar",
         "x": [
          "France",
          "USA",
          "USA",
          "UK",
          "UK",
          "USA",
          "UK",
          "UK",
          "UK",
          "Canada",
          "USA",
          "UK"
         ],
         "xaxis": "x2",
         "y": [
          60,
          70,
          45,
          35,
          70,
          60,
          55,
          70,
          38,
          48,
          39,
          42
         ],
         "yaxis": "y2"
        },
        {
         "alignmentgroup": "True",
         "hovertemplate": "Sentiment= Excitement <br>Platform=Facebook<br>Country=%{x}<br>Likes=%{y}<extra></extra>",
         "legendgroup": " Excitement ",
         "marker": {
          "color": "#FF97FF",
          "pattern": {
           "shape": ""
          }
         },
         "name": " Excitement ",
         "offsetgroup": " Excitement ",
         "orientation": "v",
         "showlegend": false,
         "textposition": "auto",
         "type": "bar",
         "x": [
          "UK",
          "Italy",
          "India",
          "USA",
          "Canada",
          "USA",
          "Canada",
          "Canada"
         ],
         "xaxis": "x3",
         "y": [
          60,
          45,
          60,
          50,
          35,
          50,
          55,
          40
         ],
         "yaxis": "y3"
        },
        {
         "alignmentgroup": "True",
         "hovertemplate": "Sentiment= Shame <br>Platform=Twitter<br>Country=%{x}<br>Likes=%{y}<extra></extra>",
         "legendgroup": " Shame ",
         "marker": {
          "color": "#FECB52",
          "pattern": {
           "shape": ""
          }
         },
         "name": " Shame ",
         "offsetgroup": " Shame ",
         "orientation": "v",
         "showlegend": true,
         "textposition": "auto",
         "type": "bar",
         "x": [
          "UK"
         ],
         "xaxis": "x",
         "y": [
          30
         ],
         "yaxis": "y"
        },
        {
         "alignmentgroup": "True",
         "hovertemplate": "Sentiment= Elation       <br>Platform=Twitter<br>Country=%{x}<br>Likes=%{y}<extra></extra>",
         "legendgroup": " Elation       ",
         "marker": {
          "color": "#636efa",
          "pattern": {
           "shape": ""
          }
         },
         "name": " Elation       ",
         "offsetgroup": " Elation       ",
         "orientation": "v",
         "showlegend": true,
         "textposition": "auto",
         "type": "bar",
         "x": [
          "Canada",
          "USA"
         ],
         "xaxis": "x",
         "y": [
          40,
          40
         ],
         "yaxis": "y"
        },
        {
         "alignmentgroup": "True",
         "hovertemplate": "Sentiment= Elation       <br>Platform=Instagram<br>Country=%{x}<br>Likes=%{y}<extra></extra>",
         "legendgroup": " Elation       ",
         "marker": {
          "color": "#636efa",
          "pattern": {
           "shape": ""
          }
         },
         "name": " Elation       ",
         "offsetgroup": " Elation       ",
         "orientation": "v",
         "showlegend": false,
         "textposition": "auto",
         "type": "bar",
         "x": [
          "Canada",
          "UK",
          "USA"
         ],
         "xaxis": "x2",
         "y": [
          50,
          50,
          80
         ],
         "yaxis": "y2"
        },
        {
         "alignmentgroup": "True",
         "hovertemplate": "Sentiment= Elation       <br>Platform=Facebook<br>Country=%{x}<br>Likes=%{y}<extra></extra>",
         "legendgroup": " Elation       ",
         "marker": {
          "color": "#636efa",
          "pattern": {
           "shape": ""
          }
         },
         "name": " Elation       ",
         "offsetgroup": " Elation       ",
         "orientation": "v",
         "showlegend": false,
         "textposition": "auto",
         "type": "bar",
         "x": [
          "USA"
         ],
         "xaxis": "x3",
         "y": [
          50
         ],
         "yaxis": "y3"
        },
        {
         "alignmentgroup": "True",
         "hovertemplate": "Sentiment= Euphoria      <br>Platform=Instagram<br>Country=%{x}<br>Likes=%{y}<extra></extra>",
         "legendgroup": " Euphoria      ",
         "marker": {
          "color": "#EF553B",
          "pattern": {
           "shape": ""
          }
         },
         "name": " Euphoria      ",
         "offsetgroup": " Euphoria      ",
         "orientation": "v",
         "showlegend": true,
         "textposition": "auto",
         "type": "bar",
         "x": [
          "USA",
          "UK"
         ],
         "xaxis": "x2",
         "y": [
          30,
          30
         ],
         "yaxis": "y2"
        },
        {
         "alignmentgroup": "True",
         "hovertemplate": "Sentiment= Euphoria      <br>Platform=Facebook<br>Country=%{x}<br>Likes=%{y}<extra></extra>",
         "legendgroup": " Euphoria      ",
         "marker": {
          "color": "#EF553B",
          "pattern": {
           "shape": ""
          }
         },
         "name": " Euphoria      ",
         "offsetgroup": " Euphoria      ",
         "orientation": "v",
         "showlegend": false,
         "textposition": "auto",
         "type": "bar",
         "x": [
          "USA",
          "USA"
         ],
         "xaxis": "x3",
         "y": [
          30,
          30
         ],
         "yaxis": "y3"
        },
        {
         "alignmentgroup": "True",
         "hovertemplate": "Sentiment= Contentment   <br>Platform=Twitter<br>Country=%{x}<br>Likes=%{y}<extra></extra>",
         "legendgroup": " Contentment   ",
         "marker": {
          "color": "#00cc96",
          "pattern": {
           "shape": ""
          }
         },
         "name": " Contentment   ",
         "offsetgroup": " Contentment   ",
         "orientation": "v",
         "showlegend": true,
         "textposition": "auto",
         "type": "bar",
         "x": [
          "Australia",
          "India"
         ],
         "xaxis": "x",
         "y": [
          60,
          60
         ],
         "yaxis": "y"
        },
        {
         "alignmentgroup": "True",
         "hovertemplate": "Sentiment= Contentment   <br>Platform=Facebook<br>Country=%{x}<br>Likes=%{y}<extra></extra>",
         "legendgroup": " Contentment   ",
         "marker": {
          "color": "#00cc96",
          "pattern": {
           "shape": ""
          }
         },
         "name": " Contentment   ",
         "offsetgroup": " Contentment   ",
         "orientation": "v",
         "showlegend": false,
         "textposition": "auto",
         "type": "bar",
         "x": [
          "India",
          "India",
          "Canada"
         ],
         "xaxis": "x3",
         "y": [
          50,
          50,
          50
         ],
         "yaxis": "y3"
        },
        {
         "alignmentgroup": "True",
         "hovertemplate": "Sentiment= Serenity      <br>Platform=Twitter<br>Country=%{x}<br>Likes=%{y}<extra></extra>",
         "legendgroup": " Serenity      ",
         "marker": {
          "color": "#ab63fa",
          "pattern": {
           "shape": ""
          }
         },
         "name": " Serenity      ",
         "offsetgroup": " Serenity      ",
         "orientation": "v",
         "showlegend": true,
         "textposition": "auto",
         "type": "bar",
         "x": [
          "UK",
          "Canada"
         ],
         "xaxis": "x",
         "y": [
          35,
          35
         ],
         "yaxis": "y"
        },
        {
         "alignmentgroup": "True",
         "hovertemplate": "Sentiment= Serenity      <br>Platform=Instagram<br>Country=%{x}<br>Likes=%{y}<extra></extra>",
         "legendgroup": " Serenity      ",
         "marker": {
          "color": "#ab63fa",
          "pattern": {
           "shape": ""
          }
         },
         "name": " Serenity      ",
         "offsetgroup": " Serenity      ",
         "orientation": "v",
         "showlegend": false,
         "textposition": "auto",
         "type": "bar",
         "x": [
          "UK",
          "Canada"
         ],
         "xaxis": "x2",
         "y": [
          45,
          45
         ],
         "yaxis": "y2"
        },
        {
         "alignmentgroup": "True",
         "hovertemplate": "Sentiment= Serenity      <br>Platform=Facebook<br>Country=%{x}<br>Likes=%{y}<extra></extra>",
         "legendgroup": " Serenity      ",
         "marker": {
          "color": "#ab63fa",
          "pattern": {
           "shape": ""
          }
         },
         "name": " Serenity      ",
         "offsetgroup": " Serenity      ",
         "orientation": "v",
         "showlegend": false,
         "textposition": "auto",
         "type": "bar",
         "x": [
          "Canada"
         ],
         "xaxis": "x3",
         "y": [
          45
         ],
         "yaxis": "y3"
        },
        {
         "alignmentgroup": "True",
         "hovertemplate": "Sentiment= Gratitude     <br>Platform=Twitter<br>Country=%{x}<br>Likes=%{y}<extra></extra>",
         "legendgroup": " Gratitude     ",
         "marker": {
          "color": "#FFA15A",
          "pattern": {
           "shape": ""
          }
         },
         "name": " Gratitude     ",
         "offsetgroup": " Gratitude     ",
         "orientation": "v",
         "showlegend": true,
         "textposition": "auto",
         "type": "bar",
         "x": [
          "India"
         ],
         "xaxis": "x",
         "y": [
          45
         ],
         "yaxis": "y"
        },
        {
         "alignmentgroup": "True",
         "hovertemplate": "Sentiment= Gratitude     <br>Platform=Instagram<br>Country=%{x}<br>Likes=%{y}<extra></extra>",
         "legendgroup": " Gratitude     ",
         "marker": {
          "color": "#FFA15A",
          "pattern": {
           "shape": ""
          }
         },
         "name": " Gratitude     ",
         "offsetgroup": " Gratitude     ",
         "orientation": "v",
         "showlegend": false,
         "textposition": "auto",
         "type": "bar",
         "x": [
          "Australia",
          "USA"
         ],
         "xaxis": "x2",
         "y": [
          60,
          60
         ],
         "yaxis": "y2"
        },
        {
         "alignmentgroup": "True",
         "hovertemplate": "Sentiment= Gratitude     <br>Platform=Facebook<br>Country=%{x}<br>Likes=%{y}<extra></extra>",
         "legendgroup": " Gratitude     ",
         "marker": {
          "color": "#FFA15A",
          "pattern": {
           "shape": ""
          }
         },
         "name": " Gratitude     ",
         "offsetgroup": " Gratitude     ",
         "orientation": "v",
         "showlegend": false,
         "textposition": "auto",
         "type": "bar",
         "x": [
          "India",
          "Australia"
         ],
         "xaxis": "x3",
         "y": [
          30,
          30
         ],
         "yaxis": "y3"
        },
        {
         "alignmentgroup": "True",
         "hovertemplate": "Sentiment= Hope          <br>Platform=Twitter<br>Country=%{x}<br>Likes=%{y}<extra></extra>",
         "legendgroup": " Hope          ",
         "marker": {
          "color": "#19d3f3",
          "pattern": {
           "shape": ""
          }
         },
         "name": " Hope          ",
         "offsetgroup": " Hope          ",
         "orientation": "v",
         "showlegend": true,
         "textposition": "auto",
         "type": "bar",
         "x": [
          "Canada",
          "UK"
         ],
         "xaxis": "x",
         "y": [
          35,
          35
         ],
         "yaxis": "y"
        },
        {
         "alignmentgroup": "True",
         "hovertemplate": "Sentiment= Hope          <br>Platform=Facebook<br>Country=%{x}<br>Likes=%{y}<extra></extra>",
         "legendgroup": " Hope          ",
         "marker": {
          "color": "#19d3f3",
          "pattern": {
           "shape": ""
          }
         },
         "name": " Hope          ",
         "offsetgroup": " Hope          ",
         "orientation": "v",
         "showlegend": false,
         "textposition": "auto",
         "type": "bar",
         "x": [
          "USA",
          "Canada"
         ],
         "xaxis": "x3",
         "y": [
          45,
          45
         ],
         "yaxis": "y3"
        },
        {
         "alignmentgroup": "True",
         "hovertemplate": "Sentiment= Empowerment   <br>Platform=Twitter<br>Country=%{x}<br>Likes=%{y}<extra></extra>",
         "legendgroup": " Empowerment   ",
         "marker": {
          "color": "#FF6692",
          "pattern": {
           "shape": ""
          }
         },
         "name": " Empowerment   ",
         "offsetgroup": " Empowerment   ",
         "orientation": "v",
         "showlegend": true,
         "textposition": "auto",
         "type": "bar",
         "x": [
          "UK",
          "UK"
         ],
         "xaxis": "x",
         "y": [
          30,
          30
         ],
         "yaxis": "y"
        },
        {
         "alignmentgroup": "True",
         "hovertemplate": "Sentiment= Empowerment   <br>Platform=Instagram<br>Country=%{x}<br>Likes=%{y}<extra></extra>",
         "legendgroup": " Empowerment   ",
         "marker": {
          "color": "#FF6692",
          "pattern": {
           "shape": ""
          }
         },
         "name": " Empowerment   ",
         "offsetgroup": " Empowerment   ",
         "orientation": "v",
         "showlegend": false,
         "textposition": "auto",
         "type": "bar",
         "x": [
          "USA",
          "India",
          "USA"
         ],
         "xaxis": "x2",
         "y": [
          50,
          50,
          70
         ],
         "yaxis": "y2"
        },
        {
         "alignmentgroup": "True",
         "hovertemplate": "Sentiment= Compassion    <br>Platform=Instagram<br>Country=%{x}<br>Likes=%{y}<extra></extra>",
         "legendgroup": " Compassion    ",
         "marker": {
          "color": "#B6E880",
          "pattern": {
           "shape": ""
          }
         },
         "name": " Compassion    ",
         "offsetgroup": " Compassion    ",
         "orientation": "v",
         "showlegend": true,
         "textposition": "auto",
         "type": "bar",
         "x": [
          "Canada"
         ],
         "xaxis": "x2",
         "y": [
          35
         ],
         "yaxis": "y2"
        },
        {
         "alignmentgroup": "True",
         "hovertemplate": "Sentiment= Compassion    <br>Platform=Facebook<br>Country=%{x}<br>Likes=%{y}<extra></extra>",
         "legendgroup": " Compassion    ",
         "marker": {
          "color": "#B6E880",
          "pattern": {
           "shape": ""
          }
         },
         "name": " Compassion    ",
         "offsetgroup": " Compassion    ",
         "orientation": "v",
         "showlegend": false,
         "textposition": "auto",
         "type": "bar",
         "x": [
          "USA",
          "USA"
         ],
         "xaxis": "x3",
         "y": [
          35,
          35
         ],
         "yaxis": "y3"
        },
        {
         "alignmentgroup": "True",
         "hovertemplate": "Sentiment= Tenderness    <br>Platform=Twitter<br>Country=%{x}<br>Likes=%{y}<extra></extra>",
         "legendgroup": " Tenderness    ",
         "marker": {
          "color": "#FF97FF",
          "pattern": {
           "shape": ""
          }
         },
         "name": " Tenderness    ",
         "offsetgroup": " Tenderness    ",
         "orientation": "v",
         "showlegend": true,
         "textposition": "auto",
         "type": "bar",
         "x": [
          "UK",
          "Canada"
         ],
         "xaxis": "x",
         "y": [
          50,
          50
         ],
         "yaxis": "y"
        },
        {
         "alignmentgroup": "True",
         "hovertemplate": "Sentiment= Tenderness    <br>Platform=Facebook<br>Country=%{x}<br>Likes=%{y}<extra></extra>",
         "legendgroup": " Tenderness    ",
         "marker": {
          "color": "#FF97FF",
          "pattern": {
           "shape": ""
          }
         },
         "name": " Tenderness    ",
         "offsetgroup": " Tenderness    ",
         "orientation": "v",
         "showlegend": false,
         "textposition": "auto",
         "type": "bar",
         "x": [
          "UK",
          "UK"
         ],
         "xaxis": "x3",
         "y": [
          50,
          50
         ],
         "yaxis": "y3"
        },
        {
         "alignmentgroup": "True",
         "hovertemplate": "Sentiment= Arousal       <br>Platform=Twitter<br>Country=%{x}<br>Likes=%{y}<extra></extra>",
         "legendgroup": " Arousal       ",
         "marker": {
          "color": "#FECB52",
          "pattern": {
           "shape": ""
          }
         },
         "name": " Arousal       ",
         "offsetgroup": " Arousal       ",
         "orientation": "v",
         "showlegend": true,
         "textposition": "auto",
         "type": "bar",
         "x": [
          "Australia",
          "India"
         ],
         "xaxis": "x",
         "y": [
          40,
          40
         ],
         "yaxis": "y"
        },
        {
         "alignmentgroup": "True",
         "hovertemplate": "Sentiment= Arousal       <br>Platform=Instagram<br>Country=%{x}<br>Likes=%{y}<extra></extra>",
         "legendgroup": " Arousal       ",
         "marker": {
          "color": "#FECB52",
          "pattern": {
           "shape": ""
          }
         },
         "name": " Arousal       ",
         "offsetgroup": " Arousal       ",
         "orientation": "v",
         "showlegend": false,
         "textposition": "auto",
         "type": "bar",
         "x": [
          "Australia",
          "UK"
         ],
         "xaxis": "x2",
         "y": [
          40,
          40
         ],
         "yaxis": "y2"
        },
        {
         "alignmentgroup": "True",
         "hovertemplate": "Sentiment= Enthusiasm    <br>Platform=Twitter<br>Country=%{x}<br>Likes=%{y}<extra></extra>",
         "legendgroup": " Enthusiasm    ",
         "marker": {
          "color": "#636efa",
          "pattern": {
           "shape": ""
          }
         },
         "name": " Enthusiasm    ",
         "offsetgroup": " Enthusiasm    ",
         "orientation": "v",
         "showlegend": true,
         "textposition": "auto",
         "type": "bar",
         "x": [
          "India"
         ],
         "xaxis": "x",
         "y": [
          60
         ],
         "yaxis": "y"
        },
        {
         "alignmentgroup": "True",
         "hovertemplate": "Sentiment= Enthusiasm    <br>Platform=Instagram<br>Country=%{x}<br>Likes=%{y}<extra></extra>",
         "legendgroup": " Enthusiasm    ",
         "marker": {
          "color": "#636efa",
          "pattern": {
           "shape": ""
          }
         },
         "name": " Enthusiasm    ",
         "offsetgroup": " Enthusiasm    ",
         "orientation": "v",
         "showlegend": false,
         "textposition": "auto",
         "type": "bar",
         "x": [
          "USA",
          "USA"
         ],
         "xaxis": "x2",
         "y": [
          30,
          30
         ],
         "yaxis": "y2"
        },
        {
         "alignmentgroup": "True",
         "hovertemplate": "Sentiment= Enthusiasm    <br>Platform=Facebook<br>Country=%{x}<br>Likes=%{y}<extra></extra>",
         "legendgroup": " Enthusiasm    ",
         "marker": {
          "color": "#636efa",
          "pattern": {
           "shape": ""
          }
         },
         "name": " Enthusiasm    ",
         "offsetgroup": " Enthusiasm    ",
         "orientation": "v",
         "showlegend": false,
         "textposition": "auto",
         "type": "bar",
         "x": [
          "Canada",
          "Australia"
         ],
         "xaxis": "x3",
         "y": [
          30,
          30
         ],
         "yaxis": "y3"
        },
        {
         "alignmentgroup": "True",
         "hovertemplate": "Sentiment= Fulfillment  <br>Platform=Twitter<br>Country=%{x}<br>Likes=%{y}<extra></extra>",
         "legendgroup": " Fulfillment  ",
         "marker": {
          "color": "#EF553B",
          "pattern": {
           "shape": ""
          }
         },
         "name": " Fulfillment  ",
         "offsetgroup": " Fulfillment  ",
         "orientation": "v",
         "showlegend": true,
         "textposition": "auto",
         "type": "bar",
         "x": [
          "India"
         ],
         "xaxis": "x",
         "y": [
          45
         ],
         "yaxis": "y"
        },
        {
         "alignmentgroup": "True",
         "hovertemplate": "Sentiment= Fulfillment  <br>Platform=Facebook<br>Country=%{x}<br>Likes=%{y}<extra></extra>",
         "legendgroup": " Fulfillment  ",
         "marker": {
          "color": "#EF553B",
          "pattern": {
           "shape": ""
          }
         },
         "name": " Fulfillment  ",
         "offsetgroup": " Fulfillment  ",
         "orientation": "v",
         "showlegend": false,
         "textposition": "auto",
         "type": "bar",
         "x": [
          "India"
         ],
         "xaxis": "x3",
         "y": [
          45
         ],
         "yaxis": "y3"
        },
        {
         "alignmentgroup": "True",
         "hovertemplate": "Sentiment= Reverence     <br>Platform=Twitter<br>Country=%{x}<br>Likes=%{y}<extra></extra>",
         "legendgroup": " Reverence     ",
         "marker": {
          "color": "#00cc96",
          "pattern": {
           "shape": ""
          }
         },
         "name": " Reverence     ",
         "offsetgroup": " Reverence     ",
         "orientation": "v",
         "showlegend": true,
         "textposition": "auto",
         "type": "bar",
         "x": [
          "UK"
         ],
         "xaxis": "x",
         "y": [
          35
         ],
         "yaxis": "y"
        },
        {
         "alignmentgroup": "True",
         "hovertemplate": "Sentiment= Reverence     <br>Platform=Instagram<br>Country=%{x}<br>Likes=%{y}<extra></extra>",
         "legendgroup": " Reverence     ",
         "marker": {
          "color": "#00cc96",
          "pattern": {
           "shape": ""
          }
         },
         "name": " Reverence     ",
         "offsetgroup": " Reverence     ",
         "orientation": "v",
         "showlegend": false,
         "textposition": "auto",
         "type": "bar",
         "x": [
          "UK"
         ],
         "xaxis": "x2",
         "y": [
          35
         ],
         "yaxis": "y2"
        },
        {
         "alignmentgroup": "True",
         "hovertemplate": "Sentiment= Compassion<br>Platform=Instagram<br>Country=%{x}<br>Likes=%{y}<extra></extra>",
         "legendgroup": " Compassion",
         "marker": {
          "color": "#ab63fa",
          "pattern": {
           "shape": ""
          }
         },
         "name": " Compassion",
         "offsetgroup": " Compassion",
         "orientation": "v",
         "showlegend": true,
         "textposition": "auto",
         "type": "bar",
         "x": [
          "Australia"
         ],
         "xaxis": "x2",
         "y": [
          35
         ],
         "yaxis": "y2"
        },
        {
         "alignmentgroup": "True",
         "hovertemplate": "Sentiment= Fulfillment   <br>Platform=Twitter<br>Country=%{x}<br>Likes=%{y}<extra></extra>",
         "legendgroup": " Fulfillment   ",
         "marker": {
          "color": "#FFA15A",
          "pattern": {
           "shape": ""
          }
         },
         "name": " Fulfillment   ",
         "offsetgroup": " Fulfillment   ",
         "orientation": "v",
         "showlegend": true,
         "textposition": "auto",
         "type": "bar",
         "x": [
          "India"
         ],
         "xaxis": "x",
         "y": [
          45
         ],
         "yaxis": "y"
        },
        {
         "alignmentgroup": "True",
         "hovertemplate": "Sentiment= Fulfillment   <br>Platform=Facebook<br>Country=%{x}<br>Likes=%{y}<extra></extra>",
         "legendgroup": " Fulfillment   ",
         "marker": {
          "color": "#FFA15A",
          "pattern": {
           "shape": ""
          }
         },
         "name": " Fulfillment   ",
         "offsetgroup": " Fulfillment   ",
         "orientation": "v",
         "showlegend": false,
         "textposition": "auto",
         "type": "bar",
         "x": [
          "Canada"
         ],
         "xaxis": "x3",
         "y": [
          45
         ],
         "yaxis": "y3"
        },
        {
         "alignmentgroup": "True",
         "hovertemplate": "Sentiment= Reverence <br>Platform=Twitter<br>Country=%{x}<br>Likes=%{y}<extra></extra>",
         "legendgroup": " Reverence ",
         "marker": {
          "color": "#19d3f3",
          "pattern": {
           "shape": ""
          }
         },
         "name": " Reverence ",
         "offsetgroup": " Reverence ",
         "orientation": "v",
         "showlegend": true,
         "textposition": "auto",
         "type": "bar",
         "x": [
          "Australia"
         ],
         "xaxis": "x",
         "y": [
          35
         ],
         "yaxis": "y"
        },
        {
         "alignmentgroup": "True",
         "hovertemplate": "Sentiment= Reverence <br>Platform=Instagram<br>Country=%{x}<br>Likes=%{y}<extra></extra>",
         "legendgroup": " Reverence ",
         "marker": {
          "color": "#19d3f3",
          "pattern": {
           "shape": ""
          }
         },
         "name": " Reverence ",
         "offsetgroup": " Reverence ",
         "orientation": "v",
         "showlegend": false,
         "textposition": "auto",
         "type": "bar",
         "x": [
          "USA"
         ],
         "xaxis": "x2",
         "y": [
          35
         ],
         "yaxis": "y2"
        },
        {
         "alignmentgroup": "True",
         "hovertemplate": "Sentiment= Elation   <br>Platform=Facebook<br>Country=%{x}<br>Likes=%{y}<extra></extra>",
         "legendgroup": " Elation   ",
         "marker": {
          "color": "#FF6692",
          "pattern": {
           "shape": ""
          }
         },
         "name": " Elation   ",
         "offsetgroup": " Elation   ",
         "orientation": "v",
         "showlegend": true,
         "textposition": "auto",
         "type": "bar",
         "x": [
          "Canada"
         ],
         "xaxis": "x3",
         "y": [
          50
         ],
         "yaxis": "y3"
        },
        {
         "alignmentgroup": "True",
         "hovertemplate": "Sentiment= Despair         <br>Platform=Twitter<br>Country=%{x}<br>Likes=%{y}<extra></extra>",
         "legendgroup": " Despair         ",
         "marker": {
          "color": "#B6E880",
          "pattern": {
           "shape": ""
          }
         },
         "name": " Despair         ",
         "offsetgroup": " Despair         ",
         "orientation": "v",
         "showlegend": true,
         "textposition": "auto",
         "type": "bar",
         "x": [
          "USA"
         ],
         "xaxis": "x",
         "y": [
          10
         ],
         "yaxis": "y"
        },
        {
         "alignmentgroup": "True",
         "hovertemplate": "Sentiment= Despair         <br>Platform=Facebook<br>Country=%{x}<br>Likes=%{y}<extra></extra>",
         "legendgroup": " Despair         ",
         "marker": {
          "color": "#B6E880",
          "pattern": {
           "shape": ""
          }
         },
         "name": " Despair         ",
         "offsetgroup": " Despair         ",
         "orientation": "v",
         "showlegend": false,
         "textposition": "auto",
         "type": "bar",
         "x": [
          "India"
         ],
         "xaxis": "x3",
         "y": [
          20
         ],
         "yaxis": "y3"
        },
        {
         "alignmentgroup": "True",
         "hovertemplate": "Sentiment= Grief           <br>Platform=Twitter<br>Country=%{x}<br>Likes=%{y}<extra></extra>",
         "legendgroup": " Grief           ",
         "marker": {
          "color": "#FF97FF",
          "pattern": {
           "shape": ""
          }
         },
         "name": " Grief           ",
         "offsetgroup": " Grief           ",
         "orientation": "v",
         "showlegend": true,
         "textposition": "auto",
         "type": "bar",
         "x": [
          "Canada"
         ],
         "xaxis": "x",
         "y": [
          25
         ],
         "yaxis": "y"
        },
        {
         "alignmentgroup": "True",
         "hovertemplate": "Sentiment= Grief           <br>Platform=Instagram<br>Country=%{x}<br>Likes=%{y}<extra></extra>",
         "legendgroup": " Grief           ",
         "marker": {
          "color": "#FF97FF",
          "pattern": {
           "shape": ""
          }
         },
         "name": " Grief           ",
         "offsetgroup": " Grief           ",
         "orientation": "v",
         "showlegend": false,
         "textposition": "auto",
         "type": "bar",
         "x": [
          "Canada"
         ],
         "xaxis": "x2",
         "y": [
          15
         ],
         "yaxis": "y2"
        },
        {
         "alignmentgroup": "True",
         "hovertemplate": "Sentiment= Grief           <br>Platform=Facebook<br>Country=%{x}<br>Likes=%{y}<extra></extra>",
         "legendgroup": " Grief           ",
         "marker": {
          "color": "#FF97FF",
          "pattern": {
           "shape": ""
          }
         },
         "name": " Grief           ",
         "offsetgroup": " Grief           ",
         "orientation": "v",
         "showlegend": false,
         "textposition": "auto",
         "type": "bar",
         "x": [
          "Canada"
         ],
         "xaxis": "x3",
         "y": [
          25
         ],
         "yaxis": "y3"
        },
        {
         "alignmentgroup": "True",
         "hovertemplate": "Sentiment= Loneliness      <br>Platform=Facebook<br>Country=%{x}<br>Likes=%{y}<extra></extra>",
         "legendgroup": " Loneliness      ",
         "marker": {
          "color": "#FECB52",
          "pattern": {
           "shape": ""
          }
         },
         "name": " Loneliness      ",
         "offsetgroup": " Loneliness      ",
         "orientation": "v",
         "showlegend": true,
         "textposition": "auto",
         "type": "bar",
         "x": [
          "UK"
         ],
         "xaxis": "x3",
         "y": [
          20
         ],
         "yaxis": "y3"
        },
        {
         "alignmentgroup": "True",
         "hovertemplate": "Sentiment= Jealousy        <br>Platform=Twitter<br>Country=%{x}<br>Likes=%{y}<extra></extra>",
         "legendgroup": " Jealousy        ",
         "marker": {
          "color": "#636efa",
          "pattern": {
           "shape": ""
          }
         },
         "name": " Jealousy        ",
         "offsetgroup": " Jealousy        ",
         "orientation": "v",
         "showlegend": true,
         "textposition": "auto",
         "type": "bar",
         "x": [
          "India"
         ],
         "xaxis": "x",
         "y": [
          25
         ],
         "yaxis": "y"
        },
        {
         "alignmentgroup": "True",
         "hovertemplate": "Sentiment= Jealousy        <br>Platform=Instagram<br>Country=%{x}<br>Likes=%{y}<extra></extra>",
         "legendgroup": " Jealousy        ",
         "marker": {
          "color": "#636efa",
          "pattern": {
           "shape": ""
          }
         },
         "name": " Jealousy        ",
         "offsetgroup": " Jealousy        ",
         "orientation": "v",
         "showlegend": false,
         "textposition": "auto",
         "type": "bar",
         "x": [
          "India"
         ],
         "xaxis": "x2",
         "y": [
          15
         ],
         "yaxis": "y2"
        },
        {
         "alignmentgroup": "True",
         "hovertemplate": "Sentiment= Resentment      <br>Platform=Twitter<br>Country=%{x}<br>Likes=%{y}<extra></extra>",
         "legendgroup": " Resentment      ",
         "marker": {
          "color": "#EF553B",
          "pattern": {
           "shape": ""
          }
         },
         "name": " Resentment      ",
         "offsetgroup": " Resentment      ",
         "orientation": "v",
         "showlegend": true,
         "textposition": "auto",
         "type": "bar",
         "x": [
          "India"
         ],
         "xaxis": "x",
         "y": [
          20
         ],
         "yaxis": "y"
        },
        {
         "alignmentgroup": "True",
         "hovertemplate": "Sentiment= Resentment      <br>Platform=Instagram<br>Country=%{x}<br>Likes=%{y}<extra></extra>",
         "legendgroup": " Resentment      ",
         "marker": {
          "color": "#EF553B",
          "pattern": {
           "shape": ""
          }
         },
         "name": " Resentment      ",
         "offsetgroup": " Resentment      ",
         "orientation": "v",
         "showlegend": false,
         "textposition": "auto",
         "type": "bar",
         "x": [
          "Australia"
         ],
         "xaxis": "x2",
         "y": [
          15
         ],
         "yaxis": "y2"
        },
        {
         "alignmentgroup": "True",
         "hovertemplate": "Sentiment= Resentment      <br>Platform=Facebook<br>Country=%{x}<br>Likes=%{y}<extra></extra>",
         "legendgroup": " Resentment      ",
         "marker": {
          "color": "#EF553B",
          "pattern": {
           "shape": ""
          }
         },
         "name": " Resentment      ",
         "offsetgroup": " Resentment      ",
         "orientation": "v",
         "showlegend": false,
         "textposition": "auto",
         "type": "bar",
         "x": [
          "Australia"
         ],
         "xaxis": "x3",
         "y": [
          20
         ],
         "yaxis": "y3"
        },
        {
         "alignmentgroup": "True",
         "hovertemplate": "Sentiment= Frustration     <br>Platform=Instagram<br>Country=%{x}<br>Likes=%{y}<extra></extra>",
         "legendgroup": " Frustration     ",
         "marker": {
          "color": "#00cc96",
          "pattern": {
           "shape": ""
          }
         },
         "name": " Frustration     ",
         "offsetgroup": " Frustration     ",
         "orientation": "v",
         "showlegend": true,
         "textposition": "auto",
         "type": "bar",
         "x": [
          "UK"
         ],
         "xaxis": "x2",
         "y": [
          25
         ],
         "yaxis": "y2"
        },
        {
         "alignmentgroup": "True",
         "hovertemplate": "Sentiment= Frustration     <br>Platform=Facebook<br>Country=%{x}<br>Likes=%{y}<extra></extra>",
         "legendgroup": " Frustration     ",
         "marker": {
          "color": "#00cc96",
          "pattern": {
           "shape": ""
          }
         },
         "name": " Frustration     ",
         "offsetgroup": " Frustration     ",
         "orientation": "v",
         "showlegend": false,
         "textposition": "auto",
         "type": "bar",
         "x": [
          "USA"
         ],
         "xaxis": "x3",
         "y": [
          20
         ],
         "yaxis": "y3"
        },
        {
         "alignmentgroup": "True",
         "hovertemplate": "Sentiment= Boredom         <br>Platform=Twitter<br>Country=%{x}<br>Likes=%{y}<extra></extra>",
         "legendgroup": " Boredom         ",
         "marker": {
          "color": "#ab63fa",
          "pattern": {
           "shape": ""
          }
         },
         "name": " Boredom         ",
         "offsetgroup": " Boredom         ",
         "orientation": "v",
         "showlegend": true,
         "textposition": "auto",
         "type": "bar",
         "x": [
          "Canada"
         ],
         "xaxis": "x",
         "y": [
          15
         ],
         "yaxis": "y"
        },
        {
         "alignmentgroup": "True",
         "hovertemplate": "Sentiment= Boredom         <br>Platform=Instagram<br>Country=%{x}<br>Likes=%{y}<extra></extra>",
         "legendgroup": " Boredom         ",
         "marker": {
          "color": "#ab63fa",
          "pattern": {
           "shape": ""
          }
         },
         "name": " Boredom         ",
         "offsetgroup": " Boredom         ",
         "orientation": "v",
         "showlegend": false,
         "textposition": "auto",
         "type": "bar",
         "x": [
          "Canada"
         ],
         "xaxis": "x2",
         "y": [
          15
         ],
         "yaxis": "y2"
        },
        {
         "alignmentgroup": "True",
         "hovertemplate": "Sentiment= Boredom         <br>Platform=Facebook<br>Country=%{x}<br>Likes=%{y}<extra></extra>",
         "legendgroup": " Boredom         ",
         "marker": {
          "color": "#ab63fa",
          "pattern": {
           "shape": ""
          }
         },
         "name": " Boredom         ",
         "offsetgroup": " Boredom         ",
         "orientation": "v",
         "showlegend": false,
         "textposition": "auto",
         "type": "bar",
         "x": [
          "Canada"
         ],
         "xaxis": "x3",
         "y": [
          15
         ],
         "yaxis": "y3"
        },
        {
         "alignmentgroup": "True",
         "hovertemplate": "Sentiment= Anxiety         <br>Platform=Instagram<br>Country=%{x}<br>Likes=%{y}<extra></extra>",
         "legendgroup": " Anxiety         ",
         "marker": {
          "color": "#FFA15A",
          "pattern": {
           "shape": ""
          }
         },
         "name": " Anxiety         ",
         "offsetgroup": " Anxiety         ",
         "orientation": "v",
         "showlegend": true,
         "textposition": "auto",
         "type": "bar",
         "x": [
          "UK"
         ],
         "xaxis": "x2",
         "y": [
          25
         ],
         "yaxis": "y2"
        },
        {
         "alignmentgroup": "True",
         "hovertemplate": "Sentiment= Intimidation    <br>Platform=Facebook<br>Country=%{x}<br>Likes=%{y}<extra></extra>",
         "legendgroup": " Intimidation    ",
         "marker": {
          "color": "#19d3f3",
          "pattern": {
           "shape": ""
          }
         },
         "name": " Intimidation    ",
         "offsetgroup": " Intimidation    ",
         "orientation": "v",
         "showlegend": true,
         "textposition": "auto",
         "type": "bar",
         "x": [
          "India"
         ],
         "xaxis": "x3",
         "y": [
          30
         ],
         "yaxis": "y3"
        },
        {
         "alignmentgroup": "True",
         "hovertemplate": "Sentiment= Helplessness    <br>Platform=Twitter<br>Country=%{x}<br>Likes=%{y}<extra></extra>",
         "legendgroup": " Helplessness    ",
         "marker": {
          "color": "#FF6692",
          "pattern": {
           "shape": ""
          }
         },
         "name": " Helplessness    ",
         "offsetgroup": " Helplessness    ",
         "orientation": "v",
         "showlegend": true,
         "textposition": "auto",
         "type": "bar",
         "x": [
          "Australia"
         ],
         "xaxis": "x",
         "y": [
          15
         ],
         "yaxis": "y"
        },
        {
         "alignmentgroup": "True",
         "hovertemplate": "Sentiment= Envy            <br>Platform=Instagram<br>Country=%{x}<br>Likes=%{y}<extra></extra>",
         "legendgroup": " Envy            ",
         "marker": {
          "color": "#B6E880",
          "pattern": {
           "shape": ""
          }
         },
         "name": " Envy            ",
         "offsetgroup": " Envy            ",
         "orientation": "v",
         "showlegend": true,
         "textposition": "auto",
         "type": "bar",
         "x": [
          "Canada"
         ],
         "xaxis": "x2",
         "y": [
          20
         ],
         "yaxis": "y2"
        },
        {
         "alignmentgroup": "True",
         "hovertemplate": "Sentiment= Envy            <br>Platform=Facebook<br>Country=%{x}<br>Likes=%{y}<extra></extra>",
         "legendgroup": " Envy            ",
         "marker": {
          "color": "#B6E880",
          "pattern": {
           "shape": ""
          }
         },
         "name": " Envy            ",
         "offsetgroup": " Envy            ",
         "orientation": "v",
         "showlegend": false,
         "textposition": "auto",
         "type": "bar",
         "x": [
          "Canada"
         ],
         "xaxis": "x3",
         "y": [
          20
         ],
         "yaxis": "y3"
        },
        {
         "alignmentgroup": "True",
         "hovertemplate": "Sentiment= Regret         <br>Platform=Twitter<br>Country=%{x}<br>Likes=%{y}<extra></extra>",
         "legendgroup": " Regret         ",
         "marker": {
          "color": "#FF97FF",
          "pattern": {
           "shape": ""
          }
         },
         "name": " Regret         ",
         "offsetgroup": " Regret         ",
         "orientation": "v",
         "showlegend": true,
         "textposition": "auto",
         "type": "bar",
         "x": [
          "USA"
         ],
         "xaxis": "x",
         "y": [
          25
         ],
         "yaxis": "y"
        },
        {
         "alignmentgroup": "True",
         "hovertemplate": "Sentiment= Regret         <br>Platform=Facebook<br>Country=%{x}<br>Likes=%{y}<extra></extra>",
         "legendgroup": " Regret         ",
         "marker": {
          "color": "#FF97FF",
          "pattern": {
           "shape": ""
          }
         },
         "name": " Regret         ",
         "offsetgroup": " Regret         ",
         "orientation": "v",
         "showlegend": false,
         "textposition": "auto",
         "type": "bar",
         "x": [
          "UK"
         ],
         "xaxis": "x3",
         "y": [
          25
         ],
         "yaxis": "y3"
        },
        {
         "alignmentgroup": "True",
         "hovertemplate": "Sentiment= Disgust         <br>Platform=Twitter<br>Country=%{x}<br>Likes=%{y}<extra></extra>",
         "legendgroup": " Disgust         ",
         "marker": {
          "color": "#FECB52",
          "pattern": {
           "shape": ""
          }
         },
         "name": " Disgust         ",
         "offsetgroup": " Disgust         ",
         "orientation": "v",
         "showlegend": true,
         "textposition": "auto",
         "type": "bar",
         "x": [
          "India"
         ],
         "xaxis": "x",
         "y": [
          15
         ],
         "yaxis": "y"
        },
        {
         "alignmentgroup": "True",
         "hovertemplate": "Sentiment= Disgust         <br>Platform=Instagram<br>Country=%{x}<br>Likes=%{y}<extra></extra>",
         "legendgroup": " Disgust         ",
         "marker": {
          "color": "#FECB52",
          "pattern": {
           "shape": ""
          }
         },
         "name": " Disgust         ",
         "offsetgroup": " Disgust         ",
         "orientation": "v",
         "showlegend": false,
         "textposition": "auto",
         "type": "bar",
         "x": [
          "UK"
         ],
         "xaxis": "x2",
         "y": [
          15
         ],
         "yaxis": "y2"
        },
        {
         "alignmentgroup": "True",
         "hovertemplate": "Sentiment= Despair      <br>Platform=Instagram<br>Country=%{x}<br>Likes=%{y}<extra></extra>",
         "legendgroup": " Despair      ",
         "marker": {
          "color": "#636efa",
          "pattern": {
           "shape": ""
          }
         },
         "name": " Despair      ",
         "offsetgroup": " Despair      ",
         "orientation": "v",
         "showlegend": true,
         "textposition": "auto",
         "type": "bar",
         "x": [
          "USA"
         ],
         "xaxis": "x2",
         "y": [
          20
         ],
         "yaxis": "y2"
        },
        {
         "alignmentgroup": "True",
         "hovertemplate": "Sentiment= Loneliness <br>Platform=Twitter<br>Country=%{x}<br>Likes=%{y}<extra></extra>",
         "legendgroup": " Loneliness ",
         "marker": {
          "color": "#EF553B",
          "pattern": {
           "shape": ""
          }
         },
         "name": " Loneliness ",
         "offsetgroup": " Loneliness ",
         "orientation": "v",
         "showlegend": true,
         "textposition": "auto",
         "type": "bar",
         "x": [
          "UK",
          "USA",
          "UK"
         ],
         "xaxis": "x",
         "y": [
          30,
          30,
          45
         ],
         "yaxis": "y"
        },
        {
         "alignmentgroup": "True",
         "hovertemplate": "Sentiment= Loneliness <br>Platform=Instagram<br>Country=%{x}<br>Likes=%{y}<extra></extra>",
         "legendgroup": " Loneliness ",
         "marker": {
          "color": "#EF553B",
          "pattern": {
           "shape": ""
          }
         },
         "name": " Loneliness ",
         "offsetgroup": " Loneliness ",
         "orientation": "v",
         "showlegend": false,
         "textposition": "auto",
         "type": "bar",
         "x": [
          "Australia",
          "USA"
         ],
         "xaxis": "x2",
         "y": [
          30,
          36
         ],
         "yaxis": "y2"
        },
        {
         "alignmentgroup": "True",
         "hovertemplate": "Sentiment= Loneliness <br>Platform=Facebook<br>Country=%{x}<br>Likes=%{y}<extra></extra>",
         "legendgroup": " Loneliness ",
         "marker": {
          "color": "#EF553B",
          "pattern": {
           "shape": ""
          }
         },
         "name": " Loneliness ",
         "offsetgroup": " Loneliness ",
         "orientation": "v",
         "showlegend": false,
         "textposition": "auto",
         "type": "bar",
         "x": [
          "Australia",
          "Australia"
         ],
         "xaxis": "x3",
         "y": [
          36,
          36
         ],
         "yaxis": "y3"
        },
        {
         "alignmentgroup": "True",
         "hovertemplate": "Sentiment= Frustration <br>Platform=Twitter<br>Country=%{x}<br>Likes=%{y}<extra></extra>",
         "legendgroup": " Frustration ",
         "marker": {
          "color": "#00cc96",
          "pattern": {
           "shape": ""
          }
         },
         "name": " Frustration ",
         "offsetgroup": " Frustration ",
         "orientation": "v",
         "showlegend": true,
         "textposition": "auto",
         "type": "bar",
         "x": [
          "USA",
          "USA"
         ],
         "xaxis": "x",
         "y": [
          25,
          40
         ],
         "yaxis": "y"
        },
        {
         "alignmentgroup": "True",
         "hovertemplate": "Sentiment= Frustration <br>Platform=Instagram<br>Country=%{x}<br>Likes=%{y}<extra></extra>",
         "legendgroup": " Frustration ",
         "marker": {
          "color": "#00cc96",
          "pattern": {
           "shape": ""
          }
         },
         "name": " Frustration ",
         "offsetgroup": " Frustration ",
         "orientation": "v",
         "showlegend": false,
         "textposition": "auto",
         "type": "bar",
         "x": [
          "USA",
          "UK"
         ],
         "xaxis": "x2",
         "y": [
          70,
          55
         ],
         "yaxis": "y2"
        },
        {
         "alignmentgroup": "True",
         "hovertemplate": "Sentiment= Anxiety   <br>Platform=Facebook<br>Country=%{x}<br>Likes=%{y}<extra></extra>",
         "legendgroup": " Anxiety   ",
         "marker": {
          "color": "#ab63fa",
          "pattern": {
           "shape": ""
          }
         },
         "name": " Anxiety   ",
         "offsetgroup": " Anxiety   ",
         "orientation": "v",
         "showlegend": true,
         "textposition": "auto",
         "type": "bar",
         "x": [
          "UK"
         ],
         "xaxis": "x3",
         "y": [
          20
         ],
         "yaxis": "y3"
        },
        {
         "alignmentgroup": "True",
         "hovertemplate": "Sentiment= Intimidation <br>Platform=Twitter<br>Country=%{x}<br>Likes=%{y}<extra></extra>",
         "legendgroup": " Intimidation ",
         "marker": {
          "color": "#FFA15A",
          "pattern": {
           "shape": ""
          }
         },
         "name": " Intimidation ",
         "offsetgroup": " Intimidation ",
         "orientation": "v",
         "showlegend": true,
         "textposition": "auto",
         "type": "bar",
         "x": [
          "India"
         ],
         "xaxis": "x",
         "y": [
          30
         ],
         "yaxis": "y"
        },
        {
         "alignmentgroup": "True",
         "hovertemplate": "Sentiment= Helplessness <br>Platform=Instagram<br>Country=%{x}<br>Likes=%{y}<extra></extra>",
         "legendgroup": " Helplessness ",
         "marker": {
          "color": "#19d3f3",
          "pattern": {
           "shape": ""
          }
         },
         "name": " Helplessness ",
         "offsetgroup": " Helplessness ",
         "orientation": "v",
         "showlegend": true,
         "textposition": "auto",
         "type": "bar",
         "x": [
          "Australia"
         ],
         "xaxis": "x2",
         "y": [
          15
         ],
         "yaxis": "y2"
        },
        {
         "alignmentgroup": "True",
         "hovertemplate": "Sentiment= Jealousy    <br>Platform=Facebook<br>Country=%{x}<br>Likes=%{y}<extra></extra>",
         "legendgroup": " Jealousy    ",
         "marker": {
          "color": "#FF6692",
          "pattern": {
           "shape": ""
          }
         },
         "name": " Jealousy    ",
         "offsetgroup": " Jealousy    ",
         "orientation": "v",
         "showlegend": true,
         "textposition": "auto",
         "type": "bar",
         "x": [
          "USA"
         ],
         "xaxis": "x3",
         "y": [
          15
         ],
         "yaxis": "y3"
        },
        {
         "alignmentgroup": "True",
         "hovertemplate": "Sentiment= Curiosity       <br>Platform=Twitter<br>Country=%{x}<br>Likes=%{y}<extra></extra>",
         "legendgroup": " Curiosity       ",
         "marker": {
          "color": "#B6E880",
          "pattern": {
           "shape": ""
          }
         },
         "name": " Curiosity       ",
         "offsetgroup": " Curiosity       ",
         "orientation": "v",
         "showlegend": true,
         "textposition": "auto",
         "type": "bar",
         "x": [
          "USA"
         ],
         "xaxis": "x",
         "y": [
          30
         ],
         "yaxis": "y"
        },
        {
         "alignmentgroup": "True",
         "hovertemplate": "Sentiment= Curiosity       <br>Platform=Instagram<br>Country=%{x}<br>Likes=%{y}<extra></extra>",
         "legendgroup": " Curiosity       ",
         "marker": {
          "color": "#B6E880",
          "pattern": {
           "shape": ""
          }
         },
         "name": " Curiosity       ",
         "offsetgroup": " Curiosity       ",
         "orientation": "v",
         "showlegend": false,
         "textposition": "auto",
         "type": "bar",
         "x": [
          "USA",
          "UK"
         ],
         "xaxis": "x2",
         "y": [
          40,
          45
         ],
         "yaxis": "y2"
        },
        {
         "alignmentgroup": "True",
         "hovertemplate": "Sentiment= Curiosity       <br>Platform=Facebook<br>Country=%{x}<br>Likes=%{y}<extra></extra>",
         "legendgroup": " Curiosity       ",
         "marker": {
          "color": "#B6E880",
          "pattern": {
           "shape": ""
          }
         },
         "name": " Curiosity       ",
         "offsetgroup": " Curiosity       ",
         "orientation": "v",
         "showlegend": false,
         "textposition": "auto",
         "type": "bar",
         "x": [
          "India",
          "India"
         ],
         "xaxis": "x3",
         "y": [
          45,
          44
         ],
         "yaxis": "y3"
        },
        {
         "alignmentgroup": "True",
         "hovertemplate": "Sentiment= Indifference    <br>Platform=Twitter<br>Country=%{x}<br>Likes=%{y}<extra></extra>",
         "legendgroup": " Indifference    ",
         "marker": {
          "color": "#FF97FF",
          "pattern": {
           "shape": ""
          }
         },
         "name": " Indifference    ",
         "offsetgroup": " Indifference    ",
         "orientation": "v",
         "showlegend": true,
         "textposition": "auto",
         "type": "bar",
         "x": [
          "UK"
         ],
         "xaxis": "x",
         "y": [
          18
         ],
         "yaxis": "y"
        },
        {
         "alignmentgroup": "True",
         "hovertemplate": "Sentiment= Indifference    <br>Platform=Instagram<br>Country=%{x}<br>Likes=%{y}<extra></extra>",
         "legendgroup": " Indifference    ",
         "marker": {
          "color": "#FF97FF",
          "pattern": {
           "shape": ""
          }
         },
         "name": " Indifference    ",
         "offsetgroup": " Indifference    ",
         "orientation": "v",
         "showlegend": false,
         "textposition": "auto",
         "type": "bar",
         "x": [
          "Canada",
          "India"
         ],
         "xaxis": "x2",
         "y": [
          15,
          18
         ],
         "yaxis": "y2"
        },
        {
         "alignmentgroup": "True",
         "hovertemplate": "Sentiment= Indifference    <br>Platform=Facebook<br>Country=%{x}<br>Likes=%{y}<extra></extra>",
         "legendgroup": " Indifference    ",
         "marker": {
          "color": "#FF97FF",
          "pattern": {
           "shape": ""
          }
         },
         "name": " Indifference    ",
         "offsetgroup": " Indifference    ",
         "orientation": "v",
         "showlegend": false,
         "textposition": "auto",
         "type": "bar",
         "x": [
          "Canada",
          "India"
         ],
         "xaxis": "x3",
         "y": [
          20,
          18
         ],
         "yaxis": "y3"
        },
        {
         "alignmentgroup": "True",
         "hovertemplate": "Sentiment= Confusion       <br>Platform=Twitter<br>Country=%{x}<br>Likes=%{y}<extra></extra>",
         "legendgroup": " Confusion       ",
         "marker": {
          "color": "#FECB52",
          "pattern": {
           "shape": ""
          }
         },
         "name": " Confusion       ",
         "offsetgroup": " Confusion       ",
         "orientation": "v",
         "showlegend": true,
         "textposition": "auto",
         "type": "bar",
         "x": [
          "UK",
          "Australia"
         ],
         "xaxis": "x",
         "y": [
          30,
          28
         ],
         "yaxis": "y"
        },
        {
         "alignmentgroup": "True",
         "hovertemplate": "Sentiment= Confusion       <br>Platform=Instagram<br>Country=%{x}<br>Likes=%{y}<extra></extra>",
         "legendgroup": " Confusion       ",
         "marker": {
          "color": "#FECB52",
          "pattern": {
           "shape": ""
          }
         },
         "name": " Confusion       ",
         "offsetgroup": " Confusion       ",
         "orientation": "v",
         "showlegend": false,
         "textposition": "auto",
         "type": "bar",
         "x": [
          "Australia"
         ],
         "xaxis": "x2",
         "y": [
          28
         ],
         "yaxis": "y2"
        },
        {
         "alignmentgroup": "True",
         "hovertemplate": "Sentiment= Confusion       <br>Platform=Facebook<br>Country=%{x}<br>Likes=%{y}<extra></extra>",
         "legendgroup": " Confusion       ",
         "marker": {
          "color": "#FECB52",
          "pattern": {
           "shape": ""
          }
         },
         "name": " Confusion       ",
         "offsetgroup": " Confusion       ",
         "orientation": "v",
         "showlegend": false,
         "textposition": "auto",
         "type": "bar",
         "x": [
          "UK",
          "Australia"
         ],
         "xaxis": "x3",
         "y": [
          20,
          28
         ],
         "yaxis": "y3"
        },
        {
         "alignmentgroup": "True",
         "hovertemplate": "Sentiment= Numbness        <br>Platform=Twitter<br>Country=%{x}<br>Likes=%{y}<extra></extra>",
         "legendgroup": " Numbness        ",
         "marker": {
          "color": "#636efa",
          "pattern": {
           "shape": ""
          }
         },
         "name": " Numbness        ",
         "offsetgroup": " Numbness        ",
         "orientation": "v",
         "showlegend": true,
         "textposition": "auto",
         "type": "bar",
         "x": [
          "India",
          "UK"
         ],
         "xaxis": "x",
         "y": [
          15,
          22
         ],
         "yaxis": "y"
        },
        {
         "alignmentgroup": "True",
         "hovertemplate": "Sentiment= Numbness        <br>Platform=Instagram<br>Country=%{x}<br>Likes=%{y}<extra></extra>",
         "legendgroup": " Numbness        ",
         "marker": {
          "color": "#636efa",
          "pattern": {
           "shape": ""
          }
         },
         "name": " Numbness        ",
         "offsetgroup": " Numbness        ",
         "orientation": "v",
         "showlegend": false,
         "textposition": "auto",
         "type": "bar",
         "x": [
          "Australia",
          "Canada"
         ],
         "xaxis": "x2",
         "y": [
          15,
          20
         ],
         "yaxis": "y2"
        },
        {
         "alignmentgroup": "True",
         "hovertemplate": "Sentiment= Numbness        <br>Platform=Facebook<br>Country=%{x}<br>Likes=%{y}<extra></extra>",
         "legendgroup": " Numbness        ",
         "marker": {
          "color": "#636efa",
          "pattern": {
           "shape": ""
          }
         },
         "name": " Numbness        ",
         "offsetgroup": " Numbness        ",
         "orientation": "v",
         "showlegend": false,
         "textposition": "auto",
         "type": "bar",
         "x": [
          "USA"
         ],
         "xaxis": "x3",
         "y": [
          20
         ],
         "yaxis": "y3"
        },
        {
         "alignmentgroup": "True",
         "hovertemplate": "Sentiment= Melancholy      <br>Platform=Twitter<br>Country=%{x}<br>Likes=%{y}<extra></extra>",
         "legendgroup": " Melancholy      ",
         "marker": {
          "color": "#EF553B",
          "pattern": {
           "shape": ""
          }
         },
         "name": " Melancholy      ",
         "offsetgroup": " Melancholy      ",
         "orientation": "v",
         "showlegend": true,
         "textposition": "auto",
         "type": "bar",
         "x": [
          "Canada"
         ],
         "xaxis": "x",
         "y": [
          26
         ],
         "yaxis": "y"
        },
        {
         "alignmentgroup": "True",
         "hovertemplate": "Sentiment= Melancholy      <br>Platform=Instagram<br>Country=%{x}<br>Likes=%{y}<extra></extra>",
         "legendgroup": " Melancholy      ",
         "marker": {
          "color": "#EF553B",
          "pattern": {
           "shape": ""
          }
         },
         "name": " Melancholy      ",
         "offsetgroup": " Melancholy      ",
         "orientation": "v",
         "showlegend": false,
         "textposition": "auto",
         "type": "bar",
         "x": [
          "Australia",
          "USA"
         ],
         "xaxis": "x2",
         "y": [
          25,
          26
         ],
         "yaxis": "y2"
        },
        {
         "alignmentgroup": "True",
         "hovertemplate": "Sentiment= Melancholy      <br>Platform=Facebook<br>Country=%{x}<br>Likes=%{y}<extra></extra>",
         "legendgroup": " Melancholy      ",
         "marker": {
          "color": "#EF553B",
          "pattern": {
           "shape": ""
          }
         },
         "name": " Melancholy      ",
         "offsetgroup": " Melancholy      ",
         "orientation": "v",
         "showlegend": false,
         "textposition": "auto",
         "type": "bar",
         "x": [
          "India",
          "UK"
         ],
         "xaxis": "x3",
         "y": [
          25,
          26
         ],
         "yaxis": "y3"
        },
        {
         "alignmentgroup": "True",
         "hovertemplate": "Sentiment= Nostalgia       <br>Platform=Twitter<br>Country=%{x}<br>Likes=%{y}<extra></extra>",
         "legendgroup": " Nostalgia       ",
         "marker": {
          "color": "#00cc96",
          "pattern": {
           "shape": ""
          }
         },
         "name": " Nostalgia       ",
         "offsetgroup": " Nostalgia       ",
         "orientation": "v",
         "showlegend": true,
         "textposition": "auto",
         "type": "bar",
         "x": [
          "Canada",
          "USA"
         ],
         "xaxis": "x",
         "y": [
          20,
          25
         ],
         "yaxis": "y"
        },
        {
         "alignmentgroup": "True",
         "hovertemplate": "Sentiment= Nostalgia       <br>Platform=Instagram<br>Country=%{x}<br>Likes=%{y}<extra></extra>",
         "legendgroup": " Nostalgia       ",
         "marker": {
          "color": "#00cc96",
          "pattern": {
           "shape": ""
          }
         },
         "name": " Nostalgia       ",
         "offsetgroup": " Nostalgia       ",
         "orientation": "v",
         "showlegend": false,
         "textposition": "auto",
         "type": "bar",
         "x": [
          "India"
         ],
         "xaxis": "x2",
         "y": [
          25
         ],
         "yaxis": "y2"
        },
        {
         "alignmentgroup": "True",
         "hovertemplate": "Sentiment= Nostalgia       <br>Platform=Facebook<br>Country=%{x}<br>Likes=%{y}<extra></extra>",
         "legendgroup": " Nostalgia       ",
         "marker": {
          "color": "#00cc96",
          "pattern": {
           "shape": ""
          }
         },
         "name": " Nostalgia       ",
         "offsetgroup": " Nostalgia       ",
         "orientation": "v",
         "showlegend": false,
         "textposition": "auto",
         "type": "bar",
         "x": [
          "USA",
          "Canada"
         ],
         "xaxis": "x3",
         "y": [
          20,
          25
         ],
         "yaxis": "y3"
        },
        {
         "alignmentgroup": "True",
         "hovertemplate": "Sentiment= Ambivalence     <br>Platform=Twitter<br>Country=%{x}<br>Likes=%{y}<extra></extra>",
         "legendgroup": " Ambivalence     ",
         "marker": {
          "color": "#ab63fa",
          "pattern": {
           "shape": ""
          }
         },
         "name": " Ambivalence     ",
         "offsetgroup": " Ambivalence     ",
         "orientation": "v",
         "showlegend": true,
         "textposition": "auto",
         "type": "bar",
         "x": [
          "Canada",
          "India"
         ],
         "xaxis": "x",
         "y": [
          25,
          30
         ],
         "yaxis": "y"
        },
        {
         "alignmentgroup": "True",
         "hovertemplate": "Sentiment= Ambivalence     <br>Platform=Instagram<br>Country=%{x}<br>Likes=%{y}<extra></extra>",
         "legendgroup": " Ambivalence     ",
         "marker": {
          "color": "#ab63fa",
          "pattern": {
           "shape": ""
          }
         },
         "name": " Ambivalence     ",
         "offsetgroup": " Ambivalence     ",
         "orientation": "v",
         "showlegend": false,
         "textposition": "auto",
         "type": "bar",
         "x": [
          "UK",
          "Canada"
         ],
         "xaxis": "x2",
         "y": [
          25,
          30
         ],
         "yaxis": "y2"
        },
        {
         "alignmentgroup": "True",
         "hovertemplate": "Sentiment= Ambivalence     <br>Platform=Facebook<br>Country=%{x}<br>Likes=%{y}<extra></extra>",
         "legendgroup": " Ambivalence     ",
         "marker": {
          "color": "#ab63fa",
          "pattern": {
           "shape": ""
          }
         },
         "name": " Ambivalence     ",
         "offsetgroup": " Ambivalence     ",
         "orientation": "v",
         "showlegend": false,
         "textposition": "auto",
         "type": "bar",
         "x": [
          "Australia"
         ],
         "xaxis": "x3",
         "y": [
          30
         ],
         "yaxis": "y3"
        },
        {
         "alignmentgroup": "True",
         "hovertemplate": "Sentiment= Acceptance      <br>Platform=Twitter<br>Country=%{x}<br>Likes=%{y}<extra></extra>",
         "legendgroup": " Acceptance      ",
         "marker": {
          "color": "#FFA15A",
          "pattern": {
           "shape": ""
          }
         },
         "name": " Acceptance      ",
         "offsetgroup": " Acceptance      ",
         "orientation": "v",
         "showlegend": true,
         "textposition": "auto",
         "type": "bar",
         "x": [
          "Canada"
         ],
         "xaxis": "x",
         "y": [
          36
         ],
         "yaxis": "y"
        },
        {
         "alignmentgroup": "True",
         "hovertemplate": "Sentiment= Acceptance      <br>Platform=Instagram<br>Country=%{x}<br>Likes=%{y}<extra></extra>",
         "legendgroup": " Acceptance      ",
         "marker": {
          "color": "#FFA15A",
          "pattern": {
           "shape": ""
          }
         },
         "name": " Acceptance      ",
         "offsetgroup": " Acceptance      ",
         "orientation": "v",
         "showlegend": false,
         "textposition": "auto",
         "type": "bar",
         "x": [
          "UK",
          "Australia"
         ],
         "xaxis": "x2",
         "y": [
          30,
          36
         ],
         "yaxis": "y2"
        },
        {
         "alignmentgroup": "True",
         "hovertemplate": "Sentiment= Acceptance      <br>Platform=Facebook<br>Country=%{x}<br>Likes=%{y}<extra></extra>",
         "legendgroup": " Acceptance      ",
         "marker": {
          "color": "#FFA15A",
          "pattern": {
           "shape": ""
          }
         },
         "name": " Acceptance      ",
         "offsetgroup": " Acceptance      ",
         "orientation": "v",
         "showlegend": false,
         "textposition": "auto",
         "type": "bar",
         "x": [
          "Australia",
          "Australia"
         ],
         "xaxis": "x3",
         "y": [
          30,
          36
         ],
         "yaxis": "y3"
        },
        {
         "alignmentgroup": "True",
         "hovertemplate": "Sentiment= Determination   <br>Platform=Twitter<br>Country=%{x}<br>Likes=%{y}<extra></extra>",
         "legendgroup": " Determination   ",
         "marker": {
          "color": "#19d3f3",
          "pattern": {
           "shape": ""
          }
         },
         "name": " Determination   ",
         "offsetgroup": " Determination   ",
         "orientation": "v",
         "showlegend": true,
         "textposition": "auto",
         "type": "bar",
         "x": [
          "USA",
          "UK"
         ],
         "xaxis": "x",
         "y": [
          35,
          40
         ],
         "yaxis": "y"
        },
        {
         "alignmentgroup": "True",
         "hovertemplate": "Sentiment= Determination   <br>Platform=Instagram<br>Country=%{x}<br>Likes=%{y}<extra></extra>",
         "legendgroup": " Determination   ",
         "marker": {
          "color": "#19d3f3",
          "pattern": {
           "shape": ""
          }
         },
         "name": " Determination   ",
         "offsetgroup": " Determination   ",
         "orientation": "v",
         "showlegend": false,
         "textposition": "auto",
         "type": "bar",
         "x": [
          "UK"
         ],
         "xaxis": "x2",
         "y": [
          40
         ],
         "yaxis": "y2"
        },
        {
         "alignmentgroup": "True",
         "hovertemplate": "Sentiment= Determination   <br>Platform=Facebook<br>Country=%{x}<br>Likes=%{y}<extra></extra>",
         "legendgroup": " Determination   ",
         "marker": {
          "color": "#19d3f3",
          "pattern": {
           "shape": ""
          }
         },
         "name": " Determination   ",
         "offsetgroup": " Determination   ",
         "orientation": "v",
         "showlegend": false,
         "textposition": "auto",
         "type": "bar",
         "x": [
          "India",
          "USA"
         ],
         "xaxis": "x3",
         "y": [
          20,
          40
         ],
         "yaxis": "y3"
        },
        {
         "alignmentgroup": "True",
         "hovertemplate": "Sentiment= Serenity        <br>Platform=Twitter<br>Country=%{x}<br>Likes=%{y}<extra></extra>",
         "legendgroup": " Serenity        ",
         "marker": {
          "color": "#FF6692",
          "pattern": {
           "shape": ""
          }
         },
         "name": " Serenity        ",
         "offsetgroup": " Serenity        ",
         "orientation": "v",
         "showlegend": true,
         "textposition": "auto",
         "type": "bar",
         "x": [
          "Australia",
          "Canada"
         ],
         "xaxis": "x",
         "y": [
          25,
          50
         ],
         "yaxis": "y"
        },
        {
         "alignmentgroup": "True",
         "hovertemplate": "Sentiment= Serenity        <br>Platform=Instagram<br>Country=%{x}<br>Likes=%{y}<extra></extra>",
         "legendgroup": " Serenity        ",
         "marker": {
          "color": "#FF6692",
          "pattern": {
           "shape": ""
          }
         },
         "name": " Serenity        ",
         "offsetgroup": " Serenity        ",
         "orientation": "v",
         "showlegend": false,
         "textposition": "auto",
         "type": "bar",
         "x": [
          "Canada",
          "USA"
         ],
         "xaxis": "x2",
         "y": [
          50,
          50
         ],
         "yaxis": "y2"
        },
        {
         "alignmentgroup": "True",
         "hovertemplate": "Sentiment= Serenity        <br>Platform=Facebook<br>Country=%{x}<br>Likes=%{y}<extra></extra>",
         "legendgroup": " Serenity        ",
         "marker": {
          "color": "#FF6692",
          "pattern": {
           "shape": ""
          }
         },
         "name": " Serenity        ",
         "offsetgroup": " Serenity        ",
         "orientation": "v",
         "showlegend": false,
         "textposition": "auto",
         "type": "bar",
         "x": [
          "USA"
         ],
         "xaxis": "x3",
         "y": [
          50
         ],
         "yaxis": "y3"
        },
        {
         "alignmentgroup": "True",
         "hovertemplate": "Sentiment= Numbness <br>Platform=Instagram<br>Country=%{x}<br>Likes=%{y}<extra></extra>",
         "legendgroup": " Numbness ",
         "marker": {
          "color": "#B6E880",
          "pattern": {
           "shape": ""
          }
         },
         "name": " Numbness ",
         "offsetgroup": " Numbness ",
         "orientation": "v",
         "showlegend": true,
         "textposition": "auto",
         "type": "bar",
         "x": [
          "Canada"
         ],
         "xaxis": "x2",
         "y": [
          20
         ],
         "yaxis": "y2"
        },
        {
         "alignmentgroup": "True",
         "hovertemplate": "Sentiment= Zest <br>Platform=Twitter<br>Country=%{x}<br>Likes=%{y}<extra></extra>",
         "legendgroup": " Zest ",
         "marker": {
          "color": "#FF97FF",
          "pattern": {
           "shape": ""
          }
         },
         "name": " Zest ",
         "offsetgroup": " Zest ",
         "orientation": "v",
         "showlegend": true,
         "textposition": "auto",
         "type": "bar",
         "x": [
          "USA"
         ],
         "xaxis": "x",
         "y": [
          30
         ],
         "yaxis": "y"
        },
        {
         "alignmentgroup": "True",
         "hovertemplate": "Sentiment= Zest <br>Platform=Instagram<br>Country=%{x}<br>Likes=%{y}<extra></extra>",
         "legendgroup": " Zest ",
         "marker": {
          "color": "#FF97FF",
          "pattern": {
           "shape": ""
          }
         },
         "name": " Zest ",
         "offsetgroup": " Zest ",
         "orientation": "v",
         "showlegend": false,
         "textposition": "auto",
         "type": "bar",
         "x": [
          "India"
         ],
         "xaxis": "x2",
         "y": [
          32
         ],
         "yaxis": "y2"
        },
        {
         "alignmentgroup": "True",
         "hovertemplate": "Sentiment= Contentment <br>Platform=Twitter<br>Country=%{x}<br>Likes=%{y}<extra></extra>",
         "legendgroup": " Contentment ",
         "marker": {
          "color": "#FECB52",
          "pattern": {
           "shape": ""
          }
         },
         "name": " Contentment ",
         "offsetgroup": " Contentment ",
         "orientation": "v",
         "showlegend": true,
         "textposition": "auto",
         "type": "bar",
         "x": [
          "UK",
          "UK",
          "USA",
          "Canada"
         ],
         "xaxis": "x",
         "y": [
          55,
          35,
          40,
          60
         ],
         "yaxis": "y"
        },
        {
         "alignmentgroup": "True",
         "hovertemplate": "Sentiment= Contentment <br>Platform=Instagram<br>Country=%{x}<br>Likes=%{y}<extra></extra>",
         "legendgroup": " Contentment ",
         "marker": {
          "color": "#FECB52",
          "pattern": {
           "shape": ""
          }
         },
         "name": " Contentment ",
         "offsetgroup": " Contentment ",
         "orientation": "v",
         "showlegend": false,
         "textposition": "auto",
         "type": "bar",
         "x": [
          "Canada",
          "Canada",
          "France",
          "USA",
          "USA",
          "UK",
          "USA"
         ],
         "xaxis": "x2",
         "y": [
          40,
          40,
          55,
          70,
          50,
          55,
          70
         ],
         "yaxis": "y2"
        },
        {
         "alignmentgroup": "True",
         "hovertemplate": "Sentiment= Contentment <br>Platform=Facebook<br>Country=%{x}<br>Likes=%{y}<extra></extra>",
         "legendgroup": " Contentment ",
         "marker": {
          "color": "#FECB52",
          "pattern": {
           "shape": ""
          }
         },
         "name": " Contentment ",
         "offsetgroup": " Contentment ",
         "orientation": "v",
         "showlegend": false,
         "textposition": "auto",
         "type": "bar",
         "x": [
          "Australia",
          "UK",
          "USA"
         ],
         "xaxis": "x3",
         "y": [
          36,
          50,
          50
         ],
         "yaxis": "y3"
        },
        {
         "alignmentgroup": "True",
         "hovertemplate": "Sentiment= Hopeful <br>Platform=Twitter<br>Country=%{x}<br>Likes=%{y}<extra></extra>",
         "legendgroup": " Hopeful ",
         "marker": {
          "color": "#636efa",
          "pattern": {
           "shape": ""
          }
         },
         "name": " Hopeful ",
         "offsetgroup": " Hopeful ",
         "orientation": "v",
         "showlegend": true,
         "textposition": "auto",
         "type": "bar",
         "x": [
          "India",
          "Australia",
          "India",
          "Australia"
         ],
         "xaxis": "x",
         "y": [
          30,
          34,
          30,
          34
         ],
         "yaxis": "y"
        },
        {
         "alignmentgroup": "True",
         "hovertemplate": "Sentiment= Hopeful <br>Platform=Instagram<br>Country=%{x}<br>Likes=%{y}<extra></extra>",
         "legendgroup": " Hopeful ",
         "marker": {
          "color": "#636efa",
          "pattern": {
           "shape": ""
          }
         },
         "name": " Hopeful ",
         "offsetgroup": " Hopeful ",
         "orientation": "v",
         "showlegend": false,
         "textposition": "auto",
         "type": "bar",
         "x": [
          "India",
          "UK",
          "UK",
          "India"
         ],
         "xaxis": "x2",
         "y": [
          24,
          28,
          28,
          28
         ],
         "yaxis": "y2"
        },
        {
         "alignmentgroup": "True",
         "hovertemplate": "Sentiment= Hopeful <br>Platform=Facebook<br>Country=%{x}<br>Likes=%{y}<extra></extra>",
         "legendgroup": " Hopeful ",
         "marker": {
          "color": "#636efa",
          "pattern": {
           "shape": ""
          }
         },
         "name": " Hopeful ",
         "offsetgroup": " Hopeful ",
         "orientation": "v",
         "showlegend": false,
         "textposition": "auto",
         "type": "bar",
         "x": [
          "USA"
         ],
         "xaxis": "x3",
         "y": [
          24
         ],
         "yaxis": "y3"
        },
        {
         "alignmentgroup": "True",
         "hovertemplate": "Sentiment= Proud <br>Platform=Twitter<br>Country=%{x}<br>Likes=%{y}<extra></extra>",
         "legendgroup": " Proud ",
         "marker": {
          "color": "#EF553B",
          "pattern": {
           "shape": ""
          }
         },
         "name": " Proud ",
         "offsetgroup": " Proud ",
         "orientation": "v",
         "showlegend": true,
         "textposition": "auto",
         "type": "bar",
         "x": [
          "Canada",
          "USA",
          "USA",
          "USA"
         ],
         "xaxis": "x",
         "y": [
          50,
          46,
          46,
          46
         ],
         "yaxis": "y"
        },
        {
         "alignmentgroup": "True",
         "hovertemplate": "Sentiment= Grateful <br>Platform=Twitter<br>Country=%{x}<br>Likes=%{y}<extra></extra>",
         "legendgroup": " Grateful ",
         "marker": {
          "color": "#00cc96",
          "pattern": {
           "shape": ""
          }
         },
         "name": " Grateful ",
         "offsetgroup": " Grateful ",
         "orientation": "v",
         "showlegend": true,
         "textposition": "auto",
         "type": "bar",
         "x": [
          "Australia"
         ],
         "xaxis": "x",
         "y": [
          38
         ],
         "yaxis": "y"
        },
        {
         "alignmentgroup": "True",
         "hovertemplate": "Sentiment= Grateful <br>Platform=Instagram<br>Country=%{x}<br>Likes=%{y}<extra></extra>",
         "legendgroup": " Grateful ",
         "marker": {
          "color": "#00cc96",
          "pattern": {
           "shape": ""
          }
         },
         "name": " Grateful ",
         "offsetgroup": " Grateful ",
         "orientation": "v",
         "showlegend": false,
         "textposition": "auto",
         "type": "bar",
         "x": [
          "Australia",
          "Australia"
         ],
         "xaxis": "x2",
         "y": [
          38,
          38
         ],
         "yaxis": "y2"
        },
        {
         "alignmentgroup": "True",
         "hovertemplate": "Sentiment= Grateful <br>Platform=Facebook<br>Country=%{x}<br>Likes=%{y}<extra></extra>",
         "legendgroup": " Grateful ",
         "marker": {
          "color": "#00cc96",
          "pattern": {
           "shape": ""
          }
         },
         "name": " Grateful ",
         "offsetgroup": " Grateful ",
         "orientation": "v",
         "showlegend": false,
         "textposition": "auto",
         "type": "bar",
         "x": [
          "USA"
         ],
         "xaxis": "x3",
         "y": [
          40
         ],
         "yaxis": "y3"
        },
        {
         "alignmentgroup": "True",
         "hovertemplate": "Sentiment= Empathetic <br>Platform=Instagram<br>Country=%{x}<br>Likes=%{y}<extra></extra>",
         "legendgroup": " Empathetic ",
         "marker": {
          "color": "#ab63fa",
          "pattern": {
           "shape": ""
          }
         },
         "name": " Empathetic ",
         "offsetgroup": " Empathetic ",
         "orientation": "v",
         "showlegend": true,
         "textposition": "auto",
         "type": "bar",
         "x": [
          "UK"
         ],
         "xaxis": "x2",
         "y": [
          30
         ],
         "yaxis": "y2"
        },
        {
         "alignmentgroup": "True",
         "hovertemplate": "Sentiment= Empathetic <br>Platform=Facebook<br>Country=%{x}<br>Likes=%{y}<extra></extra>",
         "legendgroup": " Empathetic ",
         "marker": {
          "color": "#ab63fa",
          "pattern": {
           "shape": ""
          }
         },
         "name": " Empathetic ",
         "offsetgroup": " Empathetic ",
         "orientation": "v",
         "showlegend": false,
         "textposition": "auto",
         "type": "bar",
         "x": [
          "USA",
          "USA"
         ],
         "xaxis": "x3",
         "y": [
          32,
          32
         ],
         "yaxis": "y3"
        },
        {
         "alignmentgroup": "True",
         "hovertemplate": "Sentiment= Compassionate <br>Platform=Twitter<br>Country=%{x}<br>Likes=%{y}<extra></extra>",
         "legendgroup": " Compassionate ",
         "marker": {
          "color": "#FFA15A",
          "pattern": {
           "shape": ""
          }
         },
         "name": " Compassionate ",
         "offsetgroup": " Compassionate ",
         "orientation": "v",
         "showlegend": true,
         "textposition": "auto",
         "type": "bar",
         "x": [
          "Australia"
         ],
         "xaxis": "x",
         "y": [
          36
         ],
         "yaxis": "y"
        },
        {
         "alignmentgroup": "True",
         "hovertemplate": "Sentiment= Compassionate <br>Platform=Instagram<br>Country=%{x}<br>Likes=%{y}<extra></extra>",
         "legendgroup": " Compassionate ",
         "marker": {
          "color": "#FFA15A",
          "pattern": {
           "shape": ""
          }
         },
         "name": " Compassionate ",
         "offsetgroup": " Compassionate ",
         "orientation": "v",
         "showlegend": false,
         "textposition": "auto",
         "type": "bar",
         "x": [
          "Canada",
          "Canada"
         ],
         "xaxis": "x2",
         "y": [
          42,
          42
         ],
         "yaxis": "y2"
        },
        {
         "alignmentgroup": "True",
         "hovertemplate": "Sentiment= Compassionate <br>Platform=Facebook<br>Country=%{x}<br>Likes=%{y}<extra></extra>",
         "legendgroup": " Compassionate ",
         "marker": {
          "color": "#FFA15A",
          "pattern": {
           "shape": ""
          }
         },
         "name": " Compassionate ",
         "offsetgroup": " Compassionate ",
         "orientation": "v",
         "showlegend": false,
         "textposition": "auto",
         "type": "bar",
         "x": [
          "Canada"
         ],
         "xaxis": "x3",
         "y": [
          42
         ],
         "yaxis": "y3"
        },
        {
         "alignmentgroup": "True",
         "hovertemplate": "Sentiment= Playful <br>Platform=Instagram<br>Country=%{x}<br>Likes=%{y}<extra></extra>",
         "legendgroup": " Playful ",
         "marker": {
          "color": "#19d3f3",
          "pattern": {
           "shape": ""
          }
         },
         "name": " Playful ",
         "offsetgroup": " Playful ",
         "orientation": "v",
         "showlegend": true,
         "textposition": "auto",
         "type": "bar",
         "x": [
          "USA",
          "USA"
         ],
         "xaxis": "x2",
         "y": [
          50,
          50
         ],
         "yaxis": "y2"
        },
        {
         "alignmentgroup": "True",
         "hovertemplate": "Sentiment= Playful <br>Platform=Facebook<br>Country=%{x}<br>Likes=%{y}<extra></extra>",
         "legendgroup": " Playful ",
         "marker": {
          "color": "#19d3f3",
          "pattern": {
           "shape": ""
          }
         },
         "name": " Playful ",
         "offsetgroup": " Playful ",
         "orientation": "v",
         "showlegend": false,
         "textposition": "auto",
         "type": "bar",
         "x": [
          "Canada",
          "Australia",
          "Australia",
          "Australia"
         ],
         "xaxis": "x3",
         "y": [
          44,
          48,
          48,
          48
         ],
         "yaxis": "y3"
        },
        {
         "alignmentgroup": "True",
         "hovertemplate": "Sentiment= Free-spirited <br>Platform=Twitter<br>Country=%{x}<br>Likes=%{y}<extra></extra>",
         "legendgroup": " Free-spirited ",
         "marker": {
          "color": "#FF6692",
          "pattern": {
           "shape": ""
          }
         },
         "name": " Free-spirited ",
         "offsetgroup": " Free-spirited ",
         "orientation": "v",
         "showlegend": true,
         "textposition": "auto",
         "type": "bar",
         "x": [
          "UK",
          "UK"
         ],
         "xaxis": "x",
         "y": [
          44,
          44
         ],
         "yaxis": "y"
        },
        {
         "alignmentgroup": "True",
         "hovertemplate": "Sentiment= Free-spirited <br>Platform=Instagram<br>Country=%{x}<br>Likes=%{y}<extra></extra>",
         "legendgroup": " Free-spirited ",
         "marker": {
          "color": "#FF6692",
          "pattern": {
           "shape": ""
          }
         },
         "name": " Free-spirited ",
         "offsetgroup": " Free-spirited ",
         "orientation": "v",
         "showlegend": false,
         "textposition": "auto",
         "type": "bar",
         "x": [
          "India"
         ],
         "xaxis": "x2",
         "y": [
          40
         ],
         "yaxis": "y2"
        },
        {
         "alignmentgroup": "True",
         "hovertemplate": "Sentiment= Inspired <br>Platform=Twitter<br>Country=%{x}<br>Likes=%{y}<extra></extra>",
         "legendgroup": " Inspired ",
         "marker": {
          "color": "#B6E880",
          "pattern": {
           "shape": ""
          }
         },
         "name": " Inspired ",
         "offsetgroup": " Inspired ",
         "orientation": "v",
         "showlegend": true,
         "textposition": "auto",
         "type": "bar",
         "x": [
          "UK",
          "India",
          "India"
         ],
         "xaxis": "x",
         "y": [
          30,
          36,
          36
         ],
         "yaxis": "y"
        },
        {
         "alignmentgroup": "True",
         "hovertemplate": "Sentiment= Inspired <br>Platform=Facebook<br>Country=%{x}<br>Likes=%{y}<extra></extra>",
         "legendgroup": " Inspired ",
         "marker": {
          "color": "#B6E880",
          "pattern": {
           "shape": ""
          }
         },
         "name": " Inspired ",
         "offsetgroup": " Inspired ",
         "orientation": "v",
         "showlegend": false,
         "textposition": "auto",
         "type": "bar",
         "x": [
          "UK",
          "UK"
         ],
         "xaxis": "x3",
         "y": [
          28,
          28
         ],
         "yaxis": "y3"
        },
        {
         "alignmentgroup": "True",
         "hovertemplate": "Sentiment= Confident <br>Platform=Instagram<br>Country=%{x}<br>Likes=%{y}<extra></extra>",
         "legendgroup": " Confident ",
         "marker": {
          "color": "#FF97FF",
          "pattern": {
           "shape": ""
          }
         },
         "name": " Confident ",
         "offsetgroup": " Confident ",
         "orientation": "v",
         "showlegend": true,
         "textposition": "auto",
         "type": "bar",
         "x": [
          "Australia"
         ],
         "xaxis": "x2",
         "y": [
          50
         ],
         "yaxis": "y2"
        },
        {
         "alignmentgroup": "True",
         "hovertemplate": "Sentiment= Confident <br>Platform=Facebook<br>Country=%{x}<br>Likes=%{y}<extra></extra>",
         "legendgroup": " Confident ",
         "marker": {
          "color": "#FF97FF",
          "pattern": {
           "shape": ""
          }
         },
         "name": " Confident ",
         "offsetgroup": " Confident ",
         "orientation": "v",
         "showlegend": false,
         "textposition": "auto",
         "type": "bar",
         "x": [
          "Canada",
          "Canada"
         ],
         "xaxis": "x3",
         "y": [
          46,
          46
         ],
         "yaxis": "y3"
        },
        {
         "alignmentgroup": "True",
         "hovertemplate": "Sentiment= Serenity <br>Platform=Twitter<br>Country=%{x}<br>Likes=%{y}<extra></extra>",
         "legendgroup": " Serenity ",
         "marker": {
          "color": "#FECB52",
          "pattern": {
           "shape": ""
          }
         },
         "name": " Serenity ",
         "offsetgroup": " Serenity ",
         "orientation": "v",
         "showlegend": true,
         "textposition": "auto",
         "type": "bar",
         "x": [
          "Canada",
          "UK"
         ],
         "xaxis": "x",
         "y": [
          26,
          35
         ],
         "yaxis": "y"
        },
        {
         "alignmentgroup": "True",
         "hovertemplate": "Sentiment= Serenity <br>Platform=Facebook<br>Country=%{x}<br>Likes=%{y}<extra></extra>",
         "legendgroup": " Serenity ",
         "marker": {
          "color": "#FECB52",
          "pattern": {
           "shape": ""
          }
         },
         "name": " Serenity ",
         "offsetgroup": " Serenity ",
         "orientation": "v",
         "showlegend": false,
         "textposition": "auto",
         "type": "bar",
         "x": [
          "Greece",
          "Maldives"
         ],
         "xaxis": "x3",
         "y": [
          45,
          45
         ],
         "yaxis": "y3"
        },
        {
         "alignmentgroup": "True",
         "hovertemplate": "Sentiment= Curiosity <br>Platform=Twitter<br>Country=%{x}<br>Likes=%{y}<extra></extra>",
         "legendgroup": " Curiosity ",
         "marker": {
          "color": "#636efa",
          "pattern": {
           "shape": ""
          }
         },
         "name": " Curiosity ",
         "offsetgroup": " Curiosity ",
         "orientation": "v",
         "showlegend": true,
         "textposition": "auto",
         "type": "bar",
         "x": [
          "Canada",
          "UK",
          "UK"
         ],
         "xaxis": "x",
         "y": [
          60,
          60,
          35
         ],
         "yaxis": "y"
        },
        {
         "alignmentgroup": "True",
         "hovertemplate": "Sentiment= Curiosity <br>Platform=Instagram<br>Country=%{x}<br>Likes=%{y}<extra></extra>",
         "legendgroup": " Curiosity ",
         "marker": {
          "color": "#636efa",
          "pattern": {
           "shape": ""
          }
         },
         "name": " Curiosity ",
         "offsetgroup": " Curiosity ",
         "orientation": "v",
         "showlegend": false,
         "textposition": "auto",
         "type": "bar",
         "x": [
          "USA",
          "India",
          "UK"
         ],
         "xaxis": "x2",
         "y": [
          34,
          45,
          60
         ],
         "yaxis": "y2"
        },
        {
         "alignmentgroup": "True",
         "hovertemplate": "Sentiment= Curiosity <br>Platform=Facebook<br>Country=%{x}<br>Likes=%{y}<extra></extra>",
         "legendgroup": " Curiosity ",
         "marker": {
          "color": "#636efa",
          "pattern": {
           "shape": ""
          }
         },
         "name": " Curiosity ",
         "offsetgroup": " Curiosity ",
         "orientation": "v",
         "showlegend": false,
         "textposition": "auto",
         "type": "bar",
         "x": [
          "USA",
          "Canada"
         ],
         "xaxis": "x3",
         "y": [
          40,
          45
         ],
         "yaxis": "y3"
        },
        {
         "alignmentgroup": "True",
         "hovertemplate": "Sentiment= Ambivalence <br>Platform=Facebook<br>Country=%{x}<br>Likes=%{y}<extra></extra>",
         "legendgroup": " Ambivalence ",
         "marker": {
          "color": "#EF553B",
          "pattern": {
           "shape": ""
          }
         },
         "name": " Ambivalence ",
         "offsetgroup": " Ambivalence ",
         "orientation": "v",
         "showlegend": true,
         "textposition": "auto",
         "type": "bar",
         "x": [
          "UK"
         ],
         "xaxis": "x3",
         "y": [
          28
         ],
         "yaxis": "y3"
        },
        {
         "alignmentgroup": "True",
         "hovertemplate": "Sentiment= Despair <br>Platform=Twitter<br>Country=%{x}<br>Likes=%{y}<extra></extra>",
         "legendgroup": " Despair ",
         "marker": {
          "color": "#00cc96",
          "pattern": {
           "shape": ""
          }
         },
         "name": " Despair ",
         "offsetgroup": " Despair ",
         "orientation": "v",
         "showlegend": true,
         "textposition": "auto",
         "type": "bar",
         "x": [
          "USA",
          "Spain"
         ],
         "xaxis": "x",
         "y": [
          40,
          45
         ],
         "yaxis": "y"
        },
        {
         "alignmentgroup": "True",
         "hovertemplate": "Sentiment= Despair <br>Platform=Instagram<br>Country=%{x}<br>Likes=%{y}<extra></extra>",
         "legendgroup": " Despair ",
         "marker": {
          "color": "#00cc96",
          "pattern": {
           "shape": ""
          }
         },
         "name": " Despair ",
         "offsetgroup": " Despair ",
         "orientation": "v",
         "showlegend": false,
         "textposition": "auto",
         "type": "bar",
         "x": [
          "Canada"
         ],
         "xaxis": "x2",
         "y": [
          16
         ],
         "yaxis": "y2"
        },
        {
         "alignmentgroup": "True",
         "hovertemplate": "Sentiment= Despair <br>Platform=Facebook<br>Country=%{x}<br>Likes=%{y}<extra></extra>",
         "legendgroup": " Despair ",
         "marker": {
          "color": "#00cc96",
          "pattern": {
           "shape": ""
          }
         },
         "name": " Despair ",
         "offsetgroup": " Despair ",
         "orientation": "v",
         "showlegend": false,
         "textposition": "auto",
         "type": "bar",
         "x": [
          "Canada",
          "Australia",
          "India"
         ],
         "xaxis": "x3",
         "y": [
          16,
          55,
          35
         ],
         "yaxis": "y3"
        },
        {
         "alignmentgroup": "True",
         "hovertemplate": "Sentiment= Bitterness <br>Platform=Twitter<br>Country=%{x}<br>Likes=%{y}<extra></extra>",
         "legendgroup": " Bitterness ",
         "marker": {
          "color": "#ab63fa",
          "pattern": {
           "shape": ""
          }
         },
         "name": " Bitterness ",
         "offsetgroup": " Bitterness ",
         "orientation": "v",
         "showlegend": true,
         "textposition": "auto",
         "type": "bar",
         "x": [
          "UK"
         ],
         "xaxis": "x",
         "y": [
          30
         ],
         "yaxis": "y"
        },
        {
         "alignmentgroup": "True",
         "hovertemplate": "Sentiment= Bitterness <br>Platform=Instagram<br>Country=%{x}<br>Likes=%{y}<extra></extra>",
         "legendgroup": " Bitterness ",
         "marker": {
          "color": "#ab63fa",
          "pattern": {
           "shape": ""
          }
         },
         "name": " Bitterness ",
         "offsetgroup": " Bitterness ",
         "orientation": "v",
         "showlegend": false,
         "textposition": "auto",
         "type": "bar",
         "x": [
          "India",
          "Germany"
         ],
         "xaxis": "x2",
         "y": [
          20,
          30
         ],
         "yaxis": "y2"
        },
        {
         "alignmentgroup": "True",
         "hovertemplate": "Sentiment= Bitterness <br>Platform=Facebook<br>Country=%{x}<br>Likes=%{y}<extra></extra>",
         "legendgroup": " Bitterness ",
         "marker": {
          "color": "#ab63fa",
          "pattern": {
           "shape": ""
          }
         },
         "name": " Bitterness ",
         "offsetgroup": " Bitterness ",
         "orientation": "v",
         "showlegend": false,
         "textposition": "auto",
         "type": "bar",
         "x": [
          "UK",
          "Australia"
         ],
         "xaxis": "x3",
         "y": [
          24,
          50
         ],
         "yaxis": "y3"
        },
        {
         "alignmentgroup": "True",
         "hovertemplate": "Sentiment= Yearning <br>Platform=Instagram<br>Country=%{x}<br>Likes=%{y}<extra></extra>",
         "legendgroup": " Yearning ",
         "marker": {
          "color": "#FFA15A",
          "pattern": {
           "shape": ""
          }
         },
         "name": " Yearning ",
         "offsetgroup": " Yearning ",
         "orientation": "v",
         "showlegend": true,
         "textposition": "auto",
         "type": "bar",
         "x": [
          "Australia"
         ],
         "xaxis": "x2",
         "y": [
          20
         ],
         "yaxis": "y2"
        },
        {
         "alignmentgroup": "True",
         "hovertemplate": "Sentiment= Yearning <br>Platform=Facebook<br>Country=%{x}<br>Likes=%{y}<extra></extra>",
         "legendgroup": " Yearning ",
         "marker": {
          "color": "#FFA15A",
          "pattern": {
           "shape": ""
          }
         },
         "name": " Yearning ",
         "offsetgroup": " Yearning ",
         "orientation": "v",
         "showlegend": false,
         "textposition": "auto",
         "type": "bar",
         "x": [
          "Australia"
         ],
         "xaxis": "x3",
         "y": [
          20
         ],
         "yaxis": "y3"
        },
        {
         "alignmentgroup": "True",
         "hovertemplate": "Sentiment= Fearful <br>Platform=Twitter<br>Country=%{x}<br>Likes=%{y}<extra></extra>",
         "legendgroup": " Fearful ",
         "marker": {
          "color": "#19d3f3",
          "pattern": {
           "shape": ""
          }
         },
         "name": " Fearful ",
         "offsetgroup": " Fearful ",
         "orientation": "v",
         "showlegend": true,
         "textposition": "auto",
         "type": "bar",
         "x": [
          "UK",
          "India"
         ],
         "xaxis": "x",
         "y": [
          26,
          36
         ],
         "yaxis": "y"
        },
        {
         "alignmentgroup": "True",
         "hovertemplate": "Sentiment= Fearful <br>Platform=Facebook<br>Country=%{x}<br>Likes=%{y}<extra></extra>",
         "legendgroup": " Fearful ",
         "marker": {
          "color": "#19d3f3",
          "pattern": {
           "shape": ""
          }
         },
         "name": " Fearful ",
         "offsetgroup": " Fearful ",
         "orientation": "v",
         "showlegend": false,
         "textposition": "auto",
         "type": "bar",
         "x": [
          "India"
         ],
         "xaxis": "x3",
         "y": [
          36
         ],
         "yaxis": "y3"
        },
        {
         "alignmentgroup": "True",
         "hovertemplate": "Sentiment= Apprehensive <br>Platform=Twitter<br>Country=%{x}<br>Likes=%{y}<extra></extra>",
         "legendgroup": " Apprehensive ",
         "marker": {
          "color": "#FF6692",
          "pattern": {
           "shape": ""
          }
         },
         "name": " Apprehensive ",
         "offsetgroup": " Apprehensive ",
         "orientation": "v",
         "showlegend": true,
         "textposition": "auto",
         "type": "bar",
         "x": [
          "UK"
         ],
         "xaxis": "x",
         "y": [
          28
         ],
         "yaxis": "y"
        },
        {
         "alignmentgroup": "True",
         "hovertemplate": "Sentiment= Apprehensive <br>Platform=Instagram<br>Country=%{x}<br>Likes=%{y}<extra></extra>",
         "legendgroup": " Apprehensive ",
         "marker": {
          "color": "#FF6692",
          "pattern": {
           "shape": ""
          }
         },
         "name": " Apprehensive ",
         "offsetgroup": " Apprehensive ",
         "orientation": "v",
         "showlegend": false,
         "textposition": "auto",
         "type": "bar",
         "x": [
          "Canada"
         ],
         "xaxis": "x2",
         "y": [
          28
         ],
         "yaxis": "y2"
        },
        {
         "alignmentgroup": "True",
         "hovertemplate": "Sentiment= Overwhelmed <br>Platform=Instagram<br>Country=%{x}<br>Likes=%{y}<extra></extra>",
         "legendgroup": " Overwhelmed ",
         "marker": {
          "color": "#B6E880",
          "pattern": {
           "shape": ""
          }
         },
         "name": " Overwhelmed ",
         "offsetgroup": " Overwhelmed ",
         "orientation": "v",
         "showlegend": true,
         "textposition": "auto",
         "type": "bar",
         "x": [
          "Canada"
         ],
         "xaxis": "x2",
         "y": [
          44
         ],
         "yaxis": "y2"
        },
        {
         "alignmentgroup": "True",
         "hovertemplate": "Sentiment= Overwhelmed <br>Platform=Facebook<br>Country=%{x}<br>Likes=%{y}<extra></extra>",
         "legendgroup": " Overwhelmed ",
         "marker": {
          "color": "#B6E880",
          "pattern": {
           "shape": ""
          }
         },
         "name": " Overwhelmed ",
         "offsetgroup": " Overwhelmed ",
         "orientation": "v",
         "showlegend": false,
         "textposition": "auto",
         "type": "bar",
         "x": [
          "USA",
          "USA"
         ],
         "xaxis": "x3",
         "y": [
          40,
          44
         ],
         "yaxis": "y3"
        },
        {
         "alignmentgroup": "True",
         "hovertemplate": "Sentiment= Jealous <br>Platform=Twitter<br>Country=%{x}<br>Likes=%{y}<extra></extra>",
         "legendgroup": " Jealous ",
         "marker": {
          "color": "#FF97FF",
          "pattern": {
           "shape": ""
          }
         },
         "name": " Jealous ",
         "offsetgroup": " Jealous ",
         "orientation": "v",
         "showlegend": true,
         "textposition": "auto",
         "type": "bar",
         "x": [
          "Australia",
          "UK"
         ],
         "xaxis": "x",
         "y": [
          32,
          32
         ],
         "yaxis": "y"
        },
        {
         "alignmentgroup": "True",
         "hovertemplate": "Sentiment= Jealous <br>Platform=Facebook<br>Country=%{x}<br>Likes=%{y}<extra></extra>",
         "legendgroup": " Jealous ",
         "marker": {
          "color": "#FF97FF",
          "pattern": {
           "shape": ""
          }
         },
         "name": " Jealous ",
         "offsetgroup": " Jealous ",
         "orientation": "v",
         "showlegend": false,
         "textposition": "auto",
         "type": "bar",
         "x": [
          "USA"
         ],
         "xaxis": "x3",
         "y": [
          32
         ],
         "yaxis": "y3"
        },
        {
         "alignmentgroup": "True",
         "hovertemplate": "Sentiment= Devastated <br>Platform=Twitter<br>Country=%{x}<br>Likes=%{y}<extra></extra>",
         "legendgroup": " Devastated ",
         "marker": {
          "color": "#FECB52",
          "pattern": {
           "shape": ""
          }
         },
         "name": " Devastated ",
         "offsetgroup": " Devastated ",
         "orientation": "v",
         "showlegend": true,
         "textposition": "auto",
         "type": "bar",
         "x": [
          "Australia"
         ],
         "xaxis": "x",
         "y": [
          50
         ],
         "yaxis": "y"
        },
        {
         "alignmentgroup": "True",
         "hovertemplate": "Sentiment= Devastated <br>Platform=Instagram<br>Country=%{x}<br>Likes=%{y}<extra></extra>",
         "legendgroup": " Devastated ",
         "marker": {
          "color": "#FECB52",
          "pattern": {
           "shape": ""
          }
         },
         "name": " Devastated ",
         "offsetgroup": " Devastated ",
         "orientation": "v",
         "showlegend": false,
         "textposition": "auto",
         "type": "bar",
         "x": [
          "Canada",
          "Australia"
         ],
         "xaxis": "x2",
         "y": [
          50,
          50
         ],
         "yaxis": "y2"
        },
        {
         "alignmentgroup": "True",
         "hovertemplate": "Sentiment= Frustrated <br>Platform=Twitter<br>Country=%{x}<br>Likes=%{y}<extra></extra>",
         "legendgroup": " Frustrated ",
         "marker": {
          "color": "#636efa",
          "pattern": {
           "shape": ""
          }
         },
         "name": " Frustrated ",
         "offsetgroup": " Frustrated ",
         "orientation": "v",
         "showlegend": true,
         "textposition": "auto",
         "type": "bar",
         "x": [
          "Canada"
         ],
         "xaxis": "x",
         "y": [
          30
         ],
         "yaxis": "y"
        },
        {
         "alignmentgroup": "True",
         "hovertemplate": "Sentiment= Frustrated <br>Platform=Instagram<br>Country=%{x}<br>Likes=%{y}<extra></extra>",
         "legendgroup": " Frustrated ",
         "marker": {
          "color": "#636efa",
          "pattern": {
           "shape": ""
          }
         },
         "name": " Frustrated ",
         "offsetgroup": " Frustrated ",
         "orientation": "v",
         "showlegend": false,
         "textposition": "auto",
         "type": "bar",
         "x": [
          "India",
          "Canada"
         ],
         "xaxis": "x2",
         "y": [
          24,
          30
         ],
         "yaxis": "y2"
        },
        {
         "alignmentgroup": "True",
         "hovertemplate": "Sentiment= Frustrated <br>Platform=Facebook<br>Country=%{x}<br>Likes=%{y}<extra></extra>",
         "legendgroup": " Frustrated ",
         "marker": {
          "color": "#636efa",
          "pattern": {
           "shape": ""
          }
         },
         "name": " Frustrated ",
         "offsetgroup": " Frustrated ",
         "orientation": "v",
         "showlegend": false,
         "textposition": "auto",
         "type": "bar",
         "x": [
          "UK",
          "India"
         ],
         "xaxis": "x3",
         "y": [
          28,
          28
         ],
         "yaxis": "y3"
        },
        {
         "alignmentgroup": "True",
         "hovertemplate": "Sentiment= Envious <br>Platform=Twitter<br>Country=%{x}<br>Likes=%{y}<extra></extra>",
         "legendgroup": " Envious ",
         "marker": {
          "color": "#EF553B",
          "pattern": {
           "shape": ""
          }
         },
         "name": " Envious ",
         "offsetgroup": " Envious ",
         "orientation": "v",
         "showlegend": true,
         "textposition": "auto",
         "type": "bar",
         "x": [
          "USA",
          "USA"
         ],
         "xaxis": "x",
         "y": [
          40,
          40
         ],
         "yaxis": "y"
        },
        {
         "alignmentgroup": "True",
         "hovertemplate": "Sentiment= Envious <br>Platform=Facebook<br>Country=%{x}<br>Likes=%{y}<extra></extra>",
         "legendgroup": " Envious ",
         "marker": {
          "color": "#EF553B",
          "pattern": {
           "shape": ""
          }
         },
         "name": " Envious ",
         "offsetgroup": " Envious ",
         "orientation": "v",
         "showlegend": false,
         "textposition": "auto",
         "type": "bar",
         "x": [
          "USA"
         ],
         "xaxis": "x3",
         "y": [
          40
         ],
         "yaxis": "y3"
        },
        {
         "alignmentgroup": "True",
         "hovertemplate": "Sentiment= Dismissive <br>Platform=Twitter<br>Country=%{x}<br>Likes=%{y}<extra></extra>",
         "legendgroup": " Dismissive ",
         "marker": {
          "color": "#00cc96",
          "pattern": {
           "shape": ""
          }
         },
         "name": " Dismissive ",
         "offsetgroup": " Dismissive ",
         "orientation": "v",
         "showlegend": true,
         "textposition": "auto",
         "type": "bar",
         "x": [
          "UK"
         ],
         "xaxis": "x",
         "y": [
          28
         ],
         "yaxis": "y"
        },
        {
         "alignmentgroup": "True",
         "hovertemplate": "Sentiment= Dismissive <br>Platform=Instagram<br>Country=%{x}<br>Likes=%{y}<extra></extra>",
         "legendgroup": " Dismissive ",
         "marker": {
          "color": "#00cc96",
          "pattern": {
           "shape": ""
          }
         },
         "name": " Dismissive ",
         "offsetgroup": " Dismissive ",
         "orientation": "v",
         "showlegend": false,
         "textposition": "auto",
         "type": "bar",
         "x": [
          "Australia",
          "Australia"
         ],
         "xaxis": "x2",
         "y": [
          24,
          24
         ],
         "yaxis": "y2"
        },
        {
         "alignmentgroup": "True",
         "hovertemplate": "Sentiment= Awe           <br>Platform=Instagram<br>Country=%{x}<br>Likes=%{y}<extra></extra>",
         "legendgroup": " Awe           ",
         "marker": {
          "color": "#ab63fa",
          "pattern": {
           "shape": ""
          }
         },
         "name": " Awe           ",
         "offsetgroup": " Awe           ",
         "orientation": "v",
         "showlegend": true,
         "textposition": "auto",
         "type": "bar",
         "x": [
          "USA"
         ],
         "xaxis": "x2",
         "y": [
          55
         ],
         "yaxis": "y2"
        },
        {
         "alignmentgroup": "True",
         "hovertemplate": "Sentiment= Determination <br>Platform=Twitter<br>Country=%{x}<br>Likes=%{y}<extra></extra>",
         "legendgroup": " Determination ",
         "marker": {
          "color": "#FFA15A",
          "pattern": {
           "shape": ""
          }
         },
         "name": " Determination ",
         "offsetgroup": " Determination ",
         "orientation": "v",
         "showlegend": true,
         "textposition": "auto",
         "type": "bar",
         "x": [
          "Canada"
         ],
         "xaxis": "x",
         "y": [
          30
         ],
         "yaxis": "y"
        },
        {
         "alignmentgroup": "True",
         "hovertemplate": "Sentiment= Determination <br>Platform=Facebook<br>Country=%{x}<br>Likes=%{y}<extra></extra>",
         "legendgroup": " Determination ",
         "marker": {
          "color": "#FFA15A",
          "pattern": {
           "shape": ""
          }
         },
         "name": " Determination ",
         "offsetgroup": " Determination ",
         "orientation": "v",
         "showlegend": false,
         "textposition": "auto",
         "type": "bar",
         "x": [
          "Italy"
         ],
         "xaxis": "x3",
         "y": [
          70
         ],
         "yaxis": "y3"
        },
        {
         "alignmentgroup": "True",
         "hovertemplate": "Sentiment= Nostalgia      <br>Platform=Facebook<br>Country=%{x}<br>Likes=%{y}<extra></extra>",
         "legendgroup": " Nostalgia      ",
         "marker": {
          "color": "#19d3f3",
          "pattern": {
           "shape": ""
          }
         },
         "name": " Nostalgia      ",
         "offsetgroup": " Nostalgia      ",
         "orientation": "v",
         "showlegend": true,
         "textposition": "auto",
         "type": "bar",
         "x": [
          "UK"
         ],
         "xaxis": "x3",
         "y": [
          45
         ],
         "yaxis": "y3"
        },
        {
         "alignmentgroup": "True",
         "hovertemplate": "Sentiment= Thrill        <br>Platform=Instagram<br>Country=%{x}<br>Likes=%{y}<extra></extra>",
         "legendgroup": " Thrill        ",
         "marker": {
          "color": "#FF6692",
          "pattern": {
           "shape": ""
          }
         },
         "name": " Thrill        ",
         "offsetgroup": " Thrill        ",
         "orientation": "v",
         "showlegend": true,
         "textposition": "auto",
         "type": "bar",
         "x": [
          "India"
         ],
         "xaxis": "x2",
         "y": [
          80
         ],
         "yaxis": "y2"
        },
        {
         "alignmentgroup": "True",
         "hovertemplate": "Sentiment= Calmness      <br>Platform=Twitter<br>Country=%{x}<br>Likes=%{y}<extra></extra>",
         "legendgroup": " Calmness      ",
         "marker": {
          "color": "#B6E880",
          "pattern": {
           "shape": ""
          }
         },
         "name": " Calmness      ",
         "offsetgroup": " Calmness      ",
         "orientation": "v",
         "showlegend": true,
         "textposition": "auto",
         "type": "bar",
         "x": [
          "Australia"
         ],
         "xaxis": "x",
         "y": [
          35
         ],
         "yaxis": "y"
        },
        {
         "alignmentgroup": "True",
         "hovertemplate": "Sentiment= Overwhelmed   <br>Platform=Facebook<br>Country=%{x}<br>Likes=%{y}<extra></extra>",
         "legendgroup": " Overwhelmed   ",
         "marker": {
          "color": "#FF97FF",
          "pattern": {
           "shape": ""
          }
         },
         "name": " Overwhelmed   ",
         "offsetgroup": " Overwhelmed   ",
         "orientation": "v",
         "showlegend": true,
         "textposition": "auto",
         "type": "bar",
         "x": [
          "USA"
         ],
         "xaxis": "x3",
         "y": [
          50
         ],
         "yaxis": "y3"
        },
        {
         "alignmentgroup": "True",
         "hovertemplate": "Sentiment= Gratitude   <br>Platform=Twitter<br>Country=%{x}<br>Likes=%{y}<extra></extra>",
         "legendgroup": " Gratitude   ",
         "marker": {
          "color": "#FECB52",
          "pattern": {
           "shape": ""
          }
         },
         "name": " Gratitude   ",
         "offsetgroup": " Gratitude   ",
         "orientation": "v",
         "showlegend": true,
         "textposition": "auto",
         "type": "bar",
         "x": [
          "Brazil"
         ],
         "xaxis": "x",
         "y": [
          70
         ],
         "yaxis": "y"
        },
        {
         "alignmentgroup": "True",
         "hovertemplate": "Sentiment= Bittersweet <br>Platform=Instagram<br>Country=%{x}<br>Likes=%{y}<extra></extra>",
         "legendgroup": " Bittersweet ",
         "marker": {
          "color": "#636efa",
          "pattern": {
           "shape": ""
          }
         },
         "name": " Bittersweet ",
         "offsetgroup": " Bittersweet ",
         "orientation": "v",
         "showlegend": true,
         "textposition": "auto",
         "type": "bar",
         "x": [
          "Japan"
         ],
         "xaxis": "x2",
         "y": [
          40
         ],
         "yaxis": "y2"
        },
        {
         "alignmentgroup": "True",
         "hovertemplate": "Sentiment= Curiosity     <br>Platform=Facebook<br>Country=%{x}<br>Likes=%{y}<extra></extra>",
         "legendgroup": " Curiosity     ",
         "marker": {
          "color": "#EF553B",
          "pattern": {
           "shape": ""
          }
         },
         "name": " Curiosity     ",
         "offsetgroup": " Curiosity     ",
         "orientation": "v",
         "showlegend": true,
         "textposition": "auto",
         "type": "bar",
         "x": [
          "Greece"
         ],
         "xaxis": "x3",
         "y": [
          35
         ],
         "yaxis": "y3"
        },
        {
         "alignmentgroup": "True",
         "hovertemplate": "Sentiment= Admiration    <br>Platform=Instagram<br>Country=%{x}<br>Likes=%{y}<extra></extra>",
         "legendgroup": " Admiration    ",
         "marker": {
          "color": "#00cc96",
          "pattern": {
           "shape": ""
          }
         },
         "name": " Admiration    ",
         "offsetgroup": " Admiration    ",
         "orientation": "v",
         "showlegend": true,
         "textposition": "auto",
         "type": "bar",
         "x": [
          "USA"
         ],
         "xaxis": "x2",
         "y": [
          50
         ],
         "yaxis": "y2"
        },
        {
         "alignmentgroup": "True",
         "hovertemplate": "Sentiment= Overjoyed     <br>Platform=Twitter<br>Country=%{x}<br>Likes=%{y}<extra></extra>",
         "legendgroup": " Overjoyed     ",
         "marker": {
          "color": "#ab63fa",
          "pattern": {
           "shape": ""
          }
         },
         "name": " Overjoyed     ",
         "offsetgroup": " Overjoyed     ",
         "orientation": "v",
         "showlegend": true,
         "textposition": "auto",
         "type": "bar",
         "x": [
          "Canada"
         ],
         "xaxis": "x",
         "y": [
          35
         ],
         "yaxis": "y"
        },
        {
         "alignmentgroup": "True",
         "hovertemplate": "Sentiment= Inspiration   <br>Platform=Instagram<br>Country=%{x}<br>Likes=%{y}<extra></extra>",
         "legendgroup": " Inspiration   ",
         "marker": {
          "color": "#FFA15A",
          "pattern": {
           "shape": ""
          }
         },
         "name": " Inspiration   ",
         "offsetgroup": " Inspiration   ",
         "orientation": "v",
         "showlegend": true,
         "textposition": "auto",
         "type": "bar",
         "x": [
          "UK"
         ],
         "xaxis": "x2",
         "y": [
          60
         ],
         "yaxis": "y2"
        },
        {
         "alignmentgroup": "True",
         "hovertemplate": "Sentiment= Motivation    <br>Platform=Facebook<br>Country=%{x}<br>Likes=%{y}<extra></extra>",
         "legendgroup": " Motivation    ",
         "marker": {
          "color": "#19d3f3",
          "pattern": {
           "shape": ""
          }
         },
         "name": " Motivation    ",
         "offsetgroup": " Motivation    ",
         "orientation": "v",
         "showlegend": true,
         "textposition": "auto",
         "type": "bar",
         "x": [
          "Australia"
         ],
         "xaxis": "x3",
         "y": [
          80
         ],
         "yaxis": "y3"
        },
        {
         "alignmentgroup": "True",
         "hovertemplate": "Sentiment= Amusement     <br>Platform=Facebook<br>Country=%{x}<br>Likes=%{y}<extra></extra>",
         "legendgroup": " Amusement     ",
         "marker": {
          "color": "#FF6692",
          "pattern": {
           "shape": ""
          }
         },
         "name": " Amusement     ",
         "offsetgroup": " Amusement     ",
         "orientation": "v",
         "showlegend": true,
         "textposition": "auto",
         "type": "bar",
         "x": [
          "Canada"
         ],
         "xaxis": "x3",
         "y": [
          30
         ],
         "yaxis": "y3"
        },
        {
         "alignmentgroup": "True",
         "hovertemplate": "Sentiment= Contemplation <br>Platform=Twitter<br>Country=%{x}<br>Likes=%{y}<extra></extra>",
         "legendgroup": " Contemplation ",
         "marker": {
          "color": "#B6E880",
          "pattern": {
           "shape": ""
          }
         },
         "name": " Contemplation ",
         "offsetgroup": " Contemplation ",
         "orientation": "v",
         "showlegend": true,
         "textposition": "auto",
         "type": "bar",
         "x": [
          "UK"
         ],
         "xaxis": "x",
         "y": [
          55
         ],
         "yaxis": "y"
        },
        {
         "alignmentgroup": "True",
         "hovertemplate": "Sentiment= Contemplation <br>Platform=Instagram<br>Country=%{x}<br>Likes=%{y}<extra></extra>",
         "legendgroup": " Contemplation ",
         "marker": {
          "color": "#B6E880",
          "pattern": {
           "shape": ""
          }
         },
         "name": " Contemplation ",
         "offsetgroup": " Contemplation ",
         "orientation": "v",
         "showlegend": false,
         "textposition": "auto",
         "type": "bar",
         "x": [
          "Germany"
         ],
         "xaxis": "x2",
         "y": [
          55
         ],
         "yaxis": "y2"
        },
        {
         "alignmentgroup": "True",
         "hovertemplate": "Sentiment= JoyfulReunion <br>Platform=Instagram<br>Country=%{x}<br>Likes=%{y}<extra></extra>",
         "legendgroup": " JoyfulReunion ",
         "marker": {
          "color": "#FF97FF",
          "pattern": {
           "shape": ""
          }
         },
         "name": " JoyfulReunion ",
         "offsetgroup": " JoyfulReunion ",
         "orientation": "v",
         "showlegend": true,
         "textposition": "auto",
         "type": "bar",
         "x": [
          "India"
         ],
         "xaxis": "x2",
         "y": [
          40
         ],
         "yaxis": "y2"
        },
        {
         "alignmentgroup": "True",
         "hovertemplate": "Sentiment= Excitement    <br>Platform=Facebook<br>Country=%{x}<br>Likes=%{y}<extra></extra>",
         "legendgroup": " Excitement    ",
         "marker": {
          "color": "#FECB52",
          "pattern": {
           "shape": ""
          }
         },
         "name": " Excitement    ",
         "offsetgroup": " Excitement    ",
         "orientation": "v",
         "showlegend": true,
         "textposition": "auto",
         "type": "bar",
         "x": [
          "Australia"
         ],
         "xaxis": "x3",
         "y": [
          60
         ],
         "yaxis": "y3"
        },
        {
         "alignmentgroup": "True",
         "hovertemplate": "Sentiment= Satisfaction  <br>Platform=Twitter<br>Country=%{x}<br>Likes=%{y}<extra></extra>",
         "legendgroup": " Satisfaction  ",
         "marker": {
          "color": "#636efa",
          "pattern": {
           "shape": ""
          }
         },
         "name": " Satisfaction  ",
         "offsetgroup": " Satisfaction  ",
         "orientation": "v",
         "showlegend": true,
         "textposition": "auto",
         "type": "bar",
         "x": [
          "USA"
         ],
         "xaxis": "x",
         "y": [
          50
         ],
         "yaxis": "y"
        },
        {
         "alignmentgroup": "True",
         "hovertemplate": "Sentiment= Blessed       <br>Platform=Instagram<br>Country=%{x}<br>Likes=%{y}<extra></extra>",
         "legendgroup": " Blessed       ",
         "marker": {
          "color": "#EF553B",
          "pattern": {
           "shape": ""
          }
         },
         "name": " Blessed       ",
         "offsetgroup": " Blessed       ",
         "orientation": "v",
         "showlegend": true,
         "textposition": "auto",
         "type": "bar",
         "x": [
          "UK"
         ],
         "xaxis": "x2",
         "y": [
          35
         ],
         "yaxis": "y2"
        },
        {
         "alignmentgroup": "True",
         "hovertemplate": "Sentiment= Anticipation  <br>Platform=Twitter<br>Country=%{x}<br>Likes=%{y}<extra></extra>",
         "legendgroup": " Anticipation  ",
         "marker": {
          "color": "#00cc96",
          "pattern": {
           "shape": ""
          }
         },
         "name": " Anticipation  ",
         "offsetgroup": " Anticipation  ",
         "orientation": "v",
         "showlegend": true,
         "textposition": "auto",
         "type": "bar",
         "x": [
          "India"
         ],
         "xaxis": "x",
         "y": [
          80
         ],
         "yaxis": "y"
        },
        {
         "alignmentgroup": "True",
         "hovertemplate": "Sentiment= Reflection    <br>Platform=Twitter<br>Country=%{x}<br>Likes=%{y}<extra></extra>",
         "legendgroup": " Reflection    ",
         "marker": {
          "color": "#ab63fa",
          "pattern": {
           "shape": ""
          }
         },
         "name": " Reflection    ",
         "offsetgroup": " Reflection    ",
         "orientation": "v",
         "showlegend": true,
         "textposition": "auto",
         "type": "bar",
         "x": [
          "Greece"
         ],
         "xaxis": "x",
         "y": [
          35
         ],
         "yaxis": "y"
        },
        {
         "alignmentgroup": "True",
         "hovertemplate": "Sentiment= Reflection    <br>Platform=Instagram<br>Country=%{x}<br>Likes=%{y}<extra></extra>",
         "legendgroup": " Reflection    ",
         "marker": {
          "color": "#ab63fa",
          "pattern": {
           "shape": ""
          }
         },
         "name": " Reflection    ",
         "offsetgroup": " Reflection    ",
         "orientation": "v",
         "showlegend": false,
         "textposition": "auto",
         "type": "bar",
         "x": [
          "USA"
         ],
         "xaxis": "x2",
         "y": [
          70
         ],
         "yaxis": "y2"
        },
        {
         "alignmentgroup": "True",
         "hovertemplate": "Sentiment= Nostalgia     <br>Platform=Facebook<br>Country=%{x}<br>Likes=%{y}<extra></extra>",
         "legendgroup": " Nostalgia     ",
         "marker": {
          "color": "#FFA15A",
          "pattern": {
           "shape": ""
          }
         },
         "name": " Nostalgia     ",
         "offsetgroup": " Nostalgia     ",
         "orientation": "v",
         "showlegend": true,
         "textposition": "auto",
         "type": "bar",
         "x": [
          "Australia"
         ],
         "xaxis": "x3",
         "y": [
          40
         ],
         "yaxis": "y3"
        },
        {
         "alignmentgroup": "True",
         "hovertemplate": "Sentiment= Appreciation  <br>Platform=Twitter<br>Country=%{x}<br>Likes=%{y}<extra></extra>",
         "legendgroup": " Appreciation  ",
         "marker": {
          "color": "#19d3f3",
          "pattern": {
           "shape": ""
          }
         },
         "name": " Appreciation  ",
         "offsetgroup": " Appreciation  ",
         "orientation": "v",
         "showlegend": true,
         "textposition": "auto",
         "type": "bar",
         "x": [
          "UK"
         ],
         "xaxis": "x",
         "y": [
          55
         ],
         "yaxis": "y"
        },
        {
         "alignmentgroup": "True",
         "hovertemplate": "Sentiment= Confidence    <br>Platform=Instagram<br>Country=%{x}<br>Likes=%{y}<extra></extra>",
         "legendgroup": " Confidence    ",
         "marker": {
          "color": "#FF6692",
          "pattern": {
           "shape": ""
          }
         },
         "name": " Confidence    ",
         "offsetgroup": " Confidence    ",
         "orientation": "v",
         "showlegend": true,
         "textposition": "auto",
         "type": "bar",
         "x": [
          "USA"
         ],
         "xaxis": "x2",
         "y": [
          30
         ],
         "yaxis": "y2"
        },
        {
         "alignmentgroup": "True",
         "hovertemplate": "Sentiment= Surprise      <br>Platform=Instagram<br>Country=%{x}<br>Likes=%{y}<extra></extra>",
         "legendgroup": " Surprise      ",
         "marker": {
          "color": "#B6E880",
          "pattern": {
           "shape": ""
          }
         },
         "name": " Surprise      ",
         "offsetgroup": " Surprise      ",
         "orientation": "v",
         "showlegend": true,
         "textposition": "auto",
         "type": "bar",
         "x": [
          "UK"
         ],
         "xaxis": "x2",
         "y": [
          35
         ],
         "yaxis": "y2"
        },
        {
         "alignmentgroup": "True",
         "hovertemplate": "Sentiment= Accomplishment <br>Platform=Facebook<br>Country=%{x}<br>Likes=%{y}<extra></extra>",
         "legendgroup": " Accomplishment ",
         "marker": {
          "color": "#FF97FF",
          "pattern": {
           "shape": ""
          }
         },
         "name": " Accomplishment ",
         "offsetgroup": " Accomplishment ",
         "orientation": "v",
         "showlegend": true,
         "textposition": "auto",
         "type": "bar",
         "x": [
          "Australia",
          "Germany",
          "Japan"
         ],
         "xaxis": "x3",
         "y": [
          45,
          55,
          55
         ],
         "yaxis": "y3"
        },
        {
         "alignmentgroup": "True",
         "hovertemplate": "Sentiment= Wonderment    <br>Platform=Twitter<br>Country=%{x}<br>Likes=%{y}<extra></extra>",
         "legendgroup": " Wonderment    ",
         "marker": {
          "color": "#FECB52",
          "pattern": {
           "shape": ""
          }
         },
         "name": " Wonderment    ",
         "offsetgroup": " Wonderment    ",
         "orientation": "v",
         "showlegend": true,
         "textposition": "auto",
         "type": "bar",
         "x": [
          "USA"
         ],
         "xaxis": "x",
         "y": [
          70
         ],
         "yaxis": "y"
        },
        {
         "alignmentgroup": "True",
         "hovertemplate": "Sentiment= Optimism      <br>Platform=Instagram<br>Country=%{x}<br>Likes=%{y}<extra></extra>",
         "legendgroup": " Optimism      ",
         "marker": {
          "color": "#636efa",
          "pattern": {
           "shape": ""
          }
         },
         "name": " Optimism      ",
         "offsetgroup": " Optimism      ",
         "orientation": "v",
         "showlegend": true,
         "textposition": "auto",
         "type": "bar",
         "x": [
          "Canada"
         ],
         "xaxis": "x2",
         "y": [
          40
         ],
         "yaxis": "y2"
        },
        {
         "alignmentgroup": "True",
         "hovertemplate": "Sentiment= Pride         <br>Platform=Facebook<br>Country=%{x}<br>Likes=%{y}<extra></extra>",
         "legendgroup": " Pride         ",
         "marker": {
          "color": "#EF553B",
          "pattern": {
           "shape": ""
          }
         },
         "name": " Pride         ",
         "offsetgroup": " Pride         ",
         "orientation": "v",
         "showlegend": true,
         "textposition": "auto",
         "type": "bar",
         "x": [
          "UK"
         ],
         "xaxis": "x3",
         "y": [
          55
         ],
         "yaxis": "y3"
        },
        {
         "alignmentgroup": "True",
         "hovertemplate": "Sentiment= Happiness     <br>Platform=Twitter<br>Country=%{x}<br>Likes=%{y}<extra></extra>",
         "legendgroup": " Happiness     ",
         "marker": {
          "color": "#00cc96",
          "pattern": {
           "shape": ""
          }
         },
         "name": " Happiness     ",
         "offsetgroup": " Happiness     ",
         "orientation": "v",
         "showlegend": true,
         "textposition": "auto",
         "type": "bar",
         "x": [
          "India"
         ],
         "xaxis": "x",
         "y": [
          30
         ],
         "yaxis": "y"
        },
        {
         "alignmentgroup": "True",
         "hovertemplate": "Sentiment= Curiosity   <br>Platform=Facebook<br>Country=%{x}<br>Likes=%{y}<extra></extra>",
         "legendgroup": " Curiosity   ",
         "marker": {
          "color": "#ab63fa",
          "pattern": {
           "shape": ""
          }
         },
         "name": " Curiosity   ",
         "offsetgroup": " Curiosity   ",
         "orientation": "v",
         "showlegend": true,
         "textposition": "auto",
         "type": "bar",
         "x": [
          "Australia"
         ],
         "xaxis": "x3",
         "y": [
          35
         ],
         "yaxis": "y3"
        },
        {
         "alignmentgroup": "True",
         "hovertemplate": "Sentiment= Enchantment   <br>Platform=Instagram<br>Country=%{x}<br>Likes=%{y}<extra></extra>",
         "legendgroup": " Enchantment   ",
         "marker": {
          "color": "#FFA15A",
          "pattern": {
           "shape": ""
          }
         },
         "name": " Enchantment   ",
         "offsetgroup": " Enchantment   ",
         "orientation": "v",
         "showlegend": true,
         "textposition": "auto",
         "type": "bar",
         "x": [
          "Brazil",
          "Brazil"
         ],
         "xaxis": "x2",
         "y": [
          50,
          50
         ],
         "yaxis": "y2"
        },
        {
         "alignmentgroup": "True",
         "hovertemplate": "Sentiment= Intrigue      <br>Platform=Twitter<br>Country=%{x}<br>Likes=%{y}<extra></extra>",
         "legendgroup": " Intrigue      ",
         "marker": {
          "color": "#19d3f3",
          "pattern": {
           "shape": ""
          }
         },
         "name": " Intrigue      ",
         "offsetgroup": " Intrigue      ",
         "orientation": "v",
         "showlegend": true,
         "textposition": "auto",
         "type": "bar",
         "x": [
          "France"
         ],
         "xaxis": "x",
         "y": [
          35
         ],
         "yaxis": "y"
        },
        {
         "alignmentgroup": "True",
         "hovertemplate": "Sentiment= PlayfulJoy    <br>Platform=Facebook<br>Country=%{x}<br>Likes=%{y}<extra></extra>",
         "legendgroup": " PlayfulJoy    ",
         "marker": {
          "color": "#FF6692",
          "pattern": {
           "shape": ""
          }
         },
         "name": " PlayfulJoy    ",
         "offsetgroup": " PlayfulJoy    ",
         "orientation": "v",
         "showlegend": true,
         "textposition": "auto",
         "type": "bar",
         "x": [
          "Japan"
         ],
         "xaxis": "x3",
         "y": [
          45
         ],
         "yaxis": "y3"
        },
        {
         "alignmentgroup": "True",
         "hovertemplate": "Sentiment= Mindfulness   <br>Platform=Instagram<br>Country=%{x}<br>Likes=%{y}<extra></extra>",
         "legendgroup": " Mindfulness   ",
         "marker": {
          "color": "#B6E880",
          "pattern": {
           "shape": ""
          }
         },
         "name": " Mindfulness   ",
         "offsetgroup": " Mindfulness   ",
         "orientation": "v",
         "showlegend": true,
         "textposition": "auto",
         "type": "bar",
         "x": [
          "Canada"
         ],
         "xaxis": "x2",
         "y": [
          70
         ],
         "yaxis": "y2"
        },
        {
         "alignmentgroup": "True",
         "hovertemplate": "Sentiment= DreamChaser   <br>Platform=Twitter<br>Country=%{x}<br>Likes=%{y}<extra></extra>",
         "legendgroup": " DreamChaser   ",
         "marker": {
          "color": "#FF97FF",
          "pattern": {
           "shape": ""
          }
         },
         "name": " DreamChaser   ",
         "offsetgroup": " DreamChaser   ",
         "orientation": "v",
         "showlegend": true,
         "textposition": "auto",
         "type": "bar",
         "x": [
          "Australia"
         ],
         "xaxis": "x",
         "y": [
          60
         ],
         "yaxis": "y"
        },
        {
         "alignmentgroup": "True",
         "hovertemplate": "Sentiment= Elegance <br>Platform=Facebook<br>Country=%{x}<br>Likes=%{y}<extra></extra>",
         "legendgroup": " Elegance ",
         "marker": {
          "color": "#FECB52",
          "pattern": {
           "shape": ""
          }
         },
         "name": " Elegance ",
         "offsetgroup": " Elegance ",
         "orientation": "v",
         "showlegend": true,
         "textposition": "auto",
         "type": "bar",
         "x": [
          "UK"
         ],
         "xaxis": "x3",
         "y": [
          55
         ],
         "yaxis": "y3"
        },
        {
         "alignmentgroup": "True",
         "hovertemplate": "Sentiment= Whimsy        <br>Platform=Instagram<br>Country=%{x}<br>Likes=%{y}<extra></extra>",
         "legendgroup": " Whimsy        ",
         "marker": {
          "color": "#636efa",
          "pattern": {
           "shape": ""
          }
         },
         "name": " Whimsy        ",
         "offsetgroup": " Whimsy        ",
         "orientation": "v",
         "showlegend": true,
         "textposition": "auto",
         "type": "bar",
         "x": [
          "USA",
          "USA"
         ],
         "xaxis": "x2",
         "y": [
          40,
          40
         ],
         "yaxis": "y2"
        },
        {
         "alignmentgroup": "True",
         "hovertemplate": "Sentiment= Pensive <br>Platform=Twitter<br>Country=%{x}<br>Likes=%{y}<extra></extra>",
         "legendgroup": " Pensive ",
         "marker": {
          "color": "#EF553B",
          "pattern": {
           "shape": ""
          }
         },
         "name": " Pensive ",
         "offsetgroup": " Pensive ",
         "orientation": "v",
         "showlegend": true,
         "textposition": "auto",
         "type": "bar",
         "x": [
          "Greece"
         ],
         "xaxis": "x",
         "y": [
          35
         ],
         "yaxis": "y"
        },
        {
         "alignmentgroup": "True",
         "hovertemplate": "Sentiment= Thrill      <br>Platform=Facebook<br>Country=%{x}<br>Likes=%{y}<extra></extra>",
         "legendgroup": " Thrill      ",
         "marker": {
          "color": "#00cc96",
          "pattern": {
           "shape": ""
          }
         },
         "name": " Thrill      ",
         "offsetgroup": " Thrill      ",
         "orientation": "v",
         "showlegend": true,
         "textposition": "auto",
         "type": "bar",
         "x": [
          "Germany"
         ],
         "xaxis": "x3",
         "y": [
          45
         ],
         "yaxis": "y3"
        },
        {
         "alignmentgroup": "True",
         "hovertemplate": "Sentiment= Harmony    <br>Platform=Instagram<br>Country=%{x}<br>Likes=%{y}<extra></extra>",
         "legendgroup": " Harmony    ",
         "marker": {
          "color": "#ab63fa",
          "pattern": {
           "shape": ""
          }
         },
         "name": " Harmony    ",
         "offsetgroup": " Harmony    ",
         "orientation": "v",
         "showlegend": true,
         "textposition": "auto",
         "type": "bar",
         "x": [
          "Sweden"
         ],
         "xaxis": "x2",
         "y": [
          70
         ],
         "yaxis": "y2"
        },
        {
         "alignmentgroup": "True",
         "hovertemplate": "Sentiment= Creativity   <br>Platform=Twitter<br>Country=%{x}<br>Likes=%{y}<extra></extra>",
         "legendgroup": " Creativity   ",
         "marker": {
          "color": "#FFA15A",
          "pattern": {
           "shape": ""
          }
         },
         "name": " Creativity   ",
         "offsetgroup": " Creativity   ",
         "orientation": "v",
         "showlegend": true,
         "textposition": "auto",
         "type": "bar",
         "x": [
          "Italy"
         ],
         "xaxis": "x",
         "y": [
          30
         ],
         "yaxis": "y"
        },
        {
         "alignmentgroup": "True",
         "hovertemplate": "Sentiment= Radiance    <br>Platform=Facebook<br>Country=%{x}<br>Likes=%{y}<extra></extra>",
         "legendgroup": " Radiance    ",
         "marker": {
          "color": "#19d3f3",
          "pattern": {
           "shape": ""
          }
         },
         "name": " Radiance    ",
         "offsetgroup": " Radiance    ",
         "orientation": "v",
         "showlegend": true,
         "textposition": "auto",
         "type": "bar",
         "x": [
          "Netherlands"
         ],
         "xaxis": "x3",
         "y": [
          50
         ],
         "yaxis": "y3"
        },
        {
         "alignmentgroup": "True",
         "hovertemplate": "Sentiment= Wonder     <br>Platform=Instagram<br>Country=%{x}<br>Likes=%{y}<extra></extra>",
         "legendgroup": " Wonder     ",
         "marker": {
          "color": "#FF6692",
          "pattern": {
           "shape": ""
          }
         },
         "name": " Wonder     ",
         "offsetgroup": " Wonder     ",
         "orientation": "v",
         "showlegend": true,
         "textposition": "auto",
         "type": "bar",
         "x": [
          "South Africa"
         ],
         "xaxis": "x2",
         "y": [
          80
         ],
         "yaxis": "y2"
        },
        {
         "alignmentgroup": "True",
         "hovertemplate": "Sentiment= Rejuvenation <br>Platform=Twitter<br>Country=%{x}<br>Likes=%{y}<extra></extra>",
         "legendgroup": " Rejuvenation ",
         "marker": {
          "color": "#B6E880",
          "pattern": {
           "shape": ""
          }
         },
         "name": " Rejuvenation ",
         "offsetgroup": " Rejuvenation ",
         "orientation": "v",
         "showlegend": true,
         "textposition": "auto",
         "type": "bar",
         "x": [
          "Spain",
          "Spain"
         ],
         "xaxis": "x",
         "y": [
          35,
          35
         ],
         "yaxis": "y"
        },
        {
         "alignmentgroup": "True",
         "hovertemplate": "Sentiment= Inspiration <br>Platform=Twitter<br>Country=%{x}<br>Likes=%{y}<extra></extra>",
         "legendgroup": " Inspiration ",
         "marker": {
          "color": "#FF97FF",
          "pattern": {
           "shape": ""
          }
         },
         "name": " Inspiration ",
         "offsetgroup": " Inspiration ",
         "orientation": "v",
         "showlegend": true,
         "textposition": "auto",
         "type": "bar",
         "x": [
          "France",
          "France",
          "USA"
         ],
         "xaxis": "x",
         "y": [
          35,
          45,
          70
         ],
         "yaxis": "y"
        },
        {
         "alignmentgroup": "True",
         "hovertemplate": "Sentiment= Inspiration <br>Platform=Facebook<br>Country=%{x}<br>Likes=%{y}<extra></extra>",
         "legendgroup": " Inspiration ",
         "marker": {
          "color": "#FF97FF",
          "pattern": {
           "shape": ""
          }
         },
         "name": " Inspiration ",
         "offsetgroup": " Inspiration ",
         "orientation": "v",
         "showlegend": false,
         "textposition": "auto",
         "type": "bar",
         "x": [
          "Portugal"
         ],
         "xaxis": "x3",
         "y": [
          55
         ],
         "yaxis": "y3"
        },
        {
         "alignmentgroup": "True",
         "hovertemplate": "Sentiment= Coziness     <br>Platform=Instagram<br>Country=%{x}<br>Likes=%{y}<extra></extra>",
         "legendgroup": " Coziness     ",
         "marker": {
          "color": "#FECB52",
          "pattern": {
           "shape": ""
          }
         },
         "name": " Coziness     ",
         "offsetgroup": " Coziness     ",
         "orientation": "v",
         "showlegend": true,
         "textposition": "auto",
         "type": "bar",
         "x": [
          "Switzerland",
          "Switzerland"
         ],
         "xaxis": "x2",
         "y": [
          60,
          60
         ],
         "yaxis": "y2"
        },
        {
         "alignmentgroup": "True",
         "hovertemplate": "Sentiment= Gratitude  <br>Platform=Facebook<br>Country=%{x}<br>Likes=%{y}<extra></extra>",
         "legendgroup": " Gratitude  ",
         "marker": {
          "color": "#636efa",
          "pattern": {
           "shape": ""
          }
         },
         "name": " Gratitude  ",
         "offsetgroup": " Gratitude  ",
         "orientation": "v",
         "showlegend": true,
         "textposition": "auto",
         "type": "bar",
         "x": [
          "Austria",
          "Austria"
         ],
         "xaxis": "x3",
         "y": [
          45,
          45
         ],
         "yaxis": "y3"
        },
        {
         "alignmentgroup": "True",
         "hovertemplate": "Sentiment= Adventure <br>Platform=Twitter<br>Country=%{x}<br>Likes=%{y}<extra></extra>",
         "legendgroup": " Adventure ",
         "marker": {
          "color": "#EF553B",
          "pattern": {
           "shape": ""
          }
         },
         "name": " Adventure ",
         "offsetgroup": " Adventure ",
         "orientation": "v",
         "showlegend": true,
         "textposition": "auto",
         "type": "bar",
         "x": [
          "Belgium",
          "Switzerland",
          "USA"
         ],
         "xaxis": "x",
         "y": [
          70,
          45,
          70
         ],
         "yaxis": "y"
        },
        {
         "alignmentgroup": "True",
         "hovertemplate": "Sentiment= Euphoria   <br>Platform=Instagram<br>Country=%{x}<br>Likes=%{y}<extra></extra>",
         "legendgroup": " Euphoria   ",
         "marker": {
          "color": "#00cc96",
          "pattern": {
           "shape": ""
          }
         },
         "name": " Euphoria   ",
         "offsetgroup": " Euphoria   ",
         "orientation": "v",
         "showlegend": true,
         "textposition": "auto",
         "type": "bar",
         "x": [
          "Denmark"
         ],
         "xaxis": "x2",
         "y": [
          40
         ],
         "yaxis": "y2"
        },
        {
         "alignmentgroup": "True",
         "hovertemplate": "Sentiment= Awe    <br>Platform=Facebook<br>Country=%{x}<br>Likes=%{y}<extra></extra>",
         "legendgroup": " Awe    ",
         "marker": {
          "color": "#ab63fa",
          "pattern": {
           "shape": ""
          }
         },
         "name": " Awe    ",
         "offsetgroup": " Awe    ",
         "orientation": "v",
         "showlegend": true,
         "textposition": "auto",
         "type": "bar",
         "x": [
          "Czech Republic",
          "Czech Republic"
         ],
         "xaxis": "x3",
         "y": [
          35,
          35
         ],
         "yaxis": "y3"
        },
        {
         "alignmentgroup": "True",
         "hovertemplate": "Sentiment= Melodic       <br>Platform=Twitter<br>Country=%{x}<br>Likes=%{y}<extra></extra>",
         "legendgroup": " Melodic       ",
         "marker": {
          "color": "#FFA15A",
          "pattern": {
           "shape": ""
          }
         },
         "name": " Melodic       ",
         "offsetgroup": " Melodic       ",
         "orientation": "v",
         "showlegend": true,
         "textposition": "auto",
         "type": "bar",
         "x": [
          "France"
         ],
         "xaxis": "x",
         "y": [
          35
         ],
         "yaxis": "y"
        },
        {
         "alignmentgroup": "True",
         "hovertemplate": "Sentiment= FestiveJoy    <br>Platform=Facebook<br>Country=%{x}<br>Likes=%{y}<extra></extra>",
         "legendgroup": " FestiveJoy    ",
         "marker": {
          "color": "#19d3f3",
          "pattern": {
           "shape": ""
          }
         },
         "name": " FestiveJoy    ",
         "offsetgroup": " FestiveJoy    ",
         "orientation": "v",
         "showlegend": true,
         "textposition": "auto",
         "type": "bar",
         "x": [
          "Japan"
         ],
         "xaxis": "x3",
         "y": [
          45
         ],
         "yaxis": "y3"
        },
        {
         "alignmentgroup": "True",
         "hovertemplate": "Sentiment= InnerJourney  <br>Platform=Instagram<br>Country=%{x}<br>Likes=%{y}<extra></extra>",
         "legendgroup": " InnerJourney  ",
         "marker": {
          "color": "#FF6692",
          "pattern": {
           "shape": ""
          }
         },
         "name": " InnerJourney  ",
         "offsetgroup": " InnerJourney  ",
         "orientation": "v",
         "showlegend": true,
         "textposition": "auto",
         "type": "bar",
         "x": [
          "Canada"
         ],
         "xaxis": "x2",
         "y": [
          70
         ],
         "yaxis": "y2"
        },
        {
         "alignmentgroup": "True",
         "hovertemplate": "Sentiment= Freedom       <br>Platform=Twitter<br>Country=%{x}<br>Likes=%{y}<extra></extra>",
         "legendgroup": " Freedom       ",
         "marker": {
          "color": "#B6E880",
          "pattern": {
           "shape": ""
          }
         },
         "name": " Freedom       ",
         "offsetgroup": " Freedom       ",
         "orientation": "v",
         "showlegend": true,
         "textposition": "auto",
         "type": "bar",
         "x": [
          "Australia"
         ],
         "xaxis": "x",
         "y": [
          60
         ],
         "yaxis": "y"
        },
        {
         "alignmentgroup": "True",
         "hovertemplate": "Sentiment= Dazzle        <br>Platform=Facebook<br>Country=%{x}<br>Likes=%{y}<extra></extra>",
         "legendgroup": " Dazzle        ",
         "marker": {
          "color": "#FF97FF",
          "pattern": {
           "shape": ""
          }
         },
         "name": " Dazzle        ",
         "offsetgroup": " Dazzle        ",
         "orientation": "v",
         "showlegend": true,
         "textposition": "auto",
         "type": "bar",
         "x": [
          "UK"
         ],
         "xaxis": "x3",
         "y": [
          55
         ],
         "yaxis": "y3"
        },
        {
         "alignmentgroup": "True",
         "hovertemplate": "Sentiment= Adrenaline     <br>Platform=Facebook<br>Country=%{x}<br>Likes=%{y}<extra></extra>",
         "legendgroup": " Adrenaline     ",
         "marker": {
          "color": "#FECB52",
          "pattern": {
           "shape": ""
          }
         },
         "name": " Adrenaline     ",
         "offsetgroup": " Adrenaline     ",
         "orientation": "v",
         "showlegend": true,
         "textposition": "auto",
         "type": "bar",
         "x": [
          "Germany"
         ],
         "xaxis": "x3",
         "y": [
          45
         ],
         "yaxis": "y3"
        },
        {
         "alignmentgroup": "True",
         "hovertemplate": "Sentiment= Harmony       <br>Platform=Instagram<br>Country=%{x}<br>Likes=%{y}<extra></extra>",
         "legendgroup": " Harmony       ",
         "marker": {
          "color": "#636efa",
          "pattern": {
           "shape": ""
          }
         },
         "name": " Harmony       ",
         "offsetgroup": " Harmony       ",
         "orientation": "v",
         "showlegend": true,
         "textposition": "auto",
         "type": "bar",
         "x": [
          "Sweden"
         ],
         "xaxis": "x2",
         "y": [
          70
         ],
         "yaxis": "y2"
        },
        {
         "alignmentgroup": "True",
         "hovertemplate": "Sentiment= ArtisticBurst <br>Platform=Twitter<br>Country=%{x}<br>Likes=%{y}<extra></extra>",
         "legendgroup": " ArtisticBurst ",
         "marker": {
          "color": "#EF553B",
          "pattern": {
           "shape": ""
          }
         },
         "name": " ArtisticBurst ",
         "offsetgroup": " ArtisticBurst ",
         "orientation": "v",
         "showlegend": true,
         "textposition": "auto",
         "type": "bar",
         "x": [
          "Italy"
         ],
         "xaxis": "x",
         "y": [
          30
         ],
         "yaxis": "y"
        },
        {
         "alignmentgroup": "True",
         "hovertemplate": "Sentiment= Radiance      <br>Platform=Facebook<br>Country=%{x}<br>Likes=%{y}<extra></extra>",
         "legendgroup": " Radiance      ",
         "marker": {
          "color": "#00cc96",
          "pattern": {
           "shape": ""
          }
         },
         "name": " Radiance      ",
         "offsetgroup": " Radiance      ",
         "orientation": "v",
         "showlegend": true,
         "textposition": "auto",
         "type": "bar",
         "x": [
          "Netherlands"
         ],
         "xaxis": "x3",
         "y": [
          50
         ],
         "yaxis": "y3"
        },
        {
         "alignmentgroup": "True",
         "hovertemplate": "Sentiment= Wonder       <br>Platform=Instagram<br>Country=%{x}<br>Likes=%{y}<extra></extra>",
         "legendgroup": " Wonder       ",
         "marker": {
          "color": "#ab63fa",
          "pattern": {
           "shape": ""
          }
         },
         "name": " Wonder       ",
         "offsetgroup": " Wonder       ",
         "orientation": "v",
         "showlegend": true,
         "textposition": "auto",
         "type": "bar",
         "x": [
          "South Africa"
         ],
         "xaxis": "x2",
         "y": [
          80
         ],
         "yaxis": "y2"
        },
        {
         "alignmentgroup": "True",
         "hovertemplate": "Sentiment= Inspiration  <br>Platform=Facebook<br>Country=%{x}<br>Likes=%{y}<extra></extra>",
         "legendgroup": " Inspiration  ",
         "marker": {
          "color": "#FFA15A",
          "pattern": {
           "shape": ""
          }
         },
         "name": " Inspiration  ",
         "offsetgroup": " Inspiration  ",
         "orientation": "v",
         "showlegend": true,
         "textposition": "auto",
         "type": "bar",
         "x": [
          "Portugal"
         ],
         "xaxis": "x3",
         "y": [
          55
         ],
         "yaxis": "y3"
        },
        {
         "alignmentgroup": "True",
         "hovertemplate": "Sentiment= CulinaryOdyssey <br>Platform=Twitter<br>Country=%{x}<br>Likes=%{y}<extra></extra>",
         "legendgroup": " CulinaryOdyssey ",
         "marker": {
          "color": "#19d3f3",
          "pattern": {
           "shape": ""
          }
         },
         "name": " CulinaryOdyssey ",
         "offsetgroup": " CulinaryOdyssey ",
         "orientation": "v",
         "showlegend": true,
         "textposition": "auto",
         "type": "bar",
         "x": [
          "Belgium"
         ],
         "xaxis": "x",
         "y": [
          70
         ],
         "yaxis": "y"
        },
        {
         "alignmentgroup": "True",
         "hovertemplate": "Sentiment= Euphoria     <br>Platform=Instagram<br>Country=%{x}<br>Likes=%{y}<extra></extra>",
         "legendgroup": " Euphoria     ",
         "marker": {
          "color": "#FF6692",
          "pattern": {
           "shape": ""
          }
         },
         "name": " Euphoria     ",
         "offsetgroup": " Euphoria     ",
         "orientation": "v",
         "showlegend": true,
         "textposition": "auto",
         "type": "bar",
         "x": [
          "Denmark"
         ],
         "xaxis": "x2",
         "y": [
          40
         ],
         "yaxis": "y2"
        },
        {
         "alignmentgroup": "True",
         "hovertemplate": "Sentiment= Curiosity  <br>Platform=Instagram<br>Country=%{x}<br>Likes=%{y}<extra></extra>",
         "legendgroup": " Curiosity  ",
         "marker": {
          "color": "#B6E880",
          "pattern": {
           "shape": ""
          }
         },
         "name": " Curiosity  ",
         "offsetgroup": " Curiosity  ",
         "orientation": "v",
         "showlegend": true,
         "textposition": "auto",
         "type": "bar",
         "x": [
          "Australia"
         ],
         "xaxis": "x2",
         "y": [
          35
         ],
         "yaxis": "y2"
        },
        {
         "alignmentgroup": "True",
         "hovertemplate": "Sentiment= Resilience   <br>Platform=Facebook<br>Country=%{x}<br>Likes=%{y}<extra></extra>",
         "legendgroup": " Resilience   ",
         "marker": {
          "color": "#FF97FF",
          "pattern": {
           "shape": ""
          }
         },
         "name": " Resilience   ",
         "offsetgroup": " Resilience   ",
         "orientation": "v",
         "showlegend": true,
         "textposition": "auto",
         "type": "bar",
         "x": [
          "USA"
         ],
         "xaxis": "x3",
         "y": [
          70
         ],
         "yaxis": "y3"
        },
        {
         "alignmentgroup": "True",
         "hovertemplate": "Sentiment= Immersion <br>Platform=Twitter<br>Country=%{x}<br>Likes=%{y}<extra></extra>",
         "legendgroup": " Immersion ",
         "marker": {
          "color": "#FECB52",
          "pattern": {
           "shape": ""
          }
         },
         "name": " Immersion ",
         "offsetgroup": " Immersion ",
         "orientation": "v",
         "showlegend": true,
         "textposition": "auto",
         "type": "bar",
         "x": [
          "UK"
         ],
         "xaxis": "x",
         "y": [
          40
         ],
         "yaxis": "y"
        },
        {
         "alignmentgroup": "True",
         "hovertemplate": "Sentiment= Nostalgia <br>Platform=Twitter<br>Country=%{x}<br>Likes=%{y}<extra></extra>",
         "legendgroup": " Nostalgia ",
         "marker": {
          "color": "#636efa",
          "pattern": {
           "shape": ""
          }
         },
         "name": " Nostalgia ",
         "offsetgroup": " Nostalgia ",
         "orientation": "v",
         "showlegend": true,
         "textposition": "auto",
         "type": "bar",
         "x": [
          "Italy"
         ],
         "xaxis": "x",
         "y": [
          35
         ],
         "yaxis": "y"
        },
        {
         "alignmentgroup": "True",
         "hovertemplate": "Sentiment= Nostalgia <br>Platform=Instagram<br>Country=%{x}<br>Likes=%{y}<extra></extra>",
         "legendgroup": " Nostalgia ",
         "marker": {
          "color": "#636efa",
          "pattern": {
           "shape": ""
          }
         },
         "name": " Nostalgia ",
         "offsetgroup": " Nostalgia ",
         "orientation": "v",
         "showlegend": false,
         "textposition": "auto",
         "type": "bar",
         "x": [
          "India",
          "UK",
          "UK"
         ],
         "xaxis": "x2",
         "y": [
          50,
          45,
          70
         ],
         "yaxis": "y2"
        },
        {
         "alignmentgroup": "True",
         "hovertemplate": "Sentiment= Spark        <br>Platform=Facebook<br>Country=%{x}<br>Likes=%{y}<extra></extra>",
         "legendgroup": " Spark        ",
         "marker": {
          "color": "#EF553B",
          "pattern": {
           "shape": ""
          }
         },
         "name": " Spark        ",
         "offsetgroup": " Spark        ",
         "orientation": "v",
         "showlegend": true,
         "textposition": "auto",
         "type": "bar",
         "x": [
          "Australia"
         ],
         "xaxis": "x3",
         "y": [
          60
         ],
         "yaxis": "y3"
        },
        {
         "alignmentgroup": "True",
         "hovertemplate": "Sentiment= Gratitude    <br>Platform=Twitter<br>Country=%{x}<br>Likes=%{y}<extra></extra>",
         "legendgroup": " Gratitude    ",
         "marker": {
          "color": "#00cc96",
          "pattern": {
           "shape": ""
          }
         },
         "name": " Gratitude    ",
         "offsetgroup": " Gratitude    ",
         "orientation": "v",
         "showlegend": true,
         "textposition": "auto",
         "type": "bar",
         "x": [
          "Japan"
         ],
         "xaxis": "x",
         "y": [
          35
         ],
         "yaxis": "y"
        },
        {
         "alignmentgroup": "True",
         "hovertemplate": "Sentiment= Marvel       <br>Platform=Instagram<br>Country=%{x}<br>Likes=%{y}<extra></extra>",
         "legendgroup": " Marvel       ",
         "marker": {
          "color": "#ab63fa",
          "pattern": {
           "shape": ""
          }
         },
         "name": " Marvel       ",
         "offsetgroup": " Marvel       ",
         "orientation": "v",
         "showlegend": true,
         "textposition": "auto",
         "type": "bar",
         "x": [
          "Brazil"
         ],
         "xaxis": "x2",
         "y": [
          45
         ],
         "yaxis": "y2"
        },
        {
         "alignmentgroup": "True",
         "hovertemplate": "Sentiment= Serenity   <br>Platform=Facebook<br>Country=%{x}<br>Likes=%{y}<extra></extra>",
         "legendgroup": " Serenity   ",
         "marker": {
          "color": "#FFA15A",
          "pattern": {
           "shape": ""
          }
         },
         "name": " Serenity   ",
         "offsetgroup": " Serenity   ",
         "orientation": "v",
         "showlegend": true,
         "textposition": "auto",
         "type": "bar",
         "x": [
          "Germany"
         ],
         "xaxis": "x3",
         "y": [
          55
         ],
         "yaxis": "y3"
        },
        {
         "alignmentgroup": "True",
         "hovertemplate": "Sentiment= Heartbreak    <br>Platform=Instagram<br>Country=%{x}<br>Likes=%{y}<extra></extra>",
         "legendgroup": " Heartbreak    ",
         "marker": {
          "color": "#19d3f3",
          "pattern": {
           "shape": ""
          }
         },
         "name": " Heartbreak    ",
         "offsetgroup": " Heartbreak    ",
         "orientation": "v",
         "showlegend": true,
         "textposition": "auto",
         "type": "bar",
         "x": [
          "USA"
         ],
         "xaxis": "x2",
         "y": [
          30
         ],
         "yaxis": "y2"
        },
        {
         "alignmentgroup": "True",
         "hovertemplate": "Sentiment= Loneliness    <br>Platform=Twitter<br>Country=%{x}<br>Likes=%{y}<extra></extra>",
         "legendgroup": " Loneliness    ",
         "marker": {
          "color": "#FF6692",
          "pattern": {
           "shape": ""
          }
         },
         "name": " Loneliness    ",
         "offsetgroup": " Loneliness    ",
         "orientation": "v",
         "showlegend": true,
         "textposition": "auto",
         "type": "bar",
         "x": [
          "Canada"
         ],
         "xaxis": "x",
         "y": [
          35
         ],
         "yaxis": "y"
        },
        {
         "alignmentgroup": "True",
         "hovertemplate": "Sentiment= Grief      <br>Platform=Facebook<br>Country=%{x}<br>Likes=%{y}<extra></extra>",
         "legendgroup": " Grief      ",
         "marker": {
          "color": "#B6E880",
          "pattern": {
           "shape": ""
          }
         },
         "name": " Grief      ",
         "offsetgroup": " Grief      ",
         "orientation": "v",
         "showlegend": true,
         "textposition": "auto",
         "type": "bar",
         "x": [
          "UK",
          "Italy"
         ],
         "xaxis": "x3",
         "y": [
          45,
          55
         ],
         "yaxis": "y3"
        },
        {
         "alignmentgroup": "True",
         "hovertemplate": "Sentiment= Despair   <br>Platform=Instagram<br>Country=%{x}<br>Likes=%{y}<extra></extra>",
         "legendgroup": " Despair   ",
         "marker": {
          "color": "#FF97FF",
          "pattern": {
           "shape": ""
          }
         },
         "name": " Despair   ",
         "offsetgroup": " Despair   ",
         "orientation": "v",
         "showlegend": true,
         "textposition": "auto",
         "type": "bar",
         "x": [
          "Australia",
          "South Africa"
         ],
         "xaxis": "x2",
         "y": [
          55,
          80
         ],
         "yaxis": "y2"
        },
        {
         "alignmentgroup": "True",
         "hovertemplate": "Sentiment= Betrayal      <br>Platform=Twitter<br>Country=%{x}<br>Likes=%{y}<extra></extra>",
         "legendgroup": " Betrayal      ",
         "marker": {
          "color": "#FECB52",
          "pattern": {
           "shape": ""
          }
         },
         "name": " Betrayal      ",
         "offsetgroup": " Betrayal      ",
         "orientation": "v",
         "showlegend": true,
         "textposition": "auto",
         "type": "bar",
         "x": [
          "Germany"
         ],
         "xaxis": "x",
         "y": [
          45
         ],
         "yaxis": "y"
        },
        {
         "alignmentgroup": "True",
         "hovertemplate": "Sentiment= Suffering <br>Platform=Facebook<br>Country=%{x}<br>Likes=%{y}<extra></extra>",
         "legendgroup": " Suffering ",
         "marker": {
          "color": "#636efa",
          "pattern": {
           "shape": ""
          }
         },
         "name": " Suffering ",
         "offsetgroup": " Suffering ",
         "orientation": "v",
         "showlegend": true,
         "textposition": "auto",
         "type": "bar",
         "x": [
          "Brazil"
         ],
         "xaxis": "x3",
         "y": [
          50
         ],
         "yaxis": "y3"
        },
        {
         "alignmentgroup": "True",
         "hovertemplate": "Sentiment= EmotionalStorm <br>Platform=Instagram<br>Country=%{x}<br>Likes=%{y}<extra></extra>",
         "legendgroup": " EmotionalStorm ",
         "marker": {
          "color": "#EF553B",
          "pattern": {
           "shape": ""
          }
         },
         "name": " EmotionalStorm ",
         "offsetgroup": " EmotionalStorm ",
         "orientation": "v",
         "showlegend": true,
         "textposition": "auto",
         "type": "bar",
         "x": [
          "India"
         ],
         "xaxis": "x2",
         "y": [
          60
         ],
         "yaxis": "y2"
        },
        {
         "alignmentgroup": "True",
         "hovertemplate": "Sentiment= Regret        <br>Platform=Twitter<br>Country=%{x}<br>Likes=%{y}<extra></extra>",
         "legendgroup": " Regret        ",
         "marker": {
          "color": "#00cc96",
          "pattern": {
           "shape": ""
          }
         },
         "name": " Regret        ",
         "offsetgroup": " Regret        ",
         "orientation": "v",
         "showlegend": true,
         "textposition": "auto",
         "type": "bar",
         "x": [
          "France"
         ],
         "xaxis": "x",
         "y": [
          35
         ],
         "yaxis": "y"
        },
        {
         "alignmentgroup": "True",
         "hovertemplate": "Sentiment= Isolation <br>Platform=Instagram<br>Country=%{x}<br>Likes=%{y}<extra></extra>",
         "legendgroup": " Isolation ",
         "marker": {
          "color": "#ab63fa",
          "pattern": {
           "shape": ""
          }
         },
         "name": " Isolation ",
         "offsetgroup": " Isolation ",
         "orientation": "v",
         "showlegend": true,
         "textposition": "auto",
         "type": "bar",
         "x": [
          "Japan",
          "South Africa"
         ],
         "xaxis": "x2",
         "y": [
          70,
          60
         ],
         "yaxis": "y2"
        },
        {
         "alignmentgroup": "True",
         "hovertemplate": "Sentiment= Disappointment <br>Platform=Twitter<br>Country=%{x}<br>Likes=%{y}<extra></extra>",
         "legendgroup": " Disappointment ",
         "marker": {
          "color": "#FFA15A",
          "pattern": {
           "shape": ""
          }
         },
         "name": " Disappointment ",
         "offsetgroup": " Disappointment ",
         "orientation": "v",
         "showlegend": true,
         "textposition": "auto",
         "type": "bar",
         "x": [
          "Spain",
          "Brazil"
         ],
         "xaxis": "x",
         "y": [
          40,
          80
         ],
         "yaxis": "y"
        },
        {
         "alignmentgroup": "True",
         "hovertemplate": "Sentiment= LostLove <br>Platform=Facebook<br>Country=%{x}<br>Likes=%{y}<extra></extra>",
         "legendgroup": " LostLove ",
         "marker": {
          "color": "#19d3f3",
          "pattern": {
           "shape": ""
          }
         },
         "name": " LostLove ",
         "offsetgroup": " LostLove ",
         "orientation": "v",
         "showlegend": true,
         "textposition": "auto",
         "type": "bar",
         "x": [
          "Netherlands"
         ],
         "xaxis": "x3",
         "y": [
          45
         ],
         "yaxis": "y3"
        },
        {
         "alignmentgroup": "True",
         "hovertemplate": "Sentiment= Melancholy <br>Platform=Twitter<br>Country=%{x}<br>Likes=%{y}<extra></extra>",
         "legendgroup": " Melancholy ",
         "marker": {
          "color": "#FF6692",
          "pattern": {
           "shape": ""
          }
         },
         "name": " Melancholy ",
         "offsetgroup": " Melancholy ",
         "orientation": "v",
         "showlegend": true,
         "textposition": "auto",
         "type": "bar",
         "x": [
          "UK"
         ],
         "xaxis": "x",
         "y": [
          35
         ],
         "yaxis": "y"
        },
        {
         "alignmentgroup": "True",
         "hovertemplate": "Sentiment= Exhaustion <br>Platform=Instagram<br>Country=%{x}<br>Likes=%{y}<extra></extra>",
         "legendgroup": " Exhaustion ",
         "marker": {
          "color": "#B6E880",
          "pattern": {
           "shape": ""
          }
         },
         "name": " Exhaustion ",
         "offsetgroup": " Exhaustion ",
         "orientation": "v",
         "showlegend": true,
         "textposition": "auto",
         "type": "bar",
         "x": [
          "Canada"
         ],
         "xaxis": "x2",
         "y": [
          70
         ],
         "yaxis": "y2"
        },
        {
         "alignmentgroup": "True",
         "hovertemplate": "Sentiment= Sorrow      <br>Platform=Twitter<br>Country=%{x}<br>Likes=%{y}<extra></extra>",
         "legendgroup": " Sorrow      ",
         "marker": {
          "color": "#FF97FF",
          "pattern": {
           "shape": ""
          }
         },
         "name": " Sorrow      ",
         "offsetgroup": " Sorrow      ",
         "orientation": "v",
         "showlegend": true,
         "textposition": "auto",
         "type": "bar",
         "x": [
          "Germany"
         ],
         "xaxis": "x",
         "y": [
          35
         ],
         "yaxis": "y"
        },
        {
         "alignmentgroup": "True",
         "hovertemplate": "Sentiment= Darkness     <br>Platform=Facebook<br>Country=%{x}<br>Likes=%{y}<extra></extra>",
         "legendgroup": " Darkness     ",
         "marker": {
          "color": "#FECB52",
          "pattern": {
           "shape": ""
          }
         },
         "name": " Darkness     ",
         "offsetgroup": " Darkness     ",
         "orientation": "v",
         "showlegend": true,
         "textposition": "auto",
         "type": "bar",
         "x": [
          "USA"
         ],
         "xaxis": "x3",
         "y": [
          55
         ],
         "yaxis": "y3"
        },
        {
         "alignmentgroup": "True",
         "hovertemplate": "Sentiment= Desperation <br>Platform=Instagram<br>Country=%{x}<br>Likes=%{y}<extra></extra>",
         "legendgroup": " Desperation ",
         "marker": {
          "color": "#636efa",
          "pattern": {
           "shape": ""
          }
         },
         "name": " Desperation ",
         "offsetgroup": " Desperation ",
         "orientation": "v",
         "showlegend": true,
         "textposition": "auto",
         "type": "bar",
         "x": [
          "France"
         ],
         "xaxis": "x2",
         "y": [
          45
         ],
         "yaxis": "y2"
        },
        {
         "alignmentgroup": "True",
         "hovertemplate": "Sentiment= Ruins      <br>Platform=Twitter<br>Country=%{x}<br>Likes=%{y}<extra></extra>",
         "legendgroup": " Ruins      ",
         "marker": {
          "color": "#EF553B",
          "pattern": {
           "shape": ""
          }
         },
         "name": " Ruins      ",
         "offsetgroup": " Ruins      ",
         "orientation": "v",
         "showlegend": true,
         "textposition": "auto",
         "type": "bar",
         "x": [
          "Brazil"
         ],
         "xaxis": "x",
         "y": [
          40
         ],
         "yaxis": "y"
        },
        {
         "alignmentgroup": "True",
         "hovertemplate": "Sentiment= Desolation <br>Platform=Twitter<br>Country=%{x}<br>Likes=%{y}<extra></extra>",
         "legendgroup": " Desolation ",
         "marker": {
          "color": "#00cc96",
          "pattern": {
           "shape": ""
          }
         },
         "name": " Desolation ",
         "offsetgroup": " Desolation ",
         "orientation": "v",
         "showlegend": true,
         "textposition": "auto",
         "type": "bar",
         "x": [
          "Australia",
          "UK"
         ],
         "xaxis": "x",
         "y": [
          40,
          40
         ],
         "yaxis": "y"
        },
        {
         "alignmentgroup": "True",
         "hovertemplate": "Sentiment= Desolation <br>Platform=Facebook<br>Country=%{x}<br>Likes=%{y}<extra></extra>",
         "legendgroup": " Desolation ",
         "marker": {
          "color": "#00cc96",
          "pattern": {
           "shape": ""
          }
         },
         "name": " Desolation ",
         "offsetgroup": " Desolation ",
         "orientation": "v",
         "showlegend": false,
         "textposition": "auto",
         "type": "bar",
         "x": [
          "Brazil",
          "France"
         ],
         "xaxis": "x3",
         "y": [
          55,
          55
         ],
         "yaxis": "y3"
        },
        {
         "alignmentgroup": "True",
         "hovertemplate": "Sentiment= Regret <br>Platform=Twitter<br>Country=%{x}<br>Likes=%{y}<extra></extra>",
         "legendgroup": " Regret ",
         "marker": {
          "color": "#ab63fa",
          "pattern": {
           "shape": ""
          }
         },
         "name": " Regret ",
         "offsetgroup": " Regret ",
         "orientation": "v",
         "showlegend": true,
         "textposition": "auto",
         "type": "bar",
         "x": [
          "Spain"
         ],
         "xaxis": "x",
         "y": [
          35
         ],
         "yaxis": "y"
        },
        {
         "alignmentgroup": "True",
         "hovertemplate": "Sentiment= Regret <br>Platform=Instagram<br>Country=%{x}<br>Likes=%{y}<extra></extra>",
         "legendgroup": " Regret ",
         "marker": {
          "color": "#ab63fa",
          "pattern": {
           "shape": ""
          }
         },
         "name": " Regret ",
         "offsetgroup": " Regret ",
         "orientation": "v",
         "showlegend": false,
         "textposition": "auto",
         "type": "bar",
         "x": [
          "Canada",
          "UK"
         ],
         "xaxis": "x2",
         "y": [
          50,
          35
         ],
         "yaxis": "y2"
        },
        {
         "alignmentgroup": "True",
         "hovertemplate": "Sentiment= Grief <br>Platform=Instagram<br>Country=%{x}<br>Likes=%{y}<extra></extra>",
         "legendgroup": " Grief ",
         "marker": {
          "color": "#FFA15A",
          "pattern": {
           "shape": ""
          }
         },
         "name": " Grief ",
         "offsetgroup": " Grief ",
         "orientation": "v",
         "showlegend": true,
         "textposition": "auto",
         "type": "bar",
         "x": [
          "India"
         ],
         "xaxis": "x2",
         "y": [
          60
         ],
         "yaxis": "y2"
        },
        {
         "alignmentgroup": "True",
         "hovertemplate": "Sentiment= Grief <br>Platform=Facebook<br>Country=%{x}<br>Likes=%{y}<extra></extra>",
         "legendgroup": " Grief ",
         "marker": {
          "color": "#FFA15A",
          "pattern": {
           "shape": ""
          }
         },
         "name": " Grief ",
         "offsetgroup": " Grief ",
         "orientation": "v",
         "showlegend": false,
         "textposition": "auto",
         "type": "bar",
         "x": [
          "USA",
          "USA",
          "Germany"
         ],
         "xaxis": "x3",
         "y": [
          35,
          50,
          45
         ],
         "yaxis": "y3"
        },
        {
         "alignmentgroup": "True",
         "hovertemplate": "Sentiment= Heartbreak <br>Platform=Twitter<br>Country=%{x}<br>Likes=%{y}<extra></extra>",
         "legendgroup": " Heartbreak ",
         "marker": {
          "color": "#19d3f3",
          "pattern": {
           "shape": ""
          }
         },
         "name": " Heartbreak ",
         "offsetgroup": " Heartbreak ",
         "orientation": "v",
         "showlegend": true,
         "textposition": "auto",
         "type": "bar",
         "x": [
          "France",
          "Brazil"
         ],
         "xaxis": "x",
         "y": [
          45,
          45
         ],
         "yaxis": "y"
        },
        {
         "alignmentgroup": "True",
         "hovertemplate": "Sentiment= Betrayal <br>Platform=Instagram<br>Country=%{x}<br>Likes=%{y}<extra></extra>",
         "legendgroup": " Betrayal ",
         "marker": {
          "color": "#FF6692",
          "pattern": {
           "shape": ""
          }
         },
         "name": " Betrayal ",
         "offsetgroup": " Betrayal ",
         "orientation": "v",
         "showlegend": true,
         "textposition": "auto",
         "type": "bar",
         "x": [
          "Germany",
          "Canada"
         ],
         "xaxis": "x2",
         "y": [
          30,
          50
         ],
         "yaxis": "y2"
        },
        {
         "alignmentgroup": "True",
         "hovertemplate": "Sentiment= Betrayal <br>Platform=Facebook<br>Country=%{x}<br>Likes=%{y}<extra></extra>",
         "legendgroup": " Betrayal ",
         "marker": {
          "color": "#FF6692",
          "pattern": {
           "shape": ""
          }
         },
         "name": " Betrayal ",
         "offsetgroup": " Betrayal ",
         "orientation": "v",
         "showlegend": false,
         "textposition": "auto",
         "type": "bar",
         "x": [
          "Italy",
          "Brazil"
         ],
         "xaxis": "x3",
         "y": [
          50,
          30
         ],
         "yaxis": "y3"
        },
        {
         "alignmentgroup": "True",
         "hovertemplate": "Sentiment= Resilience <br>Platform=Twitter<br>Country=%{x}<br>Likes=%{y}<extra></extra>",
         "legendgroup": " Resilience ",
         "marker": {
          "color": "#B6E880",
          "pattern": {
           "shape": ""
          }
         },
         "name": " Resilience ",
         "offsetgroup": " Resilience ",
         "orientation": "v",
         "showlegend": true,
         "textposition": "auto",
         "type": "bar",
         "x": [
          "Japan"
         ],
         "xaxis": "x",
         "y": [
          70
         ],
         "yaxis": "y"
        },
        {
         "alignmentgroup": "True",
         "hovertemplate": "Sentiment= Sorrow <br>Platform=Instagram<br>Country=%{x}<br>Likes=%{y}<extra></extra>",
         "legendgroup": " Sorrow ",
         "marker": {
          "color": "#FF97FF",
          "pattern": {
           "shape": ""
          }
         },
         "name": " Sorrow ",
         "offsetgroup": " Sorrow ",
         "orientation": "v",
         "showlegend": true,
         "textposition": "auto",
         "type": "bar",
         "x": [
          "Canada"
         ],
         "xaxis": "x2",
         "y": [
          45
         ],
         "yaxis": "y2"
        },
        {
         "alignmentgroup": "True",
         "hovertemplate": "Sentiment= Loss <br>Platform=Twitter<br>Country=%{x}<br>Likes=%{y}<extra></extra>",
         "legendgroup": " Loss ",
         "marker": {
          "color": "#FECB52",
          "pattern": {
           "shape": ""
          }
         },
         "name": " Loss ",
         "offsetgroup": " Loss ",
         "orientation": "v",
         "showlegend": true,
         "textposition": "auto",
         "type": "bar",
         "x": [
          "Australia"
         ],
         "xaxis": "x",
         "y": [
          45
         ],
         "yaxis": "y"
        },
        {
         "alignmentgroup": "True",
         "hovertemplate": "Sentiment= Loss <br>Platform=Instagram<br>Country=%{x}<br>Likes=%{y}<extra></extra>",
         "legendgroup": " Loss ",
         "marker": {
          "color": "#FECB52",
          "pattern": {
           "shape": ""
          }
         },
         "name": " Loss ",
         "offsetgroup": " Loss ",
         "orientation": "v",
         "showlegend": false,
         "textposition": "auto",
         "type": "bar",
         "x": [
          "France"
         ],
         "xaxis": "x2",
         "y": [
          55
         ],
         "yaxis": "y2"
        },
        {
         "alignmentgroup": "True",
         "hovertemplate": "Sentiment= Heartache <br>Platform=Instagram<br>Country=%{x}<br>Likes=%{y}<extra></extra>",
         "legendgroup": " Heartache ",
         "marker": {
          "color": "#636efa",
          "pattern": {
           "shape": ""
          }
         },
         "name": " Heartache ",
         "offsetgroup": " Heartache ",
         "orientation": "v",
         "showlegend": true,
         "textposition": "auto",
         "type": "bar",
         "x": [
          "Japan"
         ],
         "xaxis": "x2",
         "y": [
          60
         ],
         "yaxis": "y2"
        },
        {
         "alignmentgroup": "True",
         "hovertemplate": "Sentiment= Solitude <br>Platform=Instagram<br>Country=%{x}<br>Likes=%{y}<extra></extra>",
         "legendgroup": " Solitude ",
         "marker": {
          "color": "#EF553B",
          "pattern": {
           "shape": ""
          }
         },
         "name": " Solitude ",
         "offsetgroup": " Solitude ",
         "orientation": "v",
         "showlegend": true,
         "textposition": "auto",
         "type": "bar",
         "x": [
          "Spain"
         ],
         "xaxis": "x2",
         "y": [
          60
         ],
         "yaxis": "y2"
        },
        {
         "alignmentgroup": "True",
         "hovertemplate": "Sentiment= Joy <br>Platform=Twitter<br>Country=%{x}<br>Likes=%{y}<extra></extra>",
         "legendgroup": " Joy ",
         "marker": {
          "color": "#00cc96",
          "pattern": {
           "shape": ""
          }
         },
         "name": " Joy ",
         "offsetgroup": " Joy ",
         "orientation": "v",
         "showlegend": true,
         "textposition": "auto",
         "type": "bar",
         "x": [
          "Japan",
          "UK",
          "USA",
          "Canada",
          "Canada",
          "UK",
          "USA",
          "Canada",
          "USA",
          "USA"
         ],
         "xaxis": "x",
         "y": [
          40,
          60,
          45,
          45,
          55,
          35,
          40,
          45,
          40,
          36
         ],
         "yaxis": "y"
        },
        {
         "alignmentgroup": "True",
         "hovertemplate": "Sentiment= Joy <br>Platform=Instagram<br>Country=%{x}<br>Likes=%{y}<extra></extra>",
         "legendgroup": " Joy ",
         "marker": {
          "color": "#00cc96",
          "pattern": {
           "shape": ""
          }
         },
         "name": " Joy ",
         "offsetgroup": " Joy ",
         "orientation": "v",
         "showlegend": false,
         "textposition": "auto",
         "type": "bar",
         "x": [
          "USA",
          "Canada",
          "Netherlands",
          "Brazil",
          "USA",
          "USA",
          "USA",
          "UK",
          "UK",
          "USA",
          "UK",
          "USA",
          "Canada",
          "USA"
         ],
         "xaxis": "x2",
         "y": [
          80,
          80,
          70,
          80,
          70,
          40,
          50,
          45,
          70,
          45,
          55,
          30,
          39,
          37
         ],
         "yaxis": "y2"
        },
        {
         "alignmentgroup": "True",
         "hovertemplate": "Sentiment= Joy <br>Platform=Facebook<br>Country=%{x}<br>Likes=%{y}<extra></extra>",
         "legendgroup": " Joy ",
         "marker": {
          "color": "#00cc96",
          "pattern": {
           "shape": ""
          }
         },
         "name": " Joy ",
         "offsetgroup": " Joy ",
         "orientation": "v",
         "showlegend": false,
         "textposition": "auto",
         "type": "bar",
         "x": [
          "USA",
          "UK",
          "Canada",
          "Canada",
          "Canada",
          "Canada",
          "Canada",
          "UK",
          "UK",
          "USA",
          "USA",
          "Canada",
          "USA",
          "USA",
          "Canada",
          "USA",
          "UK",
          "Canada"
         ],
         "xaxis": "x3",
         "y": [
          55,
          45,
          70,
          45,
          55,
          35,
          45,
          35,
          45,
          50,
          40,
          55,
          50,
          40,
          50,
          40,
          43,
          48
         ],
         "yaxis": "y3"
        },
        {
         "alignmentgroup": "True",
         "hovertemplate": "Sentiment= Happiness <br>Platform=Twitter<br>Country=%{x}<br>Likes=%{y}<extra></extra>",
         "legendgroup": " Happiness ",
         "marker": {
          "color": "#ab63fa",
          "pattern": {
           "shape": ""
          }
         },
         "name": " Happiness ",
         "offsetgroup": " Happiness ",
         "orientation": "v",
         "showlegend": true,
         "textposition": "auto",
         "type": "bar",
         "x": [
          "Canada"
         ],
         "xaxis": "x",
         "y": [
          70
         ],
         "yaxis": "y"
        },
        {
         "alignmentgroup": "True",
         "hovertemplate": "Sentiment= Happiness <br>Platform=Facebook<br>Country=%{x}<br>Likes=%{y}<extra></extra>",
         "legendgroup": " Happiness ",
         "marker": {
          "color": "#ab63fa",
          "pattern": {
           "shape": ""
          }
         },
         "name": " Happiness ",
         "offsetgroup": " Happiness ",
         "orientation": "v",
         "showlegend": false,
         "textposition": "auto",
         "type": "bar",
         "x": [
          "Brazil"
         ],
         "xaxis": "x3",
         "y": [
          60
         ],
         "yaxis": "y3"
        },
        {
         "alignmentgroup": "True",
         "hovertemplate": "Sentiment= Enthusiasm <br>Platform=Instagram<br>Country=%{x}<br>Likes=%{y}<extra></extra>",
         "legendgroup": " Enthusiasm ",
         "marker": {
          "color": "#FFA15A",
          "pattern": {
           "shape": ""
          }
         },
         "name": " Enthusiasm ",
         "offsetgroup": " Enthusiasm ",
         "orientation": "v",
         "showlegend": true,
         "textposition": "auto",
         "type": "bar",
         "x": [
          "Australia",
          "Canada"
         ],
         "xaxis": "x2",
         "y": [
          60,
          80
         ],
         "yaxis": "y2"
        },
        {
         "alignmentgroup": "True",
         "hovertemplate": "Sentiment= Gratitude <br>Platform=Twitter<br>Country=%{x}<br>Likes=%{y}<extra></extra>",
         "legendgroup": " Gratitude ",
         "marker": {
          "color": "#19d3f3",
          "pattern": {
           "shape": ""
          }
         },
         "name": " Gratitude ",
         "offsetgroup": " Gratitude ",
         "orientation": "v",
         "showlegend": true,
         "textposition": "auto",
         "type": "bar",
         "x": [
          "India",
          "UK",
          "UK",
          "Canada"
         ],
         "xaxis": "x",
         "y": [
          45,
          55,
          55,
          45
         ],
         "yaxis": "y"
        },
        {
         "alignmentgroup": "True",
         "hovertemplate": "Sentiment= Gratitude <br>Platform=Instagram<br>Country=%{x}<br>Likes=%{y}<extra></extra>",
         "legendgroup": " Gratitude ",
         "marker": {
          "color": "#19d3f3",
          "pattern": {
           "shape": ""
          }
         },
         "name": " Gratitude ",
         "offsetgroup": " Gratitude ",
         "orientation": "v",
         "showlegend": false,
         "textposition": "auto",
         "type": "bar",
         "x": [
          "USA",
          "UK"
         ],
         "xaxis": "x2",
         "y": [
          60,
          45
         ],
         "yaxis": "y2"
        },
        {
         "alignmentgroup": "True",
         "hovertemplate": "Sentiment= Gratitude <br>Platform=Facebook<br>Country=%{x}<br>Likes=%{y}<extra></extra>",
         "legendgroup": " Gratitude ",
         "marker": {
          "color": "#19d3f3",
          "pattern": {
           "shape": ""
          }
         },
         "name": " Gratitude ",
         "offsetgroup": " Gratitude ",
         "orientation": "v",
         "showlegend": false,
         "textposition": "auto",
         "type": "bar",
         "x": [
          "Germany",
          "USA",
          "USA"
         ],
         "xaxis": "x3",
         "y": [
          55,
          35,
          70
         ],
         "yaxis": "y3"
        },
        {
         "alignmentgroup": "True",
         "hovertemplate": "Sentiment= Positivity <br>Platform=Instagram<br>Country=%{x}<br>Likes=%{y}<extra></extra>",
         "legendgroup": " Positivity ",
         "marker": {
          "color": "#FF6692",
          "pattern": {
           "shape": ""
          }
         },
         "name": " Positivity ",
         "offsetgroup": " Positivity ",
         "orientation": "v",
         "showlegend": true,
         "textposition": "auto",
         "type": "bar",
         "x": [
          "France"
         ],
         "xaxis": "x2",
         "y": [
          35
         ],
         "yaxis": "y2"
        },
        {
         "alignmentgroup": "True",
         "hovertemplate": "Sentiment= Kindness <br>Platform=Facebook<br>Country=%{x}<br>Likes=%{y}<extra></extra>",
         "legendgroup": " Kindness ",
         "marker": {
          "color": "#B6E880",
          "pattern": {
           "shape": ""
          }
         },
         "name": " Kindness ",
         "offsetgroup": " Kindness ",
         "orientation": "v",
         "showlegend": true,
         "textposition": "auto",
         "type": "bar",
         "x": [
          "Brazil"
         ],
         "xaxis": "x3",
         "y": [
          50
         ],
         "yaxis": "y3"
        },
        {
         "alignmentgroup": "True",
         "hovertemplate": "Sentiment= Friendship <br>Platform=Instagram<br>Country=%{x}<br>Likes=%{y}<extra></extra>",
         "legendgroup": " Friendship ",
         "marker": {
          "color": "#FF97FF",
          "pattern": {
           "shape": ""
          }
         },
         "name": " Friendship ",
         "offsetgroup": " Friendship ",
         "orientation": "v",
         "showlegend": true,
         "textposition": "auto",
         "type": "bar",
         "x": [
          "South Africa"
         ],
         "xaxis": "x2",
         "y": [
          60
         ],
         "yaxis": "y2"
        },
        {
         "alignmentgroup": "True",
         "hovertemplate": "Sentiment= Love <br>Platform=Twitter<br>Country=%{x}<br>Likes=%{y}<extra></extra>",
         "legendgroup": " Love ",
         "marker": {
          "color": "#FECB52",
          "pattern": {
           "shape": ""
          }
         },
         "name": " Love ",
         "offsetgroup": " Love ",
         "orientation": "v",
         "showlegend": true,
         "textposition": "auto",
         "type": "bar",
         "x": [
          "USA"
         ],
         "xaxis": "x",
         "y": [
          70
         ],
         "yaxis": "y"
        },
        {
         "alignmentgroup": "True",
         "hovertemplate": "Sentiment= Surprise <br>Platform=Twitter<br>Country=%{x}<br>Likes=%{y}<extra></extra>",
         "legendgroup": " Surprise ",
         "marker": {
          "color": "#636efa",
          "pattern": {
           "shape": ""
          }
         },
         "name": " Surprise ",
         "offsetgroup": " Surprise ",
         "orientation": "v",
         "showlegend": true,
         "textposition": "auto",
         "type": "bar",
         "x": [
          "Australia"
         ],
         "xaxis": "x",
         "y": [
          50
         ],
         "yaxis": "y"
        },
        {
         "alignmentgroup": "True",
         "hovertemplate": "Sentiment= Surprise <br>Platform=Instagram<br>Country=%{x}<br>Likes=%{y}<extra></extra>",
         "legendgroup": " Surprise ",
         "marker": {
          "color": "#636efa",
          "pattern": {
           "shape": ""
          }
         },
         "name": " Surprise ",
         "offsetgroup": " Surprise ",
         "orientation": "v",
         "showlegend": false,
         "textposition": "auto",
         "type": "bar",
         "x": [
          "Canada"
         ],
         "xaxis": "x2",
         "y": [
          50
         ],
         "yaxis": "y2"
        },
        {
         "alignmentgroup": "True",
         "hovertemplate": "Sentiment= Surprise <br>Platform=Facebook<br>Country=%{x}<br>Likes=%{y}<extra></extra>",
         "legendgroup": " Surprise ",
         "marker": {
          "color": "#636efa",
          "pattern": {
           "shape": ""
          }
         },
         "name": " Surprise ",
         "offsetgroup": " Surprise ",
         "orientation": "v",
         "showlegend": false,
         "textposition": "auto",
         "type": "bar",
         "x": [
          "USA"
         ],
         "xaxis": "x3",
         "y": [
          35
         ],
         "yaxis": "y3"
        },
        {
         "alignmentgroup": "True",
         "hovertemplate": "Sentiment= Success <br>Platform=Instagram<br>Country=%{x}<br>Likes=%{y}<extra></extra>",
         "legendgroup": " Success ",
         "marker": {
          "color": "#EF553B",
          "pattern": {
           "shape": ""
          }
         },
         "name": " Success ",
         "offsetgroup": " Success ",
         "orientation": "v",
         "showlegend": true,
         "textposition": "auto",
         "type": "bar",
         "x": [
          "Japan"
         ],
         "xaxis": "x2",
         "y": [
          45
         ],
         "yaxis": "y2"
        },
        {
         "alignmentgroup": "True",
         "hovertemplate": "Sentiment= Thrill <br>Platform=Twitter<br>Country=%{x}<br>Likes=%{y}<extra></extra>",
         "legendgroup": " Thrill ",
         "marker": {
          "color": "#00cc96",
          "pattern": {
           "shape": ""
          }
         },
         "name": " Thrill ",
         "offsetgroup": " Thrill ",
         "orientation": "v",
         "showlegend": true,
         "textposition": "auto",
         "type": "bar",
         "x": [
          "Germany"
         ],
         "xaxis": "x",
         "y": [
          55
         ],
         "yaxis": "y"
        },
        {
         "alignmentgroup": "True",
         "hovertemplate": "Sentiment= Thrill <br>Platform=Instagram<br>Country=%{x}<br>Likes=%{y}<extra></extra>",
         "legendgroup": " Thrill ",
         "marker": {
          "color": "#00cc96",
          "pattern": {
           "shape": ""
          }
         },
         "name": " Thrill ",
         "offsetgroup": " Thrill ",
         "orientation": "v",
         "showlegend": false,
         "textposition": "auto",
         "type": "bar",
         "x": [
          "South Africa"
         ],
         "xaxis": "x2",
         "y": [
          70
         ],
         "yaxis": "y2"
        },
        {
         "alignmentgroup": "True",
         "hovertemplate": "Sentiment= Reflection <br>Platform=Twitter<br>Country=%{x}<br>Likes=%{y}<extra></extra>",
         "legendgroup": " Reflection ",
         "marker": {
          "color": "#ab63fa",
          "pattern": {
           "shape": ""
          }
         },
         "name": " Reflection ",
         "offsetgroup": " Reflection ",
         "orientation": "v",
         "showlegend": true,
         "textposition": "auto",
         "type": "bar",
         "x": [
          "France"
         ],
         "xaxis": "x",
         "y": [
          55
         ],
         "yaxis": "y"
        },
        {
         "alignmentgroup": "True",
         "hovertemplate": "Sentiment= Reflection <br>Platform=Facebook<br>Country=%{x}<br>Likes=%{y}<extra></extra>",
         "legendgroup": " Reflection ",
         "marker": {
          "color": "#ab63fa",
          "pattern": {
           "shape": ""
          }
         },
         "name": " Reflection ",
         "offsetgroup": " Reflection ",
         "orientation": "v",
         "showlegend": false,
         "textposition": "auto",
         "type": "bar",
         "x": [
          "UK"
         ],
         "xaxis": "x3",
         "y": [
          60
         ],
         "yaxis": "y3"
        },
        {
         "alignmentgroup": "True",
         "hovertemplate": "Sentiment= Enchantment <br>Platform=Instagram<br>Country=%{x}<br>Likes=%{y}<extra></extra>",
         "legendgroup": " Enchantment ",
         "marker": {
          "color": "#FFA15A",
          "pattern": {
           "shape": ""
          }
         },
         "name": " Enchantment ",
         "offsetgroup": " Enchantment ",
         "orientation": "v",
         "showlegend": true,
         "textposition": "auto",
         "type": "bar",
         "x": [
          "USA"
         ],
         "xaxis": "x2",
         "y": [
          60
         ],
         "yaxis": "y2"
        },
        {
         "alignmentgroup": "True",
         "hovertemplate": "Sentiment= Enchantment <br>Platform=Facebook<br>Country=%{x}<br>Likes=%{y}<extra></extra>",
         "legendgroup": " Enchantment ",
         "marker": {
          "color": "#FFA15A",
          "pattern": {
           "shape": ""
          }
         },
         "name": " Enchantment ",
         "offsetgroup": " Enchantment ",
         "orientation": "v",
         "showlegend": false,
         "textposition": "auto",
         "type": "bar",
         "x": [
          "USA"
         ],
         "xaxis": "x3",
         "y": [
          60
         ],
         "yaxis": "y3"
        },
        {
         "alignmentgroup": "True",
         "hovertemplate": "Sentiment= Exploration <br>Platform=Twitter<br>Country=%{x}<br>Likes=%{y}<extra></extra>",
         "legendgroup": " Exploration ",
         "marker": {
          "color": "#19d3f3",
          "pattern": {
           "shape": ""
          }
         },
         "name": " Exploration ",
         "offsetgroup": " Exploration ",
         "orientation": "v",
         "showlegend": true,
         "textposition": "auto",
         "type": "bar",
         "x": [
          "Japan"
         ],
         "xaxis": "x",
         "y": [
          35
         ],
         "yaxis": "y"
        },
        {
         "alignmentgroup": "True",
         "hovertemplate": "Sentiment= Exploration <br>Platform=Instagram<br>Country=%{x}<br>Likes=%{y}<extra></extra>",
         "legendgroup": " Exploration ",
         "marker": {
          "color": "#19d3f3",
          "pattern": {
           "shape": ""
          }
         },
         "name": " Exploration ",
         "offsetgroup": " Exploration ",
         "orientation": "v",
         "showlegend": false,
         "textposition": "auto",
         "type": "bar",
         "x": [
          "Cambodia"
         ],
         "xaxis": "x2",
         "y": [
          40
         ],
         "yaxis": "y2"
        },
        {
         "alignmentgroup": "True",
         "hovertemplate": "Sentiment= Awe <br>Platform=Twitter<br>Country=%{x}<br>Likes=%{y}<extra></extra>",
         "legendgroup": " Awe ",
         "marker": {
          "color": "#FF6692",
          "pattern": {
           "shape": ""
          }
         },
         "name": " Awe ",
         "offsetgroup": " Awe ",
         "orientation": "v",
         "showlegend": true,
         "textposition": "auto",
         "type": "bar",
         "x": [
          "China"
         ],
         "xaxis": "x",
         "y": [
          35
         ],
         "yaxis": "y"
        },
        {
         "alignmentgroup": "True",
         "hovertemplate": "Sentiment= Awe <br>Platform=Instagram<br>Country=%{x}<br>Likes=%{y}<extra></extra>",
         "legendgroup": " Awe ",
         "marker": {
          "color": "#FF6692",
          "pattern": {
           "shape": ""
          }
         },
         "name": " Awe ",
         "offsetgroup": " Awe ",
         "orientation": "v",
         "showlegend": false,
         "textposition": "auto",
         "type": "bar",
         "x": [
          "USA",
          "Scotland"
         ],
         "xaxis": "x2",
         "y": [
          50,
          45
         ],
         "yaxis": "y2"
        },
        {
         "alignmentgroup": "True",
         "hovertemplate": "Sentiment= Awe <br>Platform=Facebook<br>Country=%{x}<br>Likes=%{y}<extra></extra>",
         "legendgroup": " Awe ",
         "marker": {
          "color": "#FF6692",
          "pattern": {
           "shape": ""
          }
         },
         "name": " Awe ",
         "offsetgroup": " Awe ",
         "orientation": "v",
         "showlegend": false,
         "textposition": "auto",
         "type": "bar",
         "x": [
          "Peru"
         ],
         "xaxis": "x3",
         "y": [
          55
         ],
         "yaxis": "y3"
        },
        {
         "alignmentgroup": "True",
         "hovertemplate": "Sentiment= Amazement <br>Platform=Twitter<br>Country=%{x}<br>Likes=%{y}<extra></extra>",
         "legendgroup": " Amazement ",
         "marker": {
          "color": "#B6E880",
          "pattern": {
           "shape": ""
          }
         },
         "name": " Amazement ",
         "offsetgroup": " Amazement ",
         "orientation": "v",
         "showlegend": true,
         "textposition": "auto",
         "type": "bar",
         "x": [
          "Jordan"
         ],
         "xaxis": "x",
         "y": [
          60
         ],
         "yaxis": "y"
        },
        {
         "alignmentgroup": "True",
         "hovertemplate": "Sentiment= Romance <br>Platform=Instagram<br>Country=%{x}<br>Likes=%{y}<extra></extra>",
         "legendgroup": " Romance ",
         "marker": {
          "color": "#FF97FF",
          "pattern": {
           "shape": ""
          }
         },
         "name": " Romance ",
         "offsetgroup": " Romance ",
         "orientation": "v",
         "showlegend": true,
         "textposition": "auto",
         "type": "bar",
         "x": [
          "Italy"
         ],
         "xaxis": "x2",
         "y": [
          40
         ],
         "yaxis": "y2"
        },
        {
         "alignmentgroup": "True",
         "hovertemplate": "Sentiment= Captivation <br>Platform=Twitter<br>Country=%{x}<br>Likes=%{y}<extra></extra>",
         "legendgroup": " Captivation ",
         "marker": {
          "color": "#FECB52",
          "pattern": {
           "shape": ""
          }
         },
         "name": " Captivation ",
         "offsetgroup": " Captivation ",
         "orientation": "v",
         "showlegend": true,
         "textposition": "auto",
         "type": "bar",
         "x": [
          "Italy",
          "UK"
         ],
         "xaxis": "x",
         "y": [
          50,
          55
         ],
         "yaxis": "y"
        },
        {
         "alignmentgroup": "True",
         "hovertemplate": "Sentiment= Wonder <br>Platform=Instagram<br>Country=%{x}<br>Likes=%{y}<extra></extra>",
         "legendgroup": " Wonder ",
         "marker": {
          "color": "#636efa",
          "pattern": {
           "shape": ""
          }
         },
         "name": " Wonder ",
         "offsetgroup": " Wonder ",
         "orientation": "v",
         "showlegend": true,
         "textposition": "auto",
         "type": "bar",
         "x": [
          "Brazil"
         ],
         "xaxis": "x2",
         "y": [
          60
         ],
         "yaxis": "y2"
        },
        {
         "alignmentgroup": "True",
         "hovertemplate": "Sentiment= Tranquility <br>Platform=Instagram<br>Country=%{x}<br>Likes=%{y}<extra></extra>",
         "legendgroup": " Tranquility ",
         "marker": {
          "color": "#EF553B",
          "pattern": {
           "shape": ""
          }
         },
         "name": " Tranquility ",
         "offsetgroup": " Tranquility ",
         "orientation": "v",
         "showlegend": true,
         "textposition": "auto",
         "type": "bar",
         "x": [
          "Canada"
         ],
         "xaxis": "x2",
         "y": [
          80
         ],
         "yaxis": "y2"
        },
        {
         "alignmentgroup": "True",
         "hovertemplate": "Sentiment= Tranquility <br>Platform=Facebook<br>Country=%{x}<br>Likes=%{y}<extra></extra>",
         "legendgroup": " Tranquility ",
         "marker": {
          "color": "#EF553B",
          "pattern": {
           "shape": ""
          }
         },
         "name": " Tranquility ",
         "offsetgroup": " Tranquility ",
         "orientation": "v",
         "showlegend": false,
         "textposition": "auto",
         "type": "bar",
         "x": [
          "Japan"
         ],
         "xaxis": "x3",
         "y": [
          50
         ],
         "yaxis": "y3"
        },
        {
         "alignmentgroup": "True",
         "hovertemplate": "Sentiment= Grandeur <br>Platform=Instagram<br>Country=%{x}<br>Likes=%{y}<extra></extra>",
         "legendgroup": " Grandeur ",
         "marker": {
          "color": "#00cc96",
          "pattern": {
           "shape": ""
          }
         },
         "name": " Grandeur ",
         "offsetgroup": " Grandeur ",
         "orientation": "v",
         "showlegend": true,
         "textposition": "auto",
         "type": "bar",
         "x": [
          "Norway"
         ],
         "xaxis": "x2",
         "y": [
          45
         ],
         "yaxis": "y2"
        },
        {
         "alignmentgroup": "True",
         "hovertemplate": "Sentiment= Emotion <br>Platform=Instagram<br>Country=%{x}<br>Likes=%{y}<extra></extra>",
         "legendgroup": " Emotion ",
         "marker": {
          "color": "#ab63fa",
          "pattern": {
           "shape": ""
          }
         },
         "name": " Emotion ",
         "offsetgroup": " Emotion ",
         "orientation": "v",
         "showlegend": true,
         "textposition": "auto",
         "type": "bar",
         "x": [
          "USA"
         ],
         "xaxis": "x2",
         "y": [
          80
         ],
         "yaxis": "y2"
        },
        {
         "alignmentgroup": "True",
         "hovertemplate": "Sentiment= Emotion <br>Platform=Facebook<br>Country=%{x}<br>Likes=%{y}<extra></extra>",
         "legendgroup": " Emotion ",
         "marker": {
          "color": "#ab63fa",
          "pattern": {
           "shape": ""
          }
         },
         "name": " Emotion ",
         "offsetgroup": " Emotion ",
         "orientation": "v",
         "showlegend": false,
         "textposition": "auto",
         "type": "bar",
         "x": [
          "UK"
         ],
         "xaxis": "x3",
         "y": [
          60
         ],
         "yaxis": "y3"
        },
        {
         "alignmentgroup": "True",
         "hovertemplate": "Sentiment= Energy <br>Platform=Twitter<br>Country=%{x}<br>Likes=%{y}<extra></extra>",
         "legendgroup": " Energy ",
         "marker": {
          "color": "#FFA15A",
          "pattern": {
           "shape": ""
          }
         },
         "name": " Energy ",
         "offsetgroup": " Energy ",
         "orientation": "v",
         "showlegend": true,
         "textposition": "auto",
         "type": "bar",
         "x": [
          "USA"
         ],
         "xaxis": "x",
         "y": [
          70
         ],
         "yaxis": "y"
        },
        {
         "alignmentgroup": "True",
         "hovertemplate": "Sentiment= Celebration <br>Platform=Instagram<br>Country=%{x}<br>Likes=%{y}<extra></extra>",
         "legendgroup": " Celebration ",
         "marker": {
          "color": "#19d3f3",
          "pattern": {
           "shape": ""
          }
         },
         "name": " Celebration ",
         "offsetgroup": " Celebration ",
         "orientation": "v",
         "showlegend": true,
         "textposition": "auto",
         "type": "bar",
         "x": [
          "USA"
         ],
         "xaxis": "x2",
         "y": [
          50
         ],
         "yaxis": "y2"
        },
        {
         "alignmentgroup": "True",
         "hovertemplate": "Sentiment= Charm <br>Platform=Twitter<br>Country=%{x}<br>Likes=%{y}<extra></extra>",
         "legendgroup": " Charm ",
         "marker": {
          "color": "#FF6692",
          "pattern": {
           "shape": ""
          }
         },
         "name": " Charm ",
         "offsetgroup": " Charm ",
         "orientation": "v",
         "showlegend": true,
         "textposition": "auto",
         "type": "bar",
         "x": [
          "USA"
         ],
         "xaxis": "x",
         "y": [
          45
         ],
         "yaxis": "y"
        },
        {
         "alignmentgroup": "True",
         "hovertemplate": "Sentiment= Ecstasy <br>Platform=Facebook<br>Country=%{x}<br>Likes=%{y}<extra></extra>",
         "legendgroup": " Ecstasy ",
         "marker": {
          "color": "#B6E880",
          "pattern": {
           "shape": ""
          }
         },
         "name": " Ecstasy ",
         "offsetgroup": " Ecstasy ",
         "orientation": "v",
         "showlegend": true,
         "textposition": "auto",
         "type": "bar",
         "x": [
          "USA"
         ],
         "xaxis": "x3",
         "y": [
          70
         ],
         "yaxis": "y3"
        },
        {
         "alignmentgroup": "True",
         "hovertemplate": "Sentiment= Hope <br>Platform=Instagram<br>Country=%{x}<br>Likes=%{y}<extra></extra>",
         "legendgroup": " Hope ",
         "marker": {
          "color": "#FF97FF",
          "pattern": {
           "shape": ""
          }
         },
         "name": " Hope ",
         "offsetgroup": " Hope ",
         "orientation": "v",
         "showlegend": true,
         "textposition": "auto",
         "type": "bar",
         "x": [
          "UK"
         ],
         "xaxis": "x2",
         "y": [
          60
         ],
         "yaxis": "y2"
        },
        {
         "alignmentgroup": "True",
         "hovertemplate": "Sentiment= Creativity <br>Platform=Twitter<br>Country=%{x}<br>Likes=%{y}<extra></extra>",
         "legendgroup": " Creativity ",
         "marker": {
          "color": "#FECB52",
          "pattern": {
           "shape": ""
          }
         },
         "name": " Creativity ",
         "offsetgroup": " Creativity ",
         "orientation": "v",
         "showlegend": true,
         "textposition": "auto",
         "type": "bar",
         "x": [
          "USA"
         ],
         "xaxis": "x",
         "y": [
          70
         ],
         "yaxis": "y"
        },
        {
         "alignmentgroup": "True",
         "hovertemplate": "Sentiment= Creativity <br>Platform=Instagram<br>Country=%{x}<br>Likes=%{y}<extra></extra>",
         "legendgroup": " Creativity ",
         "marker": {
          "color": "#FECB52",
          "pattern": {
           "shape": ""
          }
         },
         "name": " Creativity ",
         "offsetgroup": " Creativity ",
         "orientation": "v",
         "showlegend": false,
         "textposition": "auto",
         "type": "bar",
         "x": [
          "Brazil"
         ],
         "xaxis": "x2",
         "y": [
          45
         ],
         "yaxis": "y2"
        },
        {
         "alignmentgroup": "True",
         "hovertemplate": "Sentiment= Colorful <br>Platform=Instagram<br>Country=%{x}<br>Likes=%{y}<extra></extra>",
         "legendgroup": " Colorful ",
         "marker": {
          "color": "#636efa",
          "pattern": {
           "shape": ""
          }
         },
         "name": " Colorful ",
         "offsetgroup": " Colorful ",
         "orientation": "v",
         "showlegend": true,
         "textposition": "auto",
         "type": "bar",
         "x": [
          "USA"
         ],
         "xaxis": "x2",
         "y": [
          45
         ],
         "yaxis": "y2"
        },
        {
         "alignmentgroup": "True",
         "hovertemplate": "Sentiment= Pride <br>Platform=Twitter<br>Country=%{x}<br>Likes=%{y}<extra></extra>",
         "legendgroup": " Pride ",
         "marker": {
          "color": "#EF553B",
          "pattern": {
           "shape": ""
          }
         },
         "name": " Pride ",
         "offsetgroup": " Pride ",
         "orientation": "v",
         "showlegend": true,
         "textposition": "auto",
         "type": "bar",
         "x": [
          "USA",
          "Australia",
          "USA"
         ],
         "xaxis": "x",
         "y": [
          35,
          45,
          50
         ],
         "yaxis": "y"
        },
        {
         "alignmentgroup": "True",
         "hovertemplate": "Sentiment= Hypnotic <br>Platform=Facebook<br>Country=%{x}<br>Likes=%{y}<extra></extra>",
         "legendgroup": " Hypnotic ",
         "marker": {
          "color": "#00cc96",
          "pattern": {
           "shape": ""
          }
         },
         "name": " Hypnotic ",
         "offsetgroup": " Hypnotic ",
         "orientation": "v",
         "showlegend": true,
         "textposition": "auto",
         "type": "bar",
         "x": [
          "Colombia"
         ],
         "xaxis": "x3",
         "y": [
          55
         ],
         "yaxis": "y3"
        },
        {
         "alignmentgroup": "True",
         "hovertemplate": "Sentiment= Connection <br>Platform=Instagram<br>Country=%{x}<br>Likes=%{y}<extra></extra>",
         "legendgroup": " Connection ",
         "marker": {
          "color": "#ab63fa",
          "pattern": {
           "shape": ""
          }
         },
         "name": " Connection ",
         "offsetgroup": " Connection ",
         "orientation": "v",
         "showlegend": true,
         "textposition": "auto",
         "type": "bar",
         "x": [
          "Ireland"
         ],
         "xaxis": "x2",
         "y": [
          50
         ],
         "yaxis": "y2"
        },
        {
         "alignmentgroup": "True",
         "hovertemplate": "Sentiment= Iconic <br>Platform=Twitter<br>Country=%{x}<br>Likes=%{y}<extra></extra>",
         "legendgroup": " Iconic ",
         "marker": {
          "color": "#FFA15A",
          "pattern": {
           "shape": ""
          }
         },
         "name": " Iconic ",
         "offsetgroup": " Iconic ",
         "orientation": "v",
         "showlegend": true,
         "textposition": "auto",
         "type": "bar",
         "x": [
          "USA"
         ],
         "xaxis": "x",
         "y": [
          45
         ],
         "yaxis": "y"
        },
        {
         "alignmentgroup": "True",
         "hovertemplate": "Sentiment= Euphoria <br>Platform=Facebook<br>Country=%{x}<br>Likes=%{y}<extra></extra>",
         "legendgroup": " Euphoria ",
         "marker": {
          "color": "#19d3f3",
          "pattern": {
           "shape": ""
          }
         },
         "name": " Euphoria ",
         "offsetgroup": " Euphoria ",
         "orientation": "v",
         "showlegend": true,
         "textposition": "auto",
         "type": "bar",
         "x": [
          "USA"
         ],
         "xaxis": "x3",
         "y": [
          70
         ],
         "yaxis": "y3"
        },
        {
         "alignmentgroup": "True",
         "hovertemplate": "Sentiment= Journey <br>Platform=Instagram<br>Country=%{x}<br>Likes=%{y}<extra></extra>",
         "legendgroup": " Journey ",
         "marker": {
          "color": "#FF6692",
          "pattern": {
           "shape": ""
          }
         },
         "name": " Journey ",
         "offsetgroup": " Journey ",
         "orientation": "v",
         "showlegend": true,
         "textposition": "auto",
         "type": "bar",
         "x": [
          "Jamaica"
         ],
         "xaxis": "x2",
         "y": [
          60
         ],
         "yaxis": "y2"
        },
        {
         "alignmentgroup": "True",
         "hovertemplate": "Sentiment= Engagement <br>Platform=Facebook<br>Country=%{x}<br>Likes=%{y}<extra></extra>",
         "legendgroup": " Engagement ",
         "marker": {
          "color": "#B6E880",
          "pattern": {
           "shape": ""
          }
         },
         "name": " Engagement ",
         "offsetgroup": " Engagement ",
         "orientation": "v",
         "showlegend": true,
         "textposition": "auto",
         "type": "bar",
         "x": [
          "Canada"
         ],
         "xaxis": "x3",
         "y": [
          60
         ],
         "yaxis": "y3"
        },
        {
         "alignmentgroup": "True",
         "hovertemplate": "Sentiment= Touched <br>Platform=Instagram<br>Country=%{x}<br>Likes=%{y}<extra></extra>",
         "legendgroup": " Touched ",
         "marker": {
          "color": "#FF97FF",
          "pattern": {
           "shape": ""
          }
         },
         "name": " Touched ",
         "offsetgroup": " Touched ",
         "orientation": "v",
         "showlegend": true,
         "textposition": "auto",
         "type": "bar",
         "x": [
          "India"
         ],
         "xaxis": "x2",
         "y": [
          55
         ],
         "yaxis": "y2"
        },
        {
         "alignmentgroup": "True",
         "hovertemplate": "Sentiment= Suspense <br>Platform=Facebook<br>Country=%{x}<br>Likes=%{y}<extra></extra>",
         "legendgroup": " Suspense ",
         "marker": {
          "color": "#FECB52",
          "pattern": {
           "shape": ""
          }
         },
         "name": " Suspense ",
         "offsetgroup": " Suspense ",
         "orientation": "v",
         "showlegend": true,
         "textposition": "auto",
         "type": "bar",
         "x": [
          "Japan"
         ],
         "xaxis": "x3",
         "y": [
          70
         ],
         "yaxis": "y3"
        },
        {
         "alignmentgroup": "True",
         "hovertemplate": "Sentiment= Satisfaction <br>Platform=Twitter<br>Country=%{x}<br>Likes=%{y}<extra></extra>",
         "legendgroup": " Satisfaction ",
         "marker": {
          "color": "#636efa",
          "pattern": {
           "shape": ""
          }
         },
         "name": " Satisfaction ",
         "offsetgroup": " Satisfaction ",
         "orientation": "v",
         "showlegend": true,
         "textposition": "auto",
         "type": "bar",
         "x": [
          "Brazil",
          "UK"
         ],
         "xaxis": "x",
         "y": [
          45,
          55
         ],
         "yaxis": "y"
        },
        {
         "alignmentgroup": "True",
         "hovertemplate": "Sentiment= Admiration <br>Platform=Instagram<br>Country=%{x}<br>Likes=%{y}<extra></extra>",
         "legendgroup": " Admiration ",
         "marker": {
          "color": "#EF553B",
          "pattern": {
           "shape": ""
          }
         },
         "name": " Admiration ",
         "offsetgroup": " Admiration ",
         "orientation": "v",
         "showlegend": true,
         "textposition": "auto",
         "type": "bar",
         "x": [
          "Kenya"
         ],
         "xaxis": "x2",
         "y": [
          45
         ],
         "yaxis": "y2"
        },
        {
         "alignmentgroup": "True",
         "hovertemplate": "Sentiment= Triumph <br>Platform=Facebook<br>Country=%{x}<br>Likes=%{y}<extra></extra>",
         "legendgroup": " Triumph ",
         "marker": {
          "color": "#00cc96",
          "pattern": {
           "shape": ""
          }
         },
         "name": " Triumph ",
         "offsetgroup": " Triumph ",
         "orientation": "v",
         "showlegend": true,
         "textposition": "auto",
         "type": "bar",
         "x": [
          "USA"
         ],
         "xaxis": "x3",
         "y": [
          35
         ],
         "yaxis": "y3"
        },
        {
         "alignmentgroup": "True",
         "hovertemplate": "Sentiment= Heartwarming <br>Platform=Instagram<br>Country=%{x}<br>Likes=%{y}<extra></extra>",
         "legendgroup": " Heartwarming ",
         "marker": {
          "color": "#ab63fa",
          "pattern": {
           "shape": ""
          }
         },
         "name": " Heartwarming ",
         "offsetgroup": " Heartwarming ",
         "orientation": "v",
         "showlegend": true,
         "textposition": "auto",
         "type": "bar",
         "x": [
          "Canada"
         ],
         "xaxis": "x2",
         "y": [
          45
         ],
         "yaxis": "y2"
        },
        {
         "alignmentgroup": "True",
         "hovertemplate": "Sentiment= Obstacle <br>Platform=Twitter<br>Country=%{x}<br>Likes=%{y}<extra></extra>",
         "legendgroup": " Obstacle ",
         "marker": {
          "color": "#FFA15A",
          "pattern": {
           "shape": ""
          }
         },
         "name": " Obstacle ",
         "offsetgroup": " Obstacle ",
         "orientation": "v",
         "showlegend": true,
         "textposition": "auto",
         "type": "bar",
         "x": [
          "France"
         ],
         "xaxis": "x",
         "y": [
          45
         ],
         "yaxis": "y"
        },
        {
         "alignmentgroup": "True",
         "hovertemplate": "Sentiment= Sympathy <br>Platform=Instagram<br>Country=%{x}<br>Likes=%{y}<extra></extra>",
         "legendgroup": " Sympathy ",
         "marker": {
          "color": "#19d3f3",
          "pattern": {
           "shape": ""
          }
         },
         "name": " Sympathy ",
         "offsetgroup": " Sympathy ",
         "orientation": "v",
         "showlegend": true,
         "textposition": "auto",
         "type": "bar",
         "x": [
          "Japan"
         ],
         "xaxis": "x2",
         "y": [
          55
         ],
         "yaxis": "y2"
        },
        {
         "alignmentgroup": "True",
         "hovertemplate": "Sentiment= Pressure <br>Platform=Facebook<br>Country=%{x}<br>Likes=%{y}<extra></extra>",
         "legendgroup": " Pressure ",
         "marker": {
          "color": "#FF6692",
          "pattern": {
           "shape": ""
          }
         },
         "name": " Pressure ",
         "offsetgroup": " Pressure ",
         "orientation": "v",
         "showlegend": true,
         "textposition": "auto",
         "type": "bar",
         "x": [
          "USA"
         ],
         "xaxis": "x3",
         "y": [
          35
         ],
         "yaxis": "y3"
        },
        {
         "alignmentgroup": "True",
         "hovertemplate": "Sentiment= Renewed Effort <br>Platform=Twitter<br>Country=%{x}<br>Likes=%{y}<extra></extra>",
         "legendgroup": " Renewed Effort ",
         "marker": {
          "color": "#B6E880",
          "pattern": {
           "shape": ""
          }
         },
         "name": " Renewed Effort ",
         "offsetgroup": " Renewed Effort ",
         "orientation": "v",
         "showlegend": true,
         "textposition": "auto",
         "type": "bar",
         "x": [
          "Canada"
         ],
         "xaxis": "x",
         "y": [
          45
         ],
         "yaxis": "y"
        },
        {
         "alignmentgroup": "True",
         "hovertemplate": "Sentiment= Miscalculation <br>Platform=Instagram<br>Country=%{x}<br>Likes=%{y}<extra></extra>",
         "legendgroup": " Miscalculation ",
         "marker": {
          "color": "#FF97FF",
          "pattern": {
           "shape": ""
          }
         },
         "name": " Miscalculation ",
         "offsetgroup": " Miscalculation ",
         "orientation": "v",
         "showlegend": true,
         "textposition": "auto",
         "type": "bar",
         "x": [
          "Australia"
         ],
         "xaxis": "x2",
         "y": [
          55
         ],
         "yaxis": "y2"
        },
        {
         "alignmentgroup": "True",
         "hovertemplate": "Sentiment= Challenge <br>Platform=Facebook<br>Country=%{x}<br>Likes=%{y}<extra></extra>",
         "legendgroup": " Challenge ",
         "marker": {
          "color": "#FECB52",
          "pattern": {
           "shape": ""
          }
         },
         "name": " Challenge ",
         "offsetgroup": " Challenge ",
         "orientation": "v",
         "showlegend": true,
         "textposition": "auto",
         "type": "bar",
         "x": [
          "Germany"
         ],
         "xaxis": "x3",
         "y": [
          70
         ],
         "yaxis": "y3"
        },
        {
         "alignmentgroup": "True",
         "hovertemplate": "Sentiment= Solace <br>Platform=Facebook<br>Country=%{x}<br>Likes=%{y}<extra></extra>",
         "legendgroup": " Solace ",
         "marker": {
          "color": "#636efa",
          "pattern": {
           "shape": ""
          }
         },
         "name": " Solace ",
         "offsetgroup": " Solace ",
         "orientation": "v",
         "showlegend": true,
         "textposition": "auto",
         "type": "bar",
         "x": [
          "France"
         ],
         "xaxis": "x3",
         "y": [
          60
         ],
         "yaxis": "y3"
        },
        {
         "alignmentgroup": "True",
         "hovertemplate": "Sentiment= Breakthrough <br>Platform=Twitter<br>Country=%{x}<br>Likes=%{y}<extra></extra>",
         "legendgroup": " Breakthrough ",
         "marker": {
          "color": "#EF553B",
          "pattern": {
           "shape": ""
          }
         },
         "name": " Breakthrough ",
         "offsetgroup": " Breakthrough ",
         "orientation": "v",
         "showlegend": true,
         "textposition": "auto",
         "type": "bar",
         "x": [
          "Germany"
         ],
         "xaxis": "x",
         "y": [
          55
         ],
         "yaxis": "y"
        },
        {
         "alignmentgroup": "True",
         "hovertemplate": "Sentiment= Harmony <br>Platform=Facebook<br>Country=%{x}<br>Likes=%{y}<extra></extra>",
         "legendgroup": " Harmony ",
         "marker": {
          "color": "#00cc96",
          "pattern": {
           "shape": ""
          }
         },
         "name": " Harmony ",
         "offsetgroup": " Harmony ",
         "orientation": "v",
         "showlegend": true,
         "textposition": "auto",
         "type": "bar",
         "x": [
          "UK"
         ],
         "xaxis": "x3",
         "y": [
          35
         ],
         "yaxis": "y3"
        },
        {
         "alignmentgroup": "True",
         "hovertemplate": "Sentiment= Joy in Baking <br>Platform=Instagram<br>Country=%{x}<br>Likes=%{y}<extra></extra>",
         "legendgroup": " Joy in Baking ",
         "marker": {
          "color": "#ab63fa",
          "pattern": {
           "shape": ""
          }
         },
         "name": " Joy in Baking ",
         "offsetgroup": " Joy in Baking ",
         "orientation": "v",
         "showlegend": true,
         "textposition": "auto",
         "type": "bar",
         "x": [
          "India"
         ],
         "xaxis": "x2",
         "y": [
          45
         ],
         "yaxis": "y2"
        },
        {
         "alignmentgroup": "True",
         "hovertemplate": "Sentiment= Envisioning History <br>Platform=Twitter<br>Country=%{x}<br>Likes=%{y}<extra></extra>",
         "legendgroup": " Envisioning History ",
         "marker": {
          "color": "#FFA15A",
          "pattern": {
           "shape": ""
          }
         },
         "name": " Envisioning History ",
         "offsetgroup": " Envisioning History ",
         "orientation": "v",
         "showlegend": true,
         "textposition": "auto",
         "type": "bar",
         "x": [
          "Italy"
         ],
         "xaxis": "x",
         "y": [
          55
         ],
         "yaxis": "y"
        },
        {
         "alignmentgroup": "True",
         "hovertemplate": "Sentiment= Imagination <br>Platform=Facebook<br>Country=%{x}<br>Likes=%{y}<extra></extra>",
         "legendgroup": " Imagination ",
         "marker": {
          "color": "#19d3f3",
          "pattern": {
           "shape": ""
          }
         },
         "name": " Imagination ",
         "offsetgroup": " Imagination ",
         "orientation": "v",
         "showlegend": true,
         "textposition": "auto",
         "type": "bar",
         "x": [
          "Japan"
         ],
         "xaxis": "x3",
         "y": [
          70
         ],
         "yaxis": "y3"
        },
        {
         "alignmentgroup": "True",
         "hovertemplate": "Sentiment= Vibrancy <br>Platform=Instagram<br>Country=%{x}<br>Likes=%{y}<extra></extra>",
         "legendgroup": " Vibrancy ",
         "marker": {
          "color": "#FF6692",
          "pattern": {
           "shape": ""
          }
         },
         "name": " Vibrancy ",
         "offsetgroup": " Vibrancy ",
         "orientation": "v",
         "showlegend": true,
         "textposition": "auto",
         "type": "bar",
         "x": [
          "Australia"
         ],
         "xaxis": "x2",
         "y": [
          45
         ],
         "yaxis": "y2"
        },
        {
         "alignmentgroup": "True",
         "hovertemplate": "Sentiment= Mesmerizing <br>Platform=Twitter<br>Country=%{x}<br>Likes=%{y}<extra></extra>",
         "legendgroup": " Mesmerizing ",
         "marker": {
          "color": "#B6E880",
          "pattern": {
           "shape": ""
          }
         },
         "name": " Mesmerizing ",
         "offsetgroup": " Mesmerizing ",
         "orientation": "v",
         "showlegend": true,
         "textposition": "auto",
         "type": "bar",
         "x": [
          "USA"
         ],
         "xaxis": "x",
         "y": [
          80
         ],
         "yaxis": "y"
        },
        {
         "alignmentgroup": "True",
         "hovertemplate": "Sentiment= Culinary Adventure <br>Platform=Instagram<br>Country=%{x}<br>Likes=%{y}<extra></extra>",
         "legendgroup": " Culinary Adventure ",
         "marker": {
          "color": "#FF97FF",
          "pattern": {
           "shape": ""
          }
         },
         "name": " Culinary Adventure ",
         "offsetgroup": " Culinary Adventure ",
         "orientation": "v",
         "showlegend": true,
         "textposition": "auto",
         "type": "bar",
         "x": [
          "Thailand"
         ],
         "xaxis": "x2",
         "y": [
          70
         ],
         "yaxis": "y2"
        },
        {
         "alignmentgroup": "True",
         "hovertemplate": "Sentiment= Winter Magic <br>Platform=Facebook<br>Country=%{x}<br>Likes=%{y}<extra></extra>",
         "legendgroup": " Winter Magic ",
         "marker": {
          "color": "#FECB52",
          "pattern": {
           "shape": ""
          }
         },
         "name": " Winter Magic ",
         "offsetgroup": " Winter Magic ",
         "orientation": "v",
         "showlegend": true,
         "textposition": "auto",
         "type": "bar",
         "x": [
          "Canada"
         ],
         "xaxis": "x3",
         "y": [
          60
         ],
         "yaxis": "y3"
        },
        {
         "alignmentgroup": "True",
         "hovertemplate": "Sentiment= Thrilling Journey <br>Platform=Twitter<br>Country=%{x}<br>Likes=%{y}<extra></extra>",
         "legendgroup": " Thrilling Journey ",
         "marker": {
          "color": "#636efa",
          "pattern": {
           "shape": ""
          }
         },
         "name": " Thrilling Journey ",
         "offsetgroup": " Thrilling Journey ",
         "orientation": "v",
         "showlegend": true,
         "textposition": "auto",
         "type": "bar",
         "x": [
          "UK"
         ],
         "xaxis": "x",
         "y": [
          45
         ],
         "yaxis": "y"
        },
        {
         "alignmentgroup": "True",
         "hovertemplate": "Sentiment= Nature's Beauty <br>Platform=Instagram<br>Country=%{x}<br>Likes=%{y}<extra></extra>",
         "legendgroup": " Nature's Beauty ",
         "marker": {
          "color": "#EF553B",
          "pattern": {
           "shape": ""
          }
         },
         "name": " Nature's Beauty ",
         "offsetgroup": " Nature's Beauty ",
         "orientation": "v",
         "showlegend": true,
         "textposition": "auto",
         "type": "bar",
         "x": [
          "Australia"
         ],
         "xaxis": "x2",
         "y": [
          55
         ],
         "yaxis": "y2"
        },
        {
         "alignmentgroup": "True",
         "hovertemplate": "Sentiment= Celestial Wonder <br>Platform=Facebook<br>Country=%{x}<br>Likes=%{y}<extra></extra>",
         "legendgroup": " Celestial Wonder ",
         "marker": {
          "color": "#00cc96",
          "pattern": {
           "shape": ""
          }
         },
         "name": " Celestial Wonder ",
         "offsetgroup": " Celestial Wonder ",
         "orientation": "v",
         "showlegend": true,
         "textposition": "auto",
         "type": "bar",
         "x": [
          "USA"
         ],
         "xaxis": "x3",
         "y": [
          35
         ],
         "yaxis": "y3"
        },
        {
         "alignmentgroup": "True",
         "hovertemplate": "Sentiment= Creative Inspiration <br>Platform=Twitter<br>Country=%{x}<br>Likes=%{y}<extra></extra>",
         "legendgroup": " Creative Inspiration ",
         "marker": {
          "color": "#ab63fa",
          "pattern": {
           "shape": ""
          }
         },
         "name": " Creative Inspiration ",
         "offsetgroup": " Creative Inspiration ",
         "orientation": "v",
         "showlegend": true,
         "textposition": "auto",
         "type": "bar",
         "x": [
          "France"
         ],
         "xaxis": "x",
         "y": [
          45
         ],
         "yaxis": "y"
        },
        {
         "alignmentgroup": "True",
         "hovertemplate": "Sentiment= Runway Creativity <br>Platform=Instagram<br>Country=%{x}<br>Likes=%{y}<extra></extra>",
         "legendgroup": " Runway Creativity ",
         "marker": {
          "color": "#FFA15A",
          "pattern": {
           "shape": ""
          }
         },
         "name": " Runway Creativity ",
         "offsetgroup": " Runway Creativity ",
         "orientation": "v",
         "showlegend": true,
         "textposition": "auto",
         "type": "bar",
         "x": [
          "Italy"
         ],
         "xaxis": "x2",
         "y": [
          55
         ],
         "yaxis": "y2"
        },
        {
         "alignmentgroup": "True",
         "hovertemplate": "Sentiment= Ocean's Freedom <br>Platform=Facebook<br>Country=%{x}<br>Likes=%{y}<extra></extra>",
         "legendgroup": " Ocean's Freedom ",
         "marker": {
          "color": "#19d3f3",
          "pattern": {
           "shape": ""
          }
         },
         "name": " Ocean's Freedom ",
         "offsetgroup": " Ocean's Freedom ",
         "orientation": "v",
         "showlegend": true,
         "textposition": "auto",
         "type": "bar",
         "x": [
          "Brazil"
         ],
         "xaxis": "x3",
         "y": [
          45
         ],
         "yaxis": "y3"
        },
        {
         "alignmentgroup": "True",
         "hovertemplate": "Sentiment= Whispers of the Past <br>Platform=Twitter<br>Country=%{x}<br>Likes=%{y}<extra></extra>",
         "legendgroup": " Whispers of the Past ",
         "marker": {
          "color": "#FF6692",
          "pattern": {
           "shape": ""
          }
         },
         "name": " Whispers of the Past ",
         "offsetgroup": " Whispers of the Past ",
         "orientation": "v",
         "showlegend": true,
         "textposition": "auto",
         "type": "bar",
         "x": [
          "Greece"
         ],
         "xaxis": "x",
         "y": [
          70
         ],
         "yaxis": "y"
        },
        {
         "alignmentgroup": "True",
         "hovertemplate": "Sentiment= Boredom <br>Platform=Instagram<br>Country=%{x}<br>Likes=%{y}<extra></extra>",
         "legendgroup": " Boredom ",
         "marker": {
          "color": "#B6E880",
          "pattern": {
           "shape": ""
          }
         },
         "name": " Boredom ",
         "offsetgroup": " Boredom ",
         "orientation": "v",
         "showlegend": true,
         "textposition": "auto",
         "type": "bar",
         "x": [
          "Canada"
         ],
         "xaxis": "x2",
         "y": [
          35
         ],
         "yaxis": "y2"
        },
        {
         "alignmentgroup": "True",
         "hovertemplate": "Sentiment= Indifference <br>Platform=Facebook<br>Country=%{x}<br>Likes=%{y}<extra></extra>",
         "legendgroup": " Indifference ",
         "marker": {
          "color": "#FF97FF",
          "pattern": {
           "shape": ""
          }
         },
         "name": " Indifference ",
         "offsetgroup": " Indifference ",
         "orientation": "v",
         "showlegend": true,
         "textposition": "auto",
         "type": "bar",
         "x": [
          "USA"
         ],
         "xaxis": "x3",
         "y": [
          40
         ],
         "yaxis": "y3"
        },
        {
         "alignmentgroup": "True",
         "hovertemplate": "Sentiment= Disgust <br>Platform=Instagram<br>Country=%{x}<br>Likes=%{y}<extra></extra>",
         "legendgroup": " Disgust ",
         "marker": {
          "color": "#FECB52",
          "pattern": {
           "shape": ""
          }
         },
         "name": " Disgust ",
         "offsetgroup": " Disgust ",
         "orientation": "v",
         "showlegend": true,
         "textposition": "auto",
         "type": "bar",
         "x": [
          "Canada"
         ],
         "xaxis": "x2",
         "y": [
          45
         ],
         "yaxis": "y2"
        },
        {
         "alignmentgroup": "True",
         "hovertemplate": "Sentiment= Relief <br>Platform=Instagram<br>Country=%{x}<br>Likes=%{y}<extra></extra>",
         "legendgroup": " Relief ",
         "marker": {
          "color": "#636efa",
          "pattern": {
           "shape": ""
          }
         },
         "name": " Relief ",
         "offsetgroup": " Relief ",
         "orientation": "v",
         "showlegend": true,
         "textposition": "auto",
         "type": "bar",
         "x": [
          "USA"
         ],
         "xaxis": "x2",
         "y": [
          40
         ],
         "yaxis": "y2"
        },
        {
         "alignmentgroup": "True",
         "hovertemplate": "Sentiment= Positive <br>Platform=Facebook<br>Country=%{x}<br>Likes=%{y}<extra></extra>",
         "legendgroup": " Positive ",
         "marker": {
          "color": "#EF553B",
          "pattern": {
           "shape": ""
          }
         },
         "name": " Positive ",
         "offsetgroup": " Positive ",
         "orientation": "v",
         "showlegend": true,
         "textposition": "auto",
         "type": "bar",
         "x": [
          "USA"
         ],
         "xaxis": "x3",
         "y": [
          55
         ],
         "yaxis": "y3"
        },
        {
         "alignmentgroup": "True",
         "hovertemplate": "Sentiment= Embarrassed <br>Platform=Twitter<br>Country=%{x}<br>Likes=%{y}<extra></extra>",
         "legendgroup": " Embarrassed ",
         "marker": {
          "color": "#00cc96",
          "pattern": {
           "shape": ""
          }
         },
         "name": " Embarrassed ",
         "offsetgroup": " Embarrassed ",
         "orientation": "v",
         "showlegend": true,
         "textposition": "auto",
         "type": "bar",
         "x": [
          "Canada",
          "USA",
          "USA"
         ],
         "xaxis": "x",
         "y": [
          60,
          35,
          32
         ],
         "yaxis": "y"
        },
        {
         "alignmentgroup": "True",
         "hovertemplate": "Sentiment= Embarrassed <br>Platform=Instagram<br>Country=%{x}<br>Likes=%{y}<extra></extra>",
         "legendgroup": " Embarrassed ",
         "marker": {
          "color": "#00cc96",
          "pattern": {
           "shape": ""
          }
         },
         "name": " Embarrassed ",
         "offsetgroup": " Embarrassed ",
         "orientation": "v",
         "showlegend": false,
         "textposition": "auto",
         "type": "bar",
         "x": [
          "UK",
          "UK",
          "UK"
         ],
         "xaxis": "x2",
         "y": [
          45,
          45,
          45
         ],
         "yaxis": "y2"
        },
        {
         "alignmentgroup": "True",
         "hovertemplate": "Sentiment= Embarrassed <br>Platform=Facebook<br>Country=%{x}<br>Likes=%{y}<extra></extra>",
         "legendgroup": " Embarrassed ",
         "marker": {
          "color": "#00cc96",
          "pattern": {
           "shape": ""
          }
         },
         "name": " Embarrassed ",
         "offsetgroup": " Embarrassed ",
         "orientation": "v",
         "showlegend": false,
         "textposition": "auto",
         "type": "bar",
         "x": [
          "USA",
          "USA"
         ],
         "xaxis": "x3",
         "y": [
          50,
          33
         ],
         "yaxis": "y3"
        },
        {
         "alignmentgroup": "True",
         "hovertemplate": "Sentiment= Mischievous <br>Platform=Twitter<br>Country=%{x}<br>Likes=%{y}<extra></extra>",
         "legendgroup": " Mischievous ",
         "marker": {
          "color": "#ab63fa",
          "pattern": {
           "shape": ""
          }
         },
         "name": " Mischievous ",
         "offsetgroup": " Mischievous ",
         "orientation": "v",
         "showlegend": true,
         "textposition": "auto",
         "type": "bar",
         "x": [
          "USA"
         ],
         "xaxis": "x",
         "y": [
          55
         ],
         "yaxis": "y"
        },
        {
         "alignmentgroup": "True",
         "hovertemplate": "Sentiment= Mischievous <br>Platform=Instagram<br>Country=%{x}<br>Likes=%{y}<extra></extra>",
         "legendgroup": " Mischievous ",
         "marker": {
          "color": "#ab63fa",
          "pattern": {
           "shape": ""
          }
         },
         "name": " Mischievous ",
         "offsetgroup": " Mischievous ",
         "orientation": "v",
         "showlegend": false,
         "textposition": "auto",
         "type": "bar",
         "x": [
          "USA"
         ],
         "xaxis": "x2",
         "y": [
          60
         ],
         "yaxis": "y2"
        },
        {
         "alignmentgroup": "True",
         "hovertemplate": "Sentiment= Sad <br>Platform=Twitter<br>Country=%{x}<br>Likes=%{y}<extra></extra>",
         "legendgroup": " Sad ",
         "marker": {
          "color": "#FFA15A",
          "pattern": {
           "shape": ""
          }
         },
         "name": " Sad ",
         "offsetgroup": " Sad ",
         "orientation": "v",
         "showlegend": true,
         "textposition": "auto",
         "type": "bar",
         "x": [
          "USA",
          "USA",
          "USA"
         ],
         "xaxis": "x",
         "y": [
          28,
          34,
          44
         ],
         "yaxis": "y"
        },
        {
         "alignmentgroup": "True",
         "hovertemplate": "Sentiment= Sad <br>Platform=Instagram<br>Country=%{x}<br>Likes=%{y}<extra></extra>",
         "legendgroup": " Sad ",
         "marker": {
          "color": "#FFA15A",
          "pattern": {
           "shape": ""
          }
         },
         "name": " Sad ",
         "offsetgroup": " Sad ",
         "orientation": "v",
         "showlegend": false,
         "textposition": "auto",
         "type": "bar",
         "x": [
          "Canada",
          "Canada",
          "Canada"
         ],
         "xaxis": "x2",
         "y": [
          31,
          39,
          42
         ],
         "yaxis": "y2"
        },
        {
         "alignmentgroup": "True",
         "hovertemplate": "Sentiment= Sad <br>Platform=Facebook<br>Country=%{x}<br>Likes=%{y}<extra></extra>",
         "legendgroup": " Sad ",
         "marker": {
          "color": "#FFA15A",
          "pattern": {
           "shape": ""
          }
         },
         "name": " Sad ",
         "offsetgroup": " Sad ",
         "orientation": "v",
         "showlegend": false,
         "textposition": "auto",
         "type": "bar",
         "x": [
          "UK",
          "UK",
          "UK"
         ],
         "xaxis": "x3",
         "y": [
          37,
          41,
          39
         ],
         "yaxis": "y3"
        },
        {
         "alignmentgroup": "True",
         "hovertemplate": "Sentiment= Hate <br>Platform=Twitter<br>Country=%{x}<br>Likes=%{y}<extra></extra>",
         "legendgroup": " Hate ",
         "marker": {
          "color": "#19d3f3",
          "pattern": {
           "shape": ""
          }
         },
         "name": " Hate ",
         "offsetgroup": " Hate ",
         "orientation": "v",
         "showlegend": true,
         "textposition": "auto",
         "type": "bar",
         "x": [
          "USA",
          "USA"
         ],
         "xaxis": "x",
         "y": [
          32,
          48
         ],
         "yaxis": "y"
        },
        {
         "alignmentgroup": "True",
         "hovertemplate": "Sentiment= Hate <br>Platform=Instagram<br>Country=%{x}<br>Likes=%{y}<extra></extra>",
         "legendgroup": " Hate ",
         "marker": {
          "color": "#19d3f3",
          "pattern": {
           "shape": ""
          }
         },
         "name": " Hate ",
         "offsetgroup": " Hate ",
         "orientation": "v",
         "showlegend": false,
         "textposition": "auto",
         "type": "bar",
         "x": [
          "Canada",
          "Canada"
         ],
         "xaxis": "x2",
         "y": [
          36,
          41
         ],
         "yaxis": "y2"
        },
        {
         "alignmentgroup": "True",
         "hovertemplate": "Sentiment= Hate <br>Platform=Facebook<br>Country=%{x}<br>Likes=%{y}<extra></extra>",
         "legendgroup": " Hate ",
         "marker": {
          "color": "#19d3f3",
          "pattern": {
           "shape": ""
          }
         },
         "name": " Hate ",
         "offsetgroup": " Hate ",
         "orientation": "v",
         "showlegend": false,
         "textposition": "auto",
         "type": "bar",
         "x": [
          "UK",
          "UK"
         ],
         "xaxis": "x3",
         "y": [
          27,
          46
         ],
         "yaxis": "y3"
        },
        {
         "alignmentgroup": "True",
         "hovertemplate": "Sentiment= Bad <br>Platform=Twitter<br>Country=%{x}<br>Likes=%{y}<extra></extra>",
         "legendgroup": " Bad ",
         "marker": {
          "color": "#FF6692",
          "pattern": {
           "shape": ""
          }
         },
         "name": " Bad ",
         "offsetgroup": " Bad ",
         "orientation": "v",
         "showlegend": true,
         "textposition": "auto",
         "type": "bar",
         "x": [
          "USA",
          "USA"
         ],
         "xaxis": "x",
         "y": [
          35,
          50
         ],
         "yaxis": "y"
        },
        {
         "alignmentgroup": "True",
         "hovertemplate": "Sentiment= Bad <br>Platform=Instagram<br>Country=%{x}<br>Likes=%{y}<extra></extra>",
         "legendgroup": " Bad ",
         "marker": {
          "color": "#FF6692",
          "pattern": {
           "shape": ""
          }
         },
         "name": " Bad ",
         "offsetgroup": " Bad ",
         "orientation": "v",
         "showlegend": false,
         "textposition": "auto",
         "type": "bar",
         "x": [
          "Canada",
          "Canada"
         ],
         "xaxis": "x2",
         "y": [
          36,
          43
         ],
         "yaxis": "y2"
        },
        {
         "alignmentgroup": "True",
         "hovertemplate": "Sentiment= Bad <br>Platform=Facebook<br>Country=%{x}<br>Likes=%{y}<extra></extra>",
         "legendgroup": " Bad ",
         "marker": {
          "color": "#FF6692",
          "pattern": {
           "shape": ""
          }
         },
         "name": " Bad ",
         "offsetgroup": " Bad ",
         "orientation": "v",
         "showlegend": false,
         "textposition": "auto",
         "type": "bar",
         "x": [
          "UK",
          "UK"
         ],
         "xaxis": "x3",
         "y": [
          40,
          38
         ],
         "yaxis": "y3"
        },
        {
         "alignmentgroup": "True",
         "hovertemplate": "Sentiment= Neutral <br>Platform=Twitter<br>Country=%{x}<br>Likes=%{y}<extra></extra>",
         "legendgroup": " Neutral ",
         "marker": {
          "color": "#B6E880",
          "pattern": {
           "shape": ""
          }
         },
         "name": " Neutral ",
         "offsetgroup": " Neutral ",
         "orientation": "v",
         "showlegend": true,
         "textposition": "auto",
         "type": "bar",
         "x": [
          "Canada",
          "Canada",
          "Canada",
          "Canada",
          "Canada"
         ],
         "xaxis": "x",
         "y": [
          50,
          36,
          40,
          44,
          43
         ],
         "yaxis": "y"
        },
        {
         "alignmentgroup": "True",
         "hovertemplate": "Sentiment= Neutral <br>Platform=Instagram<br>Country=%{x}<br>Likes=%{y}<extra></extra>",
         "legendgroup": " Neutral ",
         "marker": {
          "color": "#B6E880",
          "pattern": {
           "shape": ""
          }
         },
         "name": " Neutral ",
         "offsetgroup": " Neutral ",
         "orientation": "v",
         "showlegend": false,
         "textposition": "auto",
         "type": "bar",
         "x": [
          "USA",
          "USA",
          "UK",
          "UK",
          "UK"
         ],
         "xaxis": "x2",
         "y": [
          42,
          43,
          45,
          49,
          39
         ],
         "yaxis": "y2"
        },
        {
         "alignmentgroup": "True",
         "hovertemplate": "Sentiment= Neutral <br>Platform=Facebook<br>Country=%{x}<br>Likes=%{y}<extra></extra>",
         "legendgroup": " Neutral ",
         "marker": {
          "color": "#B6E880",
          "pattern": {
           "shape": ""
          }
         },
         "name": " Neutral ",
         "offsetgroup": " Neutral ",
         "orientation": "v",
         "showlegend": false,
         "textposition": "auto",
         "type": "bar",
         "x": [
          "UK",
          "USA",
          "USA",
          "USA"
         ],
         "xaxis": "x3",
         "y": [
          38,
          48,
          37,
          35
         ],
         "yaxis": "y3"
        },
        {
         "alignmentgroup": "True",
         "hovertemplate": "Sentiment= Happy <br>Platform=Twitter<br>Country=%{x}<br>Likes=%{y}<extra></extra>",
         "legendgroup": " Happy ",
         "marker": {
          "color": "#FF97FF",
          "pattern": {
           "shape": ""
          }
         },
         "name": " Happy ",
         "offsetgroup": " Happy ",
         "orientation": "v",
         "showlegend": true,
         "textposition": "auto",
         "type": "bar",
         "x": [
          "USA",
          "USA",
          "Canada",
          "Canada"
         ],
         "xaxis": "x",
         "y": [
          48,
          50,
          51,
          42
         ],
         "yaxis": "y"
        },
        {
         "alignmentgroup": "True",
         "hovertemplate": "Sentiment= Happy <br>Platform=Instagram<br>Country=%{x}<br>Likes=%{y}<extra></extra>",
         "legendgroup": " Happy ",
         "marker": {
          "color": "#FF97FF",
          "pattern": {
           "shape": ""
          }
         },
         "name": " Happy ",
         "offsetgroup": " Happy ",
         "orientation": "v",
         "showlegend": false,
         "textposition": "auto",
         "type": "bar",
         "x": [
          "UK",
          "UK",
          "UK",
          "USA",
          "USA",
          "USA"
         ],
         "xaxis": "x2",
         "y": [
          52,
          42,
          43,
          44,
          48,
          47
         ],
         "yaxis": "y2"
        },
        {
         "alignmentgroup": "True",
         "hovertemplate": "Sentiment= Happy <br>Platform=Facebook<br>Country=%{x}<br>Likes=%{y}<extra></extra>",
         "legendgroup": " Happy ",
         "marker": {
          "color": "#FF97FF",
          "pattern": {
           "shape": ""
          }
         },
         "name": " Happy ",
         "offsetgroup": " Happy ",
         "orientation": "v",
         "showlegend": false,
         "textposition": "auto",
         "type": "bar",
         "x": [
          "Canada",
          "Canada",
          "UK",
          "UK"
         ],
         "xaxis": "x3",
         "y": [
          38,
          45,
          39,
          43
         ],
         "yaxis": "y3"
        }
       ],
       "layout": {
        "annotations": [
         {
          "font": {},
          "showarrow": false,
          "text": "Platform=Twitter",
          "x": 0.15999999999999998,
          "xanchor": "center",
          "xref": "paper",
          "y": 1,
          "yanchor": "bottom",
          "yref": "paper"
         },
         {
          "font": {},
          "showarrow": false,
          "text": "Platform=Instagram",
          "x": 0.49999999999999994,
          "xanchor": "center",
          "xref": "paper",
          "y": 1,
          "yanchor": "bottom",
          "yref": "paper"
         },
         {
          "font": {},
          "showarrow": false,
          "text": "Platform=Facebook",
          "x": 0.8399999999999999,
          "xanchor": "center",
          "xref": "paper",
          "y": 1,
          "yanchor": "bottom",
          "yref": "paper"
         }
        ],
        "barmode": "relative",
        "legend": {
         "title": {
          "text": "Sentiment"
         },
         "tracegroupgap": 0
        },
        "margin": {
         "b": 5,
         "l": 5,
         "r": 5,
         "t": 20
        },
        "template": {
         "data": {
          "bar": [
           {
            "error_x": {
             "color": "#2a3f5f"
            },
            "error_y": {
             "color": "#2a3f5f"
            },
            "marker": {
             "line": {
              "color": "#E5ECF6",
              "width": 0.5
             },
             "pattern": {
              "fillmode": "overlay",
              "size": 10,
              "solidity": 0.2
             }
            },
            "type": "bar"
           }
          ],
          "barpolar": [
           {
            "marker": {
             "line": {
              "color": "#E5ECF6",
              "width": 0.5
             },
             "pattern": {
              "fillmode": "overlay",
              "size": 10,
              "solidity": 0.2
             }
            },
            "type": "barpolar"
           }
          ],
          "carpet": [
           {
            "aaxis": {
             "endlinecolor": "#2a3f5f",
             "gridcolor": "white",
             "linecolor": "white",
             "minorgridcolor": "white",
             "startlinecolor": "#2a3f5f"
            },
            "baxis": {
             "endlinecolor": "#2a3f5f",
             "gridcolor": "white",
             "linecolor": "white",
             "minorgridcolor": "white",
             "startlinecolor": "#2a3f5f"
            },
            "type": "carpet"
           }
          ],
          "choropleth": [
           {
            "colorbar": {
             "outlinewidth": 0,
             "ticks": ""
            },
            "type": "choropleth"
           }
          ],
          "contour": [
           {
            "colorbar": {
             "outlinewidth": 0,
             "ticks": ""
            },
            "colorscale": [
             [
              0,
              "#0d0887"
             ],
             [
              0.1111111111111111,
              "#46039f"
             ],
             [
              0.2222222222222222,
              "#7201a8"
             ],
             [
              0.3333333333333333,
              "#9c179e"
             ],
             [
              0.4444444444444444,
              "#bd3786"
             ],
             [
              0.5555555555555556,
              "#d8576b"
             ],
             [
              0.6666666666666666,
              "#ed7953"
             ],
             [
              0.7777777777777778,
              "#fb9f3a"
             ],
             [
              0.8888888888888888,
              "#fdca26"
             ],
             [
              1,
              "#f0f921"
             ]
            ],
            "type": "contour"
           }
          ],
          "contourcarpet": [
           {
            "colorbar": {
             "outlinewidth": 0,
             "ticks": ""
            },
            "type": "contourcarpet"
           }
          ],
          "heatmap": [
           {
            "colorbar": {
             "outlinewidth": 0,
             "ticks": ""
            },
            "colorscale": [
             [
              0,
              "#0d0887"
             ],
             [
              0.1111111111111111,
              "#46039f"
             ],
             [
              0.2222222222222222,
              "#7201a8"
             ],
             [
              0.3333333333333333,
              "#9c179e"
             ],
             [
              0.4444444444444444,
              "#bd3786"
             ],
             [
              0.5555555555555556,
              "#d8576b"
             ],
             [
              0.6666666666666666,
              "#ed7953"
             ],
             [
              0.7777777777777778,
              "#fb9f3a"
             ],
             [
              0.8888888888888888,
              "#fdca26"
             ],
             [
              1,
              "#f0f921"
             ]
            ],
            "type": "heatmap"
           }
          ],
          "heatmapgl": [
           {
            "colorbar": {
             "outlinewidth": 0,
             "ticks": ""
            },
            "colorscale": [
             [
              0,
              "#0d0887"
             ],
             [
              0.1111111111111111,
              "#46039f"
             ],
             [
              0.2222222222222222,
              "#7201a8"
             ],
             [
              0.3333333333333333,
              "#9c179e"
             ],
             [
              0.4444444444444444,
              "#bd3786"
             ],
             [
              0.5555555555555556,
              "#d8576b"
             ],
             [
              0.6666666666666666,
              "#ed7953"
             ],
             [
              0.7777777777777778,
              "#fb9f3a"
             ],
             [
              0.8888888888888888,
              "#fdca26"
             ],
             [
              1,
              "#f0f921"
             ]
            ],
            "type": "heatmapgl"
           }
          ],
          "histogram": [
           {
            "marker": {
             "pattern": {
              "fillmode": "overlay",
              "size": 10,
              "solidity": 0.2
             }
            },
            "type": "histogram"
           }
          ],
          "histogram2d": [
           {
            "colorbar": {
             "outlinewidth": 0,
             "ticks": ""
            },
            "colorscale": [
             [
              0,
              "#0d0887"
             ],
             [
              0.1111111111111111,
              "#46039f"
             ],
             [
              0.2222222222222222,
              "#7201a8"
             ],
             [
              0.3333333333333333,
              "#9c179e"
             ],
             [
              0.4444444444444444,
              "#bd3786"
             ],
             [
              0.5555555555555556,
              "#d8576b"
             ],
             [
              0.6666666666666666,
              "#ed7953"
             ],
             [
              0.7777777777777778,
              "#fb9f3a"
             ],
             [
              0.8888888888888888,
              "#fdca26"
             ],
             [
              1,
              "#f0f921"
             ]
            ],
            "type": "histogram2d"
           }
          ],
          "histogram2dcontour": [
           {
            "colorbar": {
             "outlinewidth": 0,
             "ticks": ""
            },
            "colorscale": [
             [
              0,
              "#0d0887"
             ],
             [
              0.1111111111111111,
              "#46039f"
             ],
             [
              0.2222222222222222,
              "#7201a8"
             ],
             [
              0.3333333333333333,
              "#9c179e"
             ],
             [
              0.4444444444444444,
              "#bd3786"
             ],
             [
              0.5555555555555556,
              "#d8576b"
             ],
             [
              0.6666666666666666,
              "#ed7953"
             ],
             [
              0.7777777777777778,
              "#fb9f3a"
             ],
             [
              0.8888888888888888,
              "#fdca26"
             ],
             [
              1,
              "#f0f921"
             ]
            ],
            "type": "histogram2dcontour"
           }
          ],
          "mesh3d": [
           {
            "colorbar": {
             "outlinewidth": 0,
             "ticks": ""
            },
            "type": "mesh3d"
           }
          ],
          "parcoords": [
           {
            "line": {
             "colorbar": {
              "outlinewidth": 0,
              "ticks": ""
             }
            },
            "type": "parcoords"
           }
          ],
          "pie": [
           {
            "automargin": true,
            "type": "pie"
           }
          ],
          "scatter": [
           {
            "fillpattern": {
             "fillmode": "overlay",
             "size": 10,
             "solidity": 0.2
            },
            "type": "scatter"
           }
          ],
          "scatter3d": [
           {
            "line": {
             "colorbar": {
              "outlinewidth": 0,
              "ticks": ""
             }
            },
            "marker": {
             "colorbar": {
              "outlinewidth": 0,
              "ticks": ""
             }
            },
            "type": "scatter3d"
           }
          ],
          "scattercarpet": [
           {
            "marker": {
             "colorbar": {
              "outlinewidth": 0,
              "ticks": ""
             }
            },
            "type": "scattercarpet"
           }
          ],
          "scattergeo": [
           {
            "marker": {
             "colorbar": {
              "outlinewidth": 0,
              "ticks": ""
             }
            },
            "type": "scattergeo"
           }
          ],
          "scattergl": [
           {
            "marker": {
             "colorbar": {
              "outlinewidth": 0,
              "ticks": ""
             }
            },
            "type": "scattergl"
           }
          ],
          "scattermapbox": [
           {
            "marker": {
             "colorbar": {
              "outlinewidth": 0,
              "ticks": ""
             }
            },
            "type": "scattermapbox"
           }
          ],
          "scatterpolar": [
           {
            "marker": {
             "colorbar": {
              "outlinewidth": 0,
              "ticks": ""
             }
            },
            "type": "scatterpolar"
           }
          ],
          "scatterpolargl": [
           {
            "marker": {
             "colorbar": {
              "outlinewidth": 0,
              "ticks": ""
             }
            },
            "type": "scatterpolargl"
           }
          ],
          "scatterternary": [
           {
            "marker": {
             "colorbar": {
              "outlinewidth": 0,
              "ticks": ""
             }
            },
            "type": "scatterternary"
           }
          ],
          "surface": [
           {
            "colorbar": {
             "outlinewidth": 0,
             "ticks": ""
            },
            "colorscale": [
             [
              0,
              "#0d0887"
             ],
             [
              0.1111111111111111,
              "#46039f"
             ],
             [
              0.2222222222222222,
              "#7201a8"
             ],
             [
              0.3333333333333333,
              "#9c179e"
             ],
             [
              0.4444444444444444,
              "#bd3786"
             ],
             [
              0.5555555555555556,
              "#d8576b"
             ],
             [
              0.6666666666666666,
              "#ed7953"
             ],
             [
              0.7777777777777778,
              "#fb9f3a"
             ],
             [
              0.8888888888888888,
              "#fdca26"
             ],
             [
              1,
              "#f0f921"
             ]
            ],
            "type": "surface"
           }
          ],
          "table": [
           {
            "cells": {
             "fill": {
              "color": "#EBF0F8"
             },
             "line": {
              "color": "white"
             }
            },
            "header": {
             "fill": {
              "color": "#C8D4E3"
             },
             "line": {
              "color": "white"
             }
            },
            "type": "table"
           }
          ]
         },
         "layout": {
          "annotationdefaults": {
           "arrowcolor": "#2a3f5f",
           "arrowhead": 0,
           "arrowwidth": 1
          },
          "autotypenumbers": "strict",
          "coloraxis": {
           "colorbar": {
            "outlinewidth": 0,
            "ticks": ""
           }
          },
          "colorscale": {
           "diverging": [
            [
             0,
             "#8e0152"
            ],
            [
             0.1,
             "#c51b7d"
            ],
            [
             0.2,
             "#de77ae"
            ],
            [
             0.3,
             "#f1b6da"
            ],
            [
             0.4,
             "#fde0ef"
            ],
            [
             0.5,
             "#f7f7f7"
            ],
            [
             0.6,
             "#e6f5d0"
            ],
            [
             0.7,
             "#b8e186"
            ],
            [
             0.8,
             "#7fbc41"
            ],
            [
             0.9,
             "#4d9221"
            ],
            [
             1,
             "#276419"
            ]
           ],
           "sequential": [
            [
             0,
             "#0d0887"
            ],
            [
             0.1111111111111111,
             "#46039f"
            ],
            [
             0.2222222222222222,
             "#7201a8"
            ],
            [
             0.3333333333333333,
             "#9c179e"
            ],
            [
             0.4444444444444444,
             "#bd3786"
            ],
            [
             0.5555555555555556,
             "#d8576b"
            ],
            [
             0.6666666666666666,
             "#ed7953"
            ],
            [
             0.7777777777777778,
             "#fb9f3a"
            ],
            [
             0.8888888888888888,
             "#fdca26"
            ],
            [
             1,
             "#f0f921"
            ]
           ],
           "sequentialminus": [
            [
             0,
             "#0d0887"
            ],
            [
             0.1111111111111111,
             "#46039f"
            ],
            [
             0.2222222222222222,
             "#7201a8"
            ],
            [
             0.3333333333333333,
             "#9c179e"
            ],
            [
             0.4444444444444444,
             "#bd3786"
            ],
            [
             0.5555555555555556,
             "#d8576b"
            ],
            [
             0.6666666666666666,
             "#ed7953"
            ],
            [
             0.7777777777777778,
             "#fb9f3a"
            ],
            [
             0.8888888888888888,
             "#fdca26"
            ],
            [
             1,
             "#f0f921"
            ]
           ]
          },
          "colorway": [
           "#636efa",
           "#EF553B",
           "#00cc96",
           "#ab63fa",
           "#FFA15A",
           "#19d3f3",
           "#FF6692",
           "#B6E880",
           "#FF97FF",
           "#FECB52"
          ],
          "font": {
           "color": "#2a3f5f"
          },
          "geo": {
           "bgcolor": "white",
           "lakecolor": "white",
           "landcolor": "#E5ECF6",
           "showlakes": true,
           "showland": true,
           "subunitcolor": "white"
          },
          "hoverlabel": {
           "align": "left"
          },
          "hovermode": "closest",
          "mapbox": {
           "style": "light"
          },
          "paper_bgcolor": "white",
          "plot_bgcolor": "#E5ECF6",
          "polar": {
           "angularaxis": {
            "gridcolor": "white",
            "linecolor": "white",
            "ticks": ""
           },
           "bgcolor": "#E5ECF6",
           "radialaxis": {
            "gridcolor": "white",
            "linecolor": "white",
            "ticks": ""
           }
          },
          "scene": {
           "xaxis": {
            "backgroundcolor": "#E5ECF6",
            "gridcolor": "white",
            "gridwidth": 2,
            "linecolor": "white",
            "showbackground": true,
            "ticks": "",
            "zerolinecolor": "white"
           },
           "yaxis": {
            "backgroundcolor": "#E5ECF6",
            "gridcolor": "white",
            "gridwidth": 2,
            "linecolor": "white",
            "showbackground": true,
            "ticks": "",
            "zerolinecolor": "white"
           },
           "zaxis": {
            "backgroundcolor": "#E5ECF6",
            "gridcolor": "white",
            "gridwidth": 2,
            "linecolor": "white",
            "showbackground": true,
            "ticks": "",
            "zerolinecolor": "white"
           }
          },
          "shapedefaults": {
           "line": {
            "color": "#2a3f5f"
           }
          },
          "ternary": {
           "aaxis": {
            "gridcolor": "white",
            "linecolor": "white",
            "ticks": ""
           },
           "baxis": {
            "gridcolor": "white",
            "linecolor": "white",
            "ticks": ""
           },
           "bgcolor": "#E5ECF6",
           "caxis": {
            "gridcolor": "white",
            "linecolor": "white",
            "ticks": ""
           }
          },
          "title": {
           "x": 0.05
          },
          "xaxis": {
           "automargin": true,
           "gridcolor": "white",
           "linecolor": "white",
           "ticks": "",
           "title": {
            "standoff": 15
           },
           "zerolinecolor": "white",
           "zerolinewidth": 2
          },
          "yaxis": {
           "automargin": true,
           "gridcolor": "white",
           "linecolor": "white",
           "ticks": "",
           "title": {
            "standoff": 15
           },
           "zerolinecolor": "white",
           "zerolinewidth": 2
          }
         }
        },
        "xaxis": {
         "anchor": "y",
         "domain": [
          0,
          0.31999999999999995
         ],
         "title": {
          "text": "Country"
         }
        },
        "xaxis2": {
         "anchor": "y2",
         "domain": [
          0.33999999999999997,
          0.6599999999999999
         ],
         "matches": "x",
         "title": {
          "text": "Country"
         }
        },
        "xaxis3": {
         "anchor": "y3",
         "domain": [
          0.6799999999999999,
          0.9999999999999999
         ],
         "matches": "x",
         "title": {
          "text": "Country"
         }
        },
        "yaxis": {
         "anchor": "x",
         "domain": [
          0,
          1
         ],
         "title": {
          "text": "Likes"
         }
        },
        "yaxis2": {
         "anchor": "x2",
         "domain": [
          0,
          1
         ],
         "matches": "y",
         "showticklabels": false
        },
        "yaxis3": {
         "anchor": "x3",
         "domain": [
          0,
          1
         ],
         "matches": "y",
         "showticklabels": false
        }
       }
      }
     },
     "metadata": {},
     "output_type": "display_data"
    }
   ],
   "source": [
    "import plotly.express as px\n",
    "df = pd.read_csv('C:\\\\Users\\\\avaan\\\\Downloads\\\\archive (1)\\\\sentimentdataset.csv')\n",
    "df.Country = df.Country.str.strip()\n",
    "df.Platform = df.Platform.str.strip()\n",
    "fig = px.bar(df, x=\"Country\", y=\"Likes\", color='Sentiment',facet_col=\"Platform\")\n",
    "fig.update_layout(margin=dict(l=5, r=5, t=20, b=5))\n",
    "fig.show()"
   ]
  },
  {
   "cell_type": "code",
   "execution_count": 37,
   "metadata": {},
   "outputs": [
    {
     "data": {
      "text/plain": [
       "0       True\n",
       "1      False\n",
       "2       True\n",
       "3       True\n",
       "4      False\n",
       "       ...  \n",
       "727     True\n",
       "728     True\n",
       "729     True\n",
       "730     True\n",
       "731     True\n",
       "Name: Sentiment, Length: 732, dtype: bool"
      ]
     },
     "execution_count": 37,
     "metadata": {},
     "output_type": "execute_result"
    }
   ],
   "source": [
    "df.Sentiment = df.Sentiment.str.strip()\n",
    "df.Sentiment.isin([\"Positive\",\"Happy\",\"Happiness\",\"Admiration\"])\n",
    "\n",
    "df.Sentiment = df.Sentiment.str.strip()\n",
    "df.Sentiment.isin([\"Negative\",\"Melancholy\",\"Sorrow\",\"Grief\"])\n",
    "\n",
    "df.Sentiment = df.Sentiment.str.strip()\n",
    "df.Sentiment.isin([\"Neutral\",\"Awe\",\"Neutral\",\"Boredom\"])"
   ]
  },
  {
   "cell_type": "code",
   "execution_count": 31,
   "metadata": {},
   "outputs": [
    {
     "data": {
      "application/vnd.plotly.v1+json": {
       "config": {
        "plotlyServerURL": "https://plot.ly"
       },
       "data": [
        {
         "hovertemplate": "Country=USA<br>Platform=Twitter<br>Sentiment=%{x}<br>Retweets=%{y}<extra></extra>",
         "legendgroup": "USA",
         "marker": {
          "color": "#636efa",
          "symbol": "circle"
         },
         "mode": "markers",
         "name": "USA",
         "orientation": "v",
         "showlegend": true,
         "type": "scatter",
         "x": [
          " Positive  ",
          " Negative  ",
          " Positive  ",
          " Positive  ",
          " Admiration   ",
          " Kind         ",
          " Admiration   ",
          " Kind         ",
          " Elation       ",
          " Despair         ",
          " Frustration ",
          " Regret         ",
          " Curiosity       ",
          " Determination   ",
          " Nostalgia       ",
          " Zest ",
          " Proud ",
          " Proud ",
          " Proud ",
          " Loneliness ",
          " Envious ",
          " Envious ",
          " Satisfaction  ",
          " Wonderment    ",
          " Despair ",
          " Love ",
          " Energy ",
          " Charm ",
          " Creativity ",
          " Pride ",
          " Iconic ",
          " Excitement ",
          " Inspiration ",
          " Adventure ",
          " Mesmerizing ",
          " Excitement ",
          " Frustration ",
          " Excitement ",
          " Pride ",
          " Joy ",
          " Contentment ",
          " Joy ",
          " Joy ",
          " Mischievous ",
          " Embarrassed ",
          " Joy ",
          " Embarrassed ",
          " Sad ",
          " Sad ",
          " Sad ",
          " Bad ",
          " Bad ",
          " Hate ",
          " Hate ",
          " Happy ",
          " Happy "
         ],
         "xaxis": "x",
         "y": [
          15,
          30,
          22,
          25,
          20,
          20,
          20,
          20,
          20,
          5,
          12,
          12,
          15,
          18,
          12,
          15,
          23,
          23,
          23,
          15,
          20,
          20,
          25,
          35,
          20,
          35,
          35,
          22,
          35,
          18,
          22,
          40,
          35,
          35,
          40,
          15,
          20,
          20,
          25,
          22,
          20,
          20,
          20,
          28,
          18,
          18,
          16,
          15,
          17,
          22,
          18,
          25,
          16,
          24,
          24,
          26
         ],
         "yaxis": "y"
        },
        {
         "hovertemplate": "Country=USA<br>Platform=Instagram<br>Sentiment=%{x}<br>Retweets=%{y}<extra></extra>",
         "legendgroup": "USA",
         "marker": {
          "color": "#636efa",
          "symbol": "circle"
         },
         "mode": "markers",
         "name": "USA",
         "orientation": "v",
         "showlegend": false,
         "type": "scatter",
         "x": [
          " Positive  ",
          " Positive  ",
          " Positive  ",
          " Positive  ",
          " Negative  ",
          " Positive  ",
          " Positive  ",
          " Positive  ",
          " Positive  ",
          " Positive  ",
          " Positive  ",
          " Fear         ",
          " Happiness    ",
          " Affection    ",
          " Surprise     ",
          " Anticipation ",
          " Fear         ",
          " Affection    ",
          " Surprise     ",
          " Excitement   ",
          " Confusion ",
          " Euphoria      ",
          " Enthusiasm    ",
          " Empowerment   ",
          " Gratitude     ",
          " Enthusiasm    ",
          " Reverence ",
          " Despair      ",
          " Curiosity       ",
          " Melancholy      ",
          " Serenity        ",
          " Curiosity ",
          " Playful ",
          " Playful ",
          " Loneliness ",
          " Awe           ",
          " Admiration    ",
          " Empowerment   ",
          " Reflection    ",
          " Confidence    ",
          " Elation       ",
          " Whimsy        ",
          " Whimsy        ",
          " Heartbreak    ",
          " Joy ",
          " Enchantment ",
          " Awe ",
          " Excitement ",
          " Emotion ",
          " Celebration ",
          " Colorful ",
          " Frustration ",
          " Excitement ",
          " Contentment ",
          " Contentment ",
          " Joy ",
          " Joy ",
          " Joy ",
          " Excitement ",
          " Contentment ",
          " Gratitude ",
          " Relief ",
          " Joy ",
          " Mischievous ",
          " Joy ",
          " Joy ",
          " Excitement ",
          " Neutral ",
          " Neutral ",
          " Happy ",
          " Happy ",
          " Happy "
         ],
         "xaxis": "x2",
         "y": [
          20,
          15,
          22,
          28,
          8,
          30,
          25,
          18,
          30,
          20,
          18,
          15,
          30,
          15,
          25,
          20,
          15,
          15,
          25,
          18,
          30,
          15,
          15,
          25,
          30,
          15,
          18,
          10,
          20,
          13,
          25,
          17,
          25,
          25,
          18,
          28,
          25,
          35,
          35,
          15,
          40,
          20,
          20,
          15,
          40,
          30,
          25,
          35,
          40,
          25,
          22,
          35,
          22,
          35,
          25,
          35,
          20,
          25,
          30,
          35,
          30,
          20,
          22,
          30,
          15,
          19,
          20,
          23,
          21,
          23,
          25,
          24
         ],
         "yaxis": "y2"
        },
        {
         "hovertemplate": "Country=USA<br>Platform=Facebook<br>Sentiment=%{x}<br>Retweets=%{y}<extra></extra>",
         "legendgroup": "USA",
         "marker": {
          "color": "#636efa",
          "symbol": "circle"
         },
         "mode": "markers",
         "name": "USA",
         "orientation": "v",
         "showlegend": false,
         "type": "scatter",
         "x": [
          " Positive  ",
          " Neutral   ",
          " Positive  ",
          " Positive  ",
          " Positive  ",
          " Bitter       ",
          " Enjoyment    ",
          " Bitter       ",
          " Kind         ",
          " Hope          ",
          " Euphoria      ",
          " Compassion    ",
          " Elation       ",
          " Euphoria      ",
          " Compassion    ",
          " Frustration     ",
          " Jealousy    ",
          " Nostalgia       ",
          " Numbness        ",
          " Serenity        ",
          " Determination   ",
          " Grateful ",
          " Hopeful ",
          " Empathetic ",
          " Empathetic ",
          " Jealous ",
          " Envious ",
          " Overwhelmed ",
          " Overwhelmed ",
          " Overwhelmed   ",
          " Resilience   ",
          " Darkness     ",
          " Grief ",
          " Grief ",
          " Enchantment ",
          " Joy ",
          " Ecstasy ",
          " Euphoria ",
          " Gratitude ",
          " Triumph ",
          " Pressure ",
          " Celestial Wonder ",
          " Indifference ",
          " Surprise ",
          " Curiosity ",
          " Contentment ",
          " Gratitude ",
          " Joy ",
          " Joy ",
          " Excitement ",
          " Joy ",
          " Positive ",
          " Joy ",
          " Excitement ",
          " Embarrassed ",
          " Joy ",
          " Embarrassed ",
          " Neutral ",
          " Neutral ",
          " Neutral "
         ],
         "xaxis": "x3",
         "y": [
          20,
          25,
          15,
          30,
          15,
          18,
          25,
          18,
          22,
          22,
          15,
          18,
          25,
          15,
          18,
          10,
          8,
          10,
          10,
          25,
          20,
          20,
          12,
          16,
          16,
          16,
          20,
          20,
          22,
          25,
          35,
          28,
          18,
          25,
          30,
          28,
          35,
          35,
          18,
          18,
          18,
          18,
          20,
          18,
          20,
          25,
          35,
          25,
          20,
          25,
          25,
          28,
          20,
          25,
          25,
          20,
          17,
          24,
          19,
          18
         ],
         "yaxis": "y3"
        },
        {
         "hovertemplate": "Country=Canada<br>Platform=Twitter<br>Sentiment=%{x}<br>Retweets=%{y}<extra></extra>",
         "legendgroup": "Canada",
         "marker": {
          "color": "#EF553B",
          "symbol": "circle"
         },
         "mode": "markers",
         "name": "Canada",
         "orientation": "v",
         "showlegend": true,
         "type": "scatter",
         "x": [
          " Negative  ",
          " Negative  ",
          " Positive  ",
          " Positive  ",
          " Positive  ",
          " Anger        ",
          " Anger        ",
          " Bitter       ",
          " Elation       ",
          " Hope          ",
          " Serenity      ",
          " Tenderness    ",
          " Boredom         ",
          " Grief           ",
          " Ambivalence     ",
          " Nostalgia       ",
          " Melancholy      ",
          " Acceptance      ",
          " Serenity        ",
          " Proud ",
          " Serenity ",
          " Frustrated ",
          " Determination ",
          " Overjoyed     ",
          " Excitement   ",
          " Loneliness    ",
          " Happiness ",
          " Renewed Effort ",
          " Curiosity ",
          " Joy ",
          " Joy ",
          " Contentment ",
          " Gratitude ",
          " Excitement ",
          " Excitement ",
          " Excitement ",
          " Joy ",
          " Embarrassed ",
          " Excitement ",
          " Neutral ",
          " Neutral ",
          " Neutral ",
          " Neutral ",
          " Neutral ",
          " Happy ",
          " Happy "
         ],
         "xaxis": "x",
         "y": [
          5,
          7,
          15,
          18,
          15,
          20,
          20,
          15,
          20,
          18,
          18,
          25,
          8,
          12,
          12,
          10,
          13,
          18,
          25,
          25,
          13,
          15,
          15,
          18,
          22,
          18,
          35,
          22,
          30,
          22,
          28,
          30,
          22,
          30,
          30,
          30,
          22,
          30,
          27,
          26,
          18,
          20,
          23,
          22,
          26,
          22
         ],
         "yaxis": "y"
        },
        {
         "hovertemplate": "Country=Canada<br>Platform=Instagram<br>Sentiment=%{x}<br>Retweets=%{y}<extra></extra>",
         "legendgroup": "Canada",
         "marker": {
          "color": "#EF553B",
          "symbol": "circle"
         },
         "mode": "markers",
         "name": "Canada",
         "orientation": "v",
         "showlegend": false,
         "type": "scatter",
         "x": [
          " Positive  ",
          " Pride        ",
          " Compassion    ",
          " Elation       ",
          " Serenity      ",
          " Grief           ",
          " Envy            ",
          " Boredom         ",
          " Indifference    ",
          " Serenity        ",
          " Numbness        ",
          " Ambivalence     ",
          " Numbness ",
          " Contentment ",
          " Compassionate ",
          " Contentment ",
          " Compassionate ",
          " Despair ",
          " Overwhelmed ",
          " Frustrated ",
          " Devastated ",
          " Apprehensive ",
          " Optimism      ",
          " Mindfulness   ",
          " InnerJourney  ",
          " Exhaustion ",
          " Regret ",
          " Sorrow ",
          " Betrayal ",
          " Joy ",
          " Enthusiasm ",
          " Heartwarming ",
          " Tranquility ",
          " Boredom ",
          " Surprise ",
          " Disgust ",
          " Excitement ",
          " Joy ",
          " Hate ",
          " Hate ",
          " Sad ",
          " Sad ",
          " Sad ",
          " Bad ",
          " Bad "
         ],
         "xaxis": "x2",
         "y": [
          15,
          12,
          18,
          25,
          22,
          8,
          10,
          7,
          7,
          25,
          10,
          15,
          10,
          20,
          21,
          20,
          21,
          8,
          22,
          15,
          25,
          14,
          20,
          35,
          35,
          35,
          25,
          22,
          25,
          40,
          40,
          22,
          40,
          18,
          25,
          22,
          26,
          21,
          18,
          21,
          16,
          20,
          21,
          18,
          22
         ],
         "yaxis": "y2"
        },
        {
         "hovertemplate": "Country=Canada<br>Platform=Facebook<br>Sentiment=%{x}<br>Retweets=%{y}<extra></extra>",
         "legendgroup": "Canada",
         "marker": {
          "color": "#EF553B",
          "symbol": "circle"
         },
         "mode": "markers",
         "name": "Canada",
         "orientation": "v",
         "showlegend": false,
         "type": "scatter",
         "x": [
          " Positive  ",
          " Positive  ",
          " Positive  ",
          " Positive  ",
          " Joy          ",
          " Enjoyment    ",
          " Acceptance   ",
          " Excitement   ",
          " Joy          ",
          " Acceptance   ",
          " Excitement   ",
          " Enthusiasm    ",
          " Hope          ",
          " Fulfillment   ",
          " Elation   ",
          " Grief           ",
          " Envy            ",
          " Boredom         ",
          " Indifference    ",
          " Nostalgia       ",
          " Playful ",
          " Compassionate ",
          " Confident ",
          " Confident ",
          " Despair ",
          " Amusement     ",
          " Serenity      ",
          " Contentment   ",
          " Engagement ",
          " Winter Magic ",
          " Joy ",
          " Joy ",
          " Joy ",
          " Curiosity ",
          " Joy ",
          " Joy ",
          " Joy ",
          " Excitement ",
          " Excitement ",
          " Excitement ",
          " Joy ",
          " Joy ",
          " Happy ",
          " Happy "
         ],
         "xaxis": "x3",
         "y": [
          10,
          12,
          12,
          12,
          22,
          25,
          15,
          22,
          22,
          15,
          22,
          15,
          22,
          22,
          25,
          12,
          10,
          7,
          10,
          12,
          22,
          21,
          23,
          23,
          8,
          15,
          22,
          25,
          30,
          30,
          35,
          22,
          28,
          22,
          18,
          22,
          28,
          18,
          28,
          22,
          25,
          26,
          19,
          23
         ],
         "yaxis": "y3"
        },
        {
         "hovertemplate": "Country=UK<br>Platform=Twitter<br>Sentiment=%{x}<br>Retweets=%{y}<extra></extra>",
         "legendgroup": "UK",
         "marker": {
          "color": "#00cc96",
          "symbol": "circle"
         },
         "mode": "markers",
         "name": "UK",
         "orientation": "v",
         "showlegend": true,
         "type": "scatter",
         "x": [
          " Positive  ",
          " Positive  ",
          " Disgust      ",
          " Adoration    ",
          " Disgust      ",
          " Adoration    ",
          " Shame ",
          " Serenity      ",
          " Empowerment   ",
          " Reverence     ",
          " Tenderness    ",
          " Empowerment   ",
          " Hope          ",
          " Loneliness ",
          " Confusion       ",
          " Indifference    ",
          " Numbness        ",
          " Determination   ",
          " Inspired ",
          " Free-spirited ",
          " Free-spirited ",
          " Apprehensive ",
          " Dismissive ",
          " Fearful ",
          " Bitterness ",
          " Jealous ",
          " Contemplation ",
          " Appreciation  ",
          " Immersion ",
          " Melancholy ",
          " Loneliness ",
          " Desolation ",
          " Serenity ",
          " Captivation ",
          " Thrilling Journey ",
          " Satisfaction ",
          " Joy ",
          " Gratitude ",
          " Curiosity ",
          " Contentment ",
          " Contentment ",
          " Gratitude ",
          " Joy ",
          " Curiosity ",
          " Excitement ",
          " Excitement ",
          " Excitement ",
          " Excitement "
         ],
         "xaxis": "x",
         "y": [
          18,
          20,
          18,
          22,
          18,
          22,
          15,
          18,
          15,
          18,
          25,
          15,
          18,
          15,
          15,
          9,
          11,
          20,
          15,
          22,
          22,
          14,
          14,
          13,
          15,
          16,
          28,
          28,
          20,
          18,
          22,
          20,
          18,
          28,
          22,
          28,
          30,
          28,
          30,
          28,
          18,
          28,
          18,
          18,
          25,
          18,
          24,
          23
         ],
         "yaxis": "y"
        },
        {
         "hovertemplate": "Country=UK<br>Platform=Instagram<br>Sentiment=%{x}<br>Retweets=%{y}<extra></extra>",
         "legendgroup": "UK",
         "marker": {
          "color": "#00cc96",
          "symbol": "circle"
         },
         "mode": "markers",
         "name": "UK",
         "orientation": "v",
         "showlegend": false,
         "type": "scatter",
         "x": [
          " Positive  ",
          " Positive  ",
          " Positive  ",
          " Amusement    ",
          " Confusion    ",
          " Happiness    ",
          " Amusement    ",
          " Confusion    ",
          " Pride        ",
          " Serenity      ",
          " Reverence     ",
          " Euphoria      ",
          " Elation       ",
          " Arousal       ",
          " Anxiety         ",
          " Disgust         ",
          " Frustration     ",
          " Acceptance      ",
          " Ambivalence     ",
          " Determination   ",
          " Curiosity       ",
          " Empathetic ",
          " Hopeful ",
          " Hopeful ",
          " Inspiration   ",
          " Blessed       ",
          " Surprise      ",
          " Regret ",
          " Nostalgia ",
          " Hope ",
          " Nostalgia ",
          " Frustration ",
          " Excitement ",
          " Excitement ",
          " Contentment ",
          " Curiosity ",
          " Joy ",
          " Excitement ",
          " Joy ",
          " Gratitude ",
          " Embarrassed ",
          " Joy ",
          " Excitement ",
          " Embarrassed ",
          " Excitement ",
          " Embarrassed ",
          " Excitement ",
          " Neutral ",
          " Neutral ",
          " Neutral ",
          " Happy ",
          " Happy ",
          " Happy "
         ],
         "xaxis": "x2",
         "y": [
          15,
          18,
          12,
          18,
          25,
          30,
          18,
          25,
          30,
          22,
          18,
          15,
          25,
          20,
          12,
          7,
          12,
          15,
          12,
          20,
          22,
          15,
          14,
          14,
          30,
          18,
          18,
          18,
          22,
          30,
          35,
          28,
          18,
          35,
          28,
          30,
          22,
          28,
          35,
          22,
          22,
          28,
          35,
          22,
          20,
          22,
          23,
          22,
          25,
          20,
          27,
          21,
          22
         ],
         "yaxis": "y2"
        },
        {
         "hovertemplate": "Country=UK<br>Platform=Facebook<br>Sentiment=%{x}<br>Retweets=%{y}<extra></extra>",
         "legendgroup": "UK",
         "marker": {
          "color": "#00cc96",
          "symbol": "circle"
         },
         "mode": "markers",
         "name": "UK",
         "orientation": "v",
         "showlegend": false,
         "type": "scatter",
         "x": [
          " Positive  ",
          " Positive  ",
          " Positive  ",
          " Positive  ",
          " Positive  ",
          " Calmness     ",
          " Tenderness    ",
          " Tenderness    ",
          " Loneliness      ",
          " Regret         ",
          " Anxiety   ",
          " Confusion       ",
          " Melancholy      ",
          " Ambivalence ",
          " Inspired ",
          " Inspired ",
          " Bitterness ",
          " Frustrated ",
          " Nostalgia      ",
          " Pride         ",
          " Elegance ",
          " Dazzle        ",
          " Grief      ",
          " Contentment ",
          " Excitement ",
          " Emotion ",
          " Reflection ",
          " Harmony ",
          " Joy ",
          " Joy ",
          " Joy ",
          " Joy ",
          " Bad ",
          " Bad ",
          " Hate ",
          " Hate ",
          " Sad ",
          " Sad ",
          " Sad ",
          " Neutral ",
          " Happy ",
          " Happy "
         ],
         "xaxis": "x3",
         "y": [
          8,
          12,
          22,
          15,
          22,
          15,
          25,
          25,
          10,
          12,
          10,
          10,
          13,
          14,
          14,
          14,
          12,
          14,
          22,
          28,
          28,
          28,
          22,
          25,
          30,
          30,
          30,
          18,
          22,
          18,
          22,
          22,
          20,
          19,
          14,
          23,
          19,
          21,
          20,
          19,
          20,
          21
         ],
         "yaxis": "y3"
        },
        {
         "hovertemplate": "Country=Australia<br>Platform=Twitter<br>Sentiment=%{x}<br>Retweets=%{y}<extra></extra>",
         "legendgroup": "Australia",
         "marker": {
          "color": "#ab63fa",
          "symbol": "circle"
         },
         "mode": "markers",
         "name": "Australia",
         "orientation": "v",
         "showlegend": true,
         "type": "scatter",
         "x": [
          " Love         ",
          " Love         ",
          " Acceptance   ",
          " Arousal       ",
          " Contentment   ",
          " Reverence ",
          " Helplessness    ",
          " Serenity        ",
          " Confusion       ",
          " Compassionate ",
          " Grateful ",
          " Hopeful ",
          " Hopeful ",
          " Devastated ",
          " Jealous ",
          " Calmness      ",
          " DreamChaser   ",
          " Freedom       ",
          " Desolation ",
          " Loss ",
          " Surprise ",
          " Pride "
         ],
         "xaxis": "x",
         "y": [
          15,
          15,
          22,
          20,
          30,
          18,
          8,
          12,
          14,
          18,
          19,
          17,
          17,
          25,
          16,
          18,
          30,
          30,
          20,
          22,
          25,
          22
         ],
         "yaxis": "y"
        },
        {
         "hovertemplate": "Country=Australia<br>Platform=Instagram<br>Sentiment=%{x}<br>Retweets=%{y}<extra></extra>",
         "legendgroup": "Australia",
         "marker": {
          "color": "#ab63fa",
          "symbol": "circle"
         },
         "mode": "markers",
         "name": "Australia",
         "orientation": "v",
         "showlegend": false,
         "type": "scatter",
         "x": [
          " Neutral   ",
          " Positive  ",
          " Pride        ",
          " Anticipation ",
          " Gratitude     ",
          " Arousal       ",
          " Compassion",
          " Resentment      ",
          " Helplessness ",
          " Loneliness ",
          " Melancholy      ",
          " Numbness        ",
          " Confusion       ",
          " Acceptance      ",
          " Confident ",
          " Grateful ",
          " Grateful ",
          " Yearning ",
          " Dismissive ",
          " Devastated ",
          " Dismissive ",
          " Curiosity  ",
          " Despair   ",
          " Enthusiasm ",
          " Miscalculation ",
          " Vibrancy ",
          " Nature's Beauty "
         ],
         "xaxis": "x2",
         "y": [
          12,
          15,
          30,
          20,
          30,
          20,
          18,
          7,
          8,
          15,
          12,
          8,
          14,
          18,
          25,
          19,
          19,
          10,
          12,
          25,
          12,
          18,
          28,
          30,
          28,
          22,
          28
         ],
         "yaxis": "y2"
        },
        {
         "hovertemplate": "Country=Australia<br>Platform=Facebook<br>Sentiment=%{x}<br>Retweets=%{y}<extra></extra>",
         "legendgroup": "Australia",
         "marker": {
          "color": "#ab63fa",
          "symbol": "circle"
         },
         "mode": "markers",
         "name": "Australia",
         "orientation": "v",
         "showlegend": false,
         "type": "scatter",
         "x": [
          " Neutral   ",
          " Positive  ",
          " Awe          ",
          " Awe          ",
          " Gratitude     ",
          " Enthusiasm    ",
          " Resentment      ",
          " Acceptance      ",
          " Ambivalence     ",
          " Confusion       ",
          " Acceptance      ",
          " Contentment ",
          " Playful ",
          " Playful ",
          " Playful ",
          " Loneliness ",
          " Yearning ",
          " Loneliness ",
          " Motivation    ",
          " Excitement    ",
          " Nostalgia     ",
          " Accomplishment ",
          " Curiosity   ",
          " Spark        ",
          " Bitterness ",
          " Despair "
         ],
         "xaxis": "x3",
         "y": [
          18,
          15,
          22,
          22,
          15,
          15,
          10,
          15,
          15,
          14,
          18,
          18,
          24,
          24,
          24,
          18,
          10,
          18,
          40,
          30,
          20,
          22,
          18,
          30,
          25,
          28
         ],
         "yaxis": "y3"
        },
        {
         "hovertemplate": "Country=India<br>Platform=Twitter<br>Sentiment=%{x}<br>Retweets=%{y}<extra></extra>",
         "legendgroup": "India",
         "marker": {
          "color": "#FFA15A",
          "symbol": "circle"
         },
         "mode": "markers",
         "name": "India",
         "orientation": "v",
         "showlegend": true,
         "type": "scatter",
         "x": [
          " Positive  ",
          " Neutral   ",
          " Positive  ",
          " Positive  ",
          " Positive  ",
          " Positive  ",
          " Disappointed ",
          " Calmness     ",
          " Disappointed ",
          " Calmness     ",
          " Excitement ",
          " Fulfillment  ",
          " Arousal       ",
          " Contentment   ",
          " Fulfillment   ",
          " Jealousy        ",
          " Disgust         ",
          " Intimidation ",
          " Resentment      ",
          " Numbness        ",
          " Ambivalence     ",
          " Inspired ",
          " Hopeful ",
          " Inspired ",
          " Hopeful ",
          " Fearful ",
          " Gratitude     ",
          " Anticipation  ",
          " Enthusiasm    ",
          " Happiness     ",
          " Gratitude "
         ],
         "xaxis": "x",
         "y": [
          25,
          15,
          22,
          15,
          15,
          28,
          18,
          15,
          18,
          15,
          25,
          22,
          20,
          30,
          22,
          12,
          7,
          15,
          10,
          8,
          15,
          18,
          15,
          18,
          15,
          18,
          22,
          40,
          30,
          15,
          22
         ],
         "yaxis": "y"
        },
        {
         "hovertemplate": "Country=India<br>Platform=Instagram<br>Sentiment=%{x}<br>Retweets=%{y}<extra></extra>",
         "legendgroup": "India",
         "marker": {
          "color": "#FFA15A",
          "symbol": "circle"
         },
         "mode": "markers",
         "name": "India",
         "orientation": "v",
         "showlegend": false,
         "type": "scatter",
         "x": [
          " Positive  ",
          " Empowerment   ",
          " Jealousy        ",
          " Nostalgia       ",
          " Indifference    ",
          " Hopeful ",
          " Free-spirited ",
          " Zest ",
          " Hopeful ",
          " Frustrated ",
          " Bitterness ",
          " Thrill        ",
          " JoyfulReunion ",
          " Nostalgia ",
          " EmotionalStorm ",
          " Grief ",
          " Curiosity ",
          " Touched ",
          " Joy in Baking "
         ],
         "xaxis": "x2",
         "y": [
          22,
          25,
          8,
          12,
          9,
          12,
          20,
          16,
          14,
          12,
          10,
          40,
          20,
          25,
          30,
          30,
          22,
          28,
          22
         ],
         "yaxis": "y2"
        },
        {
         "hovertemplate": "Country=India<br>Platform=Facebook<br>Sentiment=%{x}<br>Retweets=%{y}<extra></extra>",
         "legendgroup": "India",
         "marker": {
          "color": "#FFA15A",
          "symbol": "circle"
         },
         "mode": "markers",
         "name": "India",
         "orientation": "v",
         "showlegend": false,
         "type": "scatter",
         "x": [
          " Positive  ",
          " Sadness      ",
          " Shame        ",
          " Sadness      ",
          " Shame        ",
          " Contentment   ",
          " Fulfillment  ",
          " Gratitude     ",
          " Contentment   ",
          " Intimidation    ",
          " Despair         ",
          " Determination   ",
          " Melancholy      ",
          " Curiosity       ",
          " Indifference    ",
          " Curiosity       ",
          " Fearful ",
          " Frustrated ",
          " Despair ",
          " Excitement "
         ],
         "xaxis": "x3",
         "y": [
          25,
          25,
          15,
          25,
          15,
          25,
          22,
          15,
          25,
          15,
          10,
          10,
          12,
          22,
          9,
          22,
          18,
          14,
          18,
          30
         ],
         "yaxis": "y3"
        },
        {
         "hovertemplate": "Country=France<br>Platform=Twitter<br>Sentiment=%{x}<br>Retweets=%{y}<extra></extra>",
         "legendgroup": "France",
         "marker": {
          "color": "#19d3f3",
          "symbol": "circle"
         },
         "mode": "markers",
         "name": "France",
         "orientation": "v",
         "showlegend": true,
         "type": "scatter",
         "x": [
          " Intrigue      ",
          " Melodic       ",
          " Regret        ",
          " Heartbreak ",
          " Inspiration ",
          " Reflection ",
          " Inspiration ",
          " Obstacle ",
          " Creative Inspiration "
         ],
         "xaxis": "x",
         "y": [
          18,
          18,
          18,
          22,
          18,
          28,
          22,
          22,
          22
         ],
         "yaxis": "y"
        },
        {
         "hovertemplate": "Country=France<br>Platform=Instagram<br>Sentiment=%{x}<br>Retweets=%{y}<extra></extra>",
         "legendgroup": "France",
         "marker": {
          "color": "#19d3f3",
          "symbol": "circle"
         },
         "mode": "markers",
         "name": "France",
         "orientation": "v",
         "showlegend": false,
         "type": "scatter",
         "x": [
          " Excitement ",
          " Contentment ",
          " Desperation ",
          " Loss ",
          " Positivity "
         ],
         "xaxis": "x2",
         "y": [
          30,
          28,
          22,
          28,
          18
         ],
         "yaxis": "y2"
        },
        {
         "hovertemplate": "Country=France<br>Platform=Facebook<br>Sentiment=%{x}<br>Retweets=%{y}<extra></extra>",
         "legendgroup": "France",
         "marker": {
          "color": "#19d3f3",
          "symbol": "circle"
         },
         "mode": "markers",
         "name": "France",
         "orientation": "v",
         "showlegend": false,
         "type": "scatter",
         "x": [
          " Desolation ",
          " Solace "
         ],
         "xaxis": "x3",
         "y": [
          28,
          30
         ],
         "yaxis": "y3"
        },
        {
         "hovertemplate": "Country=Brazil<br>Platform=Twitter<br>Sentiment=%{x}<br>Retweets=%{y}<extra></extra>",
         "legendgroup": "Brazil",
         "marker": {
          "color": "#FF6692",
          "symbol": "circle"
         },
         "mode": "markers",
         "name": "Brazil",
         "orientation": "v",
         "showlegend": true,
         "type": "scatter",
         "x": [
          " Gratitude   ",
          " Ruins      ",
          " Heartbreak ",
          " Satisfaction ",
          " Disappointment "
         ],
         "xaxis": "x",
         "y": [
          35,
          20,
          22,
          22,
          40
         ],
         "yaxis": "y"
        },
        {
         "hovertemplate": "Country=Brazil<br>Platform=Instagram<br>Sentiment=%{x}<br>Retweets=%{y}<extra></extra>",
         "legendgroup": "Brazil",
         "marker": {
          "color": "#FF6692",
          "symbol": "circle"
         },
         "mode": "markers",
         "name": "Brazil",
         "orientation": "v",
         "showlegend": false,
         "type": "scatter",
         "x": [
          " Enchantment   ",
          " Enchantment   ",
          " Marvel       ",
          " Wonder ",
          " Joy ",
          " Creativity "
         ],
         "xaxis": "x2",
         "y": [
          25,
          25,
          22,
          30,
          40,
          22
         ],
         "yaxis": "y2"
        },
        {
         "hovertemplate": "Country=Brazil<br>Platform=Facebook<br>Sentiment=%{x}<br>Retweets=%{y}<extra></extra>",
         "legendgroup": "Brazil",
         "marker": {
          "color": "#FF6692",
          "symbol": "circle"
         },
         "mode": "markers",
         "name": "Brazil",
         "orientation": "v",
         "showlegend": false,
         "type": "scatter",
         "x": [
          " Suffering ",
          " Desolation ",
          " Betrayal ",
          " Kindness ",
          " Happiness ",
          " Ocean's Freedom "
         ],
         "xaxis": "x3",
         "y": [
          25,
          28,
          15,
          25,
          30,
          22
         ],
         "yaxis": "y3"
        },
        {
         "hovertemplate": "Country=Japan<br>Platform=Twitter<br>Sentiment=%{x}<br>Retweets=%{y}<extra></extra>",
         "legendgroup": "Japan",
         "marker": {
          "color": "#B6E880",
          "symbol": "circle"
         },
         "mode": "markers",
         "name": "Japan",
         "orientation": "v",
         "showlegend": true,
         "type": "scatter",
         "x": [
          " Gratitude    ",
          " Resilience ",
          " Joy ",
          " Exploration "
         ],
         "xaxis": "x",
         "y": [
          18,
          35,
          20,
          18
         ],
         "yaxis": "y"
        },
        {
         "hovertemplate": "Country=Japan<br>Platform=Instagram<br>Sentiment=%{x}<br>Retweets=%{y}<extra></extra>",
         "legendgroup": "Japan",
         "marker": {
          "color": "#B6E880",
          "symbol": "circle"
         },
         "mode": "markers",
         "name": "Japan",
         "orientation": "v",
         "showlegend": false,
         "type": "scatter",
         "x": [
          " Bittersweet ",
          " Isolation ",
          " Heartache ",
          " Success ",
          " Sympathy "
         ],
         "xaxis": "x2",
         "y": [
          20,
          35,
          30,
          22,
          28
         ],
         "yaxis": "y2"
        },
        {
         "hovertemplate": "Country=Japan<br>Platform=Facebook<br>Sentiment=%{x}<br>Retweets=%{y}<extra></extra>",
         "legendgroup": "Japan",
         "marker": {
          "color": "#B6E880",
          "symbol": "circle"
         },
         "mode": "markers",
         "name": "Japan",
         "orientation": "v",
         "showlegend": false,
         "type": "scatter",
         "x": [
          " PlayfulJoy    ",
          " FestiveJoy    ",
          " Accomplishment ",
          " Tranquility ",
          " Suspense ",
          " Imagination "
         ],
         "xaxis": "x3",
         "y": [
          22,
          22,
          28,
          25,
          35,
          35
         ],
         "yaxis": "y3"
        },
        {
         "hovertemplate": "Country=Greece<br>Platform=Twitter<br>Sentiment=%{x}<br>Retweets=%{y}<extra></extra>",
         "legendgroup": "Greece",
         "marker": {
          "color": "#FF97FF",
          "symbol": "circle"
         },
         "mode": "markers",
         "name": "Greece",
         "orientation": "v",
         "showlegend": true,
         "type": "scatter",
         "x": [
          " Pensive ",
          " Reflection    ",
          " Whispers of the Past "
         ],
         "xaxis": "x",
         "y": [
          18,
          18,
          35
         ],
         "yaxis": "y"
        },
        {
         "hovertemplate": "Country=Greece<br>Platform=Facebook<br>Sentiment=%{x}<br>Retweets=%{y}<extra></extra>",
         "legendgroup": "Greece",
         "marker": {
          "color": "#FF97FF",
          "symbol": "circle"
         },
         "mode": "markers",
         "name": "Greece",
         "orientation": "v",
         "showlegend": false,
         "type": "scatter",
         "x": [
          " Curiosity     ",
          " Serenity "
         ],
         "xaxis": "x3",
         "y": [
          18,
          22
         ],
         "yaxis": "y3"
        },
        {
         "hovertemplate": "Country=Germany<br>Platform=Twitter<br>Sentiment=%{x}<br>Retweets=%{y}<extra></extra>",
         "legendgroup": "Germany",
         "marker": {
          "color": "#FECB52",
          "symbol": "circle"
         },
         "mode": "markers",
         "name": "Germany",
         "orientation": "v",
         "showlegend": true,
         "type": "scatter",
         "x": [
          " Betrayal      ",
          " Sorrow      ",
          " Thrill ",
          " Breakthrough "
         ],
         "xaxis": "x",
         "y": [
          22,
          18,
          28,
          28
         ],
         "yaxis": "y"
        },
        {
         "hovertemplate": "Country=Germany<br>Platform=Instagram<br>Sentiment=%{x}<br>Retweets=%{y}<extra></extra>",
         "legendgroup": "Germany",
         "marker": {
          "color": "#FECB52",
          "symbol": "circle"
         },
         "mode": "markers",
         "name": "Germany",
         "orientation": "v",
         "showlegend": false,
         "type": "scatter",
         "x": [
          " Bitterness ",
          " Betrayal ",
          " Contemplation "
         ],
         "xaxis": "x2",
         "y": [
          15,
          15,
          28
         ],
         "yaxis": "y2"
        },
        {
         "hovertemplate": "Country=Germany<br>Platform=Facebook<br>Sentiment=%{x}<br>Retweets=%{y}<extra></extra>",
         "legendgroup": "Germany",
         "marker": {
          "color": "#FECB52",
          "symbol": "circle"
         },
         "mode": "markers",
         "name": "Germany",
         "orientation": "v",
         "showlegend": false,
         "type": "scatter",
         "x": [
          " Thrill      ",
          " Adrenaline     ",
          " Serenity   ",
          " Grief ",
          " Accomplishment ",
          " Gratitude ",
          " Challenge "
         ],
         "xaxis": "x3",
         "y": [
          22,
          22,
          28,
          22,
          28,
          28,
          35
         ],
         "yaxis": "y3"
        },
        {
         "hovertemplate": "Country=Sweden<br>Platform=Instagram<br>Sentiment=%{x}<br>Retweets=%{y}<extra></extra>",
         "legendgroup": "Sweden",
         "marker": {
          "color": "#636efa",
          "symbol": "circle"
         },
         "mode": "markers",
         "name": "Sweden",
         "orientation": "v",
         "showlegend": true,
         "type": "scatter",
         "x": [
          " Harmony    ",
          " Harmony       "
         ],
         "xaxis": "x2",
         "y": [
          35,
          35
         ],
         "yaxis": "y2"
        },
        {
         "hovertemplate": "Country=Italy<br>Platform=Twitter<br>Sentiment=%{x}<br>Retweets=%{y}<extra></extra>",
         "legendgroup": "Italy",
         "marker": {
          "color": "#EF553B",
          "symbol": "circle"
         },
         "mode": "markers",
         "name": "Italy",
         "orientation": "v",
         "showlegend": true,
         "type": "scatter",
         "x": [
          " Creativity   ",
          " ArtisticBurst ",
          " Nostalgia ",
          " Captivation ",
          " Envisioning History "
         ],
         "xaxis": "x",
         "y": [
          15,
          15,
          18,
          25,
          28
         ],
         "yaxis": "y"
        },
        {
         "hovertemplate": "Country=Italy<br>Platform=Instagram<br>Sentiment=%{x}<br>Retweets=%{y}<extra></extra>",
         "legendgroup": "Italy",
         "marker": {
          "color": "#EF553B",
          "symbol": "circle"
         },
         "mode": "markers",
         "name": "Italy",
         "orientation": "v",
         "showlegend": false,
         "type": "scatter",
         "x": [
          " Romance ",
          " Runway Creativity "
         ],
         "xaxis": "x2",
         "y": [
          20,
          28
         ],
         "yaxis": "y2"
        },
        {
         "hovertemplate": "Country=Italy<br>Platform=Facebook<br>Sentiment=%{x}<br>Retweets=%{y}<extra></extra>",
         "legendgroup": "Italy",
         "marker": {
          "color": "#EF553B",
          "symbol": "circle"
         },
         "mode": "markers",
         "name": "Italy",
         "orientation": "v",
         "showlegend": false,
         "type": "scatter",
         "x": [
          " Grief      ",
          " Betrayal ",
          " Excitement ",
          " Determination "
         ],
         "xaxis": "x3",
         "y": [
          28,
          25,
          22,
          35
         ],
         "yaxis": "y3"
        },
        {
         "hovertemplate": "Country=Netherlands<br>Platform=Instagram<br>Sentiment=%{x}<br>Retweets=%{y}<extra></extra>",
         "legendgroup": "Netherlands",
         "marker": {
          "color": "#00cc96",
          "symbol": "circle"
         },
         "mode": "markers",
         "name": "Netherlands",
         "orientation": "v",
         "showlegend": true,
         "type": "scatter",
         "x": [
          " Joy "
         ],
         "xaxis": "x2",
         "y": [
          35
         ],
         "yaxis": "y2"
        },
        {
         "hovertemplate": "Country=Netherlands<br>Platform=Facebook<br>Sentiment=%{x}<br>Retweets=%{y}<extra></extra>",
         "legendgroup": "Netherlands",
         "marker": {
          "color": "#00cc96",
          "symbol": "circle"
         },
         "mode": "markers",
         "name": "Netherlands",
         "orientation": "v",
         "showlegend": false,
         "type": "scatter",
         "x": [
          " Radiance    ",
          " Radiance      ",
          " LostLove "
         ],
         "xaxis": "x3",
         "y": [
          25,
          25,
          22
         ],
         "yaxis": "y3"
        },
        {
         "hovertemplate": "Country=South Africa<br>Platform=Instagram<br>Sentiment=%{x}<br>Retweets=%{y}<extra></extra>",
         "legendgroup": "South Africa",
         "marker": {
          "color": "#ab63fa",
          "symbol": "circle"
         },
         "mode": "markers",
         "name": "South Africa",
         "orientation": "v",
         "showlegend": true,
         "type": "scatter",
         "x": [
          " Wonder     ",
          " Wonder       ",
          " Despair   ",
          " Isolation ",
          " Friendship ",
          " Thrill "
         ],
         "xaxis": "x2",
         "y": [
          40,
          40,
          40,
          30,
          30,
          35
         ],
         "yaxis": "y2"
        },
        {
         "hovertemplate": "Country=Spain<br>Platform=Twitter<br>Sentiment=%{x}<br>Retweets=%{y}<extra></extra>",
         "legendgroup": "Spain",
         "marker": {
          "color": "#FFA15A",
          "symbol": "circle"
         },
         "mode": "markers",
         "name": "Spain",
         "orientation": "v",
         "showlegend": true,
         "type": "scatter",
         "x": [
          " Rejuvenation ",
          " Rejuvenation ",
          " Disappointment ",
          " Regret ",
          " Despair "
         ],
         "xaxis": "x",
         "y": [
          18,
          18,
          20,
          18,
          22
         ],
         "yaxis": "y"
        },
        {
         "hovertemplate": "Country=Spain<br>Platform=Instagram<br>Sentiment=%{x}<br>Retweets=%{y}<extra></extra>",
         "legendgroup": "Spain",
         "marker": {
          "color": "#FFA15A",
          "symbol": "circle"
         },
         "mode": "markers",
         "name": "Spain",
         "orientation": "v",
         "showlegend": false,
         "type": "scatter",
         "x": [
          " Solitude "
         ],
         "xaxis": "x2",
         "y": [
          30
         ],
         "yaxis": "y2"
        },
        {
         "hovertemplate": "Country=Portugal<br>Platform=Facebook<br>Sentiment=%{x}<br>Retweets=%{y}<extra></extra>",
         "legendgroup": "Portugal",
         "marker": {
          "color": "#19d3f3",
          "symbol": "circle"
         },
         "mode": "markers",
         "name": "Portugal",
         "orientation": "v",
         "showlegend": true,
         "type": "scatter",
         "x": [
          " Inspiration ",
          " Inspiration  "
         ],
         "xaxis": "x3",
         "y": [
          28,
          28
         ],
         "yaxis": "y3"
        },
        {
         "hovertemplate": "Country=Switzerland<br>Platform=Twitter<br>Sentiment=%{x}<br>Retweets=%{y}<extra></extra>",
         "legendgroup": "Switzerland",
         "marker": {
          "color": "#FF6692",
          "symbol": "circle"
         },
         "mode": "markers",
         "name": "Switzerland",
         "orientation": "v",
         "showlegend": true,
         "type": "scatter",
         "x": [
          " Adventure "
         ],
         "xaxis": "x",
         "y": [
          22
         ],
         "yaxis": "y"
        },
        {
         "hovertemplate": "Country=Switzerland<br>Platform=Instagram<br>Sentiment=%{x}<br>Retweets=%{y}<extra></extra>",
         "legendgroup": "Switzerland",
         "marker": {
          "color": "#FF6692",
          "symbol": "circle"
         },
         "mode": "markers",
         "name": "Switzerland",
         "orientation": "v",
         "showlegend": false,
         "type": "scatter",
         "x": [
          " Coziness     ",
          " Coziness     "
         ],
         "xaxis": "x2",
         "y": [
          30,
          30
         ],
         "yaxis": "y2"
        },
        {
         "hovertemplate": "Country=Austria<br>Platform=Facebook<br>Sentiment=%{x}<br>Retweets=%{y}<extra></extra>",
         "legendgroup": "Austria",
         "marker": {
          "color": "#B6E880",
          "symbol": "circle"
         },
         "mode": "markers",
         "name": "Austria",
         "orientation": "v",
         "showlegend": true,
         "type": "scatter",
         "x": [
          " Gratitude  ",
          " Gratitude  "
         ],
         "xaxis": "x3",
         "y": [
          22,
          22
         ],
         "yaxis": "y3"
        },
        {
         "hovertemplate": "Country=Belgium<br>Platform=Twitter<br>Sentiment=%{x}<br>Retweets=%{y}<extra></extra>",
         "legendgroup": "Belgium",
         "marker": {
          "color": "#FF97FF",
          "symbol": "circle"
         },
         "mode": "markers",
         "name": "Belgium",
         "orientation": "v",
         "showlegend": true,
         "type": "scatter",
         "x": [
          " Adventure ",
          " CulinaryOdyssey "
         ],
         "xaxis": "x",
         "y": [
          35,
          35
         ],
         "yaxis": "y"
        },
        {
         "hovertemplate": "Country=Denmark<br>Platform=Instagram<br>Sentiment=%{x}<br>Retweets=%{y}<extra></extra>",
         "legendgroup": "Denmark",
         "marker": {
          "color": "#FECB52",
          "symbol": "circle"
         },
         "mode": "markers",
         "name": "Denmark",
         "orientation": "v",
         "showlegend": true,
         "type": "scatter",
         "x": [
          " Euphoria   ",
          " Euphoria     "
         ],
         "xaxis": "x2",
         "y": [
          20,
          20
         ],
         "yaxis": "y2"
        },
        {
         "hovertemplate": "Country=Czech Republic<br>Platform=Facebook<br>Sentiment=%{x}<br>Retweets=%{y}<extra></extra>",
         "legendgroup": "Czech Republic",
         "marker": {
          "color": "#636efa",
          "symbol": "circle"
         },
         "mode": "markers",
         "name": "Czech Republic",
         "orientation": "v",
         "showlegend": true,
         "type": "scatter",
         "x": [
          " Awe    ",
          " Awe    "
         ],
         "xaxis": "x3",
         "y": [
          18,
          18
         ],
         "yaxis": "y3"
        },
        {
         "hovertemplate": "Country=Jordan<br>Platform=Twitter<br>Sentiment=%{x}<br>Retweets=%{y}<extra></extra>",
         "legendgroup": "Jordan",
         "marker": {
          "color": "#EF553B",
          "symbol": "circle"
         },
         "mode": "markers",
         "name": "Jordan",
         "orientation": "v",
         "showlegend": true,
         "type": "scatter",
         "x": [
          " Amazement "
         ],
         "xaxis": "x",
         "y": [
          30
         ],
         "yaxis": "y"
        },
        {
         "hovertemplate": "Country=Peru<br>Platform=Facebook<br>Sentiment=%{x}<br>Retweets=%{y}<extra></extra>",
         "legendgroup": "Peru",
         "marker": {
          "color": "#00cc96",
          "symbol": "circle"
         },
         "mode": "markers",
         "name": "Peru",
         "orientation": "v",
         "showlegend": true,
         "type": "scatter",
         "x": [
          " Awe "
         ],
         "xaxis": "x3",
         "y": [
          28
         ],
         "yaxis": "y3"
        },
        {
         "hovertemplate": "Country=Maldives<br>Platform=Facebook<br>Sentiment=%{x}<br>Retweets=%{y}<extra></extra>",
         "legendgroup": "Maldives",
         "marker": {
          "color": "#ab63fa",
          "symbol": "circle"
         },
         "mode": "markers",
         "name": "Maldives",
         "orientation": "v",
         "showlegend": true,
         "type": "scatter",
         "x": [
          " Serenity "
         ],
         "xaxis": "x3",
         "y": [
          22
         ],
         "yaxis": "y3"
        },
        {
         "hovertemplate": "Country=China<br>Platform=Twitter<br>Sentiment=%{x}<br>Retweets=%{y}<extra></extra>",
         "legendgroup": "China",
         "marker": {
          "color": "#FFA15A",
          "symbol": "circle"
         },
         "mode": "markers",
         "name": "China",
         "orientation": "v",
         "showlegend": true,
         "type": "scatter",
         "x": [
          " Awe "
         ],
         "xaxis": "x",
         "y": [
          18
         ],
         "yaxis": "y"
        },
        {
         "hovertemplate": "Country=Cambodia<br>Platform=Instagram<br>Sentiment=%{x}<br>Retweets=%{y}<extra></extra>",
         "legendgroup": "Cambodia",
         "marker": {
          "color": "#19d3f3",
          "symbol": "circle"
         },
         "mode": "markers",
         "name": "Cambodia",
         "orientation": "v",
         "showlegend": true,
         "type": "scatter",
         "x": [
          " Exploration "
         ],
         "xaxis": "x2",
         "y": [
          20
         ],
         "yaxis": "y2"
        },
        {
         "hovertemplate": "Country=Norway<br>Platform=Instagram<br>Sentiment=%{x}<br>Retweets=%{y}<extra></extra>",
         "legendgroup": "Norway",
         "marker": {
          "color": "#FF6692",
          "symbol": "circle"
         },
         "mode": "markers",
         "name": "Norway",
         "orientation": "v",
         "showlegend": true,
         "type": "scatter",
         "x": [
          " Grandeur "
         ],
         "xaxis": "x2",
         "y": [
          22
         ],
         "yaxis": "y2"
        },
        {
         "hovertemplate": "Country=Colombia<br>Platform=Facebook<br>Sentiment=%{x}<br>Retweets=%{y}<extra></extra>",
         "legendgroup": "Colombia",
         "marker": {
          "color": "#B6E880",
          "symbol": "circle"
         },
         "mode": "markers",
         "name": "Colombia",
         "orientation": "v",
         "showlegend": true,
         "type": "scatter",
         "x": [
          " Hypnotic "
         ],
         "xaxis": "x3",
         "y": [
          28
         ],
         "yaxis": "y3"
        },
        {
         "hovertemplate": "Country=Ireland<br>Platform=Instagram<br>Sentiment=%{x}<br>Retweets=%{y}<extra></extra>",
         "legendgroup": "Ireland",
         "marker": {
          "color": "#FF97FF",
          "symbol": "circle"
         },
         "mode": "markers",
         "name": "Ireland",
         "orientation": "v",
         "showlegend": true,
         "type": "scatter",
         "x": [
          " Connection "
         ],
         "xaxis": "x2",
         "y": [
          25
         ],
         "yaxis": "y2"
        },
        {
         "hovertemplate": "Country=Jamaica<br>Platform=Instagram<br>Sentiment=%{x}<br>Retweets=%{y}<extra></extra>",
         "legendgroup": "Jamaica",
         "marker": {
          "color": "#FECB52",
          "symbol": "circle"
         },
         "mode": "markers",
         "name": "Jamaica",
         "orientation": "v",
         "showlegend": true,
         "type": "scatter",
         "x": [
          " Journey "
         ],
         "xaxis": "x2",
         "y": [
          30
         ],
         "yaxis": "y2"
        },
        {
         "hovertemplate": "Country=Kenya<br>Platform=Instagram<br>Sentiment=%{x}<br>Retweets=%{y}<extra></extra>",
         "legendgroup": "Kenya",
         "marker": {
          "color": "#636efa",
          "symbol": "circle"
         },
         "mode": "markers",
         "name": "Kenya",
         "orientation": "v",
         "showlegend": true,
         "type": "scatter",
         "x": [
          " Admiration "
         ],
         "xaxis": "x2",
         "y": [
          22
         ],
         "yaxis": "y2"
        },
        {
         "hovertemplate": "Country=Scotland<br>Platform=Instagram<br>Sentiment=%{x}<br>Retweets=%{y}<extra></extra>",
         "legendgroup": "Scotland",
         "marker": {
          "color": "#EF553B",
          "symbol": "circle"
         },
         "mode": "markers",
         "name": "Scotland",
         "orientation": "v",
         "showlegend": true,
         "type": "scatter",
         "x": [
          " Awe "
         ],
         "xaxis": "x2",
         "y": [
          22
         ],
         "yaxis": "y2"
        },
        {
         "hovertemplate": "Country=Thailand<br>Platform=Instagram<br>Sentiment=%{x}<br>Retweets=%{y}<extra></extra>",
         "legendgroup": "Thailand",
         "marker": {
          "color": "#00cc96",
          "symbol": "circle"
         },
         "mode": "markers",
         "name": "Thailand",
         "orientation": "v",
         "showlegend": true,
         "type": "scatter",
         "x": [
          " Culinary Adventure "
         ],
         "xaxis": "x2",
         "y": [
          35
         ],
         "yaxis": "y2"
        }
       ],
       "layout": {
        "annotations": [
         {
          "font": {},
          "showarrow": false,
          "text": "Platform=Twitter",
          "x": 0.15999999999999998,
          "xanchor": "center",
          "xref": "paper",
          "y": 1,
          "yanchor": "bottom",
          "yref": "paper"
         },
         {
          "font": {},
          "showarrow": false,
          "text": "Platform=Instagram",
          "x": 0.49999999999999994,
          "xanchor": "center",
          "xref": "paper",
          "y": 1,
          "yanchor": "bottom",
          "yref": "paper"
         },
         {
          "font": {},
          "showarrow": false,
          "text": "Platform=Facebook",
          "x": 0.8399999999999999,
          "xanchor": "center",
          "xref": "paper",
          "y": 1,
          "yanchor": "bottom",
          "yref": "paper"
         }
        ],
        "legend": {
         "title": {
          "text": "Country"
         },
         "tracegroupgap": 0
        },
        "margin": {
         "t": 60
        },
        "template": {
         "data": {
          "bar": [
           {
            "error_x": {
             "color": "#2a3f5f"
            },
            "error_y": {
             "color": "#2a3f5f"
            },
            "marker": {
             "line": {
              "color": "#E5ECF6",
              "width": 0.5
             },
             "pattern": {
              "fillmode": "overlay",
              "size": 10,
              "solidity": 0.2
             }
            },
            "type": "bar"
           }
          ],
          "barpolar": [
           {
            "marker": {
             "line": {
              "color": "#E5ECF6",
              "width": 0.5
             },
             "pattern": {
              "fillmode": "overlay",
              "size": 10,
              "solidity": 0.2
             }
            },
            "type": "barpolar"
           }
          ],
          "carpet": [
           {
            "aaxis": {
             "endlinecolor": "#2a3f5f",
             "gridcolor": "white",
             "linecolor": "white",
             "minorgridcolor": "white",
             "startlinecolor": "#2a3f5f"
            },
            "baxis": {
             "endlinecolor": "#2a3f5f",
             "gridcolor": "white",
             "linecolor": "white",
             "minorgridcolor": "white",
             "startlinecolor": "#2a3f5f"
            },
            "type": "carpet"
           }
          ],
          "choropleth": [
           {
            "colorbar": {
             "outlinewidth": 0,
             "ticks": ""
            },
            "type": "choropleth"
           }
          ],
          "contour": [
           {
            "colorbar": {
             "outlinewidth": 0,
             "ticks": ""
            },
            "colorscale": [
             [
              0,
              "#0d0887"
             ],
             [
              0.1111111111111111,
              "#46039f"
             ],
             [
              0.2222222222222222,
              "#7201a8"
             ],
             [
              0.3333333333333333,
              "#9c179e"
             ],
             [
              0.4444444444444444,
              "#bd3786"
             ],
             [
              0.5555555555555556,
              "#d8576b"
             ],
             [
              0.6666666666666666,
              "#ed7953"
             ],
             [
              0.7777777777777778,
              "#fb9f3a"
             ],
             [
              0.8888888888888888,
              "#fdca26"
             ],
             [
              1,
              "#f0f921"
             ]
            ],
            "type": "contour"
           }
          ],
          "contourcarpet": [
           {
            "colorbar": {
             "outlinewidth": 0,
             "ticks": ""
            },
            "type": "contourcarpet"
           }
          ],
          "heatmap": [
           {
            "colorbar": {
             "outlinewidth": 0,
             "ticks": ""
            },
            "colorscale": [
             [
              0,
              "#0d0887"
             ],
             [
              0.1111111111111111,
              "#46039f"
             ],
             [
              0.2222222222222222,
              "#7201a8"
             ],
             [
              0.3333333333333333,
              "#9c179e"
             ],
             [
              0.4444444444444444,
              "#bd3786"
             ],
             [
              0.5555555555555556,
              "#d8576b"
             ],
             [
              0.6666666666666666,
              "#ed7953"
             ],
             [
              0.7777777777777778,
              "#fb9f3a"
             ],
             [
              0.8888888888888888,
              "#fdca26"
             ],
             [
              1,
              "#f0f921"
             ]
            ],
            "type": "heatmap"
           }
          ],
          "heatmapgl": [
           {
            "colorbar": {
             "outlinewidth": 0,
             "ticks": ""
            },
            "colorscale": [
             [
              0,
              "#0d0887"
             ],
             [
              0.1111111111111111,
              "#46039f"
             ],
             [
              0.2222222222222222,
              "#7201a8"
             ],
             [
              0.3333333333333333,
              "#9c179e"
             ],
             [
              0.4444444444444444,
              "#bd3786"
             ],
             [
              0.5555555555555556,
              "#d8576b"
             ],
             [
              0.6666666666666666,
              "#ed7953"
             ],
             [
              0.7777777777777778,
              "#fb9f3a"
             ],
             [
              0.8888888888888888,
              "#fdca26"
             ],
             [
              1,
              "#f0f921"
             ]
            ],
            "type": "heatmapgl"
           }
          ],
          "histogram": [
           {
            "marker": {
             "pattern": {
              "fillmode": "overlay",
              "size": 10,
              "solidity": 0.2
             }
            },
            "type": "histogram"
           }
          ],
          "histogram2d": [
           {
            "colorbar": {
             "outlinewidth": 0,
             "ticks": ""
            },
            "colorscale": [
             [
              0,
              "#0d0887"
             ],
             [
              0.1111111111111111,
              "#46039f"
             ],
             [
              0.2222222222222222,
              "#7201a8"
             ],
             [
              0.3333333333333333,
              "#9c179e"
             ],
             [
              0.4444444444444444,
              "#bd3786"
             ],
             [
              0.5555555555555556,
              "#d8576b"
             ],
             [
              0.6666666666666666,
              "#ed7953"
             ],
             [
              0.7777777777777778,
              "#fb9f3a"
             ],
             [
              0.8888888888888888,
              "#fdca26"
             ],
             [
              1,
              "#f0f921"
             ]
            ],
            "type": "histogram2d"
           }
          ],
          "histogram2dcontour": [
           {
            "colorbar": {
             "outlinewidth": 0,
             "ticks": ""
            },
            "colorscale": [
             [
              0,
              "#0d0887"
             ],
             [
              0.1111111111111111,
              "#46039f"
             ],
             [
              0.2222222222222222,
              "#7201a8"
             ],
             [
              0.3333333333333333,
              "#9c179e"
             ],
             [
              0.4444444444444444,
              "#bd3786"
             ],
             [
              0.5555555555555556,
              "#d8576b"
             ],
             [
              0.6666666666666666,
              "#ed7953"
             ],
             [
              0.7777777777777778,
              "#fb9f3a"
             ],
             [
              0.8888888888888888,
              "#fdca26"
             ],
             [
              1,
              "#f0f921"
             ]
            ],
            "type": "histogram2dcontour"
           }
          ],
          "mesh3d": [
           {
            "colorbar": {
             "outlinewidth": 0,
             "ticks": ""
            },
            "type": "mesh3d"
           }
          ],
          "parcoords": [
           {
            "line": {
             "colorbar": {
              "outlinewidth": 0,
              "ticks": ""
             }
            },
            "type": "parcoords"
           }
          ],
          "pie": [
           {
            "automargin": true,
            "type": "pie"
           }
          ],
          "scatter": [
           {
            "fillpattern": {
             "fillmode": "overlay",
             "size": 10,
             "solidity": 0.2
            },
            "type": "scatter"
           }
          ],
          "scatter3d": [
           {
            "line": {
             "colorbar": {
              "outlinewidth": 0,
              "ticks": ""
             }
            },
            "marker": {
             "colorbar": {
              "outlinewidth": 0,
              "ticks": ""
             }
            },
            "type": "scatter3d"
           }
          ],
          "scattercarpet": [
           {
            "marker": {
             "colorbar": {
              "outlinewidth": 0,
              "ticks": ""
             }
            },
            "type": "scattercarpet"
           }
          ],
          "scattergeo": [
           {
            "marker": {
             "colorbar": {
              "outlinewidth": 0,
              "ticks": ""
             }
            },
            "type": "scattergeo"
           }
          ],
          "scattergl": [
           {
            "marker": {
             "colorbar": {
              "outlinewidth": 0,
              "ticks": ""
             }
            },
            "type": "scattergl"
           }
          ],
          "scattermapbox": [
           {
            "marker": {
             "colorbar": {
              "outlinewidth": 0,
              "ticks": ""
             }
            },
            "type": "scattermapbox"
           }
          ],
          "scatterpolar": [
           {
            "marker": {
             "colorbar": {
              "outlinewidth": 0,
              "ticks": ""
             }
            },
            "type": "scatterpolar"
           }
          ],
          "scatterpolargl": [
           {
            "marker": {
             "colorbar": {
              "outlinewidth": 0,
              "ticks": ""
             }
            },
            "type": "scatterpolargl"
           }
          ],
          "scatterternary": [
           {
            "marker": {
             "colorbar": {
              "outlinewidth": 0,
              "ticks": ""
             }
            },
            "type": "scatterternary"
           }
          ],
          "surface": [
           {
            "colorbar": {
             "outlinewidth": 0,
             "ticks": ""
            },
            "colorscale": [
             [
              0,
              "#0d0887"
             ],
             [
              0.1111111111111111,
              "#46039f"
             ],
             [
              0.2222222222222222,
              "#7201a8"
             ],
             [
              0.3333333333333333,
              "#9c179e"
             ],
             [
              0.4444444444444444,
              "#bd3786"
             ],
             [
              0.5555555555555556,
              "#d8576b"
             ],
             [
              0.6666666666666666,
              "#ed7953"
             ],
             [
              0.7777777777777778,
              "#fb9f3a"
             ],
             [
              0.8888888888888888,
              "#fdca26"
             ],
             [
              1,
              "#f0f921"
             ]
            ],
            "type": "surface"
           }
          ],
          "table": [
           {
            "cells": {
             "fill": {
              "color": "#EBF0F8"
             },
             "line": {
              "color": "white"
             }
            },
            "header": {
             "fill": {
              "color": "#C8D4E3"
             },
             "line": {
              "color": "white"
             }
            },
            "type": "table"
           }
          ]
         },
         "layout": {
          "annotationdefaults": {
           "arrowcolor": "#2a3f5f",
           "arrowhead": 0,
           "arrowwidth": 1
          },
          "autotypenumbers": "strict",
          "coloraxis": {
           "colorbar": {
            "outlinewidth": 0,
            "ticks": ""
           }
          },
          "colorscale": {
           "diverging": [
            [
             0,
             "#8e0152"
            ],
            [
             0.1,
             "#c51b7d"
            ],
            [
             0.2,
             "#de77ae"
            ],
            [
             0.3,
             "#f1b6da"
            ],
            [
             0.4,
             "#fde0ef"
            ],
            [
             0.5,
             "#f7f7f7"
            ],
            [
             0.6,
             "#e6f5d0"
            ],
            [
             0.7,
             "#b8e186"
            ],
            [
             0.8,
             "#7fbc41"
            ],
            [
             0.9,
             "#4d9221"
            ],
            [
             1,
             "#276419"
            ]
           ],
           "sequential": [
            [
             0,
             "#0d0887"
            ],
            [
             0.1111111111111111,
             "#46039f"
            ],
            [
             0.2222222222222222,
             "#7201a8"
            ],
            [
             0.3333333333333333,
             "#9c179e"
            ],
            [
             0.4444444444444444,
             "#bd3786"
            ],
            [
             0.5555555555555556,
             "#d8576b"
            ],
            [
             0.6666666666666666,
             "#ed7953"
            ],
            [
             0.7777777777777778,
             "#fb9f3a"
            ],
            [
             0.8888888888888888,
             "#fdca26"
            ],
            [
             1,
             "#f0f921"
            ]
           ],
           "sequentialminus": [
            [
             0,
             "#0d0887"
            ],
            [
             0.1111111111111111,
             "#46039f"
            ],
            [
             0.2222222222222222,
             "#7201a8"
            ],
            [
             0.3333333333333333,
             "#9c179e"
            ],
            [
             0.4444444444444444,
             "#bd3786"
            ],
            [
             0.5555555555555556,
             "#d8576b"
            ],
            [
             0.6666666666666666,
             "#ed7953"
            ],
            [
             0.7777777777777778,
             "#fb9f3a"
            ],
            [
             0.8888888888888888,
             "#fdca26"
            ],
            [
             1,
             "#f0f921"
            ]
           ]
          },
          "colorway": [
           "#636efa",
           "#EF553B",
           "#00cc96",
           "#ab63fa",
           "#FFA15A",
           "#19d3f3",
           "#FF6692",
           "#B6E880",
           "#FF97FF",
           "#FECB52"
          ],
          "font": {
           "color": "#2a3f5f"
          },
          "geo": {
           "bgcolor": "white",
           "lakecolor": "white",
           "landcolor": "#E5ECF6",
           "showlakes": true,
           "showland": true,
           "subunitcolor": "white"
          },
          "hoverlabel": {
           "align": "left"
          },
          "hovermode": "closest",
          "mapbox": {
           "style": "light"
          },
          "paper_bgcolor": "white",
          "plot_bgcolor": "#E5ECF6",
          "polar": {
           "angularaxis": {
            "gridcolor": "white",
            "linecolor": "white",
            "ticks": ""
           },
           "bgcolor": "#E5ECF6",
           "radialaxis": {
            "gridcolor": "white",
            "linecolor": "white",
            "ticks": ""
           }
          },
          "scene": {
           "xaxis": {
            "backgroundcolor": "#E5ECF6",
            "gridcolor": "white",
            "gridwidth": 2,
            "linecolor": "white",
            "showbackground": true,
            "ticks": "",
            "zerolinecolor": "white"
           },
           "yaxis": {
            "backgroundcolor": "#E5ECF6",
            "gridcolor": "white",
            "gridwidth": 2,
            "linecolor": "white",
            "showbackground": true,
            "ticks": "",
            "zerolinecolor": "white"
           },
           "zaxis": {
            "backgroundcolor": "#E5ECF6",
            "gridcolor": "white",
            "gridwidth": 2,
            "linecolor": "white",
            "showbackground": true,
            "ticks": "",
            "zerolinecolor": "white"
           }
          },
          "shapedefaults": {
           "line": {
            "color": "#2a3f5f"
           }
          },
          "ternary": {
           "aaxis": {
            "gridcolor": "white",
            "linecolor": "white",
            "ticks": ""
           },
           "baxis": {
            "gridcolor": "white",
            "linecolor": "white",
            "ticks": ""
           },
           "bgcolor": "#E5ECF6",
           "caxis": {
            "gridcolor": "white",
            "linecolor": "white",
            "ticks": ""
           }
          },
          "title": {
           "x": 0.05
          },
          "xaxis": {
           "automargin": true,
           "gridcolor": "white",
           "linecolor": "white",
           "ticks": "",
           "title": {
            "standoff": 15
           },
           "zerolinecolor": "white",
           "zerolinewidth": 2
          },
          "yaxis": {
           "automargin": true,
           "gridcolor": "white",
           "linecolor": "white",
           "ticks": "",
           "title": {
            "standoff": 15
           },
           "zerolinecolor": "white",
           "zerolinewidth": 2
          }
         }
        },
        "xaxis": {
         "anchor": "y",
         "domain": [
          0,
          0.31999999999999995
         ],
         "title": {
          "text": "Sentiment"
         }
        },
        "xaxis2": {
         "anchor": "y2",
         "domain": [
          0.33999999999999997,
          0.6599999999999999
         ],
         "matches": "x",
         "title": {
          "text": "Sentiment"
         }
        },
        "xaxis3": {
         "anchor": "y3",
         "domain": [
          0.6799999999999999,
          0.9999999999999999
         ],
         "matches": "x",
         "title": {
          "text": "Sentiment"
         }
        },
        "yaxis": {
         "anchor": "x",
         "domain": [
          0,
          1
         ],
         "title": {
          "text": "Retweets"
         }
        },
        "yaxis2": {
         "anchor": "x2",
         "domain": [
          0,
          1
         ],
         "matches": "y",
         "showticklabels": false
        },
        "yaxis3": {
         "anchor": "x3",
         "domain": [
          0,
          1
         ],
         "matches": "y",
         "showticklabels": false
        }
       }
      }
     },
     "metadata": {},
     "output_type": "display_data"
    }
   ],
   "source": [
    "import plotly.express as px\n",
    "df = pd.read_csv('C:\\\\Users\\\\avaan\\\\Downloads\\\\archive (1)\\\\sentimentdataset.csv')\n",
    "df.Country = df.Country.str.strip()\n",
    "df.Platform = df.Platform.str.strip()\n",
    "fig = px.scatter(df, x=\"Sentiment\", y=\"Retweets\", color=\"Country\",facet_col=\"Platform\")\n",
    "fig.show()"
   ]
  },
  {
   "cell_type": "code",
   "execution_count": 32,
   "metadata": {},
   "outputs": [
    {
     "data": {
      "application/vnd.plotly.v1+json": {
       "config": {
        "plotlyServerURL": "https://plot.ly"
       },
       "data": [
        {
         "hovertemplate": "Country=USA<br>Platform=Twitter<br>Sentiment=%{x}<br>Retweets=%{y}<extra></extra>",
         "legendgroup": "USA",
         "marker": {
          "color": "#636efa",
          "symbol": "circle"
         },
         "mode": "markers",
         "name": "USA",
         "orientation": "v",
         "showlegend": true,
         "type": "scatter",
         "x": [
          " Positive  ",
          " Negative  ",
          " Positive  ",
          " Positive  ",
          " Admiration   ",
          " Kind         ",
          " Admiration   ",
          " Kind         ",
          " Elation       ",
          " Despair         ",
          " Frustration ",
          " Regret         ",
          " Curiosity       ",
          " Determination   ",
          " Nostalgia       ",
          " Zest ",
          " Proud ",
          " Proud ",
          " Proud ",
          " Loneliness ",
          " Envious ",
          " Envious ",
          " Satisfaction  ",
          " Wonderment    ",
          " Despair ",
          " Love ",
          " Energy ",
          " Charm ",
          " Creativity ",
          " Pride ",
          " Iconic ",
          " Excitement ",
          " Inspiration ",
          " Adventure ",
          " Mesmerizing ",
          " Excitement ",
          " Frustration ",
          " Excitement ",
          " Pride ",
          " Joy ",
          " Contentment ",
          " Joy ",
          " Joy ",
          " Mischievous ",
          " Embarrassed ",
          " Joy ",
          " Embarrassed ",
          " Sad ",
          " Sad ",
          " Sad ",
          " Bad ",
          " Bad ",
          " Hate ",
          " Hate ",
          " Happy ",
          " Happy "
         ],
         "xaxis": "x",
         "y": [
          15,
          30,
          22,
          25,
          20,
          20,
          20,
          20,
          20,
          5,
          12,
          12,
          15,
          18,
          12,
          15,
          23,
          23,
          23,
          15,
          20,
          20,
          25,
          35,
          20,
          35,
          35,
          22,
          35,
          18,
          22,
          40,
          35,
          35,
          40,
          15,
          20,
          20,
          25,
          22,
          20,
          20,
          20,
          28,
          18,
          18,
          16,
          15,
          17,
          22,
          18,
          25,
          16,
          24,
          24,
          26
         ],
         "yaxis": "y"
        },
        {
         "hovertemplate": "Country=USA<br>Platform=Instagram<br>Sentiment=%{x}<br>Retweets=%{y}<extra></extra>",
         "legendgroup": "USA",
         "marker": {
          "color": "#636efa",
          "symbol": "circle"
         },
         "mode": "markers",
         "name": "USA",
         "orientation": "v",
         "showlegend": false,
         "type": "scatter",
         "x": [
          " Positive  ",
          " Positive  ",
          " Positive  ",
          " Positive  ",
          " Negative  ",
          " Positive  ",
          " Positive  ",
          " Positive  ",
          " Positive  ",
          " Positive  ",
          " Positive  ",
          " Fear         ",
          " Happiness    ",
          " Affection    ",
          " Surprise     ",
          " Anticipation ",
          " Fear         ",
          " Affection    ",
          " Surprise     ",
          " Excitement   ",
          " Confusion ",
          " Euphoria      ",
          " Enthusiasm    ",
          " Empowerment   ",
          " Gratitude     ",
          " Enthusiasm    ",
          " Reverence ",
          " Despair      ",
          " Curiosity       ",
          " Melancholy      ",
          " Serenity        ",
          " Curiosity ",
          " Playful ",
          " Playful ",
          " Loneliness ",
          " Awe           ",
          " Admiration    ",
          " Empowerment   ",
          " Reflection    ",
          " Confidence    ",
          " Elation       ",
          " Whimsy        ",
          " Whimsy        ",
          " Heartbreak    ",
          " Joy ",
          " Enchantment ",
          " Awe ",
          " Excitement ",
          " Emotion ",
          " Celebration ",
          " Colorful ",
          " Frustration ",
          " Excitement ",
          " Contentment ",
          " Contentment ",
          " Joy ",
          " Joy ",
          " Joy ",
          " Excitement ",
          " Contentment ",
          " Gratitude ",
          " Relief ",
          " Joy ",
          " Mischievous ",
          " Joy ",
          " Joy ",
          " Excitement ",
          " Neutral ",
          " Neutral ",
          " Happy ",
          " Happy ",
          " Happy "
         ],
         "xaxis": "x2",
         "y": [
          20,
          15,
          22,
          28,
          8,
          30,
          25,
          18,
          30,
          20,
          18,
          15,
          30,
          15,
          25,
          20,
          15,
          15,
          25,
          18,
          30,
          15,
          15,
          25,
          30,
          15,
          18,
          10,
          20,
          13,
          25,
          17,
          25,
          25,
          18,
          28,
          25,
          35,
          35,
          15,
          40,
          20,
          20,
          15,
          40,
          30,
          25,
          35,
          40,
          25,
          22,
          35,
          22,
          35,
          25,
          35,
          20,
          25,
          30,
          35,
          30,
          20,
          22,
          30,
          15,
          19,
          20,
          23,
          21,
          23,
          25,
          24
         ],
         "yaxis": "y2"
        },
        {
         "hovertemplate": "Country=USA<br>Platform=Facebook<br>Sentiment=%{x}<br>Retweets=%{y}<extra></extra>",
         "legendgroup": "USA",
         "marker": {
          "color": "#636efa",
          "symbol": "circle"
         },
         "mode": "markers",
         "name": "USA",
         "orientation": "v",
         "showlegend": false,
         "type": "scatter",
         "x": [
          " Positive  ",
          " Neutral   ",
          " Positive  ",
          " Positive  ",
          " Positive  ",
          " Bitter       ",
          " Enjoyment    ",
          " Bitter       ",
          " Kind         ",
          " Hope          ",
          " Euphoria      ",
          " Compassion    ",
          " Elation       ",
          " Euphoria      ",
          " Compassion    ",
          " Frustration     ",
          " Jealousy    ",
          " Nostalgia       ",
          " Numbness        ",
          " Serenity        ",
          " Determination   ",
          " Grateful ",
          " Hopeful ",
          " Empathetic ",
          " Empathetic ",
          " Jealous ",
          " Envious ",
          " Overwhelmed ",
          " Overwhelmed ",
          " Overwhelmed   ",
          " Resilience   ",
          " Darkness     ",
          " Grief ",
          " Grief ",
          " Enchantment ",
          " Joy ",
          " Ecstasy ",
          " Euphoria ",
          " Gratitude ",
          " Triumph ",
          " Pressure ",
          " Celestial Wonder ",
          " Indifference ",
          " Surprise ",
          " Curiosity ",
          " Contentment ",
          " Gratitude ",
          " Joy ",
          " Joy ",
          " Excitement ",
          " Joy ",
          " Positive ",
          " Joy ",
          " Excitement ",
          " Embarrassed ",
          " Joy ",
          " Embarrassed ",
          " Neutral ",
          " Neutral ",
          " Neutral "
         ],
         "xaxis": "x3",
         "y": [
          20,
          25,
          15,
          30,
          15,
          18,
          25,
          18,
          22,
          22,
          15,
          18,
          25,
          15,
          18,
          10,
          8,
          10,
          10,
          25,
          20,
          20,
          12,
          16,
          16,
          16,
          20,
          20,
          22,
          25,
          35,
          28,
          18,
          25,
          30,
          28,
          35,
          35,
          18,
          18,
          18,
          18,
          20,
          18,
          20,
          25,
          35,
          25,
          20,
          25,
          25,
          28,
          20,
          25,
          25,
          20,
          17,
          24,
          19,
          18
         ],
         "yaxis": "y3"
        }
       ],
       "layout": {
        "annotations": [
         {
          "font": {},
          "showarrow": false,
          "text": "Platform=Twitter",
          "x": 0.15999999999999998,
          "xanchor": "center",
          "xref": "paper",
          "y": 1,
          "yanchor": "bottom",
          "yref": "paper"
         },
         {
          "font": {},
          "showarrow": false,
          "text": "Platform=Instagram",
          "x": 0.49999999999999994,
          "xanchor": "center",
          "xref": "paper",
          "y": 1,
          "yanchor": "bottom",
          "yref": "paper"
         },
         {
          "font": {},
          "showarrow": false,
          "text": "Platform=Facebook",
          "x": 0.8399999999999999,
          "xanchor": "center",
          "xref": "paper",
          "y": 1,
          "yanchor": "bottom",
          "yref": "paper"
         }
        ],
        "legend": {
         "title": {
          "text": "Country"
         },
         "tracegroupgap": 0
        },
        "margin": {
         "t": 60
        },
        "template": {
         "data": {
          "bar": [
           {
            "error_x": {
             "color": "#2a3f5f"
            },
            "error_y": {
             "color": "#2a3f5f"
            },
            "marker": {
             "line": {
              "color": "#E5ECF6",
              "width": 0.5
             },
             "pattern": {
              "fillmode": "overlay",
              "size": 10,
              "solidity": 0.2
             }
            },
            "type": "bar"
           }
          ],
          "barpolar": [
           {
            "marker": {
             "line": {
              "color": "#E5ECF6",
              "width": 0.5
             },
             "pattern": {
              "fillmode": "overlay",
              "size": 10,
              "solidity": 0.2
             }
            },
            "type": "barpolar"
           }
          ],
          "carpet": [
           {
            "aaxis": {
             "endlinecolor": "#2a3f5f",
             "gridcolor": "white",
             "linecolor": "white",
             "minorgridcolor": "white",
             "startlinecolor": "#2a3f5f"
            },
            "baxis": {
             "endlinecolor": "#2a3f5f",
             "gridcolor": "white",
             "linecolor": "white",
             "minorgridcolor": "white",
             "startlinecolor": "#2a3f5f"
            },
            "type": "carpet"
           }
          ],
          "choropleth": [
           {
            "colorbar": {
             "outlinewidth": 0,
             "ticks": ""
            },
            "type": "choropleth"
           }
          ],
          "contour": [
           {
            "colorbar": {
             "outlinewidth": 0,
             "ticks": ""
            },
            "colorscale": [
             [
              0,
              "#0d0887"
             ],
             [
              0.1111111111111111,
              "#46039f"
             ],
             [
              0.2222222222222222,
              "#7201a8"
             ],
             [
              0.3333333333333333,
              "#9c179e"
             ],
             [
              0.4444444444444444,
              "#bd3786"
             ],
             [
              0.5555555555555556,
              "#d8576b"
             ],
             [
              0.6666666666666666,
              "#ed7953"
             ],
             [
              0.7777777777777778,
              "#fb9f3a"
             ],
             [
              0.8888888888888888,
              "#fdca26"
             ],
             [
              1,
              "#f0f921"
             ]
            ],
            "type": "contour"
           }
          ],
          "contourcarpet": [
           {
            "colorbar": {
             "outlinewidth": 0,
             "ticks": ""
            },
            "type": "contourcarpet"
           }
          ],
          "heatmap": [
           {
            "colorbar": {
             "outlinewidth": 0,
             "ticks": ""
            },
            "colorscale": [
             [
              0,
              "#0d0887"
             ],
             [
              0.1111111111111111,
              "#46039f"
             ],
             [
              0.2222222222222222,
              "#7201a8"
             ],
             [
              0.3333333333333333,
              "#9c179e"
             ],
             [
              0.4444444444444444,
              "#bd3786"
             ],
             [
              0.5555555555555556,
              "#d8576b"
             ],
             [
              0.6666666666666666,
              "#ed7953"
             ],
             [
              0.7777777777777778,
              "#fb9f3a"
             ],
             [
              0.8888888888888888,
              "#fdca26"
             ],
             [
              1,
              "#f0f921"
             ]
            ],
            "type": "heatmap"
           }
          ],
          "heatmapgl": [
           {
            "colorbar": {
             "outlinewidth": 0,
             "ticks": ""
            },
            "colorscale": [
             [
              0,
              "#0d0887"
             ],
             [
              0.1111111111111111,
              "#46039f"
             ],
             [
              0.2222222222222222,
              "#7201a8"
             ],
             [
              0.3333333333333333,
              "#9c179e"
             ],
             [
              0.4444444444444444,
              "#bd3786"
             ],
             [
              0.5555555555555556,
              "#d8576b"
             ],
             [
              0.6666666666666666,
              "#ed7953"
             ],
             [
              0.7777777777777778,
              "#fb9f3a"
             ],
             [
              0.8888888888888888,
              "#fdca26"
             ],
             [
              1,
              "#f0f921"
             ]
            ],
            "type": "heatmapgl"
           }
          ],
          "histogram": [
           {
            "marker": {
             "pattern": {
              "fillmode": "overlay",
              "size": 10,
              "solidity": 0.2
             }
            },
            "type": "histogram"
           }
          ],
          "histogram2d": [
           {
            "colorbar": {
             "outlinewidth": 0,
             "ticks": ""
            },
            "colorscale": [
             [
              0,
              "#0d0887"
             ],
             [
              0.1111111111111111,
              "#46039f"
             ],
             [
              0.2222222222222222,
              "#7201a8"
             ],
             [
              0.3333333333333333,
              "#9c179e"
             ],
             [
              0.4444444444444444,
              "#bd3786"
             ],
             [
              0.5555555555555556,
              "#d8576b"
             ],
             [
              0.6666666666666666,
              "#ed7953"
             ],
             [
              0.7777777777777778,
              "#fb9f3a"
             ],
             [
              0.8888888888888888,
              "#fdca26"
             ],
             [
              1,
              "#f0f921"
             ]
            ],
            "type": "histogram2d"
           }
          ],
          "histogram2dcontour": [
           {
            "colorbar": {
             "outlinewidth": 0,
             "ticks": ""
            },
            "colorscale": [
             [
              0,
              "#0d0887"
             ],
             [
              0.1111111111111111,
              "#46039f"
             ],
             [
              0.2222222222222222,
              "#7201a8"
             ],
             [
              0.3333333333333333,
              "#9c179e"
             ],
             [
              0.4444444444444444,
              "#bd3786"
             ],
             [
              0.5555555555555556,
              "#d8576b"
             ],
             [
              0.6666666666666666,
              "#ed7953"
             ],
             [
              0.7777777777777778,
              "#fb9f3a"
             ],
             [
              0.8888888888888888,
              "#fdca26"
             ],
             [
              1,
              "#f0f921"
             ]
            ],
            "type": "histogram2dcontour"
           }
          ],
          "mesh3d": [
           {
            "colorbar": {
             "outlinewidth": 0,
             "ticks": ""
            },
            "type": "mesh3d"
           }
          ],
          "parcoords": [
           {
            "line": {
             "colorbar": {
              "outlinewidth": 0,
              "ticks": ""
             }
            },
            "type": "parcoords"
           }
          ],
          "pie": [
           {
            "automargin": true,
            "type": "pie"
           }
          ],
          "scatter": [
           {
            "fillpattern": {
             "fillmode": "overlay",
             "size": 10,
             "solidity": 0.2
            },
            "type": "scatter"
           }
          ],
          "scatter3d": [
           {
            "line": {
             "colorbar": {
              "outlinewidth": 0,
              "ticks": ""
             }
            },
            "marker": {
             "colorbar": {
              "outlinewidth": 0,
              "ticks": ""
             }
            },
            "type": "scatter3d"
           }
          ],
          "scattercarpet": [
           {
            "marker": {
             "colorbar": {
              "outlinewidth": 0,
              "ticks": ""
             }
            },
            "type": "scattercarpet"
           }
          ],
          "scattergeo": [
           {
            "marker": {
             "colorbar": {
              "outlinewidth": 0,
              "ticks": ""
             }
            },
            "type": "scattergeo"
           }
          ],
          "scattergl": [
           {
            "marker": {
             "colorbar": {
              "outlinewidth": 0,
              "ticks": ""
             }
            },
            "type": "scattergl"
           }
          ],
          "scattermapbox": [
           {
            "marker": {
             "colorbar": {
              "outlinewidth": 0,
              "ticks": ""
             }
            },
            "type": "scattermapbox"
           }
          ],
          "scatterpolar": [
           {
            "marker": {
             "colorbar": {
              "outlinewidth": 0,
              "ticks": ""
             }
            },
            "type": "scatterpolar"
           }
          ],
          "scatterpolargl": [
           {
            "marker": {
             "colorbar": {
              "outlinewidth": 0,
              "ticks": ""
             }
            },
            "type": "scatterpolargl"
           }
          ],
          "scatterternary": [
           {
            "marker": {
             "colorbar": {
              "outlinewidth": 0,
              "ticks": ""
             }
            },
            "type": "scatterternary"
           }
          ],
          "surface": [
           {
            "colorbar": {
             "outlinewidth": 0,
             "ticks": ""
            },
            "colorscale": [
             [
              0,
              "#0d0887"
             ],
             [
              0.1111111111111111,
              "#46039f"
             ],
             [
              0.2222222222222222,
              "#7201a8"
             ],
             [
              0.3333333333333333,
              "#9c179e"
             ],
             [
              0.4444444444444444,
              "#bd3786"
             ],
             [
              0.5555555555555556,
              "#d8576b"
             ],
             [
              0.6666666666666666,
              "#ed7953"
             ],
             [
              0.7777777777777778,
              "#fb9f3a"
             ],
             [
              0.8888888888888888,
              "#fdca26"
             ],
             [
              1,
              "#f0f921"
             ]
            ],
            "type": "surface"
           }
          ],
          "table": [
           {
            "cells": {
             "fill": {
              "color": "#EBF0F8"
             },
             "line": {
              "color": "white"
             }
            },
            "header": {
             "fill": {
              "color": "#C8D4E3"
             },
             "line": {
              "color": "white"
             }
            },
            "type": "table"
           }
          ]
         },
         "layout": {
          "annotationdefaults": {
           "arrowcolor": "#2a3f5f",
           "arrowhead": 0,
           "arrowwidth": 1
          },
          "autotypenumbers": "strict",
          "coloraxis": {
           "colorbar": {
            "outlinewidth": 0,
            "ticks": ""
           }
          },
          "colorscale": {
           "diverging": [
            [
             0,
             "#8e0152"
            ],
            [
             0.1,
             "#c51b7d"
            ],
            [
             0.2,
             "#de77ae"
            ],
            [
             0.3,
             "#f1b6da"
            ],
            [
             0.4,
             "#fde0ef"
            ],
            [
             0.5,
             "#f7f7f7"
            ],
            [
             0.6,
             "#e6f5d0"
            ],
            [
             0.7,
             "#b8e186"
            ],
            [
             0.8,
             "#7fbc41"
            ],
            [
             0.9,
             "#4d9221"
            ],
            [
             1,
             "#276419"
            ]
           ],
           "sequential": [
            [
             0,
             "#0d0887"
            ],
            [
             0.1111111111111111,
             "#46039f"
            ],
            [
             0.2222222222222222,
             "#7201a8"
            ],
            [
             0.3333333333333333,
             "#9c179e"
            ],
            [
             0.4444444444444444,
             "#bd3786"
            ],
            [
             0.5555555555555556,
             "#d8576b"
            ],
            [
             0.6666666666666666,
             "#ed7953"
            ],
            [
             0.7777777777777778,
             "#fb9f3a"
            ],
            [
             0.8888888888888888,
             "#fdca26"
            ],
            [
             1,
             "#f0f921"
            ]
           ],
           "sequentialminus": [
            [
             0,
             "#0d0887"
            ],
            [
             0.1111111111111111,
             "#46039f"
            ],
            [
             0.2222222222222222,
             "#7201a8"
            ],
            [
             0.3333333333333333,
             "#9c179e"
            ],
            [
             0.4444444444444444,
             "#bd3786"
            ],
            [
             0.5555555555555556,
             "#d8576b"
            ],
            [
             0.6666666666666666,
             "#ed7953"
            ],
            [
             0.7777777777777778,
             "#fb9f3a"
            ],
            [
             0.8888888888888888,
             "#fdca26"
            ],
            [
             1,
             "#f0f921"
            ]
           ]
          },
          "colorway": [
           "#636efa",
           "#EF553B",
           "#00cc96",
           "#ab63fa",
           "#FFA15A",
           "#19d3f3",
           "#FF6692",
           "#B6E880",
           "#FF97FF",
           "#FECB52"
          ],
          "font": {
           "color": "#2a3f5f"
          },
          "geo": {
           "bgcolor": "white",
           "lakecolor": "white",
           "landcolor": "#E5ECF6",
           "showlakes": true,
           "showland": true,
           "subunitcolor": "white"
          },
          "hoverlabel": {
           "align": "left"
          },
          "hovermode": "closest",
          "mapbox": {
           "style": "light"
          },
          "paper_bgcolor": "white",
          "plot_bgcolor": "#E5ECF6",
          "polar": {
           "angularaxis": {
            "gridcolor": "white",
            "linecolor": "white",
            "ticks": ""
           },
           "bgcolor": "#E5ECF6",
           "radialaxis": {
            "gridcolor": "white",
            "linecolor": "white",
            "ticks": ""
           }
          },
          "scene": {
           "xaxis": {
            "backgroundcolor": "#E5ECF6",
            "gridcolor": "white",
            "gridwidth": 2,
            "linecolor": "white",
            "showbackground": true,
            "ticks": "",
            "zerolinecolor": "white"
           },
           "yaxis": {
            "backgroundcolor": "#E5ECF6",
            "gridcolor": "white",
            "gridwidth": 2,
            "linecolor": "white",
            "showbackground": true,
            "ticks": "",
            "zerolinecolor": "white"
           },
           "zaxis": {
            "backgroundcolor": "#E5ECF6",
            "gridcolor": "white",
            "gridwidth": 2,
            "linecolor": "white",
            "showbackground": true,
            "ticks": "",
            "zerolinecolor": "white"
           }
          },
          "shapedefaults": {
           "line": {
            "color": "#2a3f5f"
           }
          },
          "ternary": {
           "aaxis": {
            "gridcolor": "white",
            "linecolor": "white",
            "ticks": ""
           },
           "baxis": {
            "gridcolor": "white",
            "linecolor": "white",
            "ticks": ""
           },
           "bgcolor": "#E5ECF6",
           "caxis": {
            "gridcolor": "white",
            "linecolor": "white",
            "ticks": ""
           }
          },
          "title": {
           "x": 0.05
          },
          "xaxis": {
           "automargin": true,
           "gridcolor": "white",
           "linecolor": "white",
           "ticks": "",
           "title": {
            "standoff": 15
           },
           "zerolinecolor": "white",
           "zerolinewidth": 2
          },
          "yaxis": {
           "automargin": true,
           "gridcolor": "white",
           "linecolor": "white",
           "ticks": "",
           "title": {
            "standoff": 15
           },
           "zerolinecolor": "white",
           "zerolinewidth": 2
          }
         }
        },
        "xaxis": {
         "anchor": "y",
         "domain": [
          0,
          0.31999999999999995
         ],
         "title": {
          "text": "Sentiment"
         }
        },
        "xaxis2": {
         "anchor": "y2",
         "domain": [
          0.33999999999999997,
          0.6599999999999999
         ],
         "matches": "x",
         "title": {
          "text": "Sentiment"
         }
        },
        "xaxis3": {
         "anchor": "y3",
         "domain": [
          0.6799999999999999,
          0.9999999999999999
         ],
         "matches": "x",
         "title": {
          "text": "Sentiment"
         }
        },
        "yaxis": {
         "anchor": "x",
         "domain": [
          0,
          1
         ],
         "title": {
          "text": "Retweets"
         }
        },
        "yaxis2": {
         "anchor": "x2",
         "domain": [
          0,
          1
         ],
         "matches": "y",
         "showticklabels": false
        },
        "yaxis3": {
         "anchor": "x3",
         "domain": [
          0,
          1
         ],
         "matches": "y",
         "showticklabels": false
        }
       }
      }
     },
     "metadata": {},
     "output_type": "display_data"
    },
    {
     "data": {
      "application/vnd.jupyter.widget-view+json": {
       "model_id": "fae5863de8ae4477879c14177aaa3c8d",
       "version_major": 2,
       "version_minor": 0
      },
      "text/plain": [
       "Dropdown(description='Country:', options=('USA', 'Canada', 'UK', 'Australia', 'India', 'France', 'Brazil', 'Ja…"
      ]
     },
     "metadata": {},
     "output_type": "display_data"
    },
    {
     "data": {
      "application/vnd.jupyter.widget-view+json": {
       "model_id": "2504f2e7c342474b8f3500a89a0df202",
       "version_major": 2,
       "version_minor": 0
      },
      "text/plain": [
       "Output()"
      ]
     },
     "metadata": {},
     "output_type": "display_data"
    }
   ],
   "source": [
    "import plotly.express as px\n",
    "import ipywidgets as widgets\n",
    "from IPython.display import display\n",
    "\n",
    "df = pd.read_csv('C:\\\\Users\\\\avaan\\\\Downloads\\\\archive (1)\\\\sentimentdataset.csv')\n",
    "df.Country = df.Country.str.strip()\n",
    "df.Platform = df.Platform.str.strip()\n",
    "# Create the interactive widget (Dropdown for Country selection)\n",
    "country_selector = widgets.Dropdown(\n",
    "    options=df['Country'].unique(),\n",
    "    description='Country:',\n",
    "    value=df['Country'].unique()[0]\n",
    ")\n",
    "\n",
    "# Function to update the plot based on widget input\n",
    "def update_plot(selected_country):\n",
    "    filtered_df = df[df['Country'] == selected_country]\n",
    "    \n",
    "    # Add this line to capture the selected country in a variable\n",
    "    selected_country_variable = selected_country\n",
    "\n",
    "    fig = px.scatter(filtered_df, x=\"Sentiment\", y=\"Retweets\", color=\"Country\", facet_col=\"Platform\")\n",
    "    fig.show()\n",
    "\n",
    "# Create an interactive output widget\n",
    "out = widgets.interactive_output(update_plot, {'selected_country': country_selector})\n",
    "\n",
    "# Display the widget and the output plot\n",
    "display(country_selector, out)"
   ]
  }
 ],
 "metadata": {
  "kernelspec": {
   "display_name": "Python 3",
   "language": "python",
   "name": "python3"
  },
  "language_info": {
   "codemirror_mode": {
    "name": "ipython",
    "version": 3
   },
   "file_extension": ".py",
   "mimetype": "text/x-python",
   "name": "python",
   "nbconvert_exporter": "python",
   "pygments_lexer": "ipython3",
   "version": "3.11.7"
  }
 },
 "nbformat": 4,
 "nbformat_minor": 2
}
