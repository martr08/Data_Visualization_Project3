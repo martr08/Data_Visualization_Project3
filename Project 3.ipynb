{
 "cells": [
  {
   "cell_type": "code",
   "execution_count": 27,
   "metadata": {},
   "outputs": [
    {
     "data": {
      "text/html": [
       "<div>\n",
       "<style scoped>\n",
       "    .dataframe tbody tr th:only-of-type {\n",
       "        vertical-align: middle;\n",
       "    }\n",
       "\n",
       "    .dataframe tbody tr th {\n",
       "        vertical-align: top;\n",
       "    }\n",
       "\n",
       "    .dataframe thead th {\n",
       "        text-align: right;\n",
       "    }\n",
       "</style>\n",
       "<table border=\"1\" class=\"dataframe\">\n",
       "  <thead>\n",
       "    <tr style=\"text-align: right;\">\n",
       "      <th></th>\n",
       "      <th>Unnamed: 0.1</th>\n",
       "      <th>Unnamed: 0</th>\n",
       "      <th>Text</th>\n",
       "      <th>Sentiment</th>\n",
       "      <th>Timestamp</th>\n",
       "      <th>User</th>\n",
       "      <th>Platform</th>\n",
       "      <th>Hashtags</th>\n",
       "      <th>Retweets</th>\n",
       "      <th>Likes</th>\n",
       "      <th>Country</th>\n",
       "      <th>Year</th>\n",
       "      <th>Month</th>\n",
       "      <th>Day</th>\n",
       "      <th>Hour</th>\n",
       "    </tr>\n",
       "  </thead>\n",
       "  <tbody>\n",
       "    <tr>\n",
       "      <th>0</th>\n",
       "      <td>0</td>\n",
       "      <td>0</td>\n",
       "      <td>Enjoying a beautiful day at the park!        ...</td>\n",
       "      <td>Positive</td>\n",
       "      <td>2023-01-15 12:30:00</td>\n",
       "      <td>User123</td>\n",
       "      <td>Twitter</td>\n",
       "      <td>#Nature #Park</td>\n",
       "      <td>15.0</td>\n",
       "      <td>30.0</td>\n",
       "      <td>USA</td>\n",
       "      <td>2023</td>\n",
       "      <td>1</td>\n",
       "      <td>15</td>\n",
       "      <td>12</td>\n",
       "    </tr>\n",
       "    <tr>\n",
       "      <th>1</th>\n",
       "      <td>1</td>\n",
       "      <td>1</td>\n",
       "      <td>Traffic was terrible this morning.           ...</td>\n",
       "      <td>Negative</td>\n",
       "      <td>2023-01-15 08:45:00</td>\n",
       "      <td>CommuterX</td>\n",
       "      <td>Twitter</td>\n",
       "      <td>#Traffic #Morning</td>\n",
       "      <td>5.0</td>\n",
       "      <td>10.0</td>\n",
       "      <td>Canada</td>\n",
       "      <td>2023</td>\n",
       "      <td>1</td>\n",
       "      <td>15</td>\n",
       "      <td>8</td>\n",
       "    </tr>\n",
       "    <tr>\n",
       "      <th>2</th>\n",
       "      <td>2</td>\n",
       "      <td>2</td>\n",
       "      <td>Just finished an amazing workout! 💪          ...</td>\n",
       "      <td>Positive</td>\n",
       "      <td>2023-01-15 15:45:00</td>\n",
       "      <td>FitnessFan</td>\n",
       "      <td>Instagram</td>\n",
       "      <td>#Fitness #Workout</td>\n",
       "      <td>20.0</td>\n",
       "      <td>40.0</td>\n",
       "      <td>USA</td>\n",
       "      <td>2023</td>\n",
       "      <td>1</td>\n",
       "      <td>15</td>\n",
       "      <td>15</td>\n",
       "    </tr>\n",
       "    <tr>\n",
       "      <th>3</th>\n",
       "      <td>3</td>\n",
       "      <td>3</td>\n",
       "      <td>Excited about the upcoming weekend getaway!  ...</td>\n",
       "      <td>Positive</td>\n",
       "      <td>2023-01-15 18:20:00</td>\n",
       "      <td>AdventureX</td>\n",
       "      <td>Facebook</td>\n",
       "      <td>#Travel #Adventure</td>\n",
       "      <td>8.0</td>\n",
       "      <td>15.0</td>\n",
       "      <td>UK</td>\n",
       "      <td>2023</td>\n",
       "      <td>1</td>\n",
       "      <td>15</td>\n",
       "      <td>18</td>\n",
       "    </tr>\n",
       "    <tr>\n",
       "      <th>4</th>\n",
       "      <td>4</td>\n",
       "      <td>4</td>\n",
       "      <td>Trying out a new recipe for dinner tonight.  ...</td>\n",
       "      <td>Neutral</td>\n",
       "      <td>2023-01-15 19:55:00</td>\n",
       "      <td>ChefCook</td>\n",
       "      <td>Instagram</td>\n",
       "      <td>#Cooking #Food</td>\n",
       "      <td>12.0</td>\n",
       "      <td>25.0</td>\n",
       "      <td>Australia</td>\n",
       "      <td>2023</td>\n",
       "      <td>1</td>\n",
       "      <td>15</td>\n",
       "      <td>19</td>\n",
       "    </tr>\n",
       "  </tbody>\n",
       "</table>\n",
       "</div>"
      ],
      "text/plain": [
       "   Unnamed: 0.1  Unnamed: 0  \\\n",
       "0             0           0   \n",
       "1             1           1   \n",
       "2             2           2   \n",
       "3             3           3   \n",
       "4             4           4   \n",
       "\n",
       "                                                Text    Sentiment  \\\n",
       "0   Enjoying a beautiful day at the park!        ...   Positive     \n",
       "1   Traffic was terrible this morning.           ...   Negative     \n",
       "2   Just finished an amazing workout! 💪          ...   Positive     \n",
       "3   Excited about the upcoming weekend getaway!  ...   Positive     \n",
       "4   Trying out a new recipe for dinner tonight.  ...   Neutral      \n",
       "\n",
       "             Timestamp            User     Platform  \\\n",
       "0  2023-01-15 12:30:00   User123          Twitter     \n",
       "1  2023-01-15 08:45:00   CommuterX        Twitter     \n",
       "2  2023-01-15 15:45:00   FitnessFan      Instagram    \n",
       "3  2023-01-15 18:20:00   AdventureX       Facebook    \n",
       "4  2023-01-15 19:55:00   ChefCook        Instagram    \n",
       "\n",
       "                                     Hashtags  Retweets  Likes       Country  \\\n",
       "0   #Nature #Park                                  15.0   30.0     USA         \n",
       "1   #Traffic #Morning                               5.0   10.0     Canada      \n",
       "2   #Fitness #Workout                              20.0   40.0   USA           \n",
       "3   #Travel #Adventure                              8.0   15.0     UK          \n",
       "4   #Cooking #Food                                 12.0   25.0    Australia    \n",
       "\n",
       "   Year  Month  Day  Hour  \n",
       "0  2023      1   15    12  \n",
       "1  2023      1   15     8  \n",
       "2  2023      1   15    15  \n",
       "3  2023      1   15    18  \n",
       "4  2023      1   15    19  "
      ]
     },
     "execution_count": 27,
     "metadata": {},
     "output_type": "execute_result"
    }
   ],
   "source": [
    "import pandas as pd\n",
    "from matplotlib import pyplot as plt\n",
    "# Load the data (sentimentdataset.csv)\n",
    "import plotly.graph_objects as go\n",
    "df = pd.read_csv(\"C:\\\\Users\\\\sherr\\\\OneDrive\\\\Desktop\\\\Data Visualization\\\\resources\\\\sentimentdataset.csv\")\n",
    "df.head ()"
   ]
  },
  {
   "cell_type": "code",
   "execution_count": 28,
   "metadata": {},
   "outputs": [
    {
     "data": {
      "text/html": [
       "<div>\n",
       "<style scoped>\n",
       "    .dataframe tbody tr th:only-of-type {\n",
       "        vertical-align: middle;\n",
       "    }\n",
       "\n",
       "    .dataframe tbody tr th {\n",
       "        vertical-align: top;\n",
       "    }\n",
       "\n",
       "    .dataframe thead th {\n",
       "        text-align: right;\n",
       "    }\n",
       "</style>\n",
       "<table border=\"1\" class=\"dataframe\">\n",
       "  <thead>\n",
       "    <tr style=\"text-align: right;\">\n",
       "      <th></th>\n",
       "      <th>Text</th>\n",
       "      <th>Sentiment</th>\n",
       "      <th>Timestamp</th>\n",
       "      <th>User</th>\n",
       "      <th>Platform</th>\n",
       "      <th>Hashtags</th>\n",
       "      <th>Retweets</th>\n",
       "      <th>Likes</th>\n",
       "      <th>Country</th>\n",
       "      <th>Year</th>\n",
       "    </tr>\n",
       "  </thead>\n",
       "  <tbody>\n",
       "    <tr>\n",
       "      <th>0</th>\n",
       "      <td>Enjoying a beautiful day at the park!        ...</td>\n",
       "      <td>Positive</td>\n",
       "      <td>2023-01-15 12:30:00</td>\n",
       "      <td>User123</td>\n",
       "      <td>Twitter</td>\n",
       "      <td>#Nature #Park</td>\n",
       "      <td>15.0</td>\n",
       "      <td>30.0</td>\n",
       "      <td>USA</td>\n",
       "      <td>2023</td>\n",
       "    </tr>\n",
       "    <tr>\n",
       "      <th>1</th>\n",
       "      <td>Traffic was terrible this morning.           ...</td>\n",
       "      <td>Negative</td>\n",
       "      <td>2023-01-15 08:45:00</td>\n",
       "      <td>CommuterX</td>\n",
       "      <td>Twitter</td>\n",
       "      <td>#Traffic #Morning</td>\n",
       "      <td>5.0</td>\n",
       "      <td>10.0</td>\n",
       "      <td>Canada</td>\n",
       "      <td>2023</td>\n",
       "    </tr>\n",
       "    <tr>\n",
       "      <th>2</th>\n",
       "      <td>Just finished an amazing workout! 💪          ...</td>\n",
       "      <td>Positive</td>\n",
       "      <td>2023-01-15 15:45:00</td>\n",
       "      <td>FitnessFan</td>\n",
       "      <td>Instagram</td>\n",
       "      <td>#Fitness #Workout</td>\n",
       "      <td>20.0</td>\n",
       "      <td>40.0</td>\n",
       "      <td>USA</td>\n",
       "      <td>2023</td>\n",
       "    </tr>\n",
       "    <tr>\n",
       "      <th>3</th>\n",
       "      <td>Excited about the upcoming weekend getaway!  ...</td>\n",
       "      <td>Positive</td>\n",
       "      <td>2023-01-15 18:20:00</td>\n",
       "      <td>AdventureX</td>\n",
       "      <td>Facebook</td>\n",
       "      <td>#Travel #Adventure</td>\n",
       "      <td>8.0</td>\n",
       "      <td>15.0</td>\n",
       "      <td>UK</td>\n",
       "      <td>2023</td>\n",
       "    </tr>\n",
       "    <tr>\n",
       "      <th>4</th>\n",
       "      <td>Trying out a new recipe for dinner tonight.  ...</td>\n",
       "      <td>Neutral</td>\n",
       "      <td>2023-01-15 19:55:00</td>\n",
       "      <td>ChefCook</td>\n",
       "      <td>Instagram</td>\n",
       "      <td>#Cooking #Food</td>\n",
       "      <td>12.0</td>\n",
       "      <td>25.0</td>\n",
       "      <td>Australia</td>\n",
       "      <td>2023</td>\n",
       "    </tr>\n",
       "    <tr>\n",
       "      <th>...</th>\n",
       "      <td>...</td>\n",
       "      <td>...</td>\n",
       "      <td>...</td>\n",
       "      <td>...</td>\n",
       "      <td>...</td>\n",
       "      <td>...</td>\n",
       "      <td>...</td>\n",
       "      <td>...</td>\n",
       "      <td>...</td>\n",
       "      <td>...</td>\n",
       "    </tr>\n",
       "    <tr>\n",
       "      <th>727</th>\n",
       "      <td>Collaborating on a science project that receiv...</td>\n",
       "      <td>Happy</td>\n",
       "      <td>2017-08-18 18:20:00</td>\n",
       "      <td>ScienceProjectSuccessHighSchool</td>\n",
       "      <td>Facebook</td>\n",
       "      <td>#ScienceFairWinner #HighSchoolScience</td>\n",
       "      <td>20.0</td>\n",
       "      <td>39.0</td>\n",
       "      <td>UK</td>\n",
       "      <td>2017</td>\n",
       "    </tr>\n",
       "    <tr>\n",
       "      <th>728</th>\n",
       "      <td>Attending a surprise birthday party organized ...</td>\n",
       "      <td>Happy</td>\n",
       "      <td>2018-06-22 14:15:00</td>\n",
       "      <td>BirthdayPartyJoyHighSchool</td>\n",
       "      <td>Instagram</td>\n",
       "      <td>#SurpriseCelebration #HighSchoolFriendship</td>\n",
       "      <td>25.0</td>\n",
       "      <td>48.0</td>\n",
       "      <td>USA</td>\n",
       "      <td>2018</td>\n",
       "    </tr>\n",
       "    <tr>\n",
       "      <th>729</th>\n",
       "      <td>Successfully fundraising for a school charity ...</td>\n",
       "      <td>Happy</td>\n",
       "      <td>2019-04-05 17:30:00</td>\n",
       "      <td>CharityFundraisingTriumphHighSchool</td>\n",
       "      <td>Twitter</td>\n",
       "      <td>#CommunityGiving #HighSchoolPhilanthropy</td>\n",
       "      <td>22.0</td>\n",
       "      <td>42.0</td>\n",
       "      <td>Canada</td>\n",
       "      <td>2019</td>\n",
       "    </tr>\n",
       "    <tr>\n",
       "      <th>730</th>\n",
       "      <td>Participating in a multicultural festival, cel...</td>\n",
       "      <td>Happy</td>\n",
       "      <td>2020-02-29 20:45:00</td>\n",
       "      <td>MulticulturalFestivalJoyHighSchool</td>\n",
       "      <td>Facebook</td>\n",
       "      <td>#CulturalCelebration #HighSchoolUnity</td>\n",
       "      <td>21.0</td>\n",
       "      <td>43.0</td>\n",
       "      <td>UK</td>\n",
       "      <td>2020</td>\n",
       "    </tr>\n",
       "    <tr>\n",
       "      <th>731</th>\n",
       "      <td>Organizing a virtual talent show during challe...</td>\n",
       "      <td>Happy</td>\n",
       "      <td>2020-11-15 15:15:00</td>\n",
       "      <td>VirtualTalentShowSuccessHighSchool</td>\n",
       "      <td>Instagram</td>\n",
       "      <td>#VirtualEntertainment #HighSchoolPositivity</td>\n",
       "      <td>24.0</td>\n",
       "      <td>47.0</td>\n",
       "      <td>USA</td>\n",
       "      <td>2020</td>\n",
       "    </tr>\n",
       "  </tbody>\n",
       "</table>\n",
       "<p>732 rows × 10 columns</p>\n",
       "</div>"
      ],
      "text/plain": [
       "                                                  Text    Sentiment  \\\n",
       "0     Enjoying a beautiful day at the park!        ...   Positive     \n",
       "1     Traffic was terrible this morning.           ...   Negative     \n",
       "2     Just finished an amazing workout! 💪          ...   Positive     \n",
       "3     Excited about the upcoming weekend getaway!  ...   Positive     \n",
       "4     Trying out a new recipe for dinner tonight.  ...   Neutral      \n",
       "..                                                 ...          ...   \n",
       "727  Collaborating on a science project that receiv...       Happy    \n",
       "728  Attending a surprise birthday party organized ...       Happy    \n",
       "729  Successfully fundraising for a school charity ...       Happy    \n",
       "730  Participating in a multicultural festival, cel...       Happy    \n",
       "731  Organizing a virtual talent show during challe...       Happy    \n",
       "\n",
       "               Timestamp                                   User     Platform  \\\n",
       "0    2023-01-15 12:30:00                          User123          Twitter     \n",
       "1    2023-01-15 08:45:00                          CommuterX        Twitter     \n",
       "2    2023-01-15 15:45:00                          FitnessFan      Instagram    \n",
       "3    2023-01-15 18:20:00                          AdventureX       Facebook    \n",
       "4    2023-01-15 19:55:00                          ChefCook        Instagram    \n",
       "..                   ...                                    ...          ...   \n",
       "727  2017-08-18 18:20:00       ScienceProjectSuccessHighSchool     Facebook    \n",
       "728  2018-06-22 14:15:00            BirthdayPartyJoyHighSchool    Instagram    \n",
       "729  2019-04-05 17:30:00   CharityFundraisingTriumphHighSchool      Twitter    \n",
       "730  2020-02-29 20:45:00    MulticulturalFestivalJoyHighSchool     Facebook    \n",
       "731  2020-11-15 15:15:00    VirtualTalentShowSuccessHighSchool    Instagram    \n",
       "\n",
       "                                          Hashtags  Retweets  Likes  \\\n",
       "0        #Nature #Park                                  15.0   30.0   \n",
       "1        #Traffic #Morning                               5.0   10.0   \n",
       "2        #Fitness #Workout                              20.0   40.0   \n",
       "3        #Travel #Adventure                              8.0   15.0   \n",
       "4        #Cooking #Food                                 12.0   25.0   \n",
       "..                                             ...       ...    ...   \n",
       "727         #ScienceFairWinner #HighSchoolScience       20.0   39.0   \n",
       "728    #SurpriseCelebration #HighSchoolFriendship       25.0   48.0   \n",
       "729      #CommunityGiving #HighSchoolPhilanthropy       22.0   42.0   \n",
       "730         #CulturalCelebration #HighSchoolUnity       21.0   43.0   \n",
       "731   #VirtualEntertainment #HighSchoolPositivity       24.0   47.0   \n",
       "\n",
       "          Country  Year  \n",
       "0       USA        2023  \n",
       "1       Canada     2023  \n",
       "2     USA          2023  \n",
       "3       UK         2023  \n",
       "4      Australia   2023  \n",
       "..            ...   ...  \n",
       "727            UK  2017  \n",
       "728           USA  2018  \n",
       "729        Canada  2019  \n",
       "730            UK  2020  \n",
       "731           USA  2020  \n",
       "\n",
       "[732 rows x 10 columns]"
      ]
     },
     "execution_count": 28,
     "metadata": {},
     "output_type": "execute_result"
    }
   ],
   "source": [
    "data_cleaned = df.drop([\"Unnamed: 0.1\",\"Unnamed: 0\",\"Month\", \"Day\", \"Hour\"], axis=1)\n",
    "data_cleaned"
   ]
  },
  {
   "cell_type": "code",
   "execution_count": 29,
   "metadata": {},
   "outputs": [
    {
     "name": "stdout",
     "output_type": "stream",
     "text": [
      "The word \"USA\" appears 101 times in the column.\n",
      "The word \"UK\" appears 73 times in the column.\n",
      "The word \"Jordan\" appears 1 times in the column.\n",
      "The word \"Japan\" appears 3 times in the column.\n",
      "The word \"India\" appears 25 times in the column.\n",
      "The word \"France\" appears 3 times in the column.\n",
      "The word \"Greece\" appears 2 times in the column.\n",
      "The word \"Canada\" appears 67 times in the column.\n",
      "The word \"Australia\" appears 14 times in the column.\n"
     ]
    }
   ],
   "source": [
    "df_2023 = data_cleaned[df[\"Year\"]==2023]\n",
    "df_2023\n",
    "\n",
    "#Year 2023 Information\n",
    "df_2023 = data_cleaned[df[\"Year\"]==2023]\n",
    "# 2023 Country Count\n",
    "usa_count = 'USA'\n",
    "count1 = df_2023['Country'].str.count(usa_count).sum()\n",
    "uk_count = 'UK'\n",
    "count2 = df_2023['Country'].str.count(uk_count).sum()\n",
    "jordan_count = 'Jordan'\n",
    "count3 = df_2023['Country'].str.count(jordan_count).sum()\n",
    "japan_count = 'Japan'\n",
    "count4 = df_2023['Country'].str.count(japan_count).sum()\n",
    "india_count = 'India'\n",
    "count5 = df_2023['Country'].str.count(india_count).sum()\n",
    "france_count = 'France'\n",
    "count6 = df_2023['Country'].str.count(france_count).sum()\n",
    "greece_count = 'Greece'\n",
    "count7 = df_2023['Country'].str.count(greece_count).sum()\n",
    "canada_count = 'Canada'\n",
    "count8 = df_2023['Country'].str.count(canada_count).sum()\n",
    "australia_count = 'Australia'\n",
    "count9= df_2023['Country'].str.count(australia_count).sum()\n",
    "print(f'The word \"{usa_count}\" appears {count1} times in the column.')\n",
    "print(f'The word \"{uk_count}\" appears {count2} times in the column.')\n",
    "print(f'The word \"{jordan_count}\" appears {count3} times in the column.')\n",
    "print(f'The word \"{japan_count}\" appears {count4} times in the column.')\n",
    "print(f'The word \"{india_count}\" appears {count5} times in the column.')\n",
    "print(f'The word \"{france_count}\" appears {count6} times in the column.')\n",
    "print(f'The word \"{greece_count}\" appears {count7} times in the column.')\n",
    "print(f'The word \"{canada_count}\" appears {count8} times in the column.')\n",
    "print(f'The word \"{australia_count}\" appears {count9} times in the column.')\n",
    "\n",
    "\n"
   ]
  },
  {
   "cell_type": "code",
   "execution_count": 30,
   "metadata": {},
   "outputs": [
    {
     "data": {
      "image/png": "[encoded data removed]",
      "text/plain": [
       "<Figure size 1000x600 with 1 Axes>"
      ]
     },
     "metadata": {},
     "output_type": "display_data"
    }
   ],
   "source": [
    "# Define the data\n",
    "countries = ['USA', 'UK','Canada']\n",
    "counts = [count1, count2, count8]\n",
    "# Create the bar graph\n",
    "plt.figure(figsize=(10, 6))\n",
    "plt.bar(countries, counts, color='Orange')\n",
    "# Add title and labels\n",
    "plt.title('Number of Posts in 2023')\n",
    "plt.xlabel('Country')\n",
    "plt.ylabel('Number of Posts')\n",
    "# Rotate x-axis labels for better readability\n",
    "plt.xticks(rotation=45)\n",
    "# Show the plot\n",
    "plt.tight_layout()\n",
    "plt.show()"
   ]
  },
  {
   "cell_type": "code",
   "execution_count": 31,
   "metadata": {},
   "outputs": [
    {
     "name": "stdout",
     "output_type": "stream",
     "text": [
      "The word \"USA\" appears 9 times in the column.\n",
      "The word \"UK\" appears 7 times in the column.\n",
      "The word \"Brazil\" appears 5 times in the column.\n",
      "The word \"Japan\" appears 1 times in the column.\n",
      "The word \"India\" appears 7 times in the column.\n",
      "The word \"France\" appears 2 times in the column.\n",
      "The word \"Germany\" appears 1 times in the column.\n",
      "The word \"Canada\" appears 11 times in the column.\n",
      "The word \"Australia\" appears 13 times in the column.\n",
      "The word \"Colombia\" appears 1 times in the column.\n",
      "The word \"Denmark\" appears 2 times in the column.\n",
      "The word \"Netherlands\" appears 2 times in the column.\n",
      "The word \"South Africa\" appears 2 times in the column.\n"
     ]
    }
   ],
   "source": [
    "#Year 2022 Information\n",
    "df_2022 = data_cleaned[df[\"Year\"]==2022]\n",
    "# 2022 Country Count\n",
    "usa_count = 'USA'\n",
    "count_1 = df_2022['Country'].str.count(usa_count).sum()\n",
    "uk_count = 'UK'\n",
    "count_2 = df_2022['Country'].str.count(uk_count).sum()\n",
    "brazil_count = 'Brazil'\n",
    "count_3 = df_2022['Country'].str.count(brazil_count).sum()\n",
    "japan_count = 'Japan'\n",
    "count_4 = df_2022['Country'].str.count(japan_count).sum()\n",
    "india_count = 'India'\n",
    "count_5 = df_2022['Country'].str.count(india_count).sum()\n",
    "france_count = 'France'\n",
    "count_6 = df_2022['Country'].str.count(france_count).sum()\n",
    "germany_count = 'Germany'\n",
    "count_7 = df_2022['Country'].str.count(germany_count).sum()\n",
    "canada_count = 'Canada'\n",
    "count_8 = df_2022['Country'].str.count(canada_count).sum()\n",
    "australia_count = 'Australia'\n",
    "count_9= df_2022['Country'].str.count(australia_count).sum()\n",
    "colombia_count = 'Colombia'\n",
    "count_10 = df_2022['Country'].str.count(colombia_count).sum()\n",
    "denmark_count = 'Denmark'\n",
    "count_11 = df_2022['Country'].str.count(denmark_count).sum()\n",
    "netherlands_count = 'Netherlands'\n",
    "count_12 = df_2022['Country'].str.count(netherlands_count).sum()\n",
    "southafrica_count = 'South Africa'\n",
    "count_13 = df_2022['Country'].str.count(southafrica_count).sum()\n",
    "print(f'The word \"{usa_count}\" appears {count_1} times in the column.')\n",
    "print(f'The word \"{uk_count}\" appears {count_2} times in the column.')\n",
    "print(f'The word \"{brazil_count}\" appears {count_3} times in the column.')\n",
    "print(f'The word \"{japan_count}\" appears {count_4} times in the column.')\n",
    "print(f'The word \"{india_count}\" appears {count_5} times in the column.')\n",
    "print(f'The word \"{france_count}\" appears {count_6} times in the column.')\n",
    "print(f'The word \"{germany_count}\" appears {count_7} times in the column.')\n",
    "print(f'The word \"{canada_count}\" appears {count_8} times in the column.')\n",
    "print(f'The word \"{australia_count}\" appears {count_9} times in the column.')\n",
    "print(f'The word \"{colombia_count}\" appears {count_10} times in the column.')\n",
    "print(f'The word \"{denmark_count}\" appears {count_11} times in the column.')\n",
    "print(f'The word \"{netherlands_count}\" appears {count_12} times in the column.')\n",
    "print(f'The word \"{southafrica_count}\" appears {count_13} times in the column.')"
   ]
  },
  {
   "cell_type": "code",
   "execution_count": 32,
   "metadata": {},
   "outputs": [
    {
     "data": {
      "image/png": "[encoded data removed]",
      "text/plain": [
       "<Figure size 1000x600 with 1 Axes>"
      ]
     },
     "metadata": {},
     "output_type": "display_data"
    }
   ],
   "source": [
    "# Define the data 2022\n",
    "countries = ['Australia', 'Canada', 'USA']\n",
    "counts = [count_9, count_8, count_1,]\n",
    "# Create the bar graph\n",
    "plt.figure(figsize=(10, 6))\n",
    "plt.bar(countries, counts, color='Green')\n",
    "# Add title and labels\n",
    "plt.title('Number of Posts in 2022')\n",
    "plt.xlabel('Country')\n",
    "plt.ylabel('Number of Posts')\n",
    "# Rotate x-axis labels for better readability\n",
    "plt.xticks(rotation=45)\n",
    "# Show the plot\n",
    "plt.tight_layout()\n",
    "plt.show()"
   ]
  },
  {
   "cell_type": "code",
   "execution_count": 33,
   "metadata": {},
   "outputs": [
    {
     "name": "stdout",
     "output_type": "stream",
     "text": [
      "The word \"USA\" appears 14 times in the column.\n",
      "The word \"UK\" appears 5 times in the column.\n",
      "The word \"Brazil\" appears 4 times in the column.\n",
      "The word \"Japan\" appears 2 times in the column.\n",
      "The word \"India\" appears 7 times in the column.\n",
      "The word \"Spain\" appears 2 times in the column.\n",
      "The word \"Germany\" appears 1 times in the column.\n",
      "The word \"Canada\" appears 20 times in the column.\n",
      "The word \"Australia\" appears 6 times in the column.\n",
      "The word \"Kenya\" appears 1 times in the column.\n",
      "The word \"Netherlands\" appears 1 times in the column.\n"
     ]
    }
   ],
   "source": [
    "#Year 2021 information\n",
    "df_2021 = data_cleaned[df[\"Year\"]==2021]\n",
    "# 2021 Country Count\n",
    "usa_count = 'USA'\n",
    "count_01 = df_2021['Country'].str.count(usa_count).sum()\n",
    "uk_count = 'UK'\n",
    "count_02 = df_2021['Country'].str.count(uk_count).sum()\n",
    "brazil_count = 'Brazil'\n",
    "count_03 = df_2021['Country'].str.count(brazil_count).sum()\n",
    "japan_count = 'Japan'\n",
    "count_04 = df_2021['Country'].str.count(japan_count).sum()\n",
    "india_count = 'India'\n",
    "count_05 = df_2021['Country'].str.count(india_count).sum()\n",
    "spain_count = 'Spain'\n",
    "count_06 = df_2021['Country'].str.count(spain_count).sum()\n",
    "germany_count = 'Germany'\n",
    "count_07 = df_2021['Country'].str.count(germany_count).sum()\n",
    "canada_count = 'Canada'\n",
    "count_08 = df_2021['Country'].str.count(canada_count).sum()\n",
    "australia_count = 'Australia'\n",
    "count_09= df_2021['Country'].str.count(australia_count).sum()\n",
    "kenya_count = 'Kenya'\n",
    "count_010 = df_2021['Country'].str.count(kenya_count).sum()\n",
    "netherlands_count = 'Netherlands'\n",
    "count_011 = df_2021['Country'].str.count(netherlands_count).sum()\n",
    "print(f'The word \"{usa_count}\" appears {count_01} times in the column.')\n",
    "print(f'The word \"{uk_count}\" appears {count_02} times in the column.')\n",
    "print(f'The word \"{brazil_count}\" appears {count_03} times in the column.')\n",
    "print(f'The word \"{japan_count}\" appears {count_04} times in the column.')\n",
    "print(f'The word \"{india_count}\" appears {count_05} times in the column.')\n",
    "print(f'The word \"{spain_count}\" appears {count_06} times in the column.')\n",
    "print(f'The word \"{germany_count}\" appears {count_07} times in the column.')\n",
    "print(f'The word \"{canada_count}\" appears {count_08} times in the column.')\n",
    "print(f'The word \"{australia_count}\" appears {count_09} times in the column.')\n",
    "print(f'The word \"{kenya_count}\" appears {count_010} times in the column.')\n",
    "print(f'The word \"{netherlands_count}\" appears {count_011} times in the column.')"
   ]
  },
  {
   "cell_type": "code",
   "execution_count": 34,
   "metadata": {},
   "outputs": [
    {
     "data": {
      "image/png": "[encoded data removed]",
      "text/plain": [
       "<Figure size 1000x600 with 1 Axes>"
      ]
     },
     "metadata": {},
     "output_type": "display_data"
    }
   ],
   "source": [
    "# Define the data 2021\n",
    "countries = ['Canada','USA','India']\n",
    "counts = [count_08, count_01,count_05]\n",
    "# Create the bar graph\n",
    "plt.figure(figsize=(10, 6))\n",
    "plt.bar(countries, counts, color='skyblue')\n",
    "# Add title and labels\n",
    "plt.title('Number of Posts in 2021')\n",
    "plt.xlabel('Country')\n",
    "plt.ylabel('Number of Posts')\n",
    "# Rotate x-axis labels for better readability\n",
    "plt.xticks(rotation=45)\n",
    "# Show the plot\n",
    "plt.tight_layout()\n",
    "plt.show()"
   ]
  },
  {
   "cell_type": "code",
   "execution_count": 35,
   "metadata": {},
   "outputs": [
    {
     "data": {
      "application/vnd.plotly.v1+json": {
       "config": {
        "plotlyServerURL": "https://plot.ly"
       },
       "data": [
        {
         "name": "2023",
         "type": "bar",
         "visible": true,
         "x": [
          "USA",
          "UK",
          "Canada"
         ],
         "y": [
          101,
          73,
          67
         ]
        },
        {
         "name": "2022",
         "type": "bar",
         "visible": false,
         "x": [
          "Australia",
          "Canada",
          "USA"
         ],
         "y": [
          13,
          11,
          9
         ]
        },
        {
         "name": "2021",
         "type": "bar",
         "visible": false,
         "x": [
          "Canada",
          "USA",
          "India"
         ],
         "y": [
          20,
          14,
          7
         ]
        }
       ],
       "layout": {
        "template": {
         "data": {
          "bar": [
           {
            "error_x": {
             "color": "#2a3f5f"
            },
            "error_y": {
             "color": "#2a3f5f"
            },
            "marker": {
             "line": {
              "color": "#E5ECF6",
              "width": 0.5
             },
             "pattern": {
              "fillmode": "overlay",
              "size": 10,
              "solidity": 0.2
             }
            },
            "type": "bar"
           }
          ],
          "barpolar": [
           {
            "marker": {
             "line": {
              "color": "#E5ECF6",
              "width": 0.5
             },
             "pattern": {
              "fillmode": "overlay",
              "size": 10,
              "solidity": 0.2
             }
            },
            "type": "barpolar"
           }
          ],
          "carpet": [
           {
            "aaxis": {
             "endlinecolor": "#2a3f5f",
             "gridcolor": "white",
             "linecolor": "white",
             "minorgridcolor": "white",
             "startlinecolor": "#2a3f5f"
            },
            "baxis": {
             "endlinecolor": "#2a3f5f",
             "gridcolor": "white",
             "linecolor": "white",
             "minorgridcolor": "white",
             "startlinecolor": "#2a3f5f"
            },
            "type": "carpet"
           }
          ],
          "choropleth": [
           {
            "colorbar": {
             "outlinewidth": 0,
             "ticks": ""
            },
            "type": "choropleth"
           }
          ],
          "contour": [
           {
            "colorbar": {
             "outlinewidth": 0,
             "ticks": ""
            },
            "colorscale": [
             [
              0,
              "#0d0887"
             ],
             [
              0.1111111111111111,
              "#46039f"
             ],
             [
              0.2222222222222222,
              "#7201a8"
             ],
             [
              0.3333333333333333,
              "#9c179e"
             ],
             [
              0.4444444444444444,
              "#bd3786"
             ],
             [
              0.5555555555555556,
              "#d8576b"
             ],
             [
              0.6666666666666666,
              "#ed7953"
             ],
             [
              0.7777777777777778,
              "#fb9f3a"
             ],
             [
              0.8888888888888888,
              "#fdca26"
             ],
             [
              1,
              "#f0f921"
             ]
            ],
            "type": "contour"
           }
          ],
          "contourcarpet": [
           {
            "colorbar": {
             "outlinewidth": 0,
             "ticks": ""
            },
            "type": "contourcarpet"
           }
          ],
          "heatmap": [
           {
            "colorbar": {
             "outlinewidth": 0,
             "ticks": ""
            },
            "colorscale": [
             [
              0,
              "#0d0887"
             ],
             [
              0.1111111111111111,
              "#46039f"
             ],
             [
              0.2222222222222222,
              "#7201a8"
             ],
             [
              0.3333333333333333,
              "#9c179e"
             ],
             [
              0.4444444444444444,
              "#bd3786"
             ],
             [
              0.5555555555555556,
              "#d8576b"
             ],
             [
              0.6666666666666666,
              "#ed7953"
             ],
             [
              0.7777777777777778,
              "#fb9f3a"
             ],
             [
              0.8888888888888888,
              "#fdca26"
             ],
             [
              1,
              "#f0f921"
             ]
            ],
            "type": "heatmap"
           }
          ],
          "heatmapgl": [
           {
            "colorbar": {
             "outlinewidth": 0,
             "ticks": ""
            },
            "colorscale": [
             [
              0,
              "#0d0887"
             ],
             [
              0.1111111111111111,
              "#46039f"
             ],
             [
              0.2222222222222222,
              "#7201a8"
             ],
             [
              0.3333333333333333,
              "#9c179e"
             ],
             [
              0.4444444444444444,
              "#bd3786"
             ],
             [
              0.5555555555555556,
              "#d8576b"
             ],
             [
              0.6666666666666666,
              "#ed7953"
             ],
             [
              0.7777777777777778,
              "#fb9f3a"
             ],
             [
              0.8888888888888888,
              "#fdca26"
             ],
             [
              1,
              "#f0f921"
             ]
            ],
            "type": "heatmapgl"
           }
          ],
          "histogram": [
           {
            "marker": {
             "pattern": {
              "fillmode": "overlay",
              "size": 10,
              "solidity": 0.2
             }
            },
            "type": "histogram"
           }
          ],
          "histogram2d": [
           {
            "colorbar": {
             "outlinewidth": 0,
             "ticks": ""
            },
            "colorscale": [
             [
              0,
              "#0d0887"
             ],
             [
              0.1111111111111111,
              "#46039f"
             ],
             [
              0.2222222222222222,
              "#7201a8"
             ],
             [
              0.3333333333333333,
              "#9c179e"
             ],
             [
              0.4444444444444444,
              "#bd3786"
             ],
             [
              0.5555555555555556,
              "#d8576b"
             ],
             [
              0.6666666666666666,
              "#ed7953"
             ],
             [
              0.7777777777777778,
              "#fb9f3a"
             ],
             [
              0.8888888888888888,
              "#fdca26"
             ],
             [
              1,
              "#f0f921"
             ]
            ],
            "type": "histogram2d"
           }
          ],
          "histogram2dcontour": [
           {
            "colorbar": {
             "outlinewidth": 0,
             "ticks": ""
            },
            "colorscale": [
             [
              0,
              "#0d0887"
             ],
             [
              0.1111111111111111,
              "#46039f"
             ],
             [
              0.2222222222222222,
              "#7201a8"
             ],
             [
              0.3333333333333333,
              "#9c179e"
             ],
             [
              0.4444444444444444,
              "#bd3786"
             ],
             [
              0.5555555555555556,
              "#d8576b"
             ],
             [
              0.6666666666666666,
              "#ed7953"
             ],
             [
              0.7777777777777778,
              "#fb9f3a"
             ],
             [
              0.8888888888888888,
              "#fdca26"
             ],
             [
              1,
              "#f0f921"
             ]
            ],
            "type": "histogram2dcontour"
           }
          ],
          "mesh3d": [
           {
            "colorbar": {
             "outlinewidth": 0,
             "ticks": ""
            },
            "type": "mesh3d"
           }
          ],
          "parcoords": [
           {
            "line": {
             "colorbar": {
              "outlinewidth": 0,
              "ticks": ""
             }
            },
            "type": "parcoords"
           }
          ],
          "pie": [
           {
            "automargin": true,
            "type": "pie"
           }
          ],
          "scatter": [
           {
            "fillpattern": {
             "fillmode": "overlay",
             "size": 10,
             "solidity": 0.2
            },
            "type": "scatter"
           }
          ],
          "scatter3d": [
           {
            "line": {
             "colorbar": {
              "outlinewidth": 0,
              "ticks": ""
             }
            },
            "marker": {
             "colorbar": {
              "outlinewidth": 0,
              "ticks": ""
             }
            },
            "type": "scatter3d"
           }
          ],
          "scattercarpet": [
           {
            "marker": {
             "colorbar": {
              "outlinewidth": 0,
              "ticks": ""
             }
            },
            "type": "scattercarpet"
           }
          ],
          "scattergeo": [
           {
            "marker": {
             "colorbar": {
              "outlinewidth": 0,
              "ticks": ""
             }
            },
            "type": "scattergeo"
           }
          ],
          "scattergl": [
           {
            "marker": {
             "colorbar": {
              "outlinewidth": 0,
              "ticks": ""
             }
            },
            "type": "scattergl"
           }
          ],
          "scattermapbox": [
           {
            "marker": {
             "colorbar": {
              "outlinewidth": 0,
              "ticks": ""
             }
            },
            "type": "scattermapbox"
           }
          ],
          "scatterpolar": [
           {
            "marker": {
             "colorbar": {
              "outlinewidth": 0,
              "ticks": ""
             }
            },
            "type": "scatterpolar"
           }
          ],
          "scatterpolargl": [
           {
            "marker": {
             "colorbar": {
              "outlinewidth": 0,
              "ticks": ""
             }
            },
            "type": "scatterpolargl"
           }
          ],
          "scatterternary": [
           {
            "marker": {
             "colorbar": {
              "outlinewidth": 0,
              "ticks": ""
             }
            },
            "type": "scatterternary"
           }
          ],
          "surface": [
           {
            "colorbar": {
             "outlinewidth": 0,
             "ticks": ""
            },
            "colorscale": [
             [
              0,
              "#0d0887"
             ],
             [
              0.1111111111111111,
              "#46039f"
             ],
             [
              0.2222222222222222,
              "#7201a8"
             ],
             [
              0.3333333333333333,
              "#9c179e"
             ],
             [
              0.4444444444444444,
              "#bd3786"
             ],
             [
              0.5555555555555556,
              "#d8576b"
             ],
             [
              0.6666666666666666,
              "#ed7953"
             ],
             [
              0.7777777777777778,
              "#fb9f3a"
             ],
             [
              0.8888888888888888,
              "#fdca26"
             ],
             [
              1,
              "#f0f921"
             ]
            ],
            "type": "surface"
           }
          ],
          "table": [
           {
            "cells": {
             "fill": {
              "color": "#EBF0F8"
             },
             "line": {
              "color": "white"
             }
            },
            "header": {
             "fill": {
              "color": "#C8D4E3"
             },
             "line": {
              "color": "white"
             }
            },
            "type": "table"
           }
          ]
         },
         "layout": {
          "annotationdefaults": {
           "arrowcolor": "#2a3f5f",
           "arrowhead": 0,
           "arrowwidth": 1
          },
          "autotypenumbers": "strict",
          "coloraxis": {
           "colorbar": {
            "outlinewidth": 0,
            "ticks": ""
           }
          },
          "colorscale": {
           "diverging": [
            [
             0,
             "#8e0152"
            ],
            [
             0.1,
             "#c51b7d"
            ],
            [
             0.2,
             "#de77ae"
            ],
            [
             0.3,
             "#f1b6da"
            ],
            [
             0.4,
             "#fde0ef"
            ],
            [
             0.5,
             "#f7f7f7"
            ],
            [
             0.6,
             "#e6f5d0"
            ],
            [
             0.7,
             "#b8e186"
            ],
            [
             0.8,
             "#7fbc41"
            ],
            [
             0.9,
             "#4d9221"
            ],
            [
             1,
             "#276419"
            ]
           ],
           "sequential": [
            [
             0,
             "#0d0887"
            ],
            [
             0.1111111111111111,
             "#46039f"
            ],
            [
             0.2222222222222222,
             "#7201a8"
            ],
            [
             0.3333333333333333,
             "#9c179e"
            ],
            [
             0.4444444444444444,
             "#bd3786"
            ],
            [
             0.5555555555555556,
             "#d8576b"
            ],
            [
             0.6666666666666666,
             "#ed7953"
            ],
            [
             0.7777777777777778,
             "#fb9f3a"
            ],
            [
             0.8888888888888888,
             "#fdca26"
            ],
            [
             1,
             "#f0f921"
            ]
           ],
           "sequentialminus": [
            [
             0,
             "#0d0887"
            ],
            [
             0.1111111111111111,
             "#46039f"
            ],
            [
             0.2222222222222222,
             "#7201a8"
            ],
            [
             0.3333333333333333,
             "#9c179e"
            ],
            [
             0.4444444444444444,
             "#bd3786"
            ],
            [
             0.5555555555555556,
             "#d8576b"
            ],
            [
             0.6666666666666666,
             "#ed7953"
            ],
            [
             0.7777777777777778,
             "#fb9f3a"
            ],
            [
             0.8888888888888888,
             "#fdca26"
            ],
            [
             1,
             "#f0f921"
            ]
           ]
          },
          "colorway": [
           "#636efa",
           "#EF553B",
           "#00cc96",
           "#ab63fa",
           "#FFA15A",
           "#19d3f3",
           "#FF6692",
           "#B6E880",
           "#FF97FF",
           "#FECB52"
          ],
          "font": {
           "color": "#2a3f5f"
          },
          "geo": {
           "bgcolor": "white",
           "lakecolor": "white",
           "landcolor": "#E5ECF6",
           "showlakes": true,
           "showland": true,
           "subunitcolor": "white"
          },
          "hoverlabel": {
           "align": "left"
          },
          "hovermode": "closest",
          "mapbox": {
           "style": "light"
          },
          "paper_bgcolor": "white",
          "plot_bgcolor": "#E5ECF6",
          "polar": {
           "angularaxis": {
            "gridcolor": "white",
            "linecolor": "white",
            "ticks": ""
           },
           "bgcolor": "#E5ECF6",
           "radialaxis": {
            "gridcolor": "white",
            "linecolor": "white",
            "ticks": ""
           }
          },
          "scene": {
           "xaxis": {
            "backgroundcolor": "#E5ECF6",
            "gridcolor": "white",
            "gridwidth": 2,
            "linecolor": "white",
            "showbackground": true,
            "ticks": "",
            "zerolinecolor": "white"
           },
           "yaxis": {
            "backgroundcolor": "#E5ECF6",
            "gridcolor": "white",
            "gridwidth": 2,
            "linecolor": "white",
            "showbackground": true,
            "ticks": "",
            "zerolinecolor": "white"
           },
           "zaxis": {
            "backgroundcolor": "#E5ECF6",
            "gridcolor": "white",
            "gridwidth": 2,
            "linecolor": "white",
            "showbackground": true,
            "ticks": "",
            "zerolinecolor": "white"
           }
          },
          "shapedefaults": {
           "line": {
            "color": "#2a3f5f"
           }
          },
          "ternary": {
           "aaxis": {
            "gridcolor": "white",
            "linecolor": "white",
            "ticks": ""
           },
           "baxis": {
            "gridcolor": "white",
            "linecolor": "white",
            "ticks": ""
           },
           "bgcolor": "#E5ECF6",
           "caxis": {
            "gridcolor": "white",
            "linecolor": "white",
            "ticks": ""
           }
          },
          "title": {
           "x": 0.05
          },
          "xaxis": {
           "automargin": true,
           "gridcolor": "white",
           "linecolor": "white",
           "ticks": "",
           "title": {
            "standoff": 15
           },
           "zerolinecolor": "white",
           "zerolinewidth": 2
          },
          "yaxis": {
           "automargin": true,
           "gridcolor": "white",
           "linecolor": "white",
           "ticks": "",
           "title": {
            "standoff": 15
           },
           "zerolinecolor": "white",
           "zerolinewidth": 2
          }
         }
        },
        "title": {
         "text": "Top 3 Country Usage by Year"
        },
        "updatemenus": [
         {
          "buttons": [
           {
            "args": [
             {
              "visible": [
               true,
               false,
               false
              ]
             }
            ],
            "label": "2023",
            "method": "update"
           },
           {
            "args": [
             {
              "visible": [
               false,
               true,
               false
              ]
             }
            ],
            "label": "2022",
            "method": "update"
           },
           {
            "args": [
             {
              "visible": [
               false,
               false,
               true
              ]
             }
            ],
            "label": "2021",
            "method": "update"
           }
          ],
          "direction": "down",
          "showactive": true
         }
        ],
        "xaxis": {
         "title": {
          "text": "Country"
         }
        },
        "yaxis": {
         "title": {
          "text": "Total Posts"
         }
        }
       }
      }
     },
     "metadata": {},
     "output_type": "display_data"
    }
   ],
   "source": [
    "# List of countries\n",
    "countries_2021 = ['Canada','USA','India']\n",
    "counts_2021 = [count_08, count_01,count_05]\n",
    "countries_2022 = ['Australia', 'Canada', 'USA']\n",
    "counts_2022 = [count_9, count_8, count_1,]\n",
    "countries_2023 = ['USA', 'UK', 'Canada']\n",
    "counts_2023 = [count1, count2, count8]\n",
    "# Create a Plotly figure\n",
    "fig = go.Figure()\n",
    "# Add traces for each year\n",
    "fig.add_trace(go.Bar(\n",
    "        x=countries_2023,\n",
    "        y=counts_2023,\n",
    "        name='2023',\n",
    "        visible=True\n",
    "    ))\n",
    "fig.add_trace(go.Bar(\n",
    "        x=countries_2022,\n",
    "        y=counts_2022,\n",
    "        name='2022',\n",
    "        visible=False\n",
    "    ))\n",
    "fig.add_trace(go.Bar(\n",
    "        x=countries_2021,\n",
    "        y=counts_2021,\n",
    "        name='2021',\n",
    "        visible=False\n",
    "    ))\n",
    "# Update layout with dropdown menu\n",
    "fig.update_layout(\n",
    "    title='Top 3 Country Usage by Year',\n",
    "    xaxis_title='Country',\n",
    "    yaxis_title='Total Posts',\n",
    "    updatemenus=[\n",
    "        {\n",
    "            'buttons': [\n",
    "                {\n",
    "                    'label': '2023',\n",
    "                    'method': 'update',\n",
    "                    'args': [{'visible': [True, False, False]}]\n",
    "                },\n",
    "                {\n",
    "                    'label': '2022',\n",
    "                    'method': 'update',\n",
    "                    'args': [{'visible': [False, True, False]}]\n",
    "                },\n",
    "                {\n",
    "                    'label': '2021',\n",
    "                    'method': 'update',\n",
    "                    'args': [{'visible': [False, False, True]}]\n",
    "                }\n",
    "            ],\n",
    "            'direction': 'down',\n",
    "            'showactive': True\n",
    "        }\n",
    "    ]\n",
    ")\n",
    "fig.show()"
   ]
  },
  {
   "cell_type": "code",
   "execution_count": 36,
   "metadata": {},
   "outputs": [
    {
     "data": {
      "image/png": "[encoded data removed]",
      "text/plain": [
       "<Figure size 1800x600 with 3 Axes>"
      ]
     },
     "metadata": {},
     "output_type": "display_data"
    }
   ],
   "source": [
    "import pandas as pd\n",
    "import matplotlib.pyplot as plt\n",
    "\n",
    "# Load the data\n",
    "data = pd.read_csv(\"C:\\\\Users\\\\sherr\\\\OneDrive\\\\Desktop\\\\Data Visualization\\\\resources\\\\sentimentdataset.csv\")\n",
    "\n",
    "# Clean column names: strip whitespace and convert to lowercase\n",
    "data.columns = data.columns.str.strip().str.lower()\n",
    "\n",
    "# Convert the 'sentiment' column to lowercase and strip whitespace\n",
    "data['sentiment'] = data['sentiment'].str.lower().str.strip()\n",
    "\n",
    "# Convert the 'country' column to uppercase and strip whitespace\n",
    "data['country'] = data['country'].str.upper().str.strip()\n",
    "\n",
    "# Filter data for the top 3 countries\n",
    "top_3_countries = ['USA', 'UK', 'CANADA']\n",
    "filtered_data = data[data['country'].isin(top_3_countries)]\n",
    "\n",
    "# Calculate sentiment percentages for each country\n",
    "results = {}\n",
    "for country in top_3_countries:\n",
    "    country_data = filtered_data[filtered_data['country'] == country]\n",
    "    total = len(country_data)\n",
    "    \n",
    "    positive = len(country_data[country_data['sentiment'] == 'positive'])\n",
    "    negative = len(country_data[country_data['sentiment'] == 'negative'])\n",
    "    neutral = len(country_data[country_data['sentiment'] == 'neutral'])\n",
    "    \n",
    "    if total > 0:\n",
    "        results[country] = {\n",
    "            'positive': (positive / total) * 100,\n",
    "            'negative': (negative / total) * 100,\n",
    "            'neutral': (neutral / total) * 100\n",
    "        }\n",
    "    else:\n",
    "        results[country] = {\n",
    "            'positive': 0,\n",
    "            'negative': 0,\n",
    "            'neutral': 0\n",
    "        }\n",
    "\n",
    "# Create pie charts\n",
    "fig, axs = plt.subplots(1, 3, figsize=(18, 6))\n",
    "\n",
    "colors = ['g', 'r', 'b']\n",
    "labels = ['Positive', 'Negative', 'Neutral']\n",
    "\n",
    "for ax, country in zip(axs, top_3_countries):\n",
    "    sizes = [results[country]['positive'], results[country]['negative'], results[country]['neutral']]\n",
    "    ax.pie(sizes, colors=colors, labels=labels, autopct='%1.1f%%', startangle=140)\n",
    "    ax.set_title(f'Sentiment Distribution in {country}')\n",
    "\n",
    "# Show the plot\n",
    "plt.tight_layout()\n",
    "plt.show()\n"
   ]
  },
  {
   "cell_type": "code",
   "execution_count": 37,
   "metadata": {},
   "outputs": [
    {
     "data": {
      "text/plain": [
       "0      False\n",
       "1      False\n",
       "2      False\n",
       "3      False\n",
       "4       True\n",
       "       ...  \n",
       "727    False\n",
       "728    False\n",
       "729    False\n",
       "730    False\n",
       "731    False\n",
       "Name: Sentiment, Length: 732, dtype: bool"
      ]
     },
     "execution_count": 37,
     "metadata": {},
     "output_type": "execute_result"
    }
   ],
   "source": [
    "\n",
    "df.Sentiment = df.Sentiment.str.strip()\n",
    "df.Sentiment.isin([\"Positive\",\"Happy\",\"Happiness\",\"Admiration\"])\n",
    "df.Sentiment = df.Sentiment.str.strip()\n",
    "df.Sentiment.isin([\"Negative\",\"Melancholy\",\"Sorrow\",\"Grief\"])\n",
    "df.Sentiment = df.Sentiment.str.strip()\n",
    "df.Sentiment.isin([\"Neutral\",\"Awe\",\"Neutral\",\"Boredom\"])"
   ]
  },
  {
   "cell_type": "code",
   "execution_count": 38,
   "metadata": {},
   "outputs": [],
   "source": [
    "def remove_spaces(word: str) -> str:\n",
    "    # split the string\n",
    "    words = word.split()\n",
    "    # geth the word\n",
    "    return ''.join(words)"
   ]
  },
  {
   "cell_type": "code",
   "execution_count": 39,
   "metadata": {},
   "outputs": [],
   "source": [
    "changes = {\n",
    " 'Amusement': 'Positive',\n",
    " 'Enjoyment': 'Positive',\n",
    " 'Acceptance':'Positive',\n",
    " 'Adoration':'Neutral',\n",
    " 'Anticipation':'Neutral',\n",
    " 'Bitter':'Negative',\n",
    " 'Calmness':'Positive',\n",
    " 'Confusion':'Negative',\n",
    " 'Excitement': 'Positive',\n",
    " 'Kind':'Positive',\n",
    " 'Pride':'Positive',\n",
    " 'Shame':'Negative',\n",
    " 'Elation':'Positive',\n",
    " 'Euphoria':'Positive',\n",
    " 'Contentment':'Neutral',\n",
    " 'Serenity':'Positive',\n",
    " 'Gratitude':'Positive',\n",
    " 'Hope':'Positive',\n",
    " 'Empowerment':'Positive',\n",
    " 'Compassion':'Positive',\n",
    " 'Tenderness':'Positive',\n",
    " 'Arousal':'Positive',\n",
    " 'Enthusiasm':'Positive',\n",
    " 'Fulfillment':'Positive',\n",
    " 'Reverence':'Neutral',\n",
    " 'Despair':'Negative',\n",
    " 'Grief':'Negative',\n",
    " 'Loneliness':'Negative',\n",
    " 'Jealousy':'Negative',\n",
    " 'Resentment':'Negative',\n",
    " 'Frustration':'Negative',\n",
    " 'Boredom':'Neutral',\n",
    " ' Negative':'Negative',\n",
    " 'Intimidation':'Negative',\n",
    " 'Helplessness':'Negative',\n",
    " 'Envy':'Negative',\n",
    " 'Regret':'Negative',\n",
    " 'Curiosity':'Neutral',\n",
    " 'Indifference':'Neutral',\n",
    " 'Numbness':'Neutral',\n",
    " 'Melancholy':'Neutral',\n",
    " 'Nostalgia':'Neutral',\n",
    " 'Ambivalence':'Neutral',\n",
    " 'Determination':'Positive',\n",
    " 'Zest':'Positive',\n",
    " 'Hopeful':'Positive',\n",
    " 'Proud':'Positive',\n",
    " 'Grateful':'Positive',\n",
    " 'Empathetic':'Positive',\n",
    " 'Compassionate':'Positive',\n",
    " 'Playful':'Positive',\n",
    " 'Free-spirited':'Positive',\n",
    " 'Inspired':'Positive',\n",
    " 'Confident':'Positive',\n",
    " 'Bitterness':'Negative',\n",
    " 'Yearning':'Neutral',\n",
    " 'Fearful':'Negative',\n",
    " 'Apprehensive':'Neutral',\n",
    " 'Overwhelmed':'Negative',\n",
    " 'Jealous':'Negative',\n",
    " 'Devastated':'Negative',\n",
    " 'Frustrated':'Negative',\n",
    " 'Envious':'Negative',\n",
    " 'Dismissive':'Negative',\n",
    " 'Thrill':'Positive',\n",
    " 'Bittersweet':'Neutral',\n",
    " 'Overjoyed':'Positive',\n",
    " 'Inspiration':'Positive',\n",
    " 'Motivation':'Positive',\n",
    " 'Contemplation':'Neutral',\n",
    " 'JoyfulReunion':'Positive',\n",
    " 'Satisfaction':'Positive',\n",
    " 'Blessed':'Positive',\n",
    " 'Reflection':'Neutral',\n",
    " 'Appreciation':'Positive',\n",
    " 'Confidence':'Positive',\n",
    " 'Accomplishment':'Positive',\n",
    " 'Wonderment':'Positive',\n",
    " 'Optimism':'Neutral',\n",
    " 'Enchantment':'Neutral',\n",
    " 'Intrigue':'Positive',\n",
    " 'PlayfulJoy':'Positive',\n",
    " 'Mindfulness':'Positive',\n",
    " 'DreamChaser':'Positive',\n",
    " 'Elegance':'Positive',\n",
    " 'Whimsy':'Positive',\n",
    " 'Pensive':'Positive',\n",
    " 'Harmony':'Positive',\n",
    " 'Creativity':'Positive',\n",
    " 'Radiance':'Positive',\n",
    " 'Wonder':'Positive',\n",
    " 'Rejuvenation':'Positive',\n",
    " 'Coziness':'Positive',\n",
    " 'Adventure':'Positive',\n",
    " 'Melodic':'Positive',\n",
    " 'FestiveJoy':'Positive',\n",
    " 'InnerJourney':'Neutral',\n",
    " 'Freedom':'Positive',\n",
    " 'Dazzle':'Positive',\n",
    " 'Adrenaline':'Positive',\n",
    " 'ArtisticBurst':'Positive',\n",
    " 'CulinaryOdyssey':'Positive',\n",
    " 'Resilience':'Positive',\n",
    " 'Immersion':'Neutral',\n",
    " 'Spark':'Neutral',\n",
    " 'Marvel':'Positive',\n",
    " 'Heartbreak':'Negative',\n",
    " 'Betrayal':'Negative',\n",
    " 'Suffering':'Negative',\n",
    " 'EmotionalStorm':'Negative',\n",
    " 'Isolation':'Negative',\n",
    " 'Disappointment':'Negative',\n",
    " 'LostLove':'Negative',\n",
    " 'Exhaustion':'Negative',\n",
    " 'Sorrow':'Negative',\n",
    " 'Darkness':'Negative',\n",
    " 'Desperation':'Negative',\n",
    " 'Ruins':'Negative',\n",
    " 'Desolation':'Negative',\n",
    " 'Loss':'Negative',\n",
    " 'Heartache':'Negative',\n",
    " 'Solitude':'Neutral',\n",
    " 'Positivity':'Positive',\n",
    " 'Kindness':'Positive',\n",
    " 'Friendship':'Positive',\n",
    " 'Success':'Positive',\n",
    " 'Exploration':'Neutral',\n",
    " 'Amazement':'Positive',\n",
    " 'Romance':'Positive',\n",
    " 'Captivation':'Positive',\n",
    " 'Tranquility':'Positive',\n",
    " 'Grandeur':'Positive',\n",
    " 'Emotion':'Neutral',\n",
    " 'Energy':'Neutral',\n",
    " 'Celebration':'Positive',\n",
    " 'Charm':'Positive',\n",
    " 'Ecstasy':'Positive',\n",
    " 'Colorful':'Positive',\n",
    " 'Hypnotic':'Neutral',\n",
    " 'Connection':'Neutral',\n",
    " 'Iconic':'Positive',\n",
    " 'Journey':'Neutral',\n",
    " 'Engagement':'Neutral',\n",
    " 'Touched':'Neutral',\n",
    " 'Suspense':'Neutral',\n",
    " 'Triumph':'Positive',\n",
    " 'Heartwarming':'Positive',\n",
    " 'Obstacle':'Positive',\n",
    " 'Sympathy':'Negative',\n",
    " 'Pressure':'Neutral',\n",
    " 'RenewedEffort':'Positive',\n",
    " 'Miscalculation':'Negative',\n",
    " 'Challenge':'Neutral',\n",
    " 'Solace':'Neutral',\n",
    " 'Breakthrough':'Positive',\n",
    " 'JoyinBaking':'Positive',\n",
    " 'EnvisioningHistory':'Neutral',\n",
    " 'Imagination':'Positive',\n",
    " 'Vibrancy':'Positive',\n",
    " 'Mesmerizing':'Positive',\n",
    " 'CulinaryAdventure':'Positive',\n",
    " 'WinterMagic':'Positive',\n",
    " 'ThrillingJourney':'Positive',\n",
    " \"Nature'sBeauty\":'Positive',\n",
    " 'CelestialWonder':'Positive',\n",
    " 'CreativeInspiration':'Positive',\n",
    " 'RunwayCreativity':'Positive',\n",
    " \"Ocean'sFreedom\":'Positive',\n",
    " 'WhispersofthePast':'Positive',\n",
    " 'Relief':'Positive',\n",
    " 'Embarrassed':'Negative',\n",
    " 'Mischievous':'Negative',\n",
    " 'Sad':'Negative',\n",
    " 'Hate':'Negative',\n",
    " 'Bad':'Negative',\n",
    " 'Happy':'Positive',\n",
    " 'Fear': 'Negative',\n",
    " 'Anger': 'Negative',\n",
    " 'Sadness': 'Negative',\n",
    " 'Disgust': 'Negative',\n",
    " 'Happiness': 'Positive',\n",
    " 'Joy': 'Positive',\n",
    " 'Love': 'Positive',\n",
    " 'Admiration': 'Positive',\n",
    " 'Awe': 'Neutral',\n",
    " 'Disappointed': 'Negative',\n",
    " 'Surprise': 'Positive',\n",
    " 'Anxiety': 'Negative',\n",
    " 'Affection': 'Positive'}"
   ]
  },
  {
   "cell_type": "code",
   "execution_count": 40,
   "metadata": {},
   "outputs": [
    {
     "data": {
      "application/vnd.plotly.v1+json": {
       "config": {
        "plotlyServerURL": "https://plot.ly"
       },
       "data": [
        {
         "alignmentgroup": "True",
         "hovertemplate": "Sentiment=Positive<br>Platform=Twitter<br>Country=%{x}<br>Likes=%{y}<extra></extra>",
         "legendgroup": "Positive",
         "marker": {
          "color": "#636efa",
          "pattern": {
           "shape": ""
          }
         },
         "name": "Positive",
         "offsetgroup": "Positive",
         "orientation": "v",
         "showlegend": true,
         "textposition": "auto",
         "type": "bar",
         "x": [
          "USA",
          "India",
          "UK",
          "India",
          "UK",
          "USA",
          "India",
          "Canada",
          "India",
          "USA",
          "Canada",
          "India",
          "Canada",
          "Australia",
          "USA",
          "India",
          "USA",
          "Australia",
          "USA",
          "India",
          "USA",
          "Australia",
          "India",
          "Canada",
          "UK",
          "UK",
          "Australia",
          "Canada",
          "UK",
          "India",
          "USA",
          "Canada",
          "UK",
          "India",
          "UK",
          "Canada",
          "India",
          "Australia",
          "USA",
          "Canada",
          "Canada",
          "UK",
          "USA",
          "Canada",
          "Australia",
          "UK",
          "Canada",
          "Australia",
          "USA",
          "India",
          "UK",
          "India",
          "Australia",
          "USA",
          "India",
          "UK",
          "India",
          "Australia",
          "USA",
          "Canada",
          "Australia",
          "Brazil",
          "Canada",
          "India",
          "USA",
          "UK",
          "India",
          "USA",
          "India",
          "France",
          "Australia",
          "Greece",
          "Italy",
          "Spain",
          "Belgium",
          "France",
          "Australia",
          "Italy",
          "Spain",
          "Belgium",
          "Canada",
          "Japan",
          "Japan",
          "Canada",
          "India",
          "Japan",
          "USA",
          "Australia",
          "France",
          "Jordan",
          "Italy",
          "Switzerland",
          "UK",
          "USA",
          "USA",
          "USA",
          "USA",
          "USA",
          "Australia",
          "France",
          "Brazil",
          "USA",
          "UK",
          "Germany",
          "France",
          "Canada",
          "USA",
          "Germany",
          "USA",
          "UK",
          "France",
          "Greece",
          "USA",
          "UK",
          "UK",
          "USA",
          "USA",
          "USA",
          "UK",
          "Canada",
          "UK",
          "Canada",
          "UK",
          "Canada",
          "USA",
          "Canada",
          "UK",
          "Canada",
          "Canada",
          "Canada",
          "USA",
          "UK",
          "USA",
          "UK",
          "UK",
          "Canada",
          "USA",
          "USA",
          "Canada",
          "Canada"
         ],
         "xaxis": "x",
         "y": [
          30,
          50,
          35,
          45,
          40,
          45,
          30,
          30,
          30,
          50,
          35,
          55,
          30,
          30,
          40,
          30,
          40,
          30,
          40,
          30,
          40,
          45,
          50,
          40,
          35,
          30,
          40,
          35,
          50,
          45,
          40,
          35,
          30,
          40,
          35,
          50,
          45,
          25,
          35,
          36,
          50,
          40,
          30,
          50,
          36,
          30,
          26,
          38,
          46,
          36,
          44,
          30,
          34,
          46,
          36,
          44,
          30,
          34,
          46,
          30,
          35,
          70,
          35,
          45,
          50,
          55,
          60,
          70,
          30,
          35,
          60,
          35,
          30,
          35,
          70,
          35,
          60,
          30,
          35,
          70,
          45,
          35,
          70,
          70,
          45,
          40,
          70,
          50,
          35,
          60,
          50,
          45,
          35,
          45,
          70,
          35,
          45,
          80,
          45,
          45,
          45,
          70,
          55,
          55,
          45,
          45,
          70,
          55,
          80,
          45,
          45,
          70,
          30,
          55,
          60,
          40,
          50,
          45,
          55,
          45,
          55,
          55,
          35,
          45,
          40,
          60,
          50,
          60,
          60,
          45,
          40,
          35,
          36,
          42,
          44,
          52,
          48,
          50,
          51,
          42
         ],
         "yaxis": "y"
        },
        {
         "alignmentgroup": "True",
         "hovertemplate": "Sentiment=Positive<br>Platform=Instagram<br>Country=%{x}<br>Likes=%{y}<extra></extra>",
         "legendgroup": "Positive",
         "marker": {
          "color": "#636efa",
          "pattern": {
           "shape": ""
          }
         },
         "name": "Positive",
         "offsetgroup": "Positive",
         "orientation": "v",
         "showlegend": false,
         "textposition": "auto",
         "type": "bar",
         "x": [
          "USA",
          "USA",
          "USA",
          "USA",
          "Canada",
          "USA",
          "UK",
          "Australia",
          "UK",
          "USA",
          "USA",
          "USA",
          "India",
          "UK",
          "USA",
          "USA",
          "USA",
          "UK",
          "USA",
          "USA",
          "Australia",
          "UK",
          "UK",
          "USA",
          "USA",
          "UK",
          "USA",
          "Canada",
          "USA",
          "Australia",
          "Canada",
          "USA",
          "Canada",
          "UK",
          "USA",
          "Australia",
          "UK",
          "USA",
          "Australia",
          "USA",
          "UK",
          "Canada",
          "India",
          "UK",
          "UK",
          "Canada",
          "UK",
          "Australia",
          "USA",
          "India",
          "UK",
          "India",
          "Australia",
          "India",
          "UK",
          "Australia",
          "USA",
          "Canada",
          "UK",
          "Australia",
          "USA",
          "Canada",
          "India",
          "India",
          "France",
          "USA",
          "UK",
          "USA",
          "India",
          "UK",
          "USA",
          "UK",
          "USA",
          "Canada",
          "USA",
          "Sweden",
          "South Africa",
          "Switzerland",
          "Denmark",
          "USA",
          "Sweden",
          "South Africa",
          "Switzerland",
          "Denmark",
          "Brazil",
          "USA",
          "Australia",
          "France",
          "South Africa",
          "Canada",
          "Japan",
          "South Africa",
          "Netherlands",
          "Italy",
          "USA",
          "Brazil",
          "Norway",
          "USA",
          "UK",
          "Canada",
          "USA",
          "Brazil",
          "Kenya",
          "Canada",
          "Canada",
          "Brazil",
          "India",
          "Australia",
          "Thailand",
          "Australia",
          "Italy",
          "Canada",
          "USA",
          "UK",
          "UK",
          "USA",
          "USA",
          "USA",
          "USA",
          "UK",
          "UK",
          "UK",
          "USA",
          "UK",
          "USA",
          "USA",
          "UK",
          "UK",
          "USA",
          "UK",
          "Canada",
          "Canada",
          "USA",
          "USA",
          "UK",
          "UK",
          "UK",
          "UK",
          "USA",
          "USA",
          "USA"
         ],
         "xaxis": "x2",
         "y": [
          40,
          30,
          45,
          55,
          30,
          60,
          30,
          30,
          35,
          50,
          35,
          60,
          45,
          25,
          40,
          35,
          60,
          35,
          30,
          50,
          60,
          60,
          35,
          30,
          50,
          60,
          35,
          25,
          30,
          60,
          35,
          30,
          50,
          45,
          50,
          40,
          30,
          60,
          35,
          30,
          50,
          45,
          50,
          40,
          30,
          50,
          40,
          36,
          50,
          24,
          30,
          40,
          50,
          32,
          28,
          38,
          50,
          42,
          28,
          38,
          50,
          42,
          28,
          80,
          60,
          50,
          60,
          70,
          40,
          35,
          30,
          35,
          80,
          70,
          40,
          70,
          80,
          60,
          40,
          40,
          70,
          80,
          60,
          40,
          45,
          80,
          60,
          35,
          60,
          80,
          45,
          70,
          70,
          40,
          70,
          60,
          45,
          50,
          60,
          80,
          45,
          80,
          45,
          45,
          80,
          45,
          45,
          45,
          70,
          55,
          55,
          50,
          45,
          35,
          70,
          70,
          40,
          50,
          60,
          45,
          55,
          70,
          60,
          45,
          40,
          45,
          55,
          70,
          30,
          38,
          48,
          39,
          37,
          39,
          42,
          52,
          42,
          43,
          44,
          48,
          47
         ],
         "yaxis": "y2"
        },
        {
         "alignmentgroup": "True",
         "hovertemplate": "Sentiment=Positive<br>Platform=Facebook<br>Country=%{x}<br>Likes=%{y}<extra></extra>",
         "legendgroup": "Positive",
         "marker": {
          "color": "#636efa",
          "pattern": {
           "shape": ""
          }
         },
         "name": "Positive",
         "offsetgroup": "Positive",
         "orientation": "v",
         "showlegend": false,
         "textposition": "auto",
         "type": "bar",
         "x": [
          "UK",
          "Canada",
          "UK",
          "USA",
          "USA",
          "Canada",
          "India",
          "Canada",
          "USA",
          "UK",
          "Canada",
          "UK",
          "USA",
          "Australia",
          "UK",
          "Canada",
          "Canada",
          "Canada",
          "Canada",
          "Canada",
          "USA",
          "Canada",
          "Canada",
          "UK",
          "USA",
          "USA",
          "UK",
          "India",
          "USA",
          "India",
          "USA",
          "Canada",
          "USA",
          "Canada",
          "UK",
          "Canada",
          "USA",
          "Australia",
          "USA",
          "Australia",
          "Canada",
          "India",
          "Australia",
          "USA",
          "USA",
          "Australia",
          "USA",
          "Canada",
          "USA",
          "Canada",
          "Australia",
          "USA",
          "Canada",
          "UK",
          "Australia",
          "USA",
          "Canada",
          "UK",
          "Australia",
          "Australia",
          "Canada",
          "Australia",
          "Canada",
          "Australia",
          "UK",
          "Japan",
          "UK",
          "Germany",
          "Netherlands",
          "Portugal",
          "Austria",
          "Japan",
          "UK",
          "Germany",
          "Netherlands",
          "Portugal",
          "Austria",
          "USA",
          "Germany",
          "Germany",
          "Brazil",
          "UK",
          "Germany",
          "Brazil",
          "Italy",
          "Greece",
          "Maldives",
          "Japan",
          "Japan",
          "USA",
          "USA",
          "USA",
          "USA",
          "India",
          "USA",
          "Italy",
          "UK",
          "Japan",
          "Canada",
          "USA",
          "Brazil",
          "UK",
          "USA",
          "Canada",
          "Canada",
          "Canada",
          "Canada",
          "Canada",
          "USA",
          "UK",
          "UK",
          "USA",
          "USA",
          "USA",
          "Canada",
          "USA",
          "Canada",
          "USA",
          "USA",
          "USA",
          "Canada",
          "Canada",
          "Canada",
          "USA",
          "UK",
          "Canada",
          "Canada",
          "Canada",
          "UK",
          "UK"
         ],
         "xaxis": "x3",
         "y": [
          15,
          20,
          25,
          40,
          30,
          25,
          50,
          25,
          60,
          45,
          25,
          30,
          30,
          30,
          45,
          45,
          50,
          30,
          45,
          45,
          50,
          30,
          45,
          30,
          45,
          45,
          50,
          45,
          30,
          30,
          35,
          30,
          50,
          45,
          50,
          45,
          30,
          30,
          35,
          30,
          50,
          20,
          30,
          50,
          40,
          36,
          40,
          44,
          24,
          42,
          48,
          32,
          46,
          28,
          48,
          32,
          46,
          28,
          48,
          80,
          30,
          60,
          45,
          45,
          55,
          45,
          55,
          45,
          50,
          55,
          45,
          45,
          55,
          45,
          50,
          55,
          45,
          70,
          55,
          55,
          50,
          60,
          55,
          60,
          45,
          45,
          45,
          55,
          50,
          55,
          70,
          70,
          35,
          60,
          35,
          70,
          35,
          70,
          60,
          35,
          45,
          45,
          35,
          70,
          45,
          55,
          35,
          45,
          70,
          35,
          45,
          50,
          40,
          50,
          55,
          50,
          35,
          55,
          40,
          50,
          55,
          40,
          50,
          40,
          43,
          48,
          38,
          45,
          39,
          43
         ],
         "yaxis": "y3"
        },
        {
         "alignmentgroup": "True",
         "hovertemplate": "Sentiment=Negative<br>Platform=Twitter<br>Country=%{x}<br>Likes=%{y}<extra></extra>",
         "legendgroup": "Negative",
         "marker": {
          "color": "#EF553B",
          "pattern": {
           "shape": ""
          }
         },
         "name": "Negative",
         "offsetgroup": "Negative",
         "orientation": "v",
         "showlegend": true,
         "textposition": "auto",
         "type": "bar",
         "x": [
          "Canada",
          "USA",
          "Canada",
          "Canada",
          "UK",
          "India",
          "Canada",
          "UK",
          "India",
          "Canada",
          "UK",
          "USA",
          "India",
          "Australia",
          "India",
          "UK",
          "USA",
          "India",
          "USA",
          "Canada",
          "India",
          "UK",
          "Australia",
          "USA",
          "Australia",
          "UK",
          "UK",
          "Australia",
          "USA",
          "UK",
          "India",
          "UK",
          "USA",
          "Canada",
          "Canada",
          "Germany",
          "France",
          "Spain",
          "Germany",
          "Brazil",
          "Australia",
          "UK",
          "France",
          "Spain",
          "UK",
          "Brazil",
          "USA",
          "Australia",
          "Brazil",
          "Spain",
          "USA",
          "Canada",
          "USA",
          "USA",
          "USA",
          "USA",
          "USA",
          "USA",
          "USA",
          "USA",
          "USA",
          "USA"
         ],
         "xaxis": "x",
         "y": [
          10,
          60,
          15,
          40,
          35,
          35,
          40,
          35,
          35,
          30,
          30,
          10,
          25,
          15,
          15,
          30,
          25,
          30,
          25,
          25,
          20,
          30,
          28,
          30,
          50,
          28,
          26,
          32,
          40,
          30,
          36,
          32,
          40,
          30,
          35,
          45,
          35,
          40,
          35,
          40,
          40,
          45,
          45,
          35,
          40,
          45,
          40,
          45,
          80,
          45,
          40,
          60,
          55,
          35,
          32,
          28,
          34,
          44,
          35,
          50,
          32,
          48
         ],
         "yaxis": "y"
        },
        {
         "alignmentgroup": "True",
         "hovertemplate": "Sentiment=Negative<br>Platform=Instagram<br>Country=%{x}<br>Likes=%{y}<extra></extra>",
         "legendgroup": "Negative",
         "marker": {
          "color": "#EF553B",
          "pattern": {
           "shape": ""
          }
         },
         "name": "Negative",
         "offsetgroup": "Negative",
         "orientation": "v",
         "showlegend": false,
         "textposition": "auto",
         "type": "bar",
         "x": [
          "USA",
          "USA",
          "UK",
          "USA",
          "UK",
          "USA",
          "Canada",
          "Australia",
          "UK",
          "Canada",
          "USA",
          "India",
          "Australia",
          "UK",
          "Australia",
          "UK",
          "Australia",
          "Canada",
          "Canada",
          "India",
          "Canada",
          "India",
          "Canada",
          "Australia",
          "USA",
          "Australia",
          "Australia",
          "USA",
          "Australia",
          "India",
          "Japan",
          "South Africa",
          "Canada",
          "France",
          "Canada",
          "Germany",
          "India",
          "South Africa",
          "Canada",
          "Germany",
          "France",
          "Japan",
          "Canada",
          "UK",
          "USA",
          "Japan",
          "Australia",
          "Canada",
          "UK",
          "UK",
          "USA",
          "UK",
          "UK",
          "Canada",
          "Canada",
          "Canada",
          "Canada",
          "Canada",
          "Canada",
          "Canada"
         ],
         "xaxis": "x2",
         "y": [
          15,
          30,
          50,
          30,
          50,
          60,
          15,
          15,
          25,
          20,
          20,
          15,
          15,
          15,
          30,
          25,
          28,
          16,
          44,
          24,
          30,
          20,
          50,
          24,
          36,
          50,
          24,
          30,
          55,
          60,
          70,
          80,
          70,
          45,
          50,
          30,
          60,
          60,
          45,
          30,
          55,
          60,
          50,
          35,
          70,
          55,
          55,
          45,
          55,
          45,
          60,
          45,
          45,
          36,
          41,
          31,
          39,
          42,
          36,
          43
         ],
         "yaxis": "y2"
        },
        {
         "alignmentgroup": "True",
         "hovertemplate": "Sentiment=Negative<br>Platform=Facebook<br>Country=%{x}<br>Likes=%{y}<extra></extra>",
         "legendgroup": "Negative",
         "marker": {
          "color": "#EF553B",
          "pattern": {
           "shape": ""
          }
         },
         "name": "Negative",
         "offsetgroup": "Negative",
         "orientation": "v",
         "showlegend": false,
         "textposition": "auto",
         "type": "bar",
         "x": [
          "India",
          "USA",
          "India",
          "India",
          "USA",
          "India",
          "UK",
          "USA",
          "India",
          "UK",
          "Canada",
          "Australia",
          "UK",
          "Canada",
          "India",
          "USA",
          "UK",
          "Australia",
          "UK",
          "India",
          "USA",
          "USA",
          "Australia",
          "USA",
          "UK",
          "Canada",
          "USA",
          "India",
          "Australia",
          "USA",
          "UK",
          "Brazil",
          "Italy",
          "Netherlands",
          "Australia",
          "USA",
          "USA",
          "Brazil",
          "Italy",
          "Australia",
          "USA",
          "India",
          "Germany",
          "France",
          "Brazil",
          "USA",
          "USA",
          "UK",
          "UK",
          "UK",
          "UK",
          "UK",
          "UK",
          "UK"
         ],
         "xaxis": "x3",
         "y": [
          50,
          35,
          30,
          50,
          35,
          30,
          20,
          20,
          30,
          25,
          25,
          20,
          20,
          20,
          20,
          15,
          20,
          28,
          24,
          36,
          32,
          40,
          36,
          40,
          28,
          16,
          44,
          28,
          36,
          50,
          45,
          50,
          55,
          45,
          50,
          55,
          35,
          55,
          50,
          55,
          50,
          35,
          45,
          55,
          30,
          50,
          33,
          40,
          38,
          27,
          46,
          37,
          41,
          39
         ],
         "yaxis": "y3"
        },
        {
         "alignmentgroup": "True",
         "hovertemplate": "Sentiment=Neutral<br>Platform=Twitter<br>Country=%{x}<br>Likes=%{y}<extra></extra>",
         "legendgroup": "Neutral",
         "marker": {
          "color": "#00cc96",
          "pattern": {
           "shape": ""
          }
         },
         "name": "Neutral",
         "offsetgroup": "Neutral",
         "orientation": "v",
         "showlegend": true,
         "textposition": "auto",
         "type": "bar",
         "x": [
          "India",
          "UK",
          "UK",
          "UK",
          "Australia",
          "Australia",
          "India",
          "Canada",
          "USA",
          "India",
          "Canada",
          "Canada",
          "UK",
          "Canada",
          "UK",
          "India",
          "USA",
          "UK",
          "UK",
          "India",
          "Greece",
          "UK",
          "UK",
          "Italy",
          "France",
          "Japan",
          "China",
          "USA",
          "Italy",
          "Canada",
          "UK",
          "UK",
          "UK",
          "USA",
          "Canada",
          "UK",
          "Canada",
          "Canada",
          "Canada",
          "Canada",
          "Canada"
         ],
         "xaxis": "x",
         "y": [
          30,
          45,
          45,
          35,
          60,
          35,
          60,
          15,
          30,
          15,
          25,
          20,
          18,
          26,
          22,
          30,
          25,
          28,
          55,
          80,
          35,
          40,
          35,
          35,
          55,
          35,
          35,
          70,
          55,
          60,
          60,
          55,
          35,
          40,
          60,
          35,
          50,
          36,
          40,
          44,
          43
         ],
         "yaxis": "y"
        },
        {
         "alignmentgroup": "True",
         "hovertemplate": "Sentiment=Neutral<br>Platform=Instagram<br>Country=%{x}<br>Likes=%{y}<extra></extra>",
         "legendgroup": "Neutral",
         "marker": {
          "color": "#00cc96",
          "pattern": {
           "shape": ""
          }
         },
         "name": "Neutral",
         "offsetgroup": "Neutral",
         "orientation": "v",
         "showlegend": false,
         "textposition": "auto",
         "type": "bar",
         "x": [
          "Australia",
          "USA",
          "Australia",
          "UK",
          "USA",
          "Canada",
          "Canada",
          "Australia",
          "USA",
          "Australia",
          "UK",
          "India",
          "India",
          "USA",
          "UK",
          "Canada",
          "Canada",
          "Canada",
          "USA",
          "Canada",
          "Canada",
          "Australia",
          "Canada",
          "USA",
          "Japan",
          "USA",
          "Canada",
          "Brazil",
          "Brazil",
          "Canada",
          "Australia",
          "France",
          "India",
          "Spain",
          "India",
          "USA",
          "USA",
          "Cambodia",
          "USA",
          "UK",
          "Ireland",
          "Jamaica",
          "UK",
          "India",
          "Germany",
          "Scotland",
          "Canada",
          "USA",
          "USA",
          "UK",
          "UK",
          "USA",
          "USA",
          "USA",
          "UK",
          "UK",
          "UK"
         ],
         "xaxis": "x2",
         "y": [
          25,
          40,
          40,
          35,
          35,
          15,
          15,
          25,
          40,
          15,
          25,
          25,
          18,
          26,
          45,
          20,
          30,
          20,
          34,
          40,
          40,
          20,
          28,
          55,
          40,
          70,
          40,
          50,
          50,
          70,
          35,
          55,
          50,
          60,
          45,
          60,
          50,
          40,
          80,
          45,
          50,
          60,
          70,
          55,
          55,
          45,
          35,
          70,
          50,
          55,
          60,
          70,
          42,
          43,
          45,
          49,
          39
         ],
         "yaxis": "y2"
        },
        {
         "alignmentgroup": "True",
         "hovertemplate": "Sentiment=Neutral<br>Platform=Facebook<br>Country=%{x}<br>Likes=%{y}<extra></extra>",
         "legendgroup": "Neutral",
         "marker": {
          "color": "#00cc96",
          "pattern": {
           "shape": ""
          }
         },
         "name": "Neutral",
         "offsetgroup": "Neutral",
         "orientation": "v",
         "showlegend": false,
         "textposition": "auto",
         "type": "bar",
         "x": [
          "Australia",
          "USA",
          "Australia",
          "Australia",
          "India",
          "India",
          "Canada",
          "USA",
          "Canada",
          "India",
          "India",
          "USA",
          "Australia",
          "Canada",
          "India",
          "UK",
          "India",
          "Australia",
          "UK",
          "Australia",
          "UK",
          "Greece",
          "Australia",
          "Canada",
          "Australia",
          "Czech Republic",
          "Czech Republic",
          "Australia",
          "UK",
          "Peru",
          "USA",
          "UK",
          "Colombia",
          "Canada",
          "Japan",
          "UK",
          "USA",
          "Germany",
          "France",
          "USA",
          "USA",
          "Canada",
          "USA",
          "UK",
          "USA",
          "USA",
          "USA"
         ],
         "xaxis": "x3",
         "y": [
          35,
          50,
          45,
          45,
          50,
          50,
          15,
          20,
          20,
          25,
          45,
          20,
          30,
          25,
          18,
          26,
          44,
          36,
          28,
          20,
          45,
          35,
          40,
          50,
          35,
          35,
          35,
          60,
          50,
          55,
          60,
          60,
          55,
          60,
          70,
          60,
          35,
          70,
          60,
          40,
          40,
          45,
          50,
          38,
          48,
          37,
          35
         ],
         "yaxis": "y3"
        }
       ],
       "layout": {
        "annotations": [
         {
          "font": {},
          "showarrow": false,
          "text": "Platform=Twitter",
          "x": 0.15999999999999998,
          "xanchor": "center",
          "xref": "paper",
          "y": 1,
          "yanchor": "bottom",
          "yref": "paper"
         },
         {
          "font": {},
          "showarrow": false,
          "text": "Platform=Instagram",
          "x": 0.49999999999999994,
          "xanchor": "center",
          "xref": "paper",
          "y": 1,
          "yanchor": "bottom",
          "yref": "paper"
         },
         {
          "font": {},
          "showarrow": false,
          "text": "Platform=Facebook",
          "x": 0.8399999999999999,
          "xanchor": "center",
          "xref": "paper",
          "y": 1,
          "yanchor": "bottom",
          "yref": "paper"
         }
        ],
        "barmode": "relative",
        "legend": {
         "title": {
          "text": "Sentiment"
         },
         "tracegroupgap": 0
        },
        "margin": {
         "b": 5,
         "l": 5,
         "r": 5,
         "t": 20
        },
        "template": {
         "data": {
          "bar": [
           {
            "error_x": {
             "color": "#2a3f5f"
            },
            "error_y": {
             "color": "#2a3f5f"
            },
            "marker": {
             "line": {
              "color": "#E5ECF6",
              "width": 0.5
             },
             "pattern": {
              "fillmode": "overlay",
              "size": 10,
              "solidity": 0.2
             }
            },
            "type": "bar"
           }
          ],
          "barpolar": [
           {
            "marker": {
             "line": {
              "color": "#E5ECF6",
              "width": 0.5
             },
             "pattern": {
              "fillmode": "overlay",
              "size": 10,
              "solidity": 0.2
             }
            },
            "type": "barpolar"
           }
          ],
          "carpet": [
           {
            "aaxis": {
             "endlinecolor": "#2a3f5f",
             "gridcolor": "white",
             "linecolor": "white",
             "minorgridcolor": "white",
             "startlinecolor": "#2a3f5f"
            },
            "baxis": {
             "endlinecolor": "#2a3f5f",
             "gridcolor": "white",
             "linecolor": "white",
             "minorgridcolor": "white",
             "startlinecolor": "#2a3f5f"
            },
            "type": "carpet"
           }
          ],
          "choropleth": [
           {
            "colorbar": {
             "outlinewidth": 0,
             "ticks": ""
            },
            "type": "choropleth"
           }
          ],
          "contour": [
           {
            "colorbar": {
             "outlinewidth": 0,
             "ticks": ""
            },
            "colorscale": [
             [
              0,
              "#0d0887"
             ],
             [
              0.1111111111111111,
              "#46039f"
             ],
             [
              0.2222222222222222,
              "#7201a8"
             ],
             [
              0.3333333333333333,
              "#9c179e"
             ],
             [
              0.4444444444444444,
              "#bd3786"
             ],
             [
              0.5555555555555556,
              "#d8576b"
             ],
             [
              0.6666666666666666,
              "#ed7953"
             ],
             [
              0.7777777777777778,
              "#fb9f3a"
             ],
             [
              0.8888888888888888,
              "#fdca26"
             ],
             [
              1,
              "#f0f921"
             ]
            ],
            "type": "contour"
           }
          ],
          "contourcarpet": [
           {
            "colorbar": {
             "outlinewidth": 0,
             "ticks": ""
            },
            "type": "contourcarpet"
           }
          ],
          "heatmap": [
           {
            "colorbar": {
             "outlinewidth": 0,
             "ticks": ""
            },
            "colorscale": [
             [
              0,
              "#0d0887"
             ],
             [
              0.1111111111111111,
              "#46039f"
             ],
             [
              0.2222222222222222,
              "#7201a8"
             ],
             [
              0.3333333333333333,
              "#9c179e"
             ],
             [
              0.4444444444444444,
              "#bd3786"
             ],
             [
              0.5555555555555556,
              "#d8576b"
             ],
             [
              0.6666666666666666,
              "#ed7953"
             ],
             [
              0.7777777777777778,
              "#fb9f3a"
             ],
             [
              0.8888888888888888,
              "#fdca26"
             ],
             [
              1,
              "#f0f921"
             ]
            ],
            "type": "heatmap"
           }
          ],
          "heatmapgl": [
           {
            "colorbar": {
             "outlinewidth": 0,
             "ticks": ""
            },
            "colorscale": [
             [
              0,
              "#0d0887"
             ],
             [
              0.1111111111111111,
              "#46039f"
             ],
             [
              0.2222222222222222,
              "#7201a8"
             ],
             [
              0.3333333333333333,
              "#9c179e"
             ],
             [
              0.4444444444444444,
              "#bd3786"
             ],
             [
              0.5555555555555556,
              "#d8576b"
             ],
             [
              0.6666666666666666,
              "#ed7953"
             ],
             [
              0.7777777777777778,
              "#fb9f3a"
             ],
             [
              0.8888888888888888,
              "#fdca26"
             ],
             [
              1,
              "#f0f921"
             ]
            ],
            "type": "heatmapgl"
           }
          ],
          "histogram": [
           {
            "marker": {
             "pattern": {
              "fillmode": "overlay",
              "size": 10,
              "solidity": 0.2
             }
            },
            "type": "histogram"
           }
          ],
          "histogram2d": [
           {
            "colorbar": {
             "outlinewidth": 0,
             "ticks": ""
            },
            "colorscale": [
             [
              0,
              "#0d0887"
             ],
             [
              0.1111111111111111,
              "#46039f"
             ],
             [
              0.2222222222222222,
              "#7201a8"
             ],
             [
              0.3333333333333333,
              "#9c179e"
             ],
             [
              0.4444444444444444,
              "#bd3786"
             ],
             [
              0.5555555555555556,
              "#d8576b"
             ],
             [
              0.6666666666666666,
              "#ed7953"
             ],
             [
              0.7777777777777778,
              "#fb9f3a"
             ],
             [
              0.8888888888888888,
              "#fdca26"
             ],
             [
              1,
              "#f0f921"
             ]
            ],
            "type": "histogram2d"
           }
          ],
          "histogram2dcontour": [
           {
            "colorbar": {
             "outlinewidth": 0,
             "ticks": ""
            },
            "colorscale": [
             [
              0,
              "#0d0887"
             ],
             [
              0.1111111111111111,
              "#46039f"
             ],
             [
              0.2222222222222222,
              "#7201a8"
             ],
             [
              0.3333333333333333,
              "#9c179e"
             ],
             [
              0.4444444444444444,
              "#bd3786"
             ],
             [
              0.5555555555555556,
              "#d8576b"
             ],
             [
              0.6666666666666666,
              "#ed7953"
             ],
             [
              0.7777777777777778,
              "#fb9f3a"
             ],
             [
              0.8888888888888888,
              "#fdca26"
             ],
             [
              1,
              "#f0f921"
             ]
            ],
            "type": "histogram2dcontour"
           }
          ],
          "mesh3d": [
           {
            "colorbar": {
             "outlinewidth": 0,
             "ticks": ""
            },
            "type": "mesh3d"
           }
          ],
          "parcoords": [
           {
            "line": {
             "colorbar": {
              "outlinewidth": 0,
              "ticks": ""
             }
            },
            "type": "parcoords"
           }
          ],
          "pie": [
           {
            "automargin": true,
            "type": "pie"
           }
          ],
          "scatter": [
           {
            "fillpattern": {
             "fillmode": "overlay",
             "size": 10,
             "solidity": 0.2
            },
            "type": "scatter"
           }
          ],
          "scatter3d": [
           {
            "line": {
             "colorbar": {
              "outlinewidth": 0,
              "ticks": ""
             }
            },
            "marker": {
             "colorbar": {
              "outlinewidth": 0,
              "ticks": ""
             }
            },
            "type": "scatter3d"
           }
          ],
          "scattercarpet": [
           {
            "marker": {
             "colorbar": {
              "outlinewidth": 0,
              "ticks": ""
             }
            },
            "type": "scattercarpet"
           }
          ],
          "scattergeo": [
           {
            "marker": {
             "colorbar": {
              "outlinewidth": 0,
              "ticks": ""
             }
            },
            "type": "scattergeo"
           }
          ],
          "scattergl": [
           {
            "marker": {
             "colorbar": {
              "outlinewidth": 0,
              "ticks": ""
             }
            },
            "type": "scattergl"
           }
          ],
          "scattermapbox": [
           {
            "marker": {
             "colorbar": {
              "outlinewidth": 0,
              "ticks": ""
             }
            },
            "type": "scattermapbox"
           }
          ],
          "scatterpolar": [
           {
            "marker": {
             "colorbar": {
              "outlinewidth": 0,
              "ticks": ""
             }
            },
            "type": "scatterpolar"
           }
          ],
          "scatterpolargl": [
           {
            "marker": {
             "colorbar": {
              "outlinewidth": 0,
              "ticks": ""
             }
            },
            "type": "scatterpolargl"
           }
          ],
          "scatterternary": [
           {
            "marker": {
             "colorbar": {
              "outlinewidth": 0,
              "ticks": ""
             }
            },
            "type": "scatterternary"
           }
          ],
          "surface": [
           {
            "colorbar": {
             "outlinewidth": 0,
             "ticks": ""
            },
            "colorscale": [
             [
              0,
              "#0d0887"
             ],
             [
              0.1111111111111111,
              "#46039f"
             ],
             [
              0.2222222222222222,
              "#7201a8"
             ],
             [
              0.3333333333333333,
              "#9c179e"
             ],
             [
              0.4444444444444444,
              "#bd3786"
             ],
             [
              0.5555555555555556,
              "#d8576b"
             ],
             [
              0.6666666666666666,
              "#ed7953"
             ],
             [
              0.7777777777777778,
              "#fb9f3a"
             ],
             [
              0.8888888888888888,
              "#fdca26"
             ],
             [
              1,
              "#f0f921"
             ]
            ],
            "type": "surface"
           }
          ],
          "table": [
           {
            "cells": {
             "fill": {
              "color": "#EBF0F8"
             },
             "line": {
              "color": "white"
             }
            },
            "header": {
             "fill": {
              "color": "#C8D4E3"
             },
             "line": {
              "color": "white"
             }
            },
            "type": "table"
           }
          ]
         },
         "layout": {
          "annotationdefaults": {
           "arrowcolor": "#2a3f5f",
           "arrowhead": 0,
           "arrowwidth": 1
          },
          "autotypenumbers": "strict",
          "coloraxis": {
           "colorbar": {
            "outlinewidth": 0,
            "ticks": ""
           }
          },
          "colorscale": {
           "diverging": [
            [
             0,
             "#8e0152"
            ],
            [
             0.1,
             "#c51b7d"
            ],
            [
             0.2,
             "#de77ae"
            ],
            [
             0.3,
             "#f1b6da"
            ],
            [
             0.4,
             "#fde0ef"
            ],
            [
             0.5,
             "#f7f7f7"
            ],
            [
             0.6,
             "#e6f5d0"
            ],
            [
             0.7,
             "#b8e186"
            ],
            [
             0.8,
             "#7fbc41"
            ],
            [
             0.9,
             "#4d9221"
            ],
            [
             1,
             "#276419"
            ]
           ],
           "sequential": [
            [
             0,
             "#0d0887"
            ],
            [
             0.1111111111111111,
             "#46039f"
            ],
            [
             0.2222222222222222,
             "#7201a8"
            ],
            [
             0.3333333333333333,
             "#9c179e"
            ],
            [
             0.4444444444444444,
             "#bd3786"
            ],
            [
             0.5555555555555556,
             "#d8576b"
            ],
            [
             0.6666666666666666,
             "#ed7953"
            ],
            [
             0.7777777777777778,
             "#fb9f3a"
            ],
            [
             0.8888888888888888,
             "#fdca26"
            ],
            [
             1,
             "#f0f921"
            ]
           ],
           "sequentialminus": [
            [
             0,
             "#0d0887"
            ],
            [
             0.1111111111111111,
             "#46039f"
            ],
            [
             0.2222222222222222,
             "#7201a8"
            ],
            [
             0.3333333333333333,
             "#9c179e"
            ],
            [
             0.4444444444444444,
             "#bd3786"
            ],
            [
             0.5555555555555556,
             "#d8576b"
            ],
            [
             0.6666666666666666,
             "#ed7953"
            ],
            [
             0.7777777777777778,
             "#fb9f3a"
            ],
            [
             0.8888888888888888,
             "#fdca26"
            ],
            [
             1,
             "#f0f921"
            ]
           ]
          },
          "colorway": [
           "#636efa",
           "#EF553B",
           "#00cc96",
           "#ab63fa",
           "#FFA15A",
           "#19d3f3",
           "#FF6692",
           "#B6E880",
           "#FF97FF",
           "#FECB52"
          ],
          "font": {
           "color": "#2a3f5f"
          },
          "geo": {
           "bgcolor": "white",
           "lakecolor": "white",
           "landcolor": "#E5ECF6",
           "showlakes": true,
           "showland": true,
           "subunitcolor": "white"
          },
          "hoverlabel": {
           "align": "left"
          },
          "hovermode": "closest",
          "mapbox": {
           "style": "light"
          },
          "paper_bgcolor": "white",
          "plot_bgcolor": "#E5ECF6",
          "polar": {
           "angularaxis": {
            "gridcolor": "white",
            "linecolor": "white",
            "ticks": ""
           },
           "bgcolor": "#E5ECF6",
           "radialaxis": {
            "gridcolor": "white",
            "linecolor": "white",
            "ticks": ""
           }
          },
          "scene": {
           "xaxis": {
            "backgroundcolor": "#E5ECF6",
            "gridcolor": "white",
            "gridwidth": 2,
            "linecolor": "white",
            "showbackground": true,
            "ticks": "",
            "zerolinecolor": "white"
           },
           "yaxis": {
            "backgroundcolor": "#E5ECF6",
            "gridcolor": "white",
            "gridwidth": 2,
            "linecolor": "white",
            "showbackground": true,
            "ticks": "",
            "zerolinecolor": "white"
           },
           "zaxis": {
            "backgroundcolor": "#E5ECF6",
            "gridcolor": "white",
            "gridwidth": 2,
            "linecolor": "white",
            "showbackground": true,
            "ticks": "",
            "zerolinecolor": "white"
           }
          },
          "shapedefaults": {
           "line": {
            "color": "#2a3f5f"
           }
          },
          "ternary": {
           "aaxis": {
            "gridcolor": "white",
            "linecolor": "white",
            "ticks": ""
           },
           "baxis": {
            "gridcolor": "white",
            "linecolor": "white",
            "ticks": ""
           },
           "bgcolor": "#E5ECF6",
           "caxis": {
            "gridcolor": "white",
            "linecolor": "white",
            "ticks": ""
           }
          },
          "title": {
           "x": 0.05
          },
          "xaxis": {
           "automargin": true,
           "gridcolor": "white",
           "linecolor": "white",
           "ticks": "",
           "title": {
            "standoff": 15
           },
           "zerolinecolor": "white",
           "zerolinewidth": 2
          },
          "yaxis": {
           "automargin": true,
           "gridcolor": "white",
           "linecolor": "white",
           "ticks": "",
           "title": {
            "standoff": 15
           },
           "zerolinecolor": "white",
           "zerolinewidth": 2
          }
         }
        },
        "xaxis": {
         "anchor": "y",
         "domain": [
          0,
          0.31999999999999995
         ],
         "title": {
          "text": "Country"
         }
        },
        "xaxis2": {
         "anchor": "y2",
         "domain": [
          0.33999999999999997,
          0.6599999999999999
         ],
         "matches": "x",
         "title": {
          "text": "Country"
         }
        },
        "xaxis3": {
         "anchor": "y3",
         "domain": [
          0.6799999999999999,
          0.9999999999999999
         ],
         "matches": "x",
         "title": {
          "text": "Country"
         }
        },
        "yaxis": {
         "anchor": "x",
         "domain": [
          0,
          1
         ],
         "title": {
          "text": "Likes"
         }
        },
        "yaxis2": {
         "anchor": "x2",
         "domain": [
          0,
          1
         ],
         "matches": "y",
         "showticklabels": false
        },
        "yaxis3": {
         "anchor": "x3",
         "domain": [
          0,
          1
         ],
         "matches": "y",
         "showticklabels": false
        }
       }
      }
     },
     "metadata": {},
     "output_type": "display_data"
    }
   ],
   "source": [
    "import plotly.express as px\n",
    "df = pd.read_csv(\"C:\\\\Users\\\\sherr\\\\OneDrive\\\\Desktop\\\\Data Visualization\\\\resources\\\\sentimentdataset.csv\")\n",
    "df.Country = df.Country.str.strip()\n",
    "df.Platform = df.Platform.str.strip()\n",
    "df['Sentiment'] = df['Sentiment'].apply(remove_spaces)\n",
    "df[\"Sentiment\"]=df[\"Sentiment\"].replace(changes)\n",
    "fig = px.bar(df, x=\"Country\", y=\"Likes\", color='Sentiment',facet_col=\"Platform\")\n",
    "fig.update_layout(margin=dict(l=5, r=5, t=20, b=5))\n",
    "fig.show()"
   ]
  },
  {
   "cell_type": "code",
   "execution_count": 41,
   "metadata": {},
   "outputs": [
    {
     "data": {
      "application/vnd.plotly.v1+json": {
       "config": {
        "plotlyServerURL": "https://plot.ly"
       },
       "data": [
        {
         "hovertemplate": "Country=USA<br>Platform=Twitter<br>Sentiment=%{x}<br>Retweets=%{y}<extra></extra>",
         "legendgroup": "USA",
         "marker": {
          "color": "#636efa",
          "symbol": "circle"
         },
         "mode": "markers",
         "name": "USA",
         "orientation": "v",
         "showlegend": true,
         "type": "scatter",
         "x": [
          "Positive",
          "Negative",
          "Positive",
          "Positive",
          "Positive",
          "Positive",
          "Positive",
          "Positive",
          "Positive",
          "Negative",
          "Negative",
          "Negative",
          "Neutral",
          "Positive",
          "Neutral",
          "Positive",
          "Positive",
          "Positive",
          "Positive",
          "Negative",
          "Negative",
          "Negative",
          "Positive",
          "Positive",
          "Negative",
          "Positive",
          "Neutral",
          "Positive",
          "Positive",
          "Positive",
          "Positive",
          "Positive",
          "Positive",
          "Positive",
          "Positive",
          "Positive",
          "Negative",
          "Positive",
          "Positive",
          "Positive",
          "Neutral",
          "Positive",
          "Positive",
          "Negative",
          "Negative",
          "Positive",
          "Negative",
          "Negative",
          "Negative",
          "Negative",
          "Negative",
          "Negative",
          "Negative",
          "Negative",
          "Positive",
          "Positive"
         ],
         "xaxis": "x",
         "y": [
          15,
          30,
          22,
          25,
          20,
          20,
          20,
          20,
          20,
          5,
          12,
          12,
          15,
          18,
          12,
          15,
          23,
          23,
          23,
          15,
          20,
          20,
          25,
          35,
          20,
          35,
          35,
          22,
          35,
          18,
          22,
          40,
          35,
          35,
          40,
          15,
          20,
          20,
          25,
          22,
          20,
          20,
          20,
          28,
          18,
          18,
          16,
          15,
          17,
          22,
          18,
          25,
          16,
          24,
          24,
          26
         ],
         "yaxis": "y"
        },
        {
         "hovertemplate": "Country=USA<br>Platform=Instagram<br>Sentiment=%{x}<br>Retweets=%{y}<extra></extra>",
         "legendgroup": "USA",
         "marker": {
          "color": "#636efa",
          "symbol": "circle"
         },
         "mode": "markers",
         "name": "USA",
         "orientation": "v",
         "showlegend": false,
         "type": "scatter",
         "x": [
          "Positive",
          "Positive",
          "Positive",
          "Positive",
          "Negative",
          "Positive",
          "Positive",
          "Positive",
          "Positive",
          "Positive",
          "Positive",
          "Negative",
          "Positive",
          "Positive",
          "Positive",
          "Neutral",
          "Negative",
          "Positive",
          "Positive",
          "Positive",
          "Negative",
          "Positive",
          "Positive",
          "Positive",
          "Positive",
          "Positive",
          "Neutral",
          "Negative",
          "Neutral",
          "Neutral",
          "Positive",
          "Neutral",
          "Positive",
          "Positive",
          "Negative",
          "Neutral",
          "Positive",
          "Positive",
          "Neutral",
          "Positive",
          "Positive",
          "Positive",
          "Positive",
          "Negative",
          "Positive",
          "Neutral",
          "Neutral",
          "Positive",
          "Neutral",
          "Positive",
          "Positive",
          "Negative",
          "Positive",
          "Neutral",
          "Neutral",
          "Positive",
          "Positive",
          "Positive",
          "Positive",
          "Neutral",
          "Positive",
          "Positive",
          "Positive",
          "Negative",
          "Positive",
          "Positive",
          "Positive",
          "Neutral",
          "Neutral",
          "Positive",
          "Positive",
          "Positive"
         ],
         "xaxis": "x2",
         "y": [
          20,
          15,
          22,
          28,
          8,
          30,
          25,
          18,
          30,
          20,
          18,
          15,
          30,
          15,
          25,
          20,
          15,
          15,
          25,
          18,
          30,
          15,
          15,
          25,
          30,
          15,
          18,
          10,
          20,
          13,
          25,
          17,
          25,
          25,
          18,
          28,
          25,
          35,
          35,
          15,
          40,
          20,
          20,
          15,
          40,
          30,
          25,
          35,
          40,
          25,
          22,
          35,
          22,
          35,
          25,
          35,
          20,
          25,
          30,
          35,
          30,
          20,
          22,
          30,
          15,
          19,
          20,
          23,
          21,
          23,
          25,
          24
         ],
         "yaxis": "y2"
        },
        {
         "hovertemplate": "Country=USA<br>Platform=Facebook<br>Sentiment=%{x}<br>Retweets=%{y}<extra></extra>",
         "legendgroup": "USA",
         "marker": {
          "color": "#636efa",
          "symbol": "circle"
         },
         "mode": "markers",
         "name": "USA",
         "orientation": "v",
         "showlegend": false,
         "type": "scatter",
         "x": [
          "Positive",
          "Neutral",
          "Positive",
          "Positive",
          "Positive",
          "Negative",
          "Positive",
          "Negative",
          "Positive",
          "Positive",
          "Positive",
          "Positive",
          "Positive",
          "Positive",
          "Positive",
          "Negative",
          "Negative",
          "Neutral",
          "Neutral",
          "Positive",
          "Positive",
          "Positive",
          "Positive",
          "Positive",
          "Positive",
          "Negative",
          "Negative",
          "Negative",
          "Negative",
          "Negative",
          "Positive",
          "Negative",
          "Negative",
          "Negative",
          "Neutral",
          "Positive",
          "Positive",
          "Positive",
          "Positive",
          "Positive",
          "Neutral",
          "Positive",
          "Neutral",
          "Positive",
          "Neutral",
          "Neutral",
          "Positive",
          "Positive",
          "Positive",
          "Positive",
          "Positive",
          "Positive",
          "Positive",
          "Positive",
          "Negative",
          "Positive",
          "Negative",
          "Neutral",
          "Neutral",
          "Neutral"
         ],
         "xaxis": "x3",
         "y": [
          20,
          25,
          15,
          30,
          15,
          18,
          25,
          18,
          22,
          22,
          15,
          18,
          25,
          15,
          18,
          10,
          8,
          10,
          10,
          25,
          20,
          20,
          12,
          16,
          16,
          16,
          20,
          20,
          22,
          25,
          35,
          28,
          18,
          25,
          30,
          28,
          35,
          35,
          18,
          18,
          18,
          18,
          20,
          18,
          20,
          25,
          35,
          25,
          20,
          25,
          25,
          28,
          20,
          25,
          25,
          20,
          17,
          24,
          19,
          18
         ],
         "yaxis": "y3"
        },
        {
         "hovertemplate": "Country=Canada<br>Platform=Twitter<br>Sentiment=%{x}<br>Retweets=%{y}<extra></extra>",
         "legendgroup": "Canada",
         "marker": {
          "color": "#EF553B",
          "symbol": "circle"
         },
         "mode": "markers",
         "name": "Canada",
         "orientation": "v",
         "showlegend": true,
         "type": "scatter",
         "x": [
          "Negative",
          "Negative",
          "Positive",
          "Positive",
          "Positive",
          "Negative",
          "Negative",
          "Negative",
          "Positive",
          "Positive",
          "Positive",
          "Positive",
          "Neutral",
          "Negative",
          "Neutral",
          "Neutral",
          "Neutral",
          "Positive",
          "Positive",
          "Positive",
          "Positive",
          "Negative",
          "Positive",
          "Positive",
          "Positive",
          "Negative",
          "Positive",
          "Positive",
          "Neutral",
          "Positive",
          "Positive",
          "Neutral",
          "Positive",
          "Positive",
          "Positive",
          "Positive",
          "Positive",
          "Negative",
          "Positive",
          "Neutral",
          "Neutral",
          "Neutral",
          "Neutral",
          "Neutral",
          "Positive",
          "Positive"
         ],
         "xaxis": "x",
         "y": [
          5,
          7,
          15,
          18,
          15,
          20,
          20,
          15,
          20,
          18,
          18,
          25,
          8,
          12,
          12,
          10,
          13,
          18,
          25,
          25,
          13,
          15,
          15,
          18,
          22,
          18,
          35,
          22,
          30,
          22,
          28,
          30,
          22,
          30,
          30,
          30,
          22,
          30,
          27,
          26,
          18,
          20,
          23,
          22,
          26,
          22
         ],
         "yaxis": "y"
        },
        {
         "hovertemplate": "Country=Canada<br>Platform=Instagram<br>Sentiment=%{x}<br>Retweets=%{y}<extra></extra>",
         "legendgroup": "Canada",
         "marker": {
          "color": "#EF553B",
          "symbol": "circle"
         },
         "mode": "markers",
         "name": "Canada",
         "orientation": "v",
         "showlegend": false,
         "type": "scatter",
         "x": [
          "Positive",
          "Positive",
          "Positive",
          "Positive",
          "Positive",
          "Negative",
          "Negative",
          "Neutral",
          "Neutral",
          "Positive",
          "Neutral",
          "Neutral",
          "Neutral",
          "Neutral",
          "Positive",
          "Neutral",
          "Positive",
          "Negative",
          "Negative",
          "Negative",
          "Negative",
          "Neutral",
          "Neutral",
          "Positive",
          "Neutral",
          "Negative",
          "Negative",
          "Negative",
          "Negative",
          "Positive",
          "Positive",
          "Positive",
          "Positive",
          "Neutral",
          "Positive",
          "Negative",
          "Positive",
          "Positive",
          "Negative",
          "Negative",
          "Negative",
          "Negative",
          "Negative",
          "Negative",
          "Negative"
         ],
         "xaxis": "x2",
         "y": [
          15,
          12,
          18,
          25,
          22,
          8,
          10,
          7,
          7,
          25,
          10,
          15,
          10,
          20,
          21,
          20,
          21,
          8,
          22,
          15,
          25,
          14,
          20,
          35,
          35,
          35,
          25,
          22,
          25,
          40,
          40,
          22,
          40,
          18,
          25,
          22,
          26,
          21,
          18,
          21,
          16,
          20,
          21,
          18,
          22
         ],
         "yaxis": "y2"
        },
        {
         "hovertemplate": "Country=Canada<br>Platform=Facebook<br>Sentiment=%{x}<br>Retweets=%{y}<extra></extra>",
         "legendgroup": "Canada",
         "marker": {
          "color": "#EF553B",
          "symbol": "circle"
         },
         "mode": "markers",
         "name": "Canada",
         "orientation": "v",
         "showlegend": false,
         "type": "scatter",
         "x": [
          "Positive",
          "Positive",
          "Positive",
          "Positive",
          "Positive",
          "Positive",
          "Positive",
          "Positive",
          "Positive",
          "Positive",
          "Positive",
          "Positive",
          "Positive",
          "Positive",
          "Positive",
          "Negative",
          "Negative",
          "Neutral",
          "Neutral",
          "Neutral",
          "Positive",
          "Positive",
          "Positive",
          "Positive",
          "Negative",
          "Positive",
          "Positive",
          "Neutral",
          "Neutral",
          "Positive",
          "Positive",
          "Positive",
          "Positive",
          "Neutral",
          "Positive",
          "Positive",
          "Positive",
          "Positive",
          "Positive",
          "Positive",
          "Positive",
          "Positive",
          "Positive",
          "Positive"
         ],
         "xaxis": "x3",
         "y": [
          10,
          12,
          12,
          12,
          22,
          25,
          15,
          22,
          22,
          15,
          22,
          15,
          22,
          22,
          25,
          12,
          10,
          7,
          10,
          12,
          22,
          21,
          23,
          23,
          8,
          15,
          22,
          25,
          30,
          30,
          35,
          22,
          28,
          22,
          18,
          22,
          28,
          18,
          28,
          22,
          25,
          26,
          19,
          23
         ],
         "yaxis": "y3"
        },
        {
         "hovertemplate": "Country=UK<br>Platform=Twitter<br>Sentiment=%{x}<br>Retweets=%{y}<extra></extra>",
         "legendgroup": "UK",
         "marker": {
          "color": "#00cc96",
          "symbol": "circle"
         },
         "mode": "markers",
         "name": "UK",
         "orientation": "v",
         "showlegend": true,
         "type": "scatter",
         "x": [
          "Positive",
          "Positive",
          "Negative",
          "Neutral",
          "Negative",
          "Neutral",
          "Negative",
          "Positive",
          "Positive",
          "Neutral",
          "Positive",
          "Positive",
          "Positive",
          "Negative",
          "Negative",
          "Neutral",
          "Neutral",
          "Positive",
          "Positive",
          "Positive",
          "Positive",
          "Neutral",
          "Negative",
          "Negative",
          "Negative",
          "Negative",
          "Neutral",
          "Positive",
          "Neutral",
          "Neutral",
          "Negative",
          "Negative",
          "Positive",
          "Positive",
          "Positive",
          "Positive",
          "Positive",
          "Positive",
          "Neutral",
          "Neutral",
          "Neutral",
          "Positive",
          "Positive",
          "Neutral",
          "Positive",
          "Positive",
          "Positive",
          "Positive"
         ],
         "xaxis": "x",
         "y": [
          18,
          20,
          18,
          22,
          18,
          22,
          15,
          18,
          15,
          18,
          25,
          15,
          18,
          15,
          15,
          9,
          11,
          20,
          15,
          22,
          22,
          14,
          14,
          13,
          15,
          16,
          28,
          28,
          20,
          18,
          22,
          20,
          18,
          28,
          22,
          28,
          30,
          28,
          30,
          28,
          18,
          28,
          18,
          18,
          25,
          18,
          24,
          23
         ],
         "yaxis": "y"
        },
        {
         "hovertemplate": "Country=UK<br>Platform=Instagram<br>Sentiment=%{x}<br>Retweets=%{y}<extra></extra>",
         "legendgroup": "UK",
         "marker": {
          "color": "#00cc96",
          "symbol": "circle"
         },
         "mode": "markers",
         "name": "UK",
         "orientation": "v",
         "showlegend": false,
         "type": "scatter",
         "x": [
          "Positive",
          "Positive",
          "Positive",
          "Positive",
          "Negative",
          "Positive",
          "Positive",
          "Negative",
          "Positive",
          "Positive",
          "Neutral",
          "Positive",
          "Positive",
          "Positive",
          "Negative",
          "Negative",
          "Negative",
          "Positive",
          "Neutral",
          "Positive",
          "Neutral",
          "Positive",
          "Positive",
          "Positive",
          "Positive",
          "Positive",
          "Positive",
          "Negative",
          "Neutral",
          "Positive",
          "Neutral",
          "Negative",
          "Positive",
          "Positive",
          "Neutral",
          "Neutral",
          "Positive",
          "Positive",
          "Positive",
          "Positive",
          "Negative",
          "Positive",
          "Positive",
          "Negative",
          "Positive",
          "Negative",
          "Positive",
          "Neutral",
          "Neutral",
          "Neutral",
          "Positive",
          "Positive",
          "Positive"
         ],
         "xaxis": "x2",
         "y": [
          15,
          18,
          12,
          18,
          25,
          30,
          18,
          25,
          30,
          22,
          18,
          15,
          25,
          20,
          12,
          7,
          12,
          15,
          12,
          20,
          22,
          15,
          14,
          14,
          30,
          18,
          18,
          18,
          22,
          30,
          35,
          28,
          18,
          35,
          28,
          30,
          22,
          28,
          35,
          22,
          22,
          28,
          35,
          22,
          20,
          22,
          23,
          22,
          25,
          20,
          27,
          21,
          22
         ],
         "yaxis": "y2"
        },
        {
         "hovertemplate": "Country=UK<br>Platform=Facebook<br>Sentiment=%{x}<br>Retweets=%{y}<extra></extra>",
         "legendgroup": "UK",
         "marker": {
          "color": "#00cc96",
          "symbol": "circle"
         },
         "mode": "markers",
         "name": "UK",
         "orientation": "v",
         "showlegend": false,
         "type": "scatter",
         "x": [
          "Positive",
          "Positive",
          "Positive",
          "Positive",
          "Positive",
          "Positive",
          "Positive",
          "Positive",
          "Negative",
          "Negative",
          "Negative",
          "Negative",
          "Neutral",
          "Neutral",
          "Positive",
          "Positive",
          "Negative",
          "Negative",
          "Neutral",
          "Positive",
          "Positive",
          "Positive",
          "Negative",
          "Neutral",
          "Positive",
          "Neutral",
          "Neutral",
          "Positive",
          "Positive",
          "Positive",
          "Positive",
          "Positive",
          "Negative",
          "Negative",
          "Negative",
          "Negative",
          "Negative",
          "Negative",
          "Negative",
          "Neutral",
          "Positive",
          "Positive"
         ],
         "xaxis": "x3",
         "y": [
          8,
          12,
          22,
          15,
          22,
          15,
          25,
          25,
          10,
          12,
          10,
          10,
          13,
          14,
          14,
          14,
          12,
          14,
          22,
          28,
          28,
          28,
          22,
          25,
          30,
          30,
          30,
          18,
          22,
          18,
          22,
          22,
          20,
          19,
          14,
          23,
          19,
          21,
          20,
          19,
          20,
          21
         ],
         "yaxis": "y3"
        },
        {
         "hovertemplate": "Country=Australia<br>Platform=Twitter<br>Sentiment=%{x}<br>Retweets=%{y}<extra></extra>",
         "legendgroup": "Australia",
         "marker": {
          "color": "#ab63fa",
          "symbol": "circle"
         },
         "mode": "markers",
         "name": "Australia",
         "orientation": "v",
         "showlegend": true,
         "type": "scatter",
         "x": [
          "Positive",
          "Positive",
          "Positive",
          "Positive",
          "Neutral",
          "Neutral",
          "Negative",
          "Positive",
          "Negative",
          "Positive",
          "Positive",
          "Positive",
          "Positive",
          "Negative",
          "Negative",
          "Positive",
          "Positive",
          "Positive",
          "Negative",
          "Negative",
          "Positive",
          "Positive"
         ],
         "xaxis": "x",
         "y": [
          15,
          15,
          22,
          20,
          30,
          18,
          8,
          12,
          14,
          18,
          19,
          17,
          17,
          25,
          16,
          18,
          30,
          30,
          20,
          22,
          25,
          22
         ],
         "yaxis": "y"
        },
        {
         "hovertemplate": "Country=Australia<br>Platform=Instagram<br>Sentiment=%{x}<br>Retweets=%{y}<extra></extra>",
         "legendgroup": "Australia",
         "marker": {
          "color": "#ab63fa",
          "symbol": "circle"
         },
         "mode": "markers",
         "name": "Australia",
         "orientation": "v",
         "showlegend": false,
         "type": "scatter",
         "x": [
          "Neutral",
          "Positive",
          "Positive",
          "Neutral",
          "Positive",
          "Positive",
          "Positive",
          "Negative",
          "Negative",
          "Negative",
          "Neutral",
          "Neutral",
          "Negative",
          "Positive",
          "Positive",
          "Positive",
          "Positive",
          "Neutral",
          "Negative",
          "Negative",
          "Negative",
          "Neutral",
          "Negative",
          "Positive",
          "Negative",
          "Positive",
          "Positive"
         ],
         "xaxis": "x2",
         "y": [
          12,
          15,
          30,
          20,
          30,
          20,
          18,
          7,
          8,
          15,
          12,
          8,
          14,
          18,
          25,
          19,
          19,
          10,
          12,
          25,
          12,
          18,
          28,
          30,
          28,
          22,
          28
         ],
         "yaxis": "y2"
        },
        {
         "hovertemplate": "Country=Australia<br>Platform=Facebook<br>Sentiment=%{x}<br>Retweets=%{y}<extra></extra>",
         "legendgroup": "Australia",
         "marker": {
          "color": "#ab63fa",
          "symbol": "circle"
         },
         "mode": "markers",
         "name": "Australia",
         "orientation": "v",
         "showlegend": false,
         "type": "scatter",
         "x": [
          "Neutral",
          "Positive",
          "Neutral",
          "Neutral",
          "Positive",
          "Positive",
          "Negative",
          "Positive",
          "Neutral",
          "Negative",
          "Positive",
          "Neutral",
          "Positive",
          "Positive",
          "Positive",
          "Negative",
          "Neutral",
          "Negative",
          "Positive",
          "Positive",
          "Neutral",
          "Positive",
          "Neutral",
          "Neutral",
          "Negative",
          "Negative"
         ],
         "xaxis": "x3",
         "y": [
          18,
          15,
          22,
          22,
          15,
          15,
          10,
          15,
          15,
          14,
          18,
          18,
          24,
          24,
          24,
          18,
          10,
          18,
          40,
          30,
          20,
          22,
          18,
          30,
          25,
          28
         ],
         "yaxis": "y3"
        },
        {
         "hovertemplate": "Country=India<br>Platform=Twitter<br>Sentiment=%{x}<br>Retweets=%{y}<extra></extra>",
         "legendgroup": "India",
         "marker": {
          "color": "#FFA15A",
          "symbol": "circle"
         },
         "mode": "markers",
         "name": "India",
         "orientation": "v",
         "showlegend": true,
         "type": "scatter",
         "x": [
          "Positive",
          "Neutral",
          "Positive",
          "Positive",
          "Positive",
          "Positive",
          "Negative",
          "Positive",
          "Negative",
          "Positive",
          "Positive",
          "Positive",
          "Positive",
          "Neutral",
          "Positive",
          "Negative",
          "Negative",
          "Negative",
          "Negative",
          "Neutral",
          "Neutral",
          "Positive",
          "Positive",
          "Positive",
          "Positive",
          "Negative",
          "Positive",
          "Neutral",
          "Positive",
          "Positive",
          "Positive"
         ],
         "xaxis": "x",
         "y": [
          25,
          15,
          22,
          15,
          15,
          28,
          18,
          15,
          18,
          15,
          25,
          22,
          20,
          30,
          22,
          12,
          7,
          15,
          10,
          8,
          15,
          18,
          15,
          18,
          15,
          18,
          22,
          40,
          30,
          15,
          22
         ],
         "yaxis": "y"
        },
        {
         "hovertemplate": "Country=India<br>Platform=Instagram<br>Sentiment=%{x}<br>Retweets=%{y}<extra></extra>",
         "legendgroup": "India",
         "marker": {
          "color": "#FFA15A",
          "symbol": "circle"
         },
         "mode": "markers",
         "name": "India",
         "orientation": "v",
         "showlegend": false,
         "type": "scatter",
         "x": [
          "Positive",
          "Positive",
          "Negative",
          "Neutral",
          "Neutral",
          "Positive",
          "Positive",
          "Positive",
          "Positive",
          "Negative",
          "Negative",
          "Positive",
          "Positive",
          "Neutral",
          "Negative",
          "Negative",
          "Neutral",
          "Neutral",
          "Positive"
         ],
         "xaxis": "x2",
         "y": [
          22,
          25,
          8,
          12,
          9,
          12,
          20,
          16,
          14,
          12,
          10,
          40,
          20,
          25,
          30,
          30,
          22,
          28,
          22
         ],
         "yaxis": "y2"
        },
        {
         "hovertemplate": "Country=India<br>Platform=Facebook<br>Sentiment=%{x}<br>Retweets=%{y}<extra></extra>",
         "legendgroup": "India",
         "marker": {
          "color": "#FFA15A",
          "symbol": "circle"
         },
         "mode": "markers",
         "name": "India",
         "orientation": "v",
         "showlegend": false,
         "type": "scatter",
         "x": [
          "Positive",
          "Negative",
          "Negative",
          "Negative",
          "Negative",
          "Neutral",
          "Positive",
          "Positive",
          "Neutral",
          "Negative",
          "Negative",
          "Positive",
          "Neutral",
          "Neutral",
          "Neutral",
          "Neutral",
          "Negative",
          "Negative",
          "Negative",
          "Positive"
         ],
         "xaxis": "x3",
         "y": [
          25,
          25,
          15,
          25,
          15,
          25,
          22,
          15,
          25,
          15,
          10,
          10,
          12,
          22,
          9,
          22,
          18,
          14,
          18,
          30
         ],
         "yaxis": "y3"
        },
        {
         "hovertemplate": "Country=France<br>Platform=Twitter<br>Sentiment=%{x}<br>Retweets=%{y}<extra></extra>",
         "legendgroup": "France",
         "marker": {
          "color": "#19d3f3",
          "symbol": "circle"
         },
         "mode": "markers",
         "name": "France",
         "orientation": "v",
         "showlegend": true,
         "type": "scatter",
         "x": [
          "Positive",
          "Positive",
          "Negative",
          "Negative",
          "Positive",
          "Neutral",
          "Positive",
          "Positive",
          "Positive"
         ],
         "xaxis": "x",
         "y": [
          18,
          18,
          18,
          22,
          18,
          28,
          22,
          22,
          22
         ],
         "yaxis": "y"
        },
        {
         "hovertemplate": "Country=France<br>Platform=Instagram<br>Sentiment=%{x}<br>Retweets=%{y}<extra></extra>",
         "legendgroup": "France",
         "marker": {
          "color": "#19d3f3",
          "symbol": "circle"
         },
         "mode": "markers",
         "name": "France",
         "orientation": "v",
         "showlegend": false,
         "type": "scatter",
         "x": [
          "Positive",
          "Neutral",
          "Negative",
          "Negative",
          "Positive"
         ],
         "xaxis": "x2",
         "y": [
          30,
          28,
          22,
          28,
          18
         ],
         "yaxis": "y2"
        },
        {
         "hovertemplate": "Country=France<br>Platform=Facebook<br>Sentiment=%{x}<br>Retweets=%{y}<extra></extra>",
         "legendgroup": "France",
         "marker": {
          "color": "#19d3f3",
          "symbol": "circle"
         },
         "mode": "markers",
         "name": "France",
         "orientation": "v",
         "showlegend": false,
         "type": "scatter",
         "x": [
          "Negative",
          "Neutral"
         ],
         "xaxis": "x3",
         "y": [
          28,
          30
         ],
         "yaxis": "y3"
        },
        {
         "hovertemplate": "Country=Brazil<br>Platform=Twitter<br>Sentiment=%{x}<br>Retweets=%{y}<extra></extra>",
         "legendgroup": "Brazil",
         "marker": {
          "color": "#FF6692",
          "symbol": "circle"
         },
         "mode": "markers",
         "name": "Brazil",
         "orientation": "v",
         "showlegend": true,
         "type": "scatter",
         "x": [
          "Positive",
          "Negative",
          "Negative",
          "Positive",
          "Negative"
         ],
         "xaxis": "x",
         "y": [
          35,
          20,
          22,
          22,
          40
         ],
         "yaxis": "y"
        },
        {
         "hovertemplate": "Country=Brazil<br>Platform=Instagram<br>Sentiment=%{x}<br>Retweets=%{y}<extra></extra>",
         "legendgroup": "Brazil",
         "marker": {
          "color": "#FF6692",
          "symbol": "circle"
         },
         "mode": "markers",
         "name": "Brazil",
         "orientation": "v",
         "showlegend": false,
         "type": "scatter",
         "x": [
          "Neutral",
          "Neutral",
          "Positive",
          "Positive",
          "Positive",
          "Positive"
         ],
         "xaxis": "x2",
         "y": [
          25,
          25,
          22,
          30,
          40,
          22
         ],
         "yaxis": "y2"
        },
        {
         "hovertemplate": "Country=Brazil<br>Platform=Facebook<br>Sentiment=%{x}<br>Retweets=%{y}<extra></extra>",
         "legendgroup": "Brazil",
         "marker": {
          "color": "#FF6692",
          "symbol": "circle"
         },
         "mode": "markers",
         "name": "Brazil",
         "orientation": "v",
         "showlegend": false,
         "type": "scatter",
         "x": [
          "Negative",
          "Negative",
          "Negative",
          "Positive",
          "Positive",
          "Positive"
         ],
         "xaxis": "x3",
         "y": [
          25,
          28,
          15,
          25,
          30,
          22
         ],
         "yaxis": "y3"
        },
        {
         "hovertemplate": "Country=Japan<br>Platform=Twitter<br>Sentiment=%{x}<br>Retweets=%{y}<extra></extra>",
         "legendgroup": "Japan",
         "marker": {
          "color": "#B6E880",
          "symbol": "circle"
         },
         "mode": "markers",
         "name": "Japan",
         "orientation": "v",
         "showlegend": true,
         "type": "scatter",
         "x": [
          "Positive",
          "Positive",
          "Positive",
          "Neutral"
         ],
         "xaxis": "x",
         "y": [
          18,
          35,
          20,
          18
         ],
         "yaxis": "y"
        },
        {
         "hovertemplate": "Country=Japan<br>Platform=Instagram<br>Sentiment=%{x}<br>Retweets=%{y}<extra></extra>",
         "legendgroup": "Japan",
         "marker": {
          "color": "#B6E880",
          "symbol": "circle"
         },
         "mode": "markers",
         "name": "Japan",
         "orientation": "v",
         "showlegend": false,
         "type": "scatter",
         "x": [
          "Neutral",
          "Negative",
          "Negative",
          "Positive",
          "Negative"
         ],
         "xaxis": "x2",
         "y": [
          20,
          35,
          30,
          22,
          28
         ],
         "yaxis": "y2"
        },
        {
         "hovertemplate": "Country=Japan<br>Platform=Facebook<br>Sentiment=%{x}<br>Retweets=%{y}<extra></extra>",
         "legendgroup": "Japan",
         "marker": {
          "color": "#B6E880",
          "symbol": "circle"
         },
         "mode": "markers",
         "name": "Japan",
         "orientation": "v",
         "showlegend": false,
         "type": "scatter",
         "x": [
          "Positive",
          "Positive",
          "Positive",
          "Positive",
          "Neutral",
          "Positive"
         ],
         "xaxis": "x3",
         "y": [
          22,
          22,
          28,
          25,
          35,
          35
         ],
         "yaxis": "y3"
        },
        {
         "hovertemplate": "Country=Greece<br>Platform=Twitter<br>Sentiment=%{x}<br>Retweets=%{y}<extra></extra>",
         "legendgroup": "Greece",
         "marker": {
          "color": "#FF97FF",
          "symbol": "circle"
         },
         "mode": "markers",
         "name": "Greece",
         "orientation": "v",
         "showlegend": true,
         "type": "scatter",
         "x": [
          "Positive",
          "Neutral",
          "Positive"
         ],
         "xaxis": "x",
         "y": [
          18,
          18,
          35
         ],
         "yaxis": "y"
        },
        {
         "hovertemplate": "Country=Greece<br>Platform=Facebook<br>Sentiment=%{x}<br>Retweets=%{y}<extra></extra>",
         "legendgroup": "Greece",
         "marker": {
          "color": "#FF97FF",
          "symbol": "circle"
         },
         "mode": "markers",
         "name": "Greece",
         "orientation": "v",
         "showlegend": false,
         "type": "scatter",
         "x": [
          "Neutral",
          "Positive"
         ],
         "xaxis": "x3",
         "y": [
          18,
          22
         ],
         "yaxis": "y3"
        },
        {
         "hovertemplate": "Country=Germany<br>Platform=Twitter<br>Sentiment=%{x}<br>Retweets=%{y}<extra></extra>",
         "legendgroup": "Germany",
         "marker": {
          "color": "#FECB52",
          "symbol": "circle"
         },
         "mode": "markers",
         "name": "Germany",
         "orientation": "v",
         "showlegend": true,
         "type": "scatter",
         "x": [
          "Negative",
          "Negative",
          "Positive",
          "Positive"
         ],
         "xaxis": "x",
         "y": [
          22,
          18,
          28,
          28
         ],
         "yaxis": "y"
        },
        {
         "hovertemplate": "Country=Germany<br>Platform=Instagram<br>Sentiment=%{x}<br>Retweets=%{y}<extra></extra>",
         "legendgroup": "Germany",
         "marker": {
          "color": "#FECB52",
          "symbol": "circle"
         },
         "mode": "markers",
         "name": "Germany",
         "orientation": "v",
         "showlegend": false,
         "type": "scatter",
         "x": [
          "Negative",
          "Negative",
          "Neutral"
         ],
         "xaxis": "x2",
         "y": [
          15,
          15,
          28
         ],
         "yaxis": "y2"
        },
        {
         "hovertemplate": "Country=Germany<br>Platform=Facebook<br>Sentiment=%{x}<br>Retweets=%{y}<extra></extra>",
         "legendgroup": "Germany",
         "marker": {
          "color": "#FECB52",
          "symbol": "circle"
         },
         "mode": "markers",
         "name": "Germany",
         "orientation": "v",
         "showlegend": false,
         "type": "scatter",
         "x": [
          "Positive",
          "Positive",
          "Positive",
          "Negative",
          "Positive",
          "Positive",
          "Neutral"
         ],
         "xaxis": "x3",
         "y": [
          22,
          22,
          28,
          22,
          28,
          28,
          35
         ],
         "yaxis": "y3"
        },
        {
         "hovertemplate": "Country=Sweden<br>Platform=Instagram<br>Sentiment=%{x}<br>Retweets=%{y}<extra></extra>",
         "legendgroup": "Sweden",
         "marker": {
          "color": "#636efa",
          "symbol": "circle"
         },
         "mode": "markers",
         "name": "Sweden",
         "orientation": "v",
         "showlegend": true,
         "type": "scatter",
         "x": [
          "Positive",
          "Positive"
         ],
         "xaxis": "x2",
         "y": [
          35,
          35
         ],
         "yaxis": "y2"
        },
        {
         "hovertemplate": "Country=Italy<br>Platform=Twitter<br>Sentiment=%{x}<br>Retweets=%{y}<extra></extra>",
         "legendgroup": "Italy",
         "marker": {
          "color": "#EF553B",
          "symbol": "circle"
         },
         "mode": "markers",
         "name": "Italy",
         "orientation": "v",
         "showlegend": true,
         "type": "scatter",
         "x": [
          "Positive",
          "Positive",
          "Neutral",
          "Positive",
          "Neutral"
         ],
         "xaxis": "x",
         "y": [
          15,
          15,
          18,
          25,
          28
         ],
         "yaxis": "y"
        },
        {
         "hovertemplate": "Country=Italy<br>Platform=Instagram<br>Sentiment=%{x}<br>Retweets=%{y}<extra></extra>",
         "legendgroup": "Italy",
         "marker": {
          "color": "#EF553B",
          "symbol": "circle"
         },
         "mode": "markers",
         "name": "Italy",
         "orientation": "v",
         "showlegend": false,
         "type": "scatter",
         "x": [
          "Positive",
          "Positive"
         ],
         "xaxis": "x2",
         "y": [
          20,
          28
         ],
         "yaxis": "y2"
        },
        {
         "hovertemplate": "Country=Italy<br>Platform=Facebook<br>Sentiment=%{x}<br>Retweets=%{y}<extra></extra>",
         "legendgroup": "Italy",
         "marker": {
          "color": "#EF553B",
          "symbol": "circle"
         },
         "mode": "markers",
         "name": "Italy",
         "orientation": "v",
         "showlegend": false,
         "type": "scatter",
         "x": [
          "Negative",
          "Negative",
          "Positive",
          "Positive"
         ],
         "xaxis": "x3",
         "y": [
          28,
          25,
          22,
          35
         ],
         "yaxis": "y3"
        },
        {
         "hovertemplate": "Country=Netherlands<br>Platform=Instagram<br>Sentiment=%{x}<br>Retweets=%{y}<extra></extra>",
         "legendgroup": "Netherlands",
         "marker": {
          "color": "#00cc96",
          "symbol": "circle"
         },
         "mode": "markers",
         "name": "Netherlands",
         "orientation": "v",
         "showlegend": true,
         "type": "scatter",
         "x": [
          "Positive"
         ],
         "xaxis": "x2",
         "y": [
          35
         ],
         "yaxis": "y2"
        },
        {
         "hovertemplate": "Country=Netherlands<br>Platform=Facebook<br>Sentiment=%{x}<br>Retweets=%{y}<extra></extra>",
         "legendgroup": "Netherlands",
         "marker": {
          "color": "#00cc96",
          "symbol": "circle"
         },
         "mode": "markers",
         "name": "Netherlands",
         "orientation": "v",
         "showlegend": false,
         "type": "scatter",
         "x": [
          "Positive",
          "Positive",
          "Negative"
         ],
         "xaxis": "x3",
         "y": [
          25,
          25,
          22
         ],
         "yaxis": "y3"
        },
        {
         "hovertemplate": "Country=South Africa<br>Platform=Instagram<br>Sentiment=%{x}<br>Retweets=%{y}<extra></extra>",
         "legendgroup": "South Africa",
         "marker": {
          "color": "#ab63fa",
          "symbol": "circle"
         },
         "mode": "markers",
         "name": "South Africa",
         "orientation": "v",
         "showlegend": true,
         "type": "scatter",
         "x": [
          "Positive",
          "Positive",
          "Negative",
          "Negative",
          "Positive",
          "Positive"
         ],
         "xaxis": "x2",
         "y": [
          40,
          40,
          40,
          30,
          30,
          35
         ],
         "yaxis": "y2"
        },
        {
         "hovertemplate": "Country=Spain<br>Platform=Twitter<br>Sentiment=%{x}<br>Retweets=%{y}<extra></extra>",
         "legendgroup": "Spain",
         "marker": {
          "color": "#FFA15A",
          "symbol": "circle"
         },
         "mode": "markers",
         "name": "Spain",
         "orientation": "v",
         "showlegend": true,
         "type": "scatter",
         "x": [
          "Positive",
          "Positive",
          "Negative",
          "Negative",
          "Negative"
         ],
         "xaxis": "x",
         "y": [
          18,
          18,
          20,
          18,
          22
         ],
         "yaxis": "y"
        },
        {
         "hovertemplate": "Country=Spain<br>Platform=Instagram<br>Sentiment=%{x}<br>Retweets=%{y}<extra></extra>",
         "legendgroup": "Spain",
         "marker": {
          "color": "#FFA15A",
          "symbol": "circle"
         },
         "mode": "markers",
         "name": "Spain",
         "orientation": "v",
         "showlegend": false,
         "type": "scatter",
         "x": [
          "Neutral"
         ],
         "xaxis": "x2",
         "y": [
          30
         ],
         "yaxis": "y2"
        },
        {
         "hovertemplate": "Country=Portugal<br>Platform=Facebook<br>Sentiment=%{x}<br>Retweets=%{y}<extra></extra>",
         "legendgroup": "Portugal",
         "marker": {
          "color": "#19d3f3",
          "symbol": "circle"
         },
         "mode": "markers",
         "name": "Portugal",
         "orientation": "v",
         "showlegend": true,
         "type": "scatter",
         "x": [
          "Positive",
          "Positive"
         ],
         "xaxis": "x3",
         "y": [
          28,
          28
         ],
         "yaxis": "y3"
        },
        {
         "hovertemplate": "Country=Switzerland<br>Platform=Twitter<br>Sentiment=%{x}<br>Retweets=%{y}<extra></extra>",
         "legendgroup": "Switzerland",
         "marker": {
          "color": "#FF6692",
          "symbol": "circle"
         },
         "mode": "markers",
         "name": "Switzerland",
         "orientation": "v",
         "showlegend": true,
         "type": "scatter",
         "x": [
          "Positive"
         ],
         "xaxis": "x",
         "y": [
          22
         ],
         "yaxis": "y"
        },
        {
         "hovertemplate": "Country=Switzerland<br>Platform=Instagram<br>Sentiment=%{x}<br>Retweets=%{y}<extra></extra>",
         "legendgroup": "Switzerland",
         "marker": {
          "color": "#FF6692",
          "symbol": "circle"
         },
         "mode": "markers",
         "name": "Switzerland",
         "orientation": "v",
         "showlegend": false,
         "type": "scatter",
         "x": [
          "Positive",
          "Positive"
         ],
         "xaxis": "x2",
         "y": [
          30,
          30
         ],
         "yaxis": "y2"
        },
        {
         "hovertemplate": "Country=Austria<br>Platform=Facebook<br>Sentiment=%{x}<br>Retweets=%{y}<extra></extra>",
         "legendgroup": "Austria",
         "marker": {
          "color": "#B6E880",
          "symbol": "circle"
         },
         "mode": "markers",
         "name": "Austria",
         "orientation": "v",
         "showlegend": true,
         "type": "scatter",
         "x": [
          "Positive",
          "Positive"
         ],
         "xaxis": "x3",
         "y": [
          22,
          22
         ],
         "yaxis": "y3"
        },
        {
         "hovertemplate": "Country=Belgium<br>Platform=Twitter<br>Sentiment=%{x}<br>Retweets=%{y}<extra></extra>",
         "legendgroup": "Belgium",
         "marker": {
          "color": "#FF97FF",
          "symbol": "circle"
         },
         "mode": "markers",
         "name": "Belgium",
         "orientation": "v",
         "showlegend": true,
         "type": "scatter",
         "x": [
          "Positive",
          "Positive"
         ],
         "xaxis": "x",
         "y": [
          35,
          35
         ],
         "yaxis": "y"
        },
        {
         "hovertemplate": "Country=Denmark<br>Platform=Instagram<br>Sentiment=%{x}<br>Retweets=%{y}<extra></extra>",
         "legendgroup": "Denmark",
         "marker": {
          "color": "#FECB52",
          "symbol": "circle"
         },
         "mode": "markers",
         "name": "Denmark",
         "orientation": "v",
         "showlegend": true,
         "type": "scatter",
         "x": [
          "Positive",
          "Positive"
         ],
         "xaxis": "x2",
         "y": [
          20,
          20
         ],
         "yaxis": "y2"
        },
        {
         "hovertemplate": "Country=Czech Republic<br>Platform=Facebook<br>Sentiment=%{x}<br>Retweets=%{y}<extra></extra>",
         "legendgroup": "Czech Republic",
         "marker": {
          "color": "#636efa",
          "symbol": "circle"
         },
         "mode": "markers",
         "name": "Czech Republic",
         "orientation": "v",
         "showlegend": true,
         "type": "scatter",
         "x": [
          "Neutral",
          "Neutral"
         ],
         "xaxis": "x3",
         "y": [
          18,
          18
         ],
         "yaxis": "y3"
        },
        {
         "hovertemplate": "Country=Jordan<br>Platform=Twitter<br>Sentiment=%{x}<br>Retweets=%{y}<extra></extra>",
         "legendgroup": "Jordan",
         "marker": {
          "color": "#EF553B",
          "symbol": "circle"
         },
         "mode": "markers",
         "name": "Jordan",
         "orientation": "v",
         "showlegend": true,
         "type": "scatter",
         "x": [
          "Positive"
         ],
         "xaxis": "x",
         "y": [
          30
         ],
         "yaxis": "y"
        },
        {
         "hovertemplate": "Country=Peru<br>Platform=Facebook<br>Sentiment=%{x}<br>Retweets=%{y}<extra></extra>",
         "legendgroup": "Peru",
         "marker": {
          "color": "#00cc96",
          "symbol": "circle"
         },
         "mode": "markers",
         "name": "Peru",
         "orientation": "v",
         "showlegend": true,
         "type": "scatter",
         "x": [
          "Neutral"
         ],
         "xaxis": "x3",
         "y": [
          28
         ],
         "yaxis": "y3"
        },
        {
         "hovertemplate": "Country=Maldives<br>Platform=Facebook<br>Sentiment=%{x}<br>Retweets=%{y}<extra></extra>",
         "legendgroup": "Maldives",
         "marker": {
          "color": "#ab63fa",
          "symbol": "circle"
         },
         "mode": "markers",
         "name": "Maldives",
         "orientation": "v",
         "showlegend": true,
         "type": "scatter",
         "x": [
          "Positive"
         ],
         "xaxis": "x3",
         "y": [
          22
         ],
         "yaxis": "y3"
        },
        {
         "hovertemplate": "Country=China<br>Platform=Twitter<br>Sentiment=%{x}<br>Retweets=%{y}<extra></extra>",
         "legendgroup": "China",
         "marker": {
          "color": "#FFA15A",
          "symbol": "circle"
         },
         "mode": "markers",
         "name": "China",
         "orientation": "v",
         "showlegend": true,
         "type": "scatter",
         "x": [
          "Neutral"
         ],
         "xaxis": "x",
         "y": [
          18
         ],
         "yaxis": "y"
        },
        {
         "hovertemplate": "Country=Cambodia<br>Platform=Instagram<br>Sentiment=%{x}<br>Retweets=%{y}<extra></extra>",
         "legendgroup": "Cambodia",
         "marker": {
          "color": "#19d3f3",
          "symbol": "circle"
         },
         "mode": "markers",
         "name": "Cambodia",
         "orientation": "v",
         "showlegend": true,
         "type": "scatter",
         "x": [
          "Neutral"
         ],
         "xaxis": "x2",
         "y": [
          20
         ],
         "yaxis": "y2"
        },
        {
         "hovertemplate": "Country=Norway<br>Platform=Instagram<br>Sentiment=%{x}<br>Retweets=%{y}<extra></extra>",
         "legendgroup": "Norway",
         "marker": {
          "color": "#FF6692",
          "symbol": "circle"
         },
         "mode": "markers",
         "name": "Norway",
         "orientation": "v",
         "showlegend": true,
         "type": "scatter",
         "x": [
          "Positive"
         ],
         "xaxis": "x2",
         "y": [
          22
         ],
         "yaxis": "y2"
        },
        {
         "hovertemplate": "Country=Colombia<br>Platform=Facebook<br>Sentiment=%{x}<br>Retweets=%{y}<extra></extra>",
         "legendgroup": "Colombia",
         "marker": {
          "color": "#B6E880",
          "symbol": "circle"
         },
         "mode": "markers",
         "name": "Colombia",
         "orientation": "v",
         "showlegend": true,
         "type": "scatter",
         "x": [
          "Neutral"
         ],
         "xaxis": "x3",
         "y": [
          28
         ],
         "yaxis": "y3"
        },
        {
         "hovertemplate": "Country=Ireland<br>Platform=Instagram<br>Sentiment=%{x}<br>Retweets=%{y}<extra></extra>",
         "legendgroup": "Ireland",
         "marker": {
          "color": "#FF97FF",
          "symbol": "circle"
         },
         "mode": "markers",
         "name": "Ireland",
         "orientation": "v",
         "showlegend": true,
         "type": "scatter",
         "x": [
          "Neutral"
         ],
         "xaxis": "x2",
         "y": [
          25
         ],
         "yaxis": "y2"
        },
        {
         "hovertemplate": "Country=Jamaica<br>Platform=Instagram<br>Sentiment=%{x}<br>Retweets=%{y}<extra></extra>",
         "legendgroup": "Jamaica",
         "marker": {
          "color": "#FECB52",
          "symbol": "circle"
         },
         "mode": "markers",
         "name": "Jamaica",
         "orientation": "v",
         "showlegend": true,
         "type": "scatter",
         "x": [
          "Neutral"
         ],
         "xaxis": "x2",
         "y": [
          30
         ],
         "yaxis": "y2"
        },
        {
         "hovertemplate": "Country=Kenya<br>Platform=Instagram<br>Sentiment=%{x}<br>Retweets=%{y}<extra></extra>",
         "legendgroup": "Kenya",
         "marker": {
          "color": "#636efa",
          "symbol": "circle"
         },
         "mode": "markers",
         "name": "Kenya",
         "orientation": "v",
         "showlegend": true,
         "type": "scatter",
         "x": [
          "Positive"
         ],
         "xaxis": "x2",
         "y": [
          22
         ],
         "yaxis": "y2"
        },
        {
         "hovertemplate": "Country=Scotland<br>Platform=Instagram<br>Sentiment=%{x}<br>Retweets=%{y}<extra></extra>",
         "legendgroup": "Scotland",
         "marker": {
          "color": "#EF553B",
          "symbol": "circle"
         },
         "mode": "markers",
         "name": "Scotland",
         "orientation": "v",
         "showlegend": true,
         "type": "scatter",
         "x": [
          "Neutral"
         ],
         "xaxis": "x2",
         "y": [
          22
         ],
         "yaxis": "y2"
        },
        {
         "hovertemplate": "Country=Thailand<br>Platform=Instagram<br>Sentiment=%{x}<br>Retweets=%{y}<extra></extra>",
         "legendgroup": "Thailand",
         "marker": {
          "color": "#00cc96",
          "symbol": "circle"
         },
         "mode": "markers",
         "name": "Thailand",
         "orientation": "v",
         "showlegend": true,
         "type": "scatter",
         "x": [
          "Positive"
         ],
         "xaxis": "x2",
         "y": [
          35
         ],
         "yaxis": "y2"
        }
       ],
       "layout": {
        "annotations": [
         {
          "font": {},
          "showarrow": false,
          "text": "Platform=Twitter",
          "x": 0.15999999999999998,
          "xanchor": "center",
          "xref": "paper",
          "y": 1,
          "yanchor": "bottom",
          "yref": "paper"
         },
         {
          "font": {},
          "showarrow": false,
          "text": "Platform=Instagram",
          "x": 0.49999999999999994,
          "xanchor": "center",
          "xref": "paper",
          "y": 1,
          "yanchor": "bottom",
          "yref": "paper"
         },
         {
          "font": {},
          "showarrow": false,
          "text": "Platform=Facebook",
          "x": 0.8399999999999999,
          "xanchor": "center",
          "xref": "paper",
          "y": 1,
          "yanchor": "bottom",
          "yref": "paper"
         }
        ],
        "legend": {
         "title": {
          "text": "Country"
         },
         "tracegroupgap": 0
        },
        "margin": {
         "t": 60
        },
        "template": {
         "data": {
          "bar": [
           {
            "error_x": {
             "color": "#2a3f5f"
            },
            "error_y": {
             "color": "#2a3f5f"
            },
            "marker": {
             "line": {
              "color": "#E5ECF6",
              "width": 0.5
             },
             "pattern": {
              "fillmode": "overlay",
              "size": 10,
              "solidity": 0.2
             }
            },
            "type": "bar"
           }
          ],
          "barpolar": [
           {
            "marker": {
             "line": {
              "color": "#E5ECF6",
              "width": 0.5
             },
             "pattern": {
              "fillmode": "overlay",
              "size": 10,
              "solidity": 0.2
             }
            },
            "type": "barpolar"
           }
          ],
          "carpet": [
           {
            "aaxis": {
             "endlinecolor": "#2a3f5f",
             "gridcolor": "white",
             "linecolor": "white",
             "minorgridcolor": "white",
             "startlinecolor": "#2a3f5f"
            },
            "baxis": {
             "endlinecolor": "#2a3f5f",
             "gridcolor": "white",
             "linecolor": "white",
             "minorgridcolor": "white",
             "startlinecolor": "#2a3f5f"
            },
            "type": "carpet"
           }
          ],
          "choropleth": [
           {
            "colorbar": {
             "outlinewidth": 0,
             "ticks": ""
            },
            "type": "choropleth"
           }
          ],
          "contour": [
           {
            "colorbar": {
             "outlinewidth": 0,
             "ticks": ""
            },
            "colorscale": [
             [
              0,
              "#0d0887"
             ],
             [
              0.1111111111111111,
              "#46039f"
             ],
             [
              0.2222222222222222,
              "#7201a8"
             ],
             [
              0.3333333333333333,
              "#9c179e"
             ],
             [
              0.4444444444444444,
              "#bd3786"
             ],
             [
              0.5555555555555556,
              "#d8576b"
             ],
             [
              0.6666666666666666,
              "#ed7953"
             ],
             [
              0.7777777777777778,
              "#fb9f3a"
             ],
             [
              0.8888888888888888,
              "#fdca26"
             ],
             [
              1,
              "#f0f921"
             ]
            ],
            "type": "contour"
           }
          ],
          "contourcarpet": [
           {
            "colorbar": {
             "outlinewidth": 0,
             "ticks": ""
            },
            "type": "contourcarpet"
           }
          ],
          "heatmap": [
           {
            "colorbar": {
             "outlinewidth": 0,
             "ticks": ""
            },
            "colorscale": [
             [
              0,
              "#0d0887"
             ],
             [
              0.1111111111111111,
              "#46039f"
             ],
             [
              0.2222222222222222,
              "#7201a8"
             ],
             [
              0.3333333333333333,
              "#9c179e"
             ],
             [
              0.4444444444444444,
              "#bd3786"
             ],
             [
              0.5555555555555556,
              "#d8576b"
             ],
             [
              0.6666666666666666,
              "#ed7953"
             ],
             [
              0.7777777777777778,
              "#fb9f3a"
             ],
             [
              0.8888888888888888,
              "#fdca26"
             ],
             [
              1,
              "#f0f921"
             ]
            ],
            "type": "heatmap"
           }
          ],
          "heatmapgl": [
           {
            "colorbar": {
             "outlinewidth": 0,
             "ticks": ""
            },
            "colorscale": [
             [
              0,
              "#0d0887"
             ],
             [
              0.1111111111111111,
              "#46039f"
             ],
             [
              0.2222222222222222,
              "#7201a8"
             ],
             [
              0.3333333333333333,
              "#9c179e"
             ],
             [
              0.4444444444444444,
              "#bd3786"
             ],
             [
              0.5555555555555556,
              "#d8576b"
             ],
             [
              0.6666666666666666,
              "#ed7953"
             ],
             [
              0.7777777777777778,
              "#fb9f3a"
             ],
             [
              0.8888888888888888,
              "#fdca26"
             ],
             [
              1,
              "#f0f921"
             ]
            ],
            "type": "heatmapgl"
           }
          ],
          "histogram": [
           {
            "marker": {
             "pattern": {
              "fillmode": "overlay",
              "size": 10,
              "solidity": 0.2
             }
            },
            "type": "histogram"
           }
          ],
          "histogram2d": [
           {
            "colorbar": {
             "outlinewidth": 0,
             "ticks": ""
            },
            "colorscale": [
             [
              0,
              "#0d0887"
             ],
             [
              0.1111111111111111,
              "#46039f"
             ],
             [
              0.2222222222222222,
              "#7201a8"
             ],
             [
              0.3333333333333333,
              "#9c179e"
             ],
             [
              0.4444444444444444,
              "#bd3786"
             ],
             [
              0.5555555555555556,
              "#d8576b"
             ],
             [
              0.6666666666666666,
              "#ed7953"
             ],
             [
              0.7777777777777778,
              "#fb9f3a"
             ],
             [
              0.8888888888888888,
              "#fdca26"
             ],
             [
              1,
              "#f0f921"
             ]
            ],
            "type": "histogram2d"
           }
          ],
          "histogram2dcontour": [
           {
            "colorbar": {
             "outlinewidth": 0,
             "ticks": ""
            },
            "colorscale": [
             [
              0,
              "#0d0887"
             ],
             [
              0.1111111111111111,
              "#46039f"
             ],
             [
              0.2222222222222222,
              "#7201a8"
             ],
             [
              0.3333333333333333,
              "#9c179e"
             ],
             [
              0.4444444444444444,
              "#bd3786"
             ],
             [
              0.5555555555555556,
              "#d8576b"
             ],
             [
              0.6666666666666666,
              "#ed7953"
             ],
             [
              0.7777777777777778,
              "#fb9f3a"
             ],
             [
              0.8888888888888888,
              "#fdca26"
             ],
             [
              1,
              "#f0f921"
             ]
            ],
            "type": "histogram2dcontour"
           }
          ],
          "mesh3d": [
           {
            "colorbar": {
             "outlinewidth": 0,
             "ticks": ""
            },
            "type": "mesh3d"
           }
          ],
          "parcoords": [
           {
            "line": {
             "colorbar": {
              "outlinewidth": 0,
              "ticks": ""
             }
            },
            "type": "parcoords"
           }
          ],
          "pie": [
           {
            "automargin": true,
            "type": "pie"
           }
          ],
          "scatter": [
           {
            "fillpattern": {
             "fillmode": "overlay",
             "size": 10,
             "solidity": 0.2
            },
            "type": "scatter"
           }
          ],
          "scatter3d": [
           {
            "line": {
             "colorbar": {
              "outlinewidth": 0,
              "ticks": ""
             }
            },
            "marker": {
             "colorbar": {
              "outlinewidth": 0,
              "ticks": ""
             }
            },
            "type": "scatter3d"
           }
          ],
          "scattercarpet": [
           {
            "marker": {
             "colorbar": {
              "outlinewidth": 0,
              "ticks": ""
             }
            },
            "type": "scattercarpet"
           }
          ],
          "scattergeo": [
           {
            "marker": {
             "colorbar": {
              "outlinewidth": 0,
              "ticks": ""
             }
            },
            "type": "scattergeo"
           }
          ],
          "scattergl": [
           {
            "marker": {
             "colorbar": {
              "outlinewidth": 0,
              "ticks": ""
             }
            },
            "type": "scattergl"
           }
          ],
          "scattermapbox": [
           {
            "marker": {
             "colorbar": {
              "outlinewidth": 0,
              "ticks": ""
             }
            },
            "type": "scattermapbox"
           }
          ],
          "scatterpolar": [
           {
            "marker": {
             "colorbar": {
              "outlinewidth": 0,
              "ticks": ""
             }
            },
            "type": "scatterpolar"
           }
          ],
          "scatterpolargl": [
           {
            "marker": {
             "colorbar": {
              "outlinewidth": 0,
              "ticks": ""
             }
            },
            "type": "scatterpolargl"
           }
          ],
          "scatterternary": [
           {
            "marker": {
             "colorbar": {
              "outlinewidth": 0,
              "ticks": ""
             }
            },
            "type": "scatterternary"
           }
          ],
          "surface": [
           {
            "colorbar": {
             "outlinewidth": 0,
             "ticks": ""
            },
            "colorscale": [
             [
              0,
              "#0d0887"
             ],
             [
              0.1111111111111111,
              "#46039f"
             ],
             [
              0.2222222222222222,
              "#7201a8"
             ],
             [
              0.3333333333333333,
              "#9c179e"
             ],
             [
              0.4444444444444444,
              "#bd3786"
             ],
             [
              0.5555555555555556,
              "#d8576b"
             ],
             [
              0.6666666666666666,
              "#ed7953"
             ],
             [
              0.7777777777777778,
              "#fb9f3a"
             ],
             [
              0.8888888888888888,
              "#fdca26"
             ],
             [
              1,
              "#f0f921"
             ]
            ],
            "type": "surface"
           }
          ],
          "table": [
           {
            "cells": {
             "fill": {
              "color": "#EBF0F8"
             },
             "line": {
              "color": "white"
             }
            },
            "header": {
             "fill": {
              "color": "#C8D4E3"
             },
             "line": {
              "color": "white"
             }
            },
            "type": "table"
           }
          ]
         },
         "layout": {
          "annotationdefaults": {
           "arrowcolor": "#2a3f5f",
           "arrowhead": 0,
           "arrowwidth": 1
          },
          "autotypenumbers": "strict",
          "coloraxis": {
           "colorbar": {
            "outlinewidth": 0,
            "ticks": ""
           }
          },
          "colorscale": {
           "diverging": [
            [
             0,
             "#8e0152"
            ],
            [
             0.1,
             "#c51b7d"
            ],
            [
             0.2,
             "#de77ae"
            ],
            [
             0.3,
             "#f1b6da"
            ],
            [
             0.4,
             "#fde0ef"
            ],
            [
             0.5,
             "#f7f7f7"
            ],
            [
             0.6,
             "#e6f5d0"
            ],
            [
             0.7,
             "#b8e186"
            ],
            [
             0.8,
             "#7fbc41"
            ],
            [
             0.9,
             "#4d9221"
            ],
            [
             1,
             "#276419"
            ]
           ],
           "sequential": [
            [
             0,
             "#0d0887"
            ],
            [
             0.1111111111111111,
             "#46039f"
            ],
            [
             0.2222222222222222,
             "#7201a8"
            ],
            [
             0.3333333333333333,
             "#9c179e"
            ],
            [
             0.4444444444444444,
             "#bd3786"
            ],
            [
             0.5555555555555556,
             "#d8576b"
            ],
            [
             0.6666666666666666,
             "#ed7953"
            ],
            [
             0.7777777777777778,
             "#fb9f3a"
            ],
            [
             0.8888888888888888,
             "#fdca26"
            ],
            [
             1,
             "#f0f921"
            ]
           ],
           "sequentialminus": [
            [
             0,
             "#0d0887"
            ],
            [
             0.1111111111111111,
             "#46039f"
            ],
            [
             0.2222222222222222,
             "#7201a8"
            ],
            [
             0.3333333333333333,
             "#9c179e"
            ],
            [
             0.4444444444444444,
             "#bd3786"
            ],
            [
             0.5555555555555556,
             "#d8576b"
            ],
            [
             0.6666666666666666,
             "#ed7953"
            ],
            [
             0.7777777777777778,
             "#fb9f3a"
            ],
            [
             0.8888888888888888,
             "#fdca26"
            ],
            [
             1,
             "#f0f921"
            ]
           ]
          },
          "colorway": [
           "#636efa",
           "#EF553B",
           "#00cc96",
           "#ab63fa",
           "#FFA15A",
           "#19d3f3",
           "#FF6692",
           "#B6E880",
           "#FF97FF",
           "#FECB52"
          ],
          "font": {
           "color": "#2a3f5f"
          },
          "geo": {
           "bgcolor": "white",
           "lakecolor": "white",
           "landcolor": "#E5ECF6",
           "showlakes": true,
           "showland": true,
           "subunitcolor": "white"
          },
          "hoverlabel": {
           "align": "left"
          },
          "hovermode": "closest",
          "mapbox": {
           "style": "light"
          },
          "paper_bgcolor": "white",
          "plot_bgcolor": "#E5ECF6",
          "polar": {
           "angularaxis": {
            "gridcolor": "white",
            "linecolor": "white",
            "ticks": ""
           },
           "bgcolor": "#E5ECF6",
           "radialaxis": {
            "gridcolor": "white",
            "linecolor": "white",
            "ticks": ""
           }
          },
          "scene": {
           "xaxis": {
            "backgroundcolor": "#E5ECF6",
            "gridcolor": "white",
            "gridwidth": 2,
            "linecolor": "white",
            "showbackground": true,
            "ticks": "",
            "zerolinecolor": "white"
           },
           "yaxis": {
            "backgroundcolor": "#E5ECF6",
            "gridcolor": "white",
            "gridwidth": 2,
            "linecolor": "white",
            "showbackground": true,
            "ticks": "",
            "zerolinecolor": "white"
           },
           "zaxis": {
            "backgroundcolor": "#E5ECF6",
            "gridcolor": "white",
            "gridwidth": 2,
            "linecolor": "white",
            "showbackground": true,
            "ticks": "",
            "zerolinecolor": "white"
           }
          },
          "shapedefaults": {
           "line": {
            "color": "#2a3f5f"
           }
          },
          "ternary": {
           "aaxis": {
            "gridcolor": "white",
            "linecolor": "white",
            "ticks": ""
           },
           "baxis": {
            "gridcolor": "white",
            "linecolor": "white",
            "ticks": ""
           },
           "bgcolor": "#E5ECF6",
           "caxis": {
            "gridcolor": "white",
            "linecolor": "white",
            "ticks": ""
           }
          },
          "title": {
           "x": 0.05
          },
          "xaxis": {
           "automargin": true,
           "gridcolor": "white",
           "linecolor": "white",
           "ticks": "",
           "title": {
            "standoff": 15
           },
           "zerolinecolor": "white",
           "zerolinewidth": 2
          },
          "yaxis": {
           "automargin": true,
           "gridcolor": "white",
           "linecolor": "white",
           "ticks": "",
           "title": {
            "standoff": 15
           },
           "zerolinecolor": "white",
           "zerolinewidth": 2
          }
         }
        },
        "xaxis": {
         "anchor": "y",
         "domain": [
          0,
          0.31999999999999995
         ],
         "title": {
          "text": "Sentiment"
         }
        },
        "xaxis2": {
         "anchor": "y2",
         "domain": [
          0.33999999999999997,
          0.6599999999999999
         ],
         "matches": "x",
         "title": {
          "text": "Sentiment"
         }
        },
        "xaxis3": {
         "anchor": "y3",
         "domain": [
          0.6799999999999999,
          0.9999999999999999
         ],
         "matches": "x",
         "title": {
          "text": "Sentiment"
         }
        },
        "yaxis": {
         "anchor": "x",
         "domain": [
          0,
          1
         ],
         "title": {
          "text": "Retweets"
         }
        },
        "yaxis2": {
         "anchor": "x2",
         "domain": [
          0,
          1
         ],
         "matches": "y",
         "showticklabels": false
        },
        "yaxis3": {
         "anchor": "x3",
         "domain": [
          0,
          1
         ],
         "matches": "y",
         "showticklabels": false
        }
       }
      }
     },
     "metadata": {},
     "output_type": "display_data"
    }
   ],
   "source": [
    "import plotly.express as px\n",
    "df = pd.read_csv(\"C:\\\\Users\\\\sherr\\\\OneDrive\\\\Desktop\\\\Data Visualization\\\\resources\\\\sentimentdataset.csv\")\n",
    "df.Country = df.Country.str.strip()\n",
    "df.Platform = df.Platform.str.strip()\n",
    "df['Sentiment'] = df['Sentiment'].apply(remove_spaces)\n",
    "df[\"Sentiment\"]=df[\"Sentiment\"].replace(changes)\n",
    "fig = px.scatter(df, x=\"Sentiment\", y=\"Retweets\", color=\"Country\",facet_col=\"Platform\")\n",
    "fig.show()"
   ]
  },
  {
   "cell_type": "code",
   "execution_count": 42,
   "metadata": {},
   "outputs": [
    {
     "data": {
      "application/vnd.plotly.v1+json": {
       "config": {
        "plotlyServerURL": "https://plot.ly"
       },
       "data": [
        {
         "hovertemplate": "Country=USA<br>Platform=Twitter<br>Sentiment=%{x}<br>Retweets=%{y}<extra></extra>",
         "legendgroup": "USA",
         "marker": {
          "color": "#636efa",
          "symbol": "circle"
         },
         "mode": "markers",
         "name": "USA",
         "orientation": "v",
         "showlegend": true,
         "type": "scatter",
         "x": [
          "Positive",
          "Negative",
          "Positive",
          "Positive",
          "Positive",
          "Positive",
          "Positive",
          "Positive",
          "Positive",
          "Negative",
          "Negative",
          "Negative",
          "Neutral",
          "Positive",
          "Neutral",
          "Positive",
          "Positive",
          "Positive",
          "Positive",
          "Negative",
          "Negative",
          "Negative",
          "Positive",
          "Positive",
          "Negative",
          "Positive",
          "Neutral",
          "Positive",
          "Positive",
          "Positive",
          "Positive",
          "Positive",
          "Positive",
          "Positive",
          "Positive",
          "Positive",
          "Negative",
          "Positive",
          "Positive",
          "Positive",
          "Neutral",
          "Positive",
          "Positive",
          "Negative",
          "Negative",
          "Positive",
          "Negative",
          "Negative",
          "Negative",
          "Negative",
          "Negative",
          "Negative",
          "Negative",
          "Negative",
          "Positive",
          "Positive"
         ],
         "xaxis": "x",
         "y": [
          15,
          30,
          22,
          25,
          20,
          20,
          20,
          20,
          20,
          5,
          12,
          12,
          15,
          18,
          12,
          15,
          23,
          23,
          23,
          15,
          20,
          20,
          25,
          35,
          20,
          35,
          35,
          22,
          35,
          18,
          22,
          40,
          35,
          35,
          40,
          15,
          20,
          20,
          25,
          22,
          20,
          20,
          20,
          28,
          18,
          18,
          16,
          15,
          17,
          22,
          18,
          25,
          16,
          24,
          24,
          26
         ],
         "yaxis": "y"
        },
        {
         "hovertemplate": "Country=USA<br>Platform=Instagram<br>Sentiment=%{x}<br>Retweets=%{y}<extra></extra>",
         "legendgroup": "USA",
         "marker": {
          "color": "#636efa",
          "symbol": "circle"
         },
         "mode": "markers",
         "name": "USA",
         "orientation": "v",
         "showlegend": false,
         "type": "scatter",
         "x": [
          "Positive",
          "Positive",
          "Positive",
          "Positive",
          "Negative",
          "Positive",
          "Positive",
          "Positive",
          "Positive",
          "Positive",
          "Positive",
          "Negative",
          "Positive",
          "Positive",
          "Positive",
          "Neutral",
          "Negative",
          "Positive",
          "Positive",
          "Positive",
          "Negative",
          "Positive",
          "Positive",
          "Positive",
          "Positive",
          "Positive",
          "Neutral",
          "Negative",
          "Neutral",
          "Neutral",
          "Positive",
          "Neutral",
          "Positive",
          "Positive",
          "Negative",
          "Neutral",
          "Positive",
          "Positive",
          "Neutral",
          "Positive",
          "Positive",
          "Positive",
          "Positive",
          "Negative",
          "Positive",
          "Neutral",
          "Neutral",
          "Positive",
          "Neutral",
          "Positive",
          "Positive",
          "Negative",
          "Positive",
          "Neutral",
          "Neutral",
          "Positive",
          "Positive",
          "Positive",
          "Positive",
          "Neutral",
          "Positive",
          "Positive",
          "Positive",
          "Negative",
          "Positive",
          "Positive",
          "Positive",
          "Neutral",
          "Neutral",
          "Positive",
          "Positive",
          "Positive"
         ],
         "xaxis": "x2",
         "y": [
          20,
          15,
          22,
          28,
          8,
          30,
          25,
          18,
          30,
          20,
          18,
          15,
          30,
          15,
          25,
          20,
          15,
          15,
          25,
          18,
          30,
          15,
          15,
          25,
          30,
          15,
          18,
          10,
          20,
          13,
          25,
          17,
          25,
          25,
          18,
          28,
          25,
          35,
          35,
          15,
          40,
          20,
          20,
          15,
          40,
          30,
          25,
          35,
          40,
          25,
          22,
          35,
          22,
          35,
          25,
          35,
          20,
          25,
          30,
          35,
          30,
          20,
          22,
          30,
          15,
          19,
          20,
          23,
          21,
          23,
          25,
          24
         ],
         "yaxis": "y2"
        },
        {
         "hovertemplate": "Country=USA<br>Platform=Facebook<br>Sentiment=%{x}<br>Retweets=%{y}<extra></extra>",
         "legendgroup": "USA",
         "marker": {
          "color": "#636efa",
          "symbol": "circle"
         },
         "mode": "markers",
         "name": "USA",
         "orientation": "v",
         "showlegend": false,
         "type": "scatter",
         "x": [
          "Positive",
          "Neutral",
          "Positive",
          "Positive",
          "Positive",
          "Negative",
          "Positive",
          "Negative",
          "Positive",
          "Positive",
          "Positive",
          "Positive",
          "Positive",
          "Positive",
          "Positive",
          "Negative",
          "Negative",
          "Neutral",
          "Neutral",
          "Positive",
          "Positive",
          "Positive",
          "Positive",
          "Positive",
          "Positive",
          "Negative",
          "Negative",
          "Negative",
          "Negative",
          "Negative",
          "Positive",
          "Negative",
          "Negative",
          "Negative",
          "Neutral",
          "Positive",
          "Positive",
          "Positive",
          "Positive",
          "Positive",
          "Neutral",
          "Positive",
          "Neutral",
          "Positive",
          "Neutral",
          "Neutral",
          "Positive",
          "Positive",
          "Positive",
          "Positive",
          "Positive",
          "Positive",
          "Positive",
          "Positive",
          "Negative",
          "Positive",
          "Negative",
          "Neutral",
          "Neutral",
          "Neutral"
         ],
         "xaxis": "x3",
         "y": [
          20,
          25,
          15,
          30,
          15,
          18,
          25,
          18,
          22,
          22,
          15,
          18,
          25,
          15,
          18,
          10,
          8,
          10,
          10,
          25,
          20,
          20,
          12,
          16,
          16,
          16,
          20,
          20,
          22,
          25,
          35,
          28,
          18,
          25,
          30,
          28,
          35,
          35,
          18,
          18,
          18,
          18,
          20,
          18,
          20,
          25,
          35,
          25,
          20,
          25,
          25,
          28,
          20,
          25,
          25,
          20,
          17,
          24,
          19,
          18
         ],
         "yaxis": "y3"
        }
       ],
       "layout": {
        "annotations": [
         {
          "font": {},
          "showarrow": false,
          "text": "Platform=Twitter",
          "x": 0.15999999999999998,
          "xanchor": "center",
          "xref": "paper",
          "y": 1,
          "yanchor": "bottom",
          "yref": "paper"
         },
         {
          "font": {},
          "showarrow": false,
          "text": "Platform=Instagram",
          "x": 0.49999999999999994,
          "xanchor": "center",
          "xref": "paper",
          "y": 1,
          "yanchor": "bottom",
          "yref": "paper"
         },
         {
          "font": {},
          "showarrow": false,
          "text": "Platform=Facebook",
          "x": 0.8399999999999999,
          "xanchor": "center",
          "xref": "paper",
          "y": 1,
          "yanchor": "bottom",
          "yref": "paper"
         }
        ],
        "legend": {
         "title": {
          "text": "Country"
         },
         "tracegroupgap": 0
        },
        "margin": {
         "t": 60
        },
        "template": {
         "data": {
          "bar": [
           {
            "error_x": {
             "color": "#2a3f5f"
            },
            "error_y": {
             "color": "#2a3f5f"
            },
            "marker": {
             "line": {
              "color": "#E5ECF6",
              "width": 0.5
             },
             "pattern": {
              "fillmode": "overlay",
              "size": 10,
              "solidity": 0.2
             }
            },
            "type": "bar"
           }
          ],
          "barpolar": [
           {
            "marker": {
             "line": {
              "color": "#E5ECF6",
              "width": 0.5
             },
             "pattern": {
              "fillmode": "overlay",
              "size": 10,
              "solidity": 0.2
             }
            },
            "type": "barpolar"
           }
          ],
          "carpet": [
           {
            "aaxis": {
             "endlinecolor": "#2a3f5f",
             "gridcolor": "white",
             "linecolor": "white",
             "minorgridcolor": "white",
             "startlinecolor": "#2a3f5f"
            },
            "baxis": {
             "endlinecolor": "#2a3f5f",
             "gridcolor": "white",
             "linecolor": "white",
             "minorgridcolor": "white",
             "startlinecolor": "#2a3f5f"
            },
            "type": "carpet"
           }
          ],
          "choropleth": [
           {
            "colorbar": {
             "outlinewidth": 0,
             "ticks": ""
            },
            "type": "choropleth"
           }
          ],
          "contour": [
           {
            "colorbar": {
             "outlinewidth": 0,
             "ticks": ""
            },
            "colorscale": [
             [
              0,
              "#0d0887"
             ],
             [
              0.1111111111111111,
              "#46039f"
             ],
             [
              0.2222222222222222,
              "#7201a8"
             ],
             [
              0.3333333333333333,
              "#9c179e"
             ],
             [
              0.4444444444444444,
              "#bd3786"
             ],
             [
              0.5555555555555556,
              "#d8576b"
             ],
             [
              0.6666666666666666,
              "#ed7953"
             ],
             [
              0.7777777777777778,
              "#fb9f3a"
             ],
             [
              0.8888888888888888,
              "#fdca26"
             ],
             [
              1,
              "#f0f921"
             ]
            ],
            "type": "contour"
           }
          ],
          "contourcarpet": [
           {
            "colorbar": {
             "outlinewidth": 0,
             "ticks": ""
            },
            "type": "contourcarpet"
           }
          ],
          "heatmap": [
           {
            "colorbar": {
             "outlinewidth": 0,
             "ticks": ""
            },
            "colorscale": [
             [
              0,
              "#0d0887"
             ],
             [
              0.1111111111111111,
              "#46039f"
             ],
             [
              0.2222222222222222,
              "#7201a8"
             ],
             [
              0.3333333333333333,
              "#9c179e"
             ],
             [
              0.4444444444444444,
              "#bd3786"
             ],
             [
              0.5555555555555556,
              "#d8576b"
             ],
             [
              0.6666666666666666,
              "#ed7953"
             ],
             [
              0.7777777777777778,
              "#fb9f3a"
             ],
             [
              0.8888888888888888,
              "#fdca26"
             ],
             [
              1,
              "#f0f921"
             ]
            ],
            "type": "heatmap"
           }
          ],
          "heatmapgl": [
           {
            "colorbar": {
             "outlinewidth": 0,
             "ticks": ""
            },
            "colorscale": [
             [
              0,
              "#0d0887"
             ],
             [
              0.1111111111111111,
              "#46039f"
             ],
             [
              0.2222222222222222,
              "#7201a8"
             ],
             [
              0.3333333333333333,
              "#9c179e"
             ],
             [
              0.4444444444444444,
              "#bd3786"
             ],
             [
              0.5555555555555556,
              "#d8576b"
             ],
             [
              0.6666666666666666,
              "#ed7953"
             ],
             [
              0.7777777777777778,
              "#fb9f3a"
             ],
             [
              0.8888888888888888,
              "#fdca26"
             ],
             [
              1,
              "#f0f921"
             ]
            ],
            "type": "heatmapgl"
           }
          ],
          "histogram": [
           {
            "marker": {
             "pattern": {
              "fillmode": "overlay",
              "size": 10,
              "solidity": 0.2
             }
            },
            "type": "histogram"
           }
          ],
          "histogram2d": [
           {
            "colorbar": {
             "outlinewidth": 0,
             "ticks": ""
            },
            "colorscale": [
             [
              0,
              "#0d0887"
             ],
             [
              0.1111111111111111,
              "#46039f"
             ],
             [
              0.2222222222222222,
              "#7201a8"
             ],
             [
              0.3333333333333333,
              "#9c179e"
             ],
             [
              0.4444444444444444,
              "#bd3786"
             ],
             [
              0.5555555555555556,
              "#d8576b"
             ],
             [
              0.6666666666666666,
              "#ed7953"
             ],
             [
              0.7777777777777778,
              "#fb9f3a"
             ],
             [
              0.8888888888888888,
              "#fdca26"
             ],
             [
              1,
              "#f0f921"
             ]
            ],
            "type": "histogram2d"
           }
          ],
          "histogram2dcontour": [
           {
            "colorbar": {
             "outlinewidth": 0,
             "ticks": ""
            },
            "colorscale": [
             [
              0,
              "#0d0887"
             ],
             [
              0.1111111111111111,
              "#46039f"
             ],
             [
              0.2222222222222222,
              "#7201a8"
             ],
             [
              0.3333333333333333,
              "#9c179e"
             ],
             [
              0.4444444444444444,
              "#bd3786"
             ],
             [
              0.5555555555555556,
              "#d8576b"
             ],
             [
              0.6666666666666666,
              "#ed7953"
             ],
             [
              0.7777777777777778,
              "#fb9f3a"
             ],
             [
              0.8888888888888888,
              "#fdca26"
             ],
             [
              1,
              "#f0f921"
             ]
            ],
            "type": "histogram2dcontour"
           }
          ],
          "mesh3d": [
           {
            "colorbar": {
             "outlinewidth": 0,
             "ticks": ""
            },
            "type": "mesh3d"
           }
          ],
          "parcoords": [
           {
            "line": {
             "colorbar": {
              "outlinewidth": 0,
              "ticks": ""
             }
            },
            "type": "parcoords"
           }
          ],
          "pie": [
           {
            "automargin": true,
            "type": "pie"
           }
          ],
          "scatter": [
           {
            "fillpattern": {
             "fillmode": "overlay",
             "size": 10,
             "solidity": 0.2
            },
            "type": "scatter"
           }
          ],
          "scatter3d": [
           {
            "line": {
             "colorbar": {
              "outlinewidth": 0,
              "ticks": ""
             }
            },
            "marker": {
             "colorbar": {
              "outlinewidth": 0,
              "ticks": ""
             }
            },
            "type": "scatter3d"
           }
          ],
          "scattercarpet": [
           {
            "marker": {
             "colorbar": {
              "outlinewidth": 0,
              "ticks": ""
             }
            },
            "type": "scattercarpet"
           }
          ],
          "scattergeo": [
           {
            "marker": {
             "colorbar": {
              "outlinewidth": 0,
              "ticks": ""
             }
            },
            "type": "scattergeo"
           }
          ],
          "scattergl": [
           {
            "marker": {
             "colorbar": {
              "outlinewidth": 0,
              "ticks": ""
             }
            },
            "type": "scattergl"
           }
          ],
          "scattermapbox": [
           {
            "marker": {
             "colorbar": {
              "outlinewidth": 0,
              "ticks": ""
             }
            },
            "type": "scattermapbox"
           }
          ],
          "scatterpolar": [
           {
            "marker": {
             "colorbar": {
              "outlinewidth": 0,
              "ticks": ""
             }
            },
            "type": "scatterpolar"
           }
          ],
          "scatterpolargl": [
           {
            "marker": {
             "colorbar": {
              "outlinewidth": 0,
              "ticks": ""
             }
            },
            "type": "scatterpolargl"
           }
          ],
          "scatterternary": [
           {
            "marker": {
             "colorbar": {
              "outlinewidth": 0,
              "ticks": ""
             }
            },
            "type": "scatterternary"
           }
          ],
          "surface": [
           {
            "colorbar": {
             "outlinewidth": 0,
             "ticks": ""
            },
            "colorscale": [
             [
              0,
              "#0d0887"
             ],
             [
              0.1111111111111111,
              "#46039f"
             ],
             [
              0.2222222222222222,
              "#7201a8"
             ],
             [
              0.3333333333333333,
              "#9c179e"
             ],
             [
              0.4444444444444444,
              "#bd3786"
             ],
             [
              0.5555555555555556,
              "#d8576b"
             ],
             [
              0.6666666666666666,
              "#ed7953"
             ],
             [
              0.7777777777777778,
              "#fb9f3a"
             ],
             [
              0.8888888888888888,
              "#fdca26"
             ],
             [
              1,
              "#f0f921"
             ]
            ],
            "type": "surface"
           }
          ],
          "table": [
           {
            "cells": {
             "fill": {
              "color": "#EBF0F8"
             },
             "line": {
              "color": "white"
             }
            },
            "header": {
             "fill": {
              "color": "#C8D4E3"
             },
             "line": {
              "color": "white"
             }
            },
            "type": "table"
           }
          ]
         },
         "layout": {
          "annotationdefaults": {
           "arrowcolor": "#2a3f5f",
           "arrowhead": 0,
           "arrowwidth": 1
          },
          "autotypenumbers": "strict",
          "coloraxis": {
           "colorbar": {
            "outlinewidth": 0,
            "ticks": ""
           }
          },
          "colorscale": {
           "diverging": [
            [
             0,
             "#8e0152"
            ],
            [
             0.1,
             "#c51b7d"
            ],
            [
             0.2,
             "#de77ae"
            ],
            [
             0.3,
             "#f1b6da"
            ],
            [
             0.4,
             "#fde0ef"
            ],
            [
             0.5,
             "#f7f7f7"
            ],
            [
             0.6,
             "#e6f5d0"
            ],
            [
             0.7,
             "#b8e186"
            ],
            [
             0.8,
             "#7fbc41"
            ],
            [
             0.9,
             "#4d9221"
            ],
            [
             1,
             "#276419"
            ]
           ],
           "sequential": [
            [
             0,
             "#0d0887"
            ],
            [
             0.1111111111111111,
             "#46039f"
            ],
            [
             0.2222222222222222,
             "#7201a8"
            ],
            [
             0.3333333333333333,
             "#9c179e"
            ],
            [
             0.4444444444444444,
             "#bd3786"
            ],
            [
             0.5555555555555556,
             "#d8576b"
            ],
            [
             0.6666666666666666,
             "#ed7953"
            ],
            [
             0.7777777777777778,
             "#fb9f3a"
            ],
            [
             0.8888888888888888,
             "#fdca26"
            ],
            [
             1,
             "#f0f921"
            ]
           ],
           "sequentialminus": [
            [
             0,
             "#0d0887"
            ],
            [
             0.1111111111111111,
             "#46039f"
            ],
            [
             0.2222222222222222,
             "#7201a8"
            ],
            [
             0.3333333333333333,
             "#9c179e"
            ],
            [
             0.4444444444444444,
             "#bd3786"
            ],
            [
             0.5555555555555556,
             "#d8576b"
            ],
            [
             0.6666666666666666,
             "#ed7953"
            ],
            [
             0.7777777777777778,
             "#fb9f3a"
            ],
            [
             0.8888888888888888,
             "#fdca26"
            ],
            [
             1,
             "#f0f921"
            ]
           ]
          },
          "colorway": [
           "#636efa",
           "#EF553B",
           "#00cc96",
           "#ab63fa",
           "#FFA15A",
           "#19d3f3",
           "#FF6692",
           "#B6E880",
           "#FF97FF",
           "#FECB52"
          ],
          "font": {
           "color": "#2a3f5f"
          },
          "geo": {
           "bgcolor": "white",
           "lakecolor": "white",
           "landcolor": "#E5ECF6",
           "showlakes": true,
           "showland": true,
           "subunitcolor": "white"
          },
          "hoverlabel": {
           "align": "left"
          },
          "hovermode": "closest",
          "mapbox": {
           "style": "light"
          },
          "paper_bgcolor": "white",
          "plot_bgcolor": "#E5ECF6",
          "polar": {
           "angularaxis": {
            "gridcolor": "white",
            "linecolor": "white",
            "ticks": ""
           },
           "bgcolor": "#E5ECF6",
           "radialaxis": {
            "gridcolor": "white",
            "linecolor": "white",
            "ticks": ""
           }
          },
          "scene": {
           "xaxis": {
            "backgroundcolor": "#E5ECF6",
            "gridcolor": "white",
            "gridwidth": 2,
            "linecolor": "white",
            "showbackground": true,
            "ticks": "",
            "zerolinecolor": "white"
           },
           "yaxis": {
            "backgroundcolor": "#E5ECF6",
            "gridcolor": "white",
            "gridwidth": 2,
            "linecolor": "white",
            "showbackground": true,
            "ticks": "",
            "zerolinecolor": "white"
           },
           "zaxis": {
            "backgroundcolor": "#E5ECF6",
            "gridcolor": "white",
            "gridwidth": 2,
            "linecolor": "white",
            "showbackground": true,
            "ticks": "",
            "zerolinecolor": "white"
           }
          },
          "shapedefaults": {
           "line": {
            "color": "#2a3f5f"
           }
          },
          "ternary": {
           "aaxis": {
            "gridcolor": "white",
            "linecolor": "white",
            "ticks": ""
           },
           "baxis": {
            "gridcolor": "white",
            "linecolor": "white",
            "ticks": ""
           },
           "bgcolor": "#E5ECF6",
           "caxis": {
            "gridcolor": "white",
            "linecolor": "white",
            "ticks": ""
           }
          },
          "title": {
           "x": 0.05
          },
          "xaxis": {
           "automargin": true,
           "gridcolor": "white",
           "linecolor": "white",
           "ticks": "",
           "title": {
            "standoff": 15
           },
           "zerolinecolor": "white",
           "zerolinewidth": 2
          },
          "yaxis": {
           "automargin": true,
           "gridcolor": "white",
           "linecolor": "white",
           "ticks": "",
           "title": {
            "standoff": 15
           },
           "zerolinecolor": "white",
           "zerolinewidth": 2
          }
         }
        },
        "xaxis": {
         "anchor": "y",
         "domain": [
          0,
          0.31999999999999995
         ],
         "title": {
          "text": "Sentiment"
         }
        },
        "xaxis2": {
         "anchor": "y2",
         "domain": [
          0.33999999999999997,
          0.6599999999999999
         ],
         "matches": "x",
         "title": {
          "text": "Sentiment"
         }
        },
        "xaxis3": {
         "anchor": "y3",
         "domain": [
          0.6799999999999999,
          0.9999999999999999
         ],
         "matches": "x",
         "title": {
          "text": "Sentiment"
         }
        },
        "yaxis": {
         "anchor": "x",
         "domain": [
          0,
          1
         ],
         "title": {
          "text": "Retweets"
         }
        },
        "yaxis2": {
         "anchor": "x2",
         "domain": [
          0,
          1
         ],
         "matches": "y",
         "showticklabels": false
        },
        "yaxis3": {
         "anchor": "x3",
         "domain": [
          0,
          1
         ],
         "matches": "y",
         "showticklabels": false
        }
       }
      }
     },
     "metadata": {},
     "output_type": "display_data"
    },
    {
     "data": {
      "application/vnd.jupyter.widget-view+json": {
       "model_id": "4692498e8591487983426a6d55dfa1c4",
       "version_major": 2,
       "version_minor": 0
      },
      "text/plain": [
       "Dropdown(description='Country:', options=('USA', 'Canada', 'UK', 'Australia', 'India', 'France', 'Brazil', 'Ja…"
      ]
     },
     "metadata": {},
     "output_type": "display_data"
    },
    {
     "data": {
      "application/vnd.jupyter.widget-view+json": {
       "model_id": "9d1437567be64a75a65717e6f37aa12a",
       "version_major": 2,
       "version_minor": 0
      },
      "text/plain": [
       "Output()"
      ]
     },
     "metadata": {},
     "output_type": "display_data"
    },
    {
     "data": {
      "application/vnd.plotly.v1+json": {
       "config": {
        "plotlyServerURL": "https://plot.ly"
       },
       "data": [
        {
         "hovertemplate": "Country=Australia<br>Platform=Instagram<br>Sentiment=%{x}<br>Retweets=%{y}<extra></extra>",
         "legendgroup": "Australia",
         "marker": {
          "color": "#636efa",
          "symbol": "circle"
         },
         "mode": "markers",
         "name": "Australia",
         "orientation": "v",
         "showlegend": true,
         "type": "scatter",
         "x": [
          "Neutral",
          "Positive",
          "Positive",
          "Neutral",
          "Positive",
          "Positive",
          "Positive",
          "Negative",
          "Negative",
          "Negative",
          "Neutral",
          "Neutral",
          "Negative",
          "Positive",
          "Positive",
          "Positive",
          "Positive",
          "Neutral",
          "Negative",
          "Negative",
          "Negative",
          "Neutral",
          "Negative",
          "Positive",
          "Negative",
          "Positive",
          "Positive"
         ],
         "xaxis": "x",
         "y": [
          12,
          15,
          30,
          20,
          30,
          20,
          18,
          7,
          8,
          15,
          12,
          8,
          14,
          18,
          25,
          19,
          19,
          10,
          12,
          25,
          12,
          18,
          28,
          30,
          28,
          22,
          28
         ],
         "yaxis": "y"
        },
        {
         "hovertemplate": "Country=Australia<br>Platform=Facebook<br>Sentiment=%{x}<br>Retweets=%{y}<extra></extra>",
         "legendgroup": "Australia",
         "marker": {
          "color": "#636efa",
          "symbol": "circle"
         },
         "mode": "markers",
         "name": "Australia",
         "orientation": "v",
         "showlegend": false,
         "type": "scatter",
         "x": [
          "Neutral",
          "Positive",
          "Neutral",
          "Neutral",
          "Positive",
          "Positive",
          "Negative",
          "Positive",
          "Neutral",
          "Negative",
          "Positive",
          "Neutral",
          "Positive",
          "Positive",
          "Positive",
          "Negative",
          "Neutral",
          "Negative",
          "Positive",
          "Positive",
          "Neutral",
          "Positive",
          "Neutral",
          "Neutral",
          "Negative",
          "Negative"
         ],
         "xaxis": "x2",
         "y": [
          18,
          15,
          22,
          22,
          15,
          15,
          10,
          15,
          15,
          14,
          18,
          18,
          24,
          24,
          24,
          18,
          10,
          18,
          40,
          30,
          20,
          22,
          18,
          30,
          25,
          28
         ],
         "yaxis": "y2"
        },
        {
         "hovertemplate": "Country=Australia<br>Platform=Twitter<br>Sentiment=%{x}<br>Retweets=%{y}<extra></extra>",
         "legendgroup": "Australia",
         "marker": {
          "color": "#636efa",
          "symbol": "circle"
         },
         "mode": "markers",
         "name": "Australia",
         "orientation": "v",
         "showlegend": false,
         "type": "scatter",
         "x": [
          "Positive",
          "Positive",
          "Positive",
          "Positive",
          "Neutral",
          "Neutral",
          "Negative",
          "Positive",
          "Negative",
          "Positive",
          "Positive",
          "Positive",
          "Positive",
          "Negative",
          "Negative",
          "Positive",
          "Positive",
          "Positive",
          "Negative",
          "Negative",
          "Positive",
          "Positive"
         ],
         "xaxis": "x3",
         "y": [
          15,
          15,
          22,
          20,
          30,
          18,
          8,
          12,
          14,
          18,
          19,
          17,
          17,
          25,
          16,
          18,
          30,
          30,
          20,
          22,
          25,
          22
         ],
         "yaxis": "y3"
        }
       ],
       "layout": {
        "annotations": [
         {
          "font": {},
          "showarrow": false,
          "text": "Platform=Instagram",
          "x": 0.15999999999999998,
          "xanchor": "center",
          "xref": "paper",
          "y": 1,
          "yanchor": "bottom",
          "yref": "paper"
         },
         {
          "font": {},
          "showarrow": false,
          "text": "Platform=Facebook",
          "x": 0.49999999999999994,
          "xanchor": "center",
          "xref": "paper",
          "y": 1,
          "yanchor": "bottom",
          "yref": "paper"
         },
         {
          "font": {},
          "showarrow": false,
          "text": "Platform=Twitter",
          "x": 0.8399999999999999,
          "xanchor": "center",
          "xref": "paper",
          "y": 1,
          "yanchor": "bottom",
          "yref": "paper"
         }
        ],
        "legend": {
         "title": {
          "text": "Country"
         },
         "tracegroupgap": 0
        },
        "margin": {
         "t": 60
        },
        "template": {
         "data": {
          "bar": [
           {
            "error_x": {
             "color": "#2a3f5f"
            },
            "error_y": {
             "color": "#2a3f5f"
            },
            "marker": {
             "line": {
              "color": "#E5ECF6",
              "width": 0.5
             },
             "pattern": {
              "fillmode": "overlay",
              "size": 10,
              "solidity": 0.2
             }
            },
            "type": "bar"
           }
          ],
          "barpolar": [
           {
            "marker": {
             "line": {
              "color": "#E5ECF6",
              "width": 0.5
             },
             "pattern": {
              "fillmode": "overlay",
              "size": 10,
              "solidity": 0.2
             }
            },
            "type": "barpolar"
           }
          ],
          "carpet": [
           {
            "aaxis": {
             "endlinecolor": "#2a3f5f",
             "gridcolor": "white",
             "linecolor": "white",
             "minorgridcolor": "white",
             "startlinecolor": "#2a3f5f"
            },
            "baxis": {
             "endlinecolor": "#2a3f5f",
             "gridcolor": "white",
             "linecolor": "white",
             "minorgridcolor": "white",
             "startlinecolor": "#2a3f5f"
            },
            "type": "carpet"
           }
          ],
          "choropleth": [
           {
            "colorbar": {
             "outlinewidth": 0,
             "ticks": ""
            },
            "type": "choropleth"
           }
          ],
          "contour": [
           {
            "colorbar": {
             "outlinewidth": 0,
             "ticks": ""
            },
            "colorscale": [
             [
              0,
              "#0d0887"
             ],
             [
              0.1111111111111111,
              "#46039f"
             ],
             [
              0.2222222222222222,
              "#7201a8"
             ],
             [
              0.3333333333333333,
              "#9c179e"
             ],
             [
              0.4444444444444444,
              "#bd3786"
             ],
             [
              0.5555555555555556,
              "#d8576b"
             ],
             [
              0.6666666666666666,
              "#ed7953"
             ],
             [
              0.7777777777777778,
              "#fb9f3a"
             ],
             [
              0.8888888888888888,
              "#fdca26"
             ],
             [
              1,
              "#f0f921"
             ]
            ],
            "type": "contour"
           }
          ],
          "contourcarpet": [
           {
            "colorbar": {
             "outlinewidth": 0,
             "ticks": ""
            },
            "type": "contourcarpet"
           }
          ],
          "heatmap": [
           {
            "colorbar": {
             "outlinewidth": 0,
             "ticks": ""
            },
            "colorscale": [
             [
              0,
              "#0d0887"
             ],
             [
              0.1111111111111111,
              "#46039f"
             ],
             [
              0.2222222222222222,
              "#7201a8"
             ],
             [
              0.3333333333333333,
              "#9c179e"
             ],
             [
              0.4444444444444444,
              "#bd3786"
             ],
             [
              0.5555555555555556,
              "#d8576b"
             ],
             [
              0.6666666666666666,
              "#ed7953"
             ],
             [
              0.7777777777777778,
              "#fb9f3a"
             ],
             [
              0.8888888888888888,
              "#fdca26"
             ],
             [
              1,
              "#f0f921"
             ]
            ],
            "type": "heatmap"
           }
          ],
          "heatmapgl": [
           {
            "colorbar": {
             "outlinewidth": 0,
             "ticks": ""
            },
            "colorscale": [
             [
              0,
              "#0d0887"
             ],
             [
              0.1111111111111111,
              "#46039f"
             ],
             [
              0.2222222222222222,
              "#7201a8"
             ],
             [
              0.3333333333333333,
              "#9c179e"
             ],
             [
              0.4444444444444444,
              "#bd3786"
             ],
             [
              0.5555555555555556,
              "#d8576b"
             ],
             [
              0.6666666666666666,
              "#ed7953"
             ],
             [
              0.7777777777777778,
              "#fb9f3a"
             ],
             [
              0.8888888888888888,
              "#fdca26"
             ],
             [
              1,
              "#f0f921"
             ]
            ],
            "type": "heatmapgl"
           }
          ],
          "histogram": [
           {
            "marker": {
             "pattern": {
              "fillmode": "overlay",
              "size": 10,
              "solidity": 0.2
             }
            },
            "type": "histogram"
           }
          ],
          "histogram2d": [
           {
            "colorbar": {
             "outlinewidth": 0,
             "ticks": ""
            },
            "colorscale": [
             [
              0,
              "#0d0887"
             ],
             [
              0.1111111111111111,
              "#46039f"
             ],
             [
              0.2222222222222222,
              "#7201a8"
             ],
             [
              0.3333333333333333,
              "#9c179e"
             ],
             [
              0.4444444444444444,
              "#bd3786"
             ],
             [
              0.5555555555555556,
              "#d8576b"
             ],
             [
              0.6666666666666666,
              "#ed7953"
             ],
             [
              0.7777777777777778,
              "#fb9f3a"
             ],
             [
              0.8888888888888888,
              "#fdca26"
             ],
             [
              1,
              "#f0f921"
             ]
            ],
            "type": "histogram2d"
           }
          ],
          "histogram2dcontour": [
           {
            "colorbar": {
             "outlinewidth": 0,
             "ticks": ""
            },
            "colorscale": [
             [
              0,
              "#0d0887"
             ],
             [
              0.1111111111111111,
              "#46039f"
             ],
             [
              0.2222222222222222,
              "#7201a8"
             ],
             [
              0.3333333333333333,
              "#9c179e"
             ],
             [
              0.4444444444444444,
              "#bd3786"
             ],
             [
              0.5555555555555556,
              "#d8576b"
             ],
             [
              0.6666666666666666,
              "#ed7953"
             ],
             [
              0.7777777777777778,
              "#fb9f3a"
             ],
             [
              0.8888888888888888,
              "#fdca26"
             ],
             [
              1,
              "#f0f921"
             ]
            ],
            "type": "histogram2dcontour"
           }
          ],
          "mesh3d": [
           {
            "colorbar": {
             "outlinewidth": 0,
             "ticks": ""
            },
            "type": "mesh3d"
           }
          ],
          "parcoords": [
           {
            "line": {
             "colorbar": {
              "outlinewidth": 0,
              "ticks": ""
             }
            },
            "type": "parcoords"
           }
          ],
          "pie": [
           {
            "automargin": true,
            "type": "pie"
           }
          ],
          "scatter": [
           {
            "fillpattern": {
             "fillmode": "overlay",
             "size": 10,
             "solidity": 0.2
            },
            "type": "scatter"
           }
          ],
          "scatter3d": [
           {
            "line": {
             "colorbar": {
              "outlinewidth": 0,
              "ticks": ""
             }
            },
            "marker": {
             "colorbar": {
              "outlinewidth": 0,
              "ticks": ""
             }
            },
            "type": "scatter3d"
           }
          ],
          "scattercarpet": [
           {
            "marker": {
             "colorbar": {
              "outlinewidth": 0,
              "ticks": ""
             }
            },
            "type": "scattercarpet"
           }
          ],
          "scattergeo": [
           {
            "marker": {
             "colorbar": {
              "outlinewidth": 0,
              "ticks": ""
             }
            },
            "type": "scattergeo"
           }
          ],
          "scattergl": [
           {
            "marker": {
             "colorbar": {
              "outlinewidth": 0,
              "ticks": ""
             }
            },
            "type": "scattergl"
           }
          ],
          "scattermapbox": [
           {
            "marker": {
             "colorbar": {
              "outlinewidth": 0,
              "ticks": ""
             }
            },
            "type": "scattermapbox"
           }
          ],
          "scatterpolar": [
           {
            "marker": {
             "colorbar": {
              "outlinewidth": 0,
              "ticks": ""
             }
            },
            "type": "scatterpolar"
           }
          ],
          "scatterpolargl": [
           {
            "marker": {
             "colorbar": {
              "outlinewidth": 0,
              "ticks": ""
             }
            },
            "type": "scatterpolargl"
           }
          ],
          "scatterternary": [
           {
            "marker": {
             "colorbar": {
              "outlinewidth": 0,
              "ticks": ""
             }
            },
            "type": "scatterternary"
           }
          ],
          "surface": [
           {
            "colorbar": {
             "outlinewidth": 0,
             "ticks": ""
            },
            "colorscale": [
             [
              0,
              "#0d0887"
             ],
             [
              0.1111111111111111,
              "#46039f"
             ],
             [
              0.2222222222222222,
              "#7201a8"
             ],
             [
              0.3333333333333333,
              "#9c179e"
             ],
             [
              0.4444444444444444,
              "#bd3786"
             ],
             [
              0.5555555555555556,
              "#d8576b"
             ],
             [
              0.6666666666666666,
              "#ed7953"
             ],
             [
              0.7777777777777778,
              "#fb9f3a"
             ],
             [
              0.8888888888888888,
              "#fdca26"
             ],
             [
              1,
              "#f0f921"
             ]
            ],
            "type": "surface"
           }
          ],
          "table": [
           {
            "cells": {
             "fill": {
              "color": "#EBF0F8"
             },
             "line": {
              "color": "white"
             }
            },
            "header": {
             "fill": {
              "color": "#C8D4E3"
             },
             "line": {
              "color": "white"
             }
            },
            "type": "table"
           }
          ]
         },
         "layout": {
          "annotationdefaults": {
           "arrowcolor": "#2a3f5f",
           "arrowhead": 0,
           "arrowwidth": 1
          },
          "autotypenumbers": "strict",
          "coloraxis": {
           "colorbar": {
            "outlinewidth": 0,
            "ticks": ""
           }
          },
          "colorscale": {
           "diverging": [
            [
             0,
             "#8e0152"
            ],
            [
             0.1,
             "#c51b7d"
            ],
            [
             0.2,
             "#de77ae"
            ],
            [
             0.3,
             "#f1b6da"
            ],
            [
             0.4,
             "#fde0ef"
            ],
            [
             0.5,
             "#f7f7f7"
            ],
            [
             0.6,
             "#e6f5d0"
            ],
            [
             0.7,
             "#b8e186"
            ],
            [
             0.8,
             "#7fbc41"
            ],
            [
             0.9,
             "#4d9221"
            ],
            [
             1,
             "#276419"
            ]
           ],
           "sequential": [
            [
             0,
             "#0d0887"
            ],
            [
             0.1111111111111111,
             "#46039f"
            ],
            [
             0.2222222222222222,
             "#7201a8"
            ],
            [
             0.3333333333333333,
             "#9c179e"
            ],
            [
             0.4444444444444444,
             "#bd3786"
            ],
            [
             0.5555555555555556,
             "#d8576b"
            ],
            [
             0.6666666666666666,
             "#ed7953"
            ],
            [
             0.7777777777777778,
             "#fb9f3a"
            ],
            [
             0.8888888888888888,
             "#fdca26"
            ],
            [
             1,
             "#f0f921"
            ]
           ],
           "sequentialminus": [
            [
             0,
             "#0d0887"
            ],
            [
             0.1111111111111111,
             "#46039f"
            ],
            [
             0.2222222222222222,
             "#7201a8"
            ],
            [
             0.3333333333333333,
             "#9c179e"
            ],
            [
             0.4444444444444444,
             "#bd3786"
            ],
            [
             0.5555555555555556,
             "#d8576b"
            ],
            [
             0.6666666666666666,
             "#ed7953"
            ],
            [
             0.7777777777777778,
             "#fb9f3a"
            ],
            [
             0.8888888888888888,
             "#fdca26"
            ],
            [
             1,
             "#f0f921"
            ]
           ]
          },
          "colorway": [
           "#636efa",
           "#EF553B",
           "#00cc96",
           "#ab63fa",
           "#FFA15A",
           "#19d3f3",
           "#FF6692",
           "#B6E880",
           "#FF97FF",
           "#FECB52"
          ],
          "font": {
           "color": "#2a3f5f"
          },
          "geo": {
           "bgcolor": "white",
           "lakecolor": "white",
           "landcolor": "#E5ECF6",
           "showlakes": true,
           "showland": true,
           "subunitcolor": "white"
          },
          "hoverlabel": {
           "align": "left"
          },
          "hovermode": "closest",
          "mapbox": {
           "style": "light"
          },
          "paper_bgcolor": "white",
          "plot_bgcolor": "#E5ECF6",
          "polar": {
           "angularaxis": {
            "gridcolor": "white",
            "linecolor": "white",
            "ticks": ""
           },
           "bgcolor": "#E5ECF6",
           "radialaxis": {
            "gridcolor": "white",
            "linecolor": "white",
            "ticks": ""
           }
          },
          "scene": {
           "xaxis": {
            "backgroundcolor": "#E5ECF6",
            "gridcolor": "white",
            "gridwidth": 2,
            "linecolor": "white",
            "showbackground": true,
            "ticks": "",
            "zerolinecolor": "white"
           },
           "yaxis": {
            "backgroundcolor": "#E5ECF6",
            "gridcolor": "white",
            "gridwidth": 2,
            "linecolor": "white",
            "showbackground": true,
            "ticks": "",
            "zerolinecolor": "white"
           },
           "zaxis": {
            "backgroundcolor": "#E5ECF6",
            "gridcolor": "white",
            "gridwidth": 2,
            "linecolor": "white",
            "showbackground": true,
            "ticks": "",
            "zerolinecolor": "white"
           }
          },
          "shapedefaults": {
           "line": {
            "color": "#2a3f5f"
           }
          },
          "ternary": {
           "aaxis": {
            "gridcolor": "white",
            "linecolor": "white",
            "ticks": ""
           },
           "baxis": {
            "gridcolor": "white",
            "linecolor": "white",
            "ticks": ""
           },
           "bgcolor": "#E5ECF6",
           "caxis": {
            "gridcolor": "white",
            "linecolor": "white",
            "ticks": ""
           }
          },
          "title": {
           "x": 0.05
          },
          "xaxis": {
           "automargin": true,
           "gridcolor": "white",
           "linecolor": "white",
           "ticks": "",
           "title": {
            "standoff": 15
           },
           "zerolinecolor": "white",
           "zerolinewidth": 2
          },
          "yaxis": {
           "automargin": true,
           "gridcolor": "white",
           "linecolor": "white",
           "ticks": "",
           "title": {
            "standoff": 15
           },
           "zerolinecolor": "white",
           "zerolinewidth": 2
          }
         }
        },
        "xaxis": {
         "anchor": "y",
         "domain": [
          0,
          0.31999999999999995
         ],
         "title": {
          "text": "Sentiment"
         }
        },
        "xaxis2": {
         "anchor": "y2",
         "domain": [
          0.33999999999999997,
          0.6599999999999999
         ],
         "matches": "x",
         "title": {
          "text": "Sentiment"
         }
        },
        "xaxis3": {
         "anchor": "y3",
         "domain": [
          0.6799999999999999,
          0.9999999999999999
         ],
         "matches": "x",
         "title": {
          "text": "Sentiment"
         }
        },
        "yaxis": {
         "anchor": "x",
         "domain": [
          0,
          1
         ],
         "title": {
          "text": "Retweets"
         }
        },
        "yaxis2": {
         "anchor": "x2",
         "domain": [
          0,
          1
         ],
         "matches": "y",
         "showticklabels": false
        },
        "yaxis3": {
         "anchor": "x3",
         "domain": [
          0,
          1
         ],
         "matches": "y",
         "showticklabels": false
        }
       }
      }
     },
     "metadata": {},
     "output_type": "display_data"
    }
   ],
   "source": [
    "import plotly.express as px\n",
    "import ipywidgets as widgets\n",
    "from IPython.display import display\n",
    "df = pd.read_csv('C:\\\\Users\\\\sherr\\\\OneDrive\\\\Desktop\\\\Data Visualization\\\\resources\\\\sentimentdataset.csv')\n",
    "df.Country = df.Country.str.strip()\n",
    "df.Platform = df.Platform.str.strip()\n",
    "df['Sentiment'] = df['Sentiment'].apply(remove_spaces)\n",
    "df[\"Sentiment\"]=df[\"Sentiment\"].replace(changes)\n",
    "# Create the interactive widget (Dropdown for Country selection)\n",
    "country_selector = widgets.Dropdown(\n",
    "    options=df['Country'].unique(),\n",
    "    description='Country:',\n",
    "    value=df['Country'].unique()[0]\n",
    ")\n",
    "# Function to update the plot based on widget input\n",
    "def update_plot(selected_country):\n",
    "    filtered_df = df[df['Country'] == selected_country]\n",
    "    # Add this line to capture the selected country in a variable\n",
    "    selected_country_variable = selected_country\n",
    "    fig = px.scatter(filtered_df, x=\"Sentiment\", y=\"Retweets\", color=\"Country\", facet_col=\"Platform\")\n",
    "    fig.show()\n",
    "# Create an interactive output widget\n",
    "out = widgets.interactive_output(update_plot, {'selected_country': country_selector})\n",
    "# Display the widget and the output plot\n",
    "display(country_selector, out)"
   ]
  }
 ],
 "metadata": {
  "kernelspec": {
   "display_name": "base",
   "language": "python",
   "name": "python3"
  },
  "language_info": {
   "codemirror_mode": {
    "name": "ipython",
    "version": 3
   },
   "file_extension": ".py",
   "mimetype": "text/x-python",
   "name": "python",
   "nbconvert_exporter": "python",
   "pygments_lexer": "ipython3",
   "version": "3.11.7"
  }
 },
 "nbformat": 4,
 "nbformat_minor": 2
}
